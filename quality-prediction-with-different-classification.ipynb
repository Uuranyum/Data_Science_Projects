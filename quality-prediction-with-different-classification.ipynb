{
 "cells": [
  {
   "cell_type": "code",
   "execution_count": 1,
   "id": "1323a769",
   "metadata": {
    "_cell_guid": "b1076dfc-b9ad-4769-8c92-a6c4dae69d19",
    "_uuid": "8f2839f25d086af736a60e9eeb907d3b93b6e0e5",
    "execution": {
     "iopub.execute_input": "2024-03-04T11:56:35.247734Z",
     "iopub.status.busy": "2024-03-04T11:56:35.247348Z",
     "iopub.status.idle": "2024-03-04T11:56:35.950968Z",
     "shell.execute_reply": "2024-03-04T11:56:35.949636Z"
    },
    "jupyter": {
     "source_hidden": true
    },
    "papermill": {
     "duration": 0.714941,
     "end_time": "2024-03-04T11:56:35.953625",
     "exception": false,
     "start_time": "2024-03-04T11:56:35.238684",
     "status": "completed"
    },
    "tags": []
   },
   "outputs": [
    {
     "name": "stdout",
     "output_type": "stream",
     "text": [
      "/kaggle/input/apple-quality/apple_quality.csv\n"
     ]
    }
   ],
   "source": [
    "# This Python 3 environment comes with many helpful analytics libraries installed\n",
    "# It is defined by the kaggle/python Docker image: https://github.com/kaggle/docker-python\n",
    "# For example, here's several helpful packages to load\n",
    "\n",
    "import numpy as np # linear algebra\n",
    "import pandas as pd # data processing, CSV file I/O (e.g. pd.read_csv)\n",
    "\n",
    "# Input data files are available in the read-only \"../input/\" directory\n",
    "# For example, running this (by clicking run or pressing Shift+Enter) will list all files under the input directory\n",
    "\n",
    "import os\n",
    "for dirname, _, filenames in os.walk('/kaggle/input'):\n",
    "    for filename in filenames:\n",
    "        print(os.path.join(dirname, filename))\n",
    "\n",
    "# You can write up to 20GB to the current directory (/kaggle/working/) that gets preserved as output when you create a version using \"Save & Run All\" \n",
    "# You can also write temporary files to /kaggle/temp/, but they won't be saved outside of the current session"
   ]
  },
  {
   "cell_type": "code",
   "execution_count": 2,
   "id": "785286c2",
   "metadata": {
    "execution": {
     "iopub.execute_input": "2024-03-04T11:56:35.968558Z",
     "iopub.status.busy": "2024-03-04T11:56:35.968157Z",
     "iopub.status.idle": "2024-03-04T11:56:38.512759Z",
     "shell.execute_reply": "2024-03-04T11:56:38.511799Z"
    },
    "papermill": {
     "duration": 2.554406,
     "end_time": "2024-03-04T11:56:38.514917",
     "exception": false,
     "start_time": "2024-03-04T11:56:35.960511",
     "status": "completed"
    },
    "tags": []
   },
   "outputs": [],
   "source": [
    "import numpy as np\n",
    "import pandas as pd\n",
    "import matplotlib.pyplot as plt\n",
    "import seaborn as sns\n",
    "import sklearn.metrics as metrics\n",
    "from sklearn.metrics import classification_report\n",
    "from sklearn.model_selection import train_test_split\n",
    "from sklearn.preprocessing import StandardScaler\n",
    "from sklearn.linear_model import LogisticRegression\n",
    "from sklearn.neighbors import KNeighborsClassifier\n",
    "from sklearn.preprocessing import LabelEncoder\n",
    "from sklearn.model_selection import GridSearchCV, cross_validate\n",
    "from sklearn.tree import DecisionTreeClassifier\n",
    "from sklearn.ensemble import RandomForestClassifier, VotingClassifier\n",
    "from catboost import CatBoostClassifier\n",
    "from lightgbm import LGBMClassifier\n",
    "from xgboost import XGBClassifier\n",
    "from sklearn.svm import SVC\n",
    "import warnings\n",
    "warnings.simplefilter(action=\"ignore\")\n",
    "\n",
    "pd.set_option('display.max_columns', None)\n",
    "pd.set_option('display.width', 170)\n",
    "pd.set_option('display.max_rows', None)\n",
    "pd.set_option('display.float_format', lambda x: '%.2f' % x)"
   ]
  },
  {
   "cell_type": "code",
   "execution_count": 3,
   "id": "c1a6f050",
   "metadata": {
    "execution": {
     "iopub.execute_input": "2024-03-04T11:56:38.529765Z",
     "iopub.status.busy": "2024-03-04T11:56:38.529289Z",
     "iopub.status.idle": "2024-03-04T11:56:38.550763Z",
     "shell.execute_reply": "2024-03-04T11:56:38.550059Z"
    },
    "papermill": {
     "duration": 0.030788,
     "end_time": "2024-03-04T11:56:38.552804",
     "exception": false,
     "start_time": "2024-03-04T11:56:38.522016",
     "status": "completed"
    },
    "tags": []
   },
   "outputs": [],
   "source": [
    "df = pd.read_csv('/kaggle/input/apple-quality/apple_quality.csv')"
   ]
  },
  {
   "cell_type": "code",
   "execution_count": 4,
   "id": "2ee498e9",
   "metadata": {
    "execution": {
     "iopub.execute_input": "2024-03-04T11:56:38.567613Z",
     "iopub.status.busy": "2024-03-04T11:56:38.567101Z",
     "iopub.status.idle": "2024-03-04T11:56:38.583773Z",
     "shell.execute_reply": "2024-03-04T11:56:38.582989Z"
    },
    "papermill": {
     "duration": 0.025755,
     "end_time": "2024-03-04T11:56:38.585267",
     "exception": false,
     "start_time": "2024-03-04T11:56:38.559512",
     "status": "completed"
    },
    "tags": []
   },
   "outputs": [
    {
     "data": {
      "text/html": [
       "<div>\n",
       "<style scoped>\n",
       "    .dataframe tbody tr th:only-of-type {\n",
       "        vertical-align: middle;\n",
       "    }\n",
       "\n",
       "    .dataframe tbody tr th {\n",
       "        vertical-align: top;\n",
       "    }\n",
       "\n",
       "    .dataframe thead th {\n",
       "        text-align: right;\n",
       "    }\n",
       "</style>\n",
       "<table border=\"1\" class=\"dataframe\">\n",
       "  <thead>\n",
       "    <tr style=\"text-align: right;\">\n",
       "      <th></th>\n",
       "      <th>A_id</th>\n",
       "      <th>Size</th>\n",
       "      <th>Weight</th>\n",
       "      <th>Sweetness</th>\n",
       "      <th>Crunchiness</th>\n",
       "      <th>Juiciness</th>\n",
       "      <th>Ripeness</th>\n",
       "      <th>Acidity</th>\n",
       "      <th>Quality</th>\n",
       "    </tr>\n",
       "  </thead>\n",
       "  <tbody>\n",
       "    <tr>\n",
       "      <th>0</th>\n",
       "      <td>0.00</td>\n",
       "      <td>-3.97</td>\n",
       "      <td>-2.51</td>\n",
       "      <td>5.35</td>\n",
       "      <td>-1.01</td>\n",
       "      <td>1.84</td>\n",
       "      <td>0.33</td>\n",
       "      <td>-0.491590483</td>\n",
       "      <td>good</td>\n",
       "    </tr>\n",
       "    <tr>\n",
       "      <th>1</th>\n",
       "      <td>1.00</td>\n",
       "      <td>-1.20</td>\n",
       "      <td>-2.84</td>\n",
       "      <td>3.66</td>\n",
       "      <td>1.59</td>\n",
       "      <td>0.85</td>\n",
       "      <td>0.87</td>\n",
       "      <td>-0.722809367</td>\n",
       "      <td>good</td>\n",
       "    </tr>\n",
       "    <tr>\n",
       "      <th>2</th>\n",
       "      <td>2.00</td>\n",
       "      <td>-0.29</td>\n",
       "      <td>-1.35</td>\n",
       "      <td>-1.74</td>\n",
       "      <td>-0.34</td>\n",
       "      <td>2.84</td>\n",
       "      <td>-0.04</td>\n",
       "      <td>2.621636473</td>\n",
       "      <td>bad</td>\n",
       "    </tr>\n",
       "    <tr>\n",
       "      <th>3</th>\n",
       "      <td>3.00</td>\n",
       "      <td>-0.66</td>\n",
       "      <td>-2.27</td>\n",
       "      <td>1.32</td>\n",
       "      <td>-0.10</td>\n",
       "      <td>3.64</td>\n",
       "      <td>-3.41</td>\n",
       "      <td>0.790723217</td>\n",
       "      <td>good</td>\n",
       "    </tr>\n",
       "    <tr>\n",
       "      <th>4</th>\n",
       "      <td>4.00</td>\n",
       "      <td>1.36</td>\n",
       "      <td>-1.30</td>\n",
       "      <td>-0.38</td>\n",
       "      <td>-0.55</td>\n",
       "      <td>3.03</td>\n",
       "      <td>-1.30</td>\n",
       "      <td>0.501984036</td>\n",
       "      <td>good</td>\n",
       "    </tr>\n",
       "  </tbody>\n",
       "</table>\n",
       "</div>"
      ],
      "text/plain": [
       "   A_id  Size  Weight  Sweetness  Crunchiness  Juiciness  Ripeness       Acidity Quality\n",
       "0  0.00 -3.97   -2.51       5.35        -1.01       1.84      0.33  -0.491590483    good\n",
       "1  1.00 -1.20   -2.84       3.66         1.59       0.85      0.87  -0.722809367    good\n",
       "2  2.00 -0.29   -1.35      -1.74        -0.34       2.84     -0.04   2.621636473     bad\n",
       "3  3.00 -0.66   -2.27       1.32        -0.10       3.64     -3.41   0.790723217    good\n",
       "4  4.00  1.36   -1.30      -0.38        -0.55       3.03     -1.30   0.501984036    good"
      ]
     },
     "execution_count": 4,
     "metadata": {},
     "output_type": "execute_result"
    }
   ],
   "source": [
    "df.head()"
   ]
  },
  {
   "cell_type": "code",
   "execution_count": 5,
   "id": "adb7d4d1",
   "metadata": {
    "execution": {
     "iopub.execute_input": "2024-03-04T11:56:38.599694Z",
     "iopub.status.busy": "2024-03-04T11:56:38.599338Z",
     "iopub.status.idle": "2024-03-04T11:56:38.607245Z",
     "shell.execute_reply": "2024-03-04T11:56:38.606512Z"
    },
    "papermill": {
     "duration": 0.017098,
     "end_time": "2024-03-04T11:56:38.608940",
     "exception": false,
     "start_time": "2024-03-04T11:56:38.591842",
     "status": "completed"
    },
    "tags": []
   },
   "outputs": [
    {
     "data": {
      "text/plain": [
       "A_id           1\n",
       "Size           1\n",
       "Weight         1\n",
       "Sweetness      1\n",
       "Crunchiness    1\n",
       "Juiciness      1\n",
       "Ripeness       1\n",
       "Acidity        0\n",
       "Quality        1\n",
       "dtype: int64"
      ]
     },
     "execution_count": 5,
     "metadata": {},
     "output_type": "execute_result"
    }
   ],
   "source": [
    "df.isnull().sum()"
   ]
  },
  {
   "cell_type": "code",
   "execution_count": 6,
   "id": "ba28624e",
   "metadata": {
    "execution": {
     "iopub.execute_input": "2024-03-04T11:56:38.624677Z",
     "iopub.status.busy": "2024-03-04T11:56:38.624325Z",
     "iopub.status.idle": "2024-03-04T11:56:38.633235Z",
     "shell.execute_reply": "2024-03-04T11:56:38.632361Z"
    },
    "papermill": {
     "duration": 0.019396,
     "end_time": "2024-03-04T11:56:38.635089",
     "exception": false,
     "start_time": "2024-03-04T11:56:38.615693",
     "status": "completed"
    },
    "tags": []
   },
   "outputs": [],
   "source": [
    "df.dropna(inplace=True)"
   ]
  },
  {
   "cell_type": "code",
   "execution_count": 7,
   "id": "66c91c5c",
   "metadata": {
    "execution": {
     "iopub.execute_input": "2024-03-04T11:56:38.649827Z",
     "iopub.status.busy": "2024-03-04T11:56:38.649493Z",
     "iopub.status.idle": "2024-03-04T11:56:38.656746Z",
     "shell.execute_reply": "2024-03-04T11:56:38.655870Z"
    },
    "papermill": {
     "duration": 0.016416,
     "end_time": "2024-03-04T11:56:38.658280",
     "exception": false,
     "start_time": "2024-03-04T11:56:38.641864",
     "status": "completed"
    },
    "tags": []
   },
   "outputs": [
    {
     "data": {
      "text/plain": [
       "A_id           0\n",
       "Size           0\n",
       "Weight         0\n",
       "Sweetness      0\n",
       "Crunchiness    0\n",
       "Juiciness      0\n",
       "Ripeness       0\n",
       "Acidity        0\n",
       "Quality        0\n",
       "dtype: int64"
      ]
     },
     "execution_count": 7,
     "metadata": {},
     "output_type": "execute_result"
    }
   ],
   "source": [
    "df.isnull().sum()"
   ]
  },
  {
   "cell_type": "code",
   "execution_count": 8,
   "id": "364c0810",
   "metadata": {
    "execution": {
     "iopub.execute_input": "2024-03-04T11:56:38.673971Z",
     "iopub.status.busy": "2024-03-04T11:56:38.673397Z",
     "iopub.status.idle": "2024-03-04T11:56:38.687534Z",
     "shell.execute_reply": "2024-03-04T11:56:38.686467Z"
    },
    "papermill": {
     "duration": 0.023731,
     "end_time": "2024-03-04T11:56:38.689328",
     "exception": false,
     "start_time": "2024-03-04T11:56:38.665597",
     "status": "completed"
    },
    "tags": []
   },
   "outputs": [
    {
     "data": {
      "text/plain": [
       "0"
      ]
     },
     "execution_count": 8,
     "metadata": {},
     "output_type": "execute_result"
    }
   ],
   "source": [
    "df.duplicated().sum()"
   ]
  },
  {
   "cell_type": "code",
   "execution_count": 9,
   "id": "bbd7b675",
   "metadata": {
    "execution": {
     "iopub.execute_input": "2024-03-04T11:56:38.705766Z",
     "iopub.status.busy": "2024-03-04T11:56:38.705111Z",
     "iopub.status.idle": "2024-03-04T11:56:38.720641Z",
     "shell.execute_reply": "2024-03-04T11:56:38.720039Z"
    },
    "papermill": {
     "duration": 0.026,
     "end_time": "2024-03-04T11:56:38.722858",
     "exception": false,
     "start_time": "2024-03-04T11:56:38.696858",
     "status": "completed"
    },
    "tags": []
   },
   "outputs": [
    {
     "name": "stdout",
     "output_type": "stream",
     "text": [
      "<class 'pandas.core.frame.DataFrame'>\n",
      "Index: 4000 entries, 0 to 3999\n",
      "Data columns (total 9 columns):\n",
      " #   Column       Non-Null Count  Dtype  \n",
      "---  ------       --------------  -----  \n",
      " 0   A_id         4000 non-null   float64\n",
      " 1   Size         4000 non-null   float64\n",
      " 2   Weight       4000 non-null   float64\n",
      " 3   Sweetness    4000 non-null   float64\n",
      " 4   Crunchiness  4000 non-null   float64\n",
      " 5   Juiciness    4000 non-null   float64\n",
      " 6   Ripeness     4000 non-null   float64\n",
      " 7   Acidity      4000 non-null   object \n",
      " 8   Quality      4000 non-null   object \n",
      "dtypes: float64(7), object(2)\n",
      "memory usage: 312.5+ KB\n"
     ]
    }
   ],
   "source": [
    "df.info()"
   ]
  },
  {
   "cell_type": "code",
   "execution_count": 10,
   "id": "f01fe5ed",
   "metadata": {
    "execution": {
     "iopub.execute_input": "2024-03-04T11:56:38.738048Z",
     "iopub.status.busy": "2024-03-04T11:56:38.737796Z",
     "iopub.status.idle": "2024-03-04T11:56:38.743933Z",
     "shell.execute_reply": "2024-03-04T11:56:38.742975Z"
    },
    "papermill": {
     "duration": 0.015974,
     "end_time": "2024-03-04T11:56:38.745879",
     "exception": false,
     "start_time": "2024-03-04T11:56:38.729905",
     "status": "completed"
    },
    "tags": []
   },
   "outputs": [
    {
     "data": {
      "text/plain": [
       "array(['good', 'bad'], dtype=object)"
      ]
     },
     "execution_count": 10,
     "metadata": {},
     "output_type": "execute_result"
    }
   ],
   "source": [
    "df['Quality'].unique()"
   ]
  },
  {
   "cell_type": "code",
   "execution_count": 11,
   "id": "2cfe549e",
   "metadata": {
    "execution": {
     "iopub.execute_input": "2024-03-04T11:56:38.762318Z",
     "iopub.status.busy": "2024-03-04T11:56:38.762001Z",
     "iopub.status.idle": "2024-03-04T11:56:38.768495Z",
     "shell.execute_reply": "2024-03-04T11:56:38.767515Z"
    },
    "papermill": {
     "duration": 0.016749,
     "end_time": "2024-03-04T11:56:38.770270",
     "exception": false,
     "start_time": "2024-03-04T11:56:38.753521",
     "status": "completed"
    },
    "tags": []
   },
   "outputs": [],
   "source": [
    "# Object olan typeları float ve integer e dönüştüreceğiz.\n",
    "# We will convert object types to float and integer.\n",
    "\n",
    "df['Acidity'] = df['Acidity'].astype(float)\n",
    "\n",
    "# good olan yer True yani '1' konur. 'bad' olan ise False olur böylelikle '0' olur.\n",
    "# where 'good' is True, so '1' is put. where 'bad' is False, so '0' is put.\n",
    "df['Quality'] = (df['Quality'] == 'good').astype(int) "
   ]
  },
  {
   "cell_type": "code",
   "execution_count": 12,
   "id": "97515f67",
   "metadata": {
    "execution": {
     "iopub.execute_input": "2024-03-04T11:56:38.786125Z",
     "iopub.status.busy": "2024-03-04T11:56:38.785838Z",
     "iopub.status.idle": "2024-03-04T11:56:38.795186Z",
     "shell.execute_reply": "2024-03-04T11:56:38.794075Z"
    },
    "papermill": {
     "duration": 0.019171,
     "end_time": "2024-03-04T11:56:38.796854",
     "exception": false,
     "start_time": "2024-03-04T11:56:38.777683",
     "status": "completed"
    },
    "tags": []
   },
   "outputs": [
    {
     "name": "stdout",
     "output_type": "stream",
     "text": [
      "<class 'pandas.core.frame.DataFrame'>\n",
      "Index: 4000 entries, 0 to 3999\n",
      "Data columns (total 9 columns):\n",
      " #   Column       Non-Null Count  Dtype  \n",
      "---  ------       --------------  -----  \n",
      " 0   A_id         4000 non-null   float64\n",
      " 1   Size         4000 non-null   float64\n",
      " 2   Weight       4000 non-null   float64\n",
      " 3   Sweetness    4000 non-null   float64\n",
      " 4   Crunchiness  4000 non-null   float64\n",
      " 5   Juiciness    4000 non-null   float64\n",
      " 6   Ripeness     4000 non-null   float64\n",
      " 7   Acidity      4000 non-null   float64\n",
      " 8   Quality      4000 non-null   int64  \n",
      "dtypes: float64(8), int64(1)\n",
      "memory usage: 312.5 KB\n"
     ]
    }
   ],
   "source": [
    "df.info()"
   ]
  },
  {
   "cell_type": "code",
   "execution_count": 13,
   "id": "18ade2a0",
   "metadata": {
    "execution": {
     "iopub.execute_input": "2024-03-04T11:56:38.814690Z",
     "iopub.status.busy": "2024-03-04T11:56:38.814343Z",
     "iopub.status.idle": "2024-03-04T11:56:38.822094Z",
     "shell.execute_reply": "2024-03-04T11:56:38.821357Z"
    },
    "papermill": {
     "duration": 0.017961,
     "end_time": "2024-03-04T11:56:38.823611",
     "exception": false,
     "start_time": "2024-03-04T11:56:38.805650",
     "status": "completed"
    },
    "tags": []
   },
   "outputs": [
    {
     "data": {
      "text/plain": [
       "Quality\n",
       "1    2004\n",
       "0    1996\n",
       "Name: count, dtype: int64"
      ]
     },
     "execution_count": 13,
     "metadata": {},
     "output_type": "execute_result"
    }
   ],
   "source": [
    "df['Quality'].value_counts()"
   ]
  },
  {
   "cell_type": "code",
   "execution_count": 14,
   "id": "dc1339c2",
   "metadata": {
    "execution": {
     "iopub.execute_input": "2024-03-04T11:56:38.840064Z",
     "iopub.status.busy": "2024-03-04T11:56:38.839727Z",
     "iopub.status.idle": "2024-03-04T11:56:38.869723Z",
     "shell.execute_reply": "2024-03-04T11:56:38.869049Z"
    },
    "papermill": {
     "duration": 0.04044,
     "end_time": "2024-03-04T11:56:38.871594",
     "exception": false,
     "start_time": "2024-03-04T11:56:38.831154",
     "status": "completed"
    },
    "tags": []
   },
   "outputs": [
    {
     "data": {
      "text/html": [
       "<div>\n",
       "<style scoped>\n",
       "    .dataframe tbody tr th:only-of-type {\n",
       "        vertical-align: middle;\n",
       "    }\n",
       "\n",
       "    .dataframe tbody tr th {\n",
       "        vertical-align: top;\n",
       "    }\n",
       "\n",
       "    .dataframe thead th {\n",
       "        text-align: right;\n",
       "    }\n",
       "</style>\n",
       "<table border=\"1\" class=\"dataframe\">\n",
       "  <thead>\n",
       "    <tr style=\"text-align: right;\">\n",
       "      <th></th>\n",
       "      <th>count</th>\n",
       "      <th>mean</th>\n",
       "      <th>std</th>\n",
       "      <th>min</th>\n",
       "      <th>25%</th>\n",
       "      <th>50%</th>\n",
       "      <th>75%</th>\n",
       "      <th>max</th>\n",
       "    </tr>\n",
       "  </thead>\n",
       "  <tbody>\n",
       "    <tr>\n",
       "      <th>A_id</th>\n",
       "      <td>4000.00</td>\n",
       "      <td>1999.50</td>\n",
       "      <td>1154.84</td>\n",
       "      <td>0.00</td>\n",
       "      <td>999.75</td>\n",
       "      <td>1999.50</td>\n",
       "      <td>2999.25</td>\n",
       "      <td>3999.00</td>\n",
       "    </tr>\n",
       "    <tr>\n",
       "      <th>Size</th>\n",
       "      <td>4000.00</td>\n",
       "      <td>-0.50</td>\n",
       "      <td>1.93</td>\n",
       "      <td>-7.15</td>\n",
       "      <td>-1.82</td>\n",
       "      <td>-0.51</td>\n",
       "      <td>0.81</td>\n",
       "      <td>6.41</td>\n",
       "    </tr>\n",
       "    <tr>\n",
       "      <th>Weight</th>\n",
       "      <td>4000.00</td>\n",
       "      <td>-0.99</td>\n",
       "      <td>1.60</td>\n",
       "      <td>-7.15</td>\n",
       "      <td>-2.01</td>\n",
       "      <td>-0.98</td>\n",
       "      <td>0.03</td>\n",
       "      <td>5.79</td>\n",
       "    </tr>\n",
       "    <tr>\n",
       "      <th>Sweetness</th>\n",
       "      <td>4000.00</td>\n",
       "      <td>-0.47</td>\n",
       "      <td>1.94</td>\n",
       "      <td>-6.89</td>\n",
       "      <td>-1.74</td>\n",
       "      <td>-0.50</td>\n",
       "      <td>0.80</td>\n",
       "      <td>6.37</td>\n",
       "    </tr>\n",
       "    <tr>\n",
       "      <th>Crunchiness</th>\n",
       "      <td>4000.00</td>\n",
       "      <td>0.99</td>\n",
       "      <td>1.40</td>\n",
       "      <td>-6.06</td>\n",
       "      <td>0.06</td>\n",
       "      <td>1.00</td>\n",
       "      <td>1.89</td>\n",
       "      <td>7.62</td>\n",
       "    </tr>\n",
       "    <tr>\n",
       "      <th>Juiciness</th>\n",
       "      <td>4000.00</td>\n",
       "      <td>0.51</td>\n",
       "      <td>1.93</td>\n",
       "      <td>-5.96</td>\n",
       "      <td>-0.80</td>\n",
       "      <td>0.53</td>\n",
       "      <td>1.84</td>\n",
       "      <td>7.36</td>\n",
       "    </tr>\n",
       "    <tr>\n",
       "      <th>Ripeness</th>\n",
       "      <td>4000.00</td>\n",
       "      <td>0.50</td>\n",
       "      <td>1.87</td>\n",
       "      <td>-5.86</td>\n",
       "      <td>-0.77</td>\n",
       "      <td>0.50</td>\n",
       "      <td>1.77</td>\n",
       "      <td>7.24</td>\n",
       "    </tr>\n",
       "    <tr>\n",
       "      <th>Acidity</th>\n",
       "      <td>4000.00</td>\n",
       "      <td>0.08</td>\n",
       "      <td>2.11</td>\n",
       "      <td>-7.01</td>\n",
       "      <td>-1.38</td>\n",
       "      <td>0.02</td>\n",
       "      <td>1.51</td>\n",
       "      <td>7.40</td>\n",
       "    </tr>\n",
       "    <tr>\n",
       "      <th>Quality</th>\n",
       "      <td>4000.00</td>\n",
       "      <td>0.50</td>\n",
       "      <td>0.50</td>\n",
       "      <td>0.00</td>\n",
       "      <td>0.00</td>\n",
       "      <td>1.00</td>\n",
       "      <td>1.00</td>\n",
       "      <td>1.00</td>\n",
       "    </tr>\n",
       "  </tbody>\n",
       "</table>\n",
       "</div>"
      ],
      "text/plain": [
       "              count    mean     std   min    25%     50%     75%     max\n",
       "A_id        4000.00 1999.50 1154.84  0.00 999.75 1999.50 2999.25 3999.00\n",
       "Size        4000.00   -0.50    1.93 -7.15  -1.82   -0.51    0.81    6.41\n",
       "Weight      4000.00   -0.99    1.60 -7.15  -2.01   -0.98    0.03    5.79\n",
       "Sweetness   4000.00   -0.47    1.94 -6.89  -1.74   -0.50    0.80    6.37\n",
       "Crunchiness 4000.00    0.99    1.40 -6.06   0.06    1.00    1.89    7.62\n",
       "Juiciness   4000.00    0.51    1.93 -5.96  -0.80    0.53    1.84    7.36\n",
       "Ripeness    4000.00    0.50    1.87 -5.86  -0.77    0.50    1.77    7.24\n",
       "Acidity     4000.00    0.08    2.11 -7.01  -1.38    0.02    1.51    7.40\n",
       "Quality     4000.00    0.50    0.50  0.00   0.00    1.00    1.00    1.00"
      ]
     },
     "execution_count": 14,
     "metadata": {},
     "output_type": "execute_result"
    }
   ],
   "source": [
    "df.describe().T"
   ]
  },
  {
   "cell_type": "code",
   "execution_count": 15,
   "id": "15ea7d24",
   "metadata": {
    "execution": {
     "iopub.execute_input": "2024-03-04T11:56:38.889130Z",
     "iopub.status.busy": "2024-03-04T11:56:38.888261Z",
     "iopub.status.idle": "2024-03-04T11:56:38.894970Z",
     "shell.execute_reply": "2024-03-04T11:56:38.894078Z"
    },
    "papermill": {
     "duration": 0.017114,
     "end_time": "2024-03-04T11:56:38.896522",
     "exception": false,
     "start_time": "2024-03-04T11:56:38.879408",
     "status": "completed"
    },
    "tags": []
   },
   "outputs": [
    {
     "data": {
      "text/plain": [
       "Index(['A_id', 'Size', 'Weight', 'Sweetness', 'Crunchiness', 'Juiciness', 'Ripeness', 'Acidity', 'Quality'], dtype='object')"
      ]
     },
     "execution_count": 15,
     "metadata": {},
     "output_type": "execute_result"
    }
   ],
   "source": [
    "df.columns"
   ]
  },
  {
   "cell_type": "code",
   "execution_count": 16,
   "id": "64adab06",
   "metadata": {
    "collapsed": true,
    "execution": {
     "iopub.execute_input": "2024-03-04T11:56:38.913223Z",
     "iopub.status.busy": "2024-03-04T11:56:38.912808Z",
     "iopub.status.idle": "2024-03-04T11:56:38.917149Z",
     "shell.execute_reply": "2024-03-04T11:56:38.916624Z"
    },
    "jupyter": {
     "outputs_hidden": true
    },
    "papermill": {
     "duration": 0.014558,
     "end_time": "2024-03-04T11:56:38.918697",
     "exception": false,
     "start_time": "2024-03-04T11:56:38.904139",
     "status": "completed"
    },
    "tags": []
   },
   "outputs": [],
   "source": [
    "df.drop(columns=['A_id'], inplace=True)"
   ]
  },
  {
   "cell_type": "code",
   "execution_count": 17,
   "id": "aaff5082",
   "metadata": {
    "execution": {
     "iopub.execute_input": "2024-03-04T11:56:38.934573Z",
     "iopub.status.busy": "2024-03-04T11:56:38.934211Z",
     "iopub.status.idle": "2024-03-04T11:56:38.958041Z",
     "shell.execute_reply": "2024-03-04T11:56:38.957148Z"
    },
    "papermill": {
     "duration": 0.033692,
     "end_time": "2024-03-04T11:56:38.959823",
     "exception": false,
     "start_time": "2024-03-04T11:56:38.926131",
     "status": "completed"
    },
    "tags": []
   },
   "outputs": [
    {
     "data": {
      "text/html": [
       "<div>\n",
       "<style scoped>\n",
       "    .dataframe tbody tr th:only-of-type {\n",
       "        vertical-align: middle;\n",
       "    }\n",
       "\n",
       "    .dataframe tbody tr th {\n",
       "        vertical-align: top;\n",
       "    }\n",
       "\n",
       "    .dataframe thead th {\n",
       "        text-align: right;\n",
       "    }\n",
       "</style>\n",
       "<table border=\"1\" class=\"dataframe\">\n",
       "  <thead>\n",
       "    <tr style=\"text-align: right;\">\n",
       "      <th></th>\n",
       "      <th>count</th>\n",
       "      <th>mean</th>\n",
       "      <th>std</th>\n",
       "      <th>min</th>\n",
       "      <th>25%</th>\n",
       "      <th>50%</th>\n",
       "      <th>75%</th>\n",
       "      <th>max</th>\n",
       "    </tr>\n",
       "  </thead>\n",
       "  <tbody>\n",
       "    <tr>\n",
       "      <th>Size</th>\n",
       "      <td>4000.00</td>\n",
       "      <td>-0.50</td>\n",
       "      <td>1.93</td>\n",
       "      <td>-7.15</td>\n",
       "      <td>-1.82</td>\n",
       "      <td>-0.51</td>\n",
       "      <td>0.81</td>\n",
       "      <td>6.41</td>\n",
       "    </tr>\n",
       "    <tr>\n",
       "      <th>Weight</th>\n",
       "      <td>4000.00</td>\n",
       "      <td>-0.99</td>\n",
       "      <td>1.60</td>\n",
       "      <td>-7.15</td>\n",
       "      <td>-2.01</td>\n",
       "      <td>-0.98</td>\n",
       "      <td>0.03</td>\n",
       "      <td>5.79</td>\n",
       "    </tr>\n",
       "    <tr>\n",
       "      <th>Sweetness</th>\n",
       "      <td>4000.00</td>\n",
       "      <td>-0.47</td>\n",
       "      <td>1.94</td>\n",
       "      <td>-6.89</td>\n",
       "      <td>-1.74</td>\n",
       "      <td>-0.50</td>\n",
       "      <td>0.80</td>\n",
       "      <td>6.37</td>\n",
       "    </tr>\n",
       "    <tr>\n",
       "      <th>Crunchiness</th>\n",
       "      <td>4000.00</td>\n",
       "      <td>0.99</td>\n",
       "      <td>1.40</td>\n",
       "      <td>-6.06</td>\n",
       "      <td>0.06</td>\n",
       "      <td>1.00</td>\n",
       "      <td>1.89</td>\n",
       "      <td>7.62</td>\n",
       "    </tr>\n",
       "    <tr>\n",
       "      <th>Juiciness</th>\n",
       "      <td>4000.00</td>\n",
       "      <td>0.51</td>\n",
       "      <td>1.93</td>\n",
       "      <td>-5.96</td>\n",
       "      <td>-0.80</td>\n",
       "      <td>0.53</td>\n",
       "      <td>1.84</td>\n",
       "      <td>7.36</td>\n",
       "    </tr>\n",
       "    <tr>\n",
       "      <th>Ripeness</th>\n",
       "      <td>4000.00</td>\n",
       "      <td>0.50</td>\n",
       "      <td>1.87</td>\n",
       "      <td>-5.86</td>\n",
       "      <td>-0.77</td>\n",
       "      <td>0.50</td>\n",
       "      <td>1.77</td>\n",
       "      <td>7.24</td>\n",
       "    </tr>\n",
       "    <tr>\n",
       "      <th>Acidity</th>\n",
       "      <td>4000.00</td>\n",
       "      <td>0.08</td>\n",
       "      <td>2.11</td>\n",
       "      <td>-7.01</td>\n",
       "      <td>-1.38</td>\n",
       "      <td>0.02</td>\n",
       "      <td>1.51</td>\n",
       "      <td>7.40</td>\n",
       "    </tr>\n",
       "    <tr>\n",
       "      <th>Quality</th>\n",
       "      <td>4000.00</td>\n",
       "      <td>0.50</td>\n",
       "      <td>0.50</td>\n",
       "      <td>0.00</td>\n",
       "      <td>0.00</td>\n",
       "      <td>1.00</td>\n",
       "      <td>1.00</td>\n",
       "      <td>1.00</td>\n",
       "    </tr>\n",
       "  </tbody>\n",
       "</table>\n",
       "</div>"
      ],
      "text/plain": [
       "              count  mean  std   min   25%   50%  75%  max\n",
       "Size        4000.00 -0.50 1.93 -7.15 -1.82 -0.51 0.81 6.41\n",
       "Weight      4000.00 -0.99 1.60 -7.15 -2.01 -0.98 0.03 5.79\n",
       "Sweetness   4000.00 -0.47 1.94 -6.89 -1.74 -0.50 0.80 6.37\n",
       "Crunchiness 4000.00  0.99 1.40 -6.06  0.06  1.00 1.89 7.62\n",
       "Juiciness   4000.00  0.51 1.93 -5.96 -0.80  0.53 1.84 7.36\n",
       "Ripeness    4000.00  0.50 1.87 -5.86 -0.77  0.50 1.77 7.24\n",
       "Acidity     4000.00  0.08 2.11 -7.01 -1.38  0.02 1.51 7.40\n",
       "Quality     4000.00  0.50 0.50  0.00  0.00  1.00 1.00 1.00"
      ]
     },
     "execution_count": 17,
     "metadata": {},
     "output_type": "execute_result"
    }
   ],
   "source": [
    "df.describe().T"
   ]
  },
  {
   "cell_type": "code",
   "execution_count": 18,
   "id": "dc93d3a1",
   "metadata": {
    "execution": {
     "iopub.execute_input": "2024-03-04T11:56:38.977822Z",
     "iopub.status.busy": "2024-03-04T11:56:38.977242Z",
     "iopub.status.idle": "2024-03-04T11:56:38.988478Z",
     "shell.execute_reply": "2024-03-04T11:56:38.987541Z"
    },
    "papermill": {
     "duration": 0.022078,
     "end_time": "2024-03-04T11:56:38.990228",
     "exception": false,
     "start_time": "2024-03-04T11:56:38.968150",
     "status": "completed"
    },
    "tags": []
   },
   "outputs": [
    {
     "data": {
      "text/html": [
       "<div>\n",
       "<style scoped>\n",
       "    .dataframe tbody tr th:only-of-type {\n",
       "        vertical-align: middle;\n",
       "    }\n",
       "\n",
       "    .dataframe tbody tr th {\n",
       "        vertical-align: top;\n",
       "    }\n",
       "\n",
       "    .dataframe thead th {\n",
       "        text-align: right;\n",
       "    }\n",
       "</style>\n",
       "<table border=\"1\" class=\"dataframe\">\n",
       "  <thead>\n",
       "    <tr style=\"text-align: right;\">\n",
       "      <th></th>\n",
       "      <th>Size</th>\n",
       "      <th>Weight</th>\n",
       "      <th>Sweetness</th>\n",
       "      <th>Crunchiness</th>\n",
       "      <th>Juiciness</th>\n",
       "      <th>Ripeness</th>\n",
       "      <th>Acidity</th>\n",
       "      <th>Quality</th>\n",
       "    </tr>\n",
       "  </thead>\n",
       "  <tbody>\n",
       "    <tr>\n",
       "      <th>0</th>\n",
       "      <td>-3.97</td>\n",
       "      <td>-2.51</td>\n",
       "      <td>5.35</td>\n",
       "      <td>-1.01</td>\n",
       "      <td>1.84</td>\n",
       "      <td>0.33</td>\n",
       "      <td>-0.49</td>\n",
       "      <td>1</td>\n",
       "    </tr>\n",
       "    <tr>\n",
       "      <th>1</th>\n",
       "      <td>-1.20</td>\n",
       "      <td>-2.84</td>\n",
       "      <td>3.66</td>\n",
       "      <td>1.59</td>\n",
       "      <td>0.85</td>\n",
       "      <td>0.87</td>\n",
       "      <td>-0.72</td>\n",
       "      <td>1</td>\n",
       "    </tr>\n",
       "    <tr>\n",
       "      <th>2</th>\n",
       "      <td>-0.29</td>\n",
       "      <td>-1.35</td>\n",
       "      <td>-1.74</td>\n",
       "      <td>-0.34</td>\n",
       "      <td>2.84</td>\n",
       "      <td>-0.04</td>\n",
       "      <td>2.62</td>\n",
       "      <td>0</td>\n",
       "    </tr>\n",
       "    <tr>\n",
       "      <th>3</th>\n",
       "      <td>-0.66</td>\n",
       "      <td>-2.27</td>\n",
       "      <td>1.32</td>\n",
       "      <td>-0.10</td>\n",
       "      <td>3.64</td>\n",
       "      <td>-3.41</td>\n",
       "      <td>0.79</td>\n",
       "      <td>1</td>\n",
       "    </tr>\n",
       "    <tr>\n",
       "      <th>4</th>\n",
       "      <td>1.36</td>\n",
       "      <td>-1.30</td>\n",
       "      <td>-0.38</td>\n",
       "      <td>-0.55</td>\n",
       "      <td>3.03</td>\n",
       "      <td>-1.30</td>\n",
       "      <td>0.50</td>\n",
       "      <td>1</td>\n",
       "    </tr>\n",
       "  </tbody>\n",
       "</table>\n",
       "</div>"
      ],
      "text/plain": [
       "   Size  Weight  Sweetness  Crunchiness  Juiciness  Ripeness  Acidity  Quality\n",
       "0 -3.97   -2.51       5.35        -1.01       1.84      0.33    -0.49        1\n",
       "1 -1.20   -2.84       3.66         1.59       0.85      0.87    -0.72        1\n",
       "2 -0.29   -1.35      -1.74        -0.34       2.84     -0.04     2.62        0\n",
       "3 -0.66   -2.27       1.32        -0.10       3.64     -3.41     0.79        1\n",
       "4  1.36   -1.30      -0.38        -0.55       3.03     -1.30     0.50        1"
      ]
     },
     "execution_count": 18,
     "metadata": {},
     "output_type": "execute_result"
    }
   ],
   "source": [
    "df.head()"
   ]
  },
  {
   "cell_type": "code",
   "execution_count": 19,
   "id": "6ea06496",
   "metadata": {
    "execution": {
     "iopub.execute_input": "2024-03-04T11:56:39.008185Z",
     "iopub.status.busy": "2024-03-04T11:56:39.007373Z",
     "iopub.status.idle": "2024-03-04T11:56:39.012164Z",
     "shell.execute_reply": "2024-03-04T11:56:39.011104Z"
    },
    "papermill": {
     "duration": 0.01543,
     "end_time": "2024-03-04T11:56:39.013899",
     "exception": false,
     "start_time": "2024-03-04T11:56:38.998469",
     "status": "completed"
    },
    "tags": []
   },
   "outputs": [],
   "source": [
    "X = df.iloc[:,:-1]\n",
    "y = df.iloc[:,-1]"
   ]
  },
  {
   "cell_type": "code",
   "execution_count": 20,
   "id": "e269d652",
   "metadata": {
    "execution": {
     "iopub.execute_input": "2024-03-04T11:56:39.031781Z",
     "iopub.status.busy": "2024-03-04T11:56:39.031309Z",
     "iopub.status.idle": "2024-03-04T11:56:39.040334Z",
     "shell.execute_reply": "2024-03-04T11:56:39.039620Z"
    },
    "papermill": {
     "duration": 0.020069,
     "end_time": "2024-03-04T11:56:39.042289",
     "exception": false,
     "start_time": "2024-03-04T11:56:39.022220",
     "status": "completed"
    },
    "tags": []
   },
   "outputs": [
    {
     "data": {
      "text/html": [
       "<div>\n",
       "<style scoped>\n",
       "    .dataframe tbody tr th:only-of-type {\n",
       "        vertical-align: middle;\n",
       "    }\n",
       "\n",
       "    .dataframe tbody tr th {\n",
       "        vertical-align: top;\n",
       "    }\n",
       "\n",
       "    .dataframe thead th {\n",
       "        text-align: right;\n",
       "    }\n",
       "</style>\n",
       "<table border=\"1\" class=\"dataframe\">\n",
       "  <thead>\n",
       "    <tr style=\"text-align: right;\">\n",
       "      <th></th>\n",
       "      <th>Size</th>\n",
       "      <th>Weight</th>\n",
       "      <th>Sweetness</th>\n",
       "      <th>Crunchiness</th>\n",
       "      <th>Juiciness</th>\n",
       "      <th>Ripeness</th>\n",
       "      <th>Acidity</th>\n",
       "    </tr>\n",
       "  </thead>\n",
       "  <tbody>\n",
       "    <tr>\n",
       "      <th>0</th>\n",
       "      <td>-3.97</td>\n",
       "      <td>-2.51</td>\n",
       "      <td>5.35</td>\n",
       "      <td>-1.01</td>\n",
       "      <td>1.84</td>\n",
       "      <td>0.33</td>\n",
       "      <td>-0.49</td>\n",
       "    </tr>\n",
       "    <tr>\n",
       "      <th>1</th>\n",
       "      <td>-1.20</td>\n",
       "      <td>-2.84</td>\n",
       "      <td>3.66</td>\n",
       "      <td>1.59</td>\n",
       "      <td>0.85</td>\n",
       "      <td>0.87</td>\n",
       "      <td>-0.72</td>\n",
       "    </tr>\n",
       "    <tr>\n",
       "      <th>2</th>\n",
       "      <td>-0.29</td>\n",
       "      <td>-1.35</td>\n",
       "      <td>-1.74</td>\n",
       "      <td>-0.34</td>\n",
       "      <td>2.84</td>\n",
       "      <td>-0.04</td>\n",
       "      <td>2.62</td>\n",
       "    </tr>\n",
       "    <tr>\n",
       "      <th>3</th>\n",
       "      <td>-0.66</td>\n",
       "      <td>-2.27</td>\n",
       "      <td>1.32</td>\n",
       "      <td>-0.10</td>\n",
       "      <td>3.64</td>\n",
       "      <td>-3.41</td>\n",
       "      <td>0.79</td>\n",
       "    </tr>\n",
       "    <tr>\n",
       "      <th>4</th>\n",
       "      <td>1.36</td>\n",
       "      <td>-1.30</td>\n",
       "      <td>-0.38</td>\n",
       "      <td>-0.55</td>\n",
       "      <td>3.03</td>\n",
       "      <td>-1.30</td>\n",
       "      <td>0.50</td>\n",
       "    </tr>\n",
       "  </tbody>\n",
       "</table>\n",
       "</div>"
      ],
      "text/plain": [
       "   Size  Weight  Sweetness  Crunchiness  Juiciness  Ripeness  Acidity\n",
       "0 -3.97   -2.51       5.35        -1.01       1.84      0.33    -0.49\n",
       "1 -1.20   -2.84       3.66         1.59       0.85      0.87    -0.72\n",
       "2 -0.29   -1.35      -1.74        -0.34       2.84     -0.04     2.62\n",
       "3 -0.66   -2.27       1.32        -0.10       3.64     -3.41     0.79\n",
       "4  1.36   -1.30      -0.38        -0.55       3.03     -1.30     0.50"
      ]
     },
     "execution_count": 20,
     "metadata": {},
     "output_type": "execute_result"
    }
   ],
   "source": [
    "X.head()"
   ]
  },
  {
   "cell_type": "code",
   "execution_count": 21,
   "id": "f7634501",
   "metadata": {
    "execution": {
     "iopub.execute_input": "2024-03-04T11:56:39.060085Z",
     "iopub.status.busy": "2024-03-04T11:56:39.059670Z",
     "iopub.status.idle": "2024-03-04T11:56:39.065990Z",
     "shell.execute_reply": "2024-03-04T11:56:39.064721Z"
    },
    "papermill": {
     "duration": 0.016867,
     "end_time": "2024-03-04T11:56:39.067757",
     "exception": false,
     "start_time": "2024-03-04T11:56:39.050890",
     "status": "completed"
    },
    "tags": []
   },
   "outputs": [
    {
     "data": {
      "text/plain": [
       "0    1\n",
       "1    1\n",
       "2    0\n",
       "3    1\n",
       "4    1\n",
       "Name: Quality, dtype: int64"
      ]
     },
     "execution_count": 21,
     "metadata": {},
     "output_type": "execute_result"
    }
   ],
   "source": [
    "y.head()"
   ]
  },
  {
   "cell_type": "code",
   "execution_count": 22,
   "id": "b272829b",
   "metadata": {
    "execution": {
     "iopub.execute_input": "2024-03-04T11:56:39.084847Z",
     "iopub.status.busy": "2024-03-04T11:56:39.084544Z",
     "iopub.status.idle": "2024-03-04T11:56:39.092594Z",
     "shell.execute_reply": "2024-03-04T11:56:39.091704Z"
    },
    "papermill": {
     "duration": 0.018645,
     "end_time": "2024-03-04T11:56:39.094403",
     "exception": false,
     "start_time": "2024-03-04T11:56:39.075758",
     "status": "completed"
    },
    "tags": []
   },
   "outputs": [],
   "source": [
    "X_train, X_test, y_train, y_test = train_test_split(X, y, test_size = 0.2, random_state=0)"
   ]
  },
  {
   "cell_type": "code",
   "execution_count": 23,
   "id": "8f4391dc",
   "metadata": {
    "execution": {
     "iopub.execute_input": "2024-03-04T11:56:39.113212Z",
     "iopub.status.busy": "2024-03-04T11:56:39.112880Z",
     "iopub.status.idle": "2024-03-04T11:56:39.122820Z",
     "shell.execute_reply": "2024-03-04T11:56:39.121610Z"
    },
    "papermill": {
     "duration": 0.02141,
     "end_time": "2024-03-04T11:56:39.124735",
     "exception": false,
     "start_time": "2024-03-04T11:56:39.103325",
     "status": "completed"
    },
    "tags": []
   },
   "outputs": [],
   "source": [
    "scaler =StandardScaler()\n",
    "scaler.fit(X_train)\n",
    "X_train = scaler.transform(X_train)\n",
    "X_test = scaler.transform(X_test)"
   ]
  },
  {
   "cell_type": "code",
   "execution_count": 24,
   "id": "ad4b56a8",
   "metadata": {
    "execution": {
     "iopub.execute_input": "2024-03-04T11:56:39.143106Z",
     "iopub.status.busy": "2024-03-04T11:56:39.142747Z",
     "iopub.status.idle": "2024-03-04T11:56:39.149266Z",
     "shell.execute_reply": "2024-03-04T11:56:39.148343Z"
    },
    "papermill": {
     "duration": 0.017669,
     "end_time": "2024-03-04T11:56:39.150945",
     "exception": false,
     "start_time": "2024-03-04T11:56:39.133276",
     "status": "completed"
    },
    "tags": []
   },
   "outputs": [
    {
     "data": {
      "text/plain": [
       "array([[-2.01091793e-01,  2.41010956e-01, -9.74332380e-01, ...,\n",
       "        -1.79591919e+00,  1.03067388e-01, -5.96309539e-01],\n",
       "       [ 1.01981989e+00, -1.11378265e+00,  7.54272181e-01, ...,\n",
       "        -1.02177297e+00,  1.67000615e+00,  1.44528307e-01],\n",
       "       [ 2.42888105e-01,  1.06430450e+00,  3.36279108e-01, ...,\n",
       "         2.13711382e-01, -1.17298122e-01, -9.83461585e-01],\n",
       "       ...,\n",
       "       [-1.10115536e+00, -9.82718065e-01,  2.80466907e-01, ...,\n",
       "         2.58269985e+00,  4.98286506e-01,  2.69265941e+00],\n",
       "       [ 2.76381379e-01,  2.57856925e-01,  7.72974701e-01, ...,\n",
       "         1.67794847e+00, -2.61769902e+00,  1.26704752e+00],\n",
       "       [-1.30239783e+00,  3.39549077e-01,  1.11493916e+00, ...,\n",
       "         5.74202850e-01, -5.66379316e-01, -2.95169627e-04]])"
      ]
     },
     "execution_count": 24,
     "metadata": {},
     "output_type": "execute_result"
    }
   ],
   "source": [
    "X_test"
   ]
  },
  {
   "cell_type": "markdown",
   "id": "c8d215ab",
   "metadata": {
    "papermill": {
     "duration": 0.008056,
     "end_time": "2024-03-04T11:56:39.167594",
     "exception": false,
     "start_time": "2024-03-04T11:56:39.159538",
     "status": "completed"
    },
    "tags": []
   },
   "source": [
    "### Linear Regression"
   ]
  },
  {
   "cell_type": "code",
   "execution_count": 25,
   "id": "5393ac81",
   "metadata": {
    "execution": {
     "iopub.execute_input": "2024-03-04T11:56:39.185426Z",
     "iopub.status.busy": "2024-03-04T11:56:39.185132Z",
     "iopub.status.idle": "2024-03-04T11:56:39.205466Z",
     "shell.execute_reply": "2024-03-04T11:56:39.204523Z"
    },
    "papermill": {
     "duration": 0.031555,
     "end_time": "2024-03-04T11:56:39.207404",
     "exception": false,
     "start_time": "2024-03-04T11:56:39.175849",
     "status": "completed"
    },
    "tags": []
   },
   "outputs": [
    {
     "data": {
      "text/html": [
       "<style>#sk-container-id-1 {color: black;background-color: white;}#sk-container-id-1 pre{padding: 0;}#sk-container-id-1 div.sk-toggleable {background-color: white;}#sk-container-id-1 label.sk-toggleable__label {cursor: pointer;display: block;width: 100%;margin-bottom: 0;padding: 0.3em;box-sizing: border-box;text-align: center;}#sk-container-id-1 label.sk-toggleable__label-arrow:before {content: \"▸\";float: left;margin-right: 0.25em;color: #696969;}#sk-container-id-1 label.sk-toggleable__label-arrow:hover:before {color: black;}#sk-container-id-1 div.sk-estimator:hover label.sk-toggleable__label-arrow:before {color: black;}#sk-container-id-1 div.sk-toggleable__content {max-height: 0;max-width: 0;overflow: hidden;text-align: left;background-color: #f0f8ff;}#sk-container-id-1 div.sk-toggleable__content pre {margin: 0.2em;color: black;border-radius: 0.25em;background-color: #f0f8ff;}#sk-container-id-1 input.sk-toggleable__control:checked~div.sk-toggleable__content {max-height: 200px;max-width: 100%;overflow: auto;}#sk-container-id-1 input.sk-toggleable__control:checked~label.sk-toggleable__label-arrow:before {content: \"▾\";}#sk-container-id-1 div.sk-estimator input.sk-toggleable__control:checked~label.sk-toggleable__label {background-color: #d4ebff;}#sk-container-id-1 div.sk-label input.sk-toggleable__control:checked~label.sk-toggleable__label {background-color: #d4ebff;}#sk-container-id-1 input.sk-hidden--visually {border: 0;clip: rect(1px 1px 1px 1px);clip: rect(1px, 1px, 1px, 1px);height: 1px;margin: -1px;overflow: hidden;padding: 0;position: absolute;width: 1px;}#sk-container-id-1 div.sk-estimator {font-family: monospace;background-color: #f0f8ff;border: 1px dotted black;border-radius: 0.25em;box-sizing: border-box;margin-bottom: 0.5em;}#sk-container-id-1 div.sk-estimator:hover {background-color: #d4ebff;}#sk-container-id-1 div.sk-parallel-item::after {content: \"\";width: 100%;border-bottom: 1px solid gray;flex-grow: 1;}#sk-container-id-1 div.sk-label:hover label.sk-toggleable__label {background-color: #d4ebff;}#sk-container-id-1 div.sk-serial::before {content: \"\";position: absolute;border-left: 1px solid gray;box-sizing: border-box;top: 0;bottom: 0;left: 50%;z-index: 0;}#sk-container-id-1 div.sk-serial {display: flex;flex-direction: column;align-items: center;background-color: white;padding-right: 0.2em;padding-left: 0.2em;position: relative;}#sk-container-id-1 div.sk-item {position: relative;z-index: 1;}#sk-container-id-1 div.sk-parallel {display: flex;align-items: stretch;justify-content: center;background-color: white;position: relative;}#sk-container-id-1 div.sk-item::before, #sk-container-id-1 div.sk-parallel-item::before {content: \"\";position: absolute;border-left: 1px solid gray;box-sizing: border-box;top: 0;bottom: 0;left: 50%;z-index: -1;}#sk-container-id-1 div.sk-parallel-item {display: flex;flex-direction: column;z-index: 1;position: relative;background-color: white;}#sk-container-id-1 div.sk-parallel-item:first-child::after {align-self: flex-end;width: 50%;}#sk-container-id-1 div.sk-parallel-item:last-child::after {align-self: flex-start;width: 50%;}#sk-container-id-1 div.sk-parallel-item:only-child::after {width: 0;}#sk-container-id-1 div.sk-dashed-wrapped {border: 1px dashed gray;margin: 0 0.4em 0.5em 0.4em;box-sizing: border-box;padding-bottom: 0.4em;background-color: white;}#sk-container-id-1 div.sk-label label {font-family: monospace;font-weight: bold;display: inline-block;line-height: 1.2em;}#sk-container-id-1 div.sk-label-container {text-align: center;}#sk-container-id-1 div.sk-container {/* jupyter's `normalize.less` sets `[hidden] { display: none; }` but bootstrap.min.css set `[hidden] { display: none !important; }` so we also need the `!important` here to be able to override the default hidden behavior on the sphinx rendered scikit-learn.org. See: https://github.com/scikit-learn/scikit-learn/issues/21755 */display: inline-block !important;position: relative;}#sk-container-id-1 div.sk-text-repr-fallback {display: none;}</style><div id=\"sk-container-id-1\" class=\"sk-top-container\"><div class=\"sk-text-repr-fallback\"><pre>LogisticRegression()</pre><b>In a Jupyter environment, please rerun this cell to show the HTML representation or trust the notebook. <br />On GitHub, the HTML representation is unable to render, please try loading this page with nbviewer.org.</b></div><div class=\"sk-container\" hidden><div class=\"sk-item\"><div class=\"sk-estimator sk-toggleable\"><input class=\"sk-toggleable__control sk-hidden--visually\" id=\"sk-estimator-id-1\" type=\"checkbox\" checked><label for=\"sk-estimator-id-1\" class=\"sk-toggleable__label sk-toggleable__label-arrow\">LogisticRegression</label><div class=\"sk-toggleable__content\"><pre>LogisticRegression()</pre></div></div></div></div></div>"
      ],
      "text/plain": [
       "LogisticRegression()"
      ]
     },
     "execution_count": 25,
     "metadata": {},
     "output_type": "execute_result"
    }
   ],
   "source": [
    "lr = LogisticRegression()\n",
    "lr.fit(X_train, y_train)"
   ]
  },
  {
   "cell_type": "code",
   "execution_count": 26,
   "id": "1849559a",
   "metadata": {
    "execution": {
     "iopub.execute_input": "2024-03-04T11:56:39.231416Z",
     "iopub.status.busy": "2024-03-04T11:56:39.231079Z",
     "iopub.status.idle": "2024-03-04T11:56:39.236776Z",
     "shell.execute_reply": "2024-03-04T11:56:39.235980Z"
    },
    "papermill": {
     "duration": 0.020253,
     "end_time": "2024-03-04T11:56:39.238693",
     "exception": false,
     "start_time": "2024-03-04T11:56:39.218440",
     "status": "completed"
    },
    "tags": []
   },
   "outputs": [
    {
     "data": {
      "text/plain": [
       "array([[ 1.23675913,  0.39656341,  1.1015446 ,  0.06402714,  0.84993083,\n",
       "        -0.23350877, -0.55664892]])"
      ]
     },
     "execution_count": 26,
     "metadata": {},
     "output_type": "execute_result"
    }
   ],
   "source": [
    "lr.coef_"
   ]
  },
  {
   "cell_type": "code",
   "execution_count": 27,
   "id": "f22bf35e",
   "metadata": {
    "execution": {
     "iopub.execute_input": "2024-03-04T11:56:39.261490Z",
     "iopub.status.busy": "2024-03-04T11:56:39.261189Z",
     "iopub.status.idle": "2024-03-04T11:56:39.266492Z",
     "shell.execute_reply": "2024-03-04T11:56:39.265747Z"
    },
    "papermill": {
     "duration": 0.018598,
     "end_time": "2024-03-04T11:56:39.268305",
     "exception": false,
     "start_time": "2024-03-04T11:56:39.249707",
     "status": "completed"
    },
    "tags": []
   },
   "outputs": [
    {
     "data": {
      "text/plain": [
       "array([0.00452371])"
      ]
     },
     "execution_count": 27,
     "metadata": {},
     "output_type": "execute_result"
    }
   ],
   "source": [
    "lr.intercept_"
   ]
  },
  {
   "cell_type": "code",
   "execution_count": 28,
   "id": "d841d1c6",
   "metadata": {
    "execution": {
     "iopub.execute_input": "2024-03-04T11:56:39.292422Z",
     "iopub.status.busy": "2024-03-04T11:56:39.292069Z",
     "iopub.status.idle": "2024-03-04T11:56:39.296350Z",
     "shell.execute_reply": "2024-03-04T11:56:39.295549Z"
    },
    "papermill": {
     "duration": 0.019123,
     "end_time": "2024-03-04T11:56:39.298194",
     "exception": false,
     "start_time": "2024-03-04T11:56:39.279071",
     "status": "completed"
    },
    "tags": []
   },
   "outputs": [],
   "source": [
    "y_pred = lr.predict(X_test)"
   ]
  },
  {
   "cell_type": "code",
   "execution_count": 29,
   "id": "9518ac76",
   "metadata": {
    "execution": {
     "iopub.execute_input": "2024-03-04T11:56:39.320375Z",
     "iopub.status.busy": "2024-03-04T11:56:39.320119Z",
     "iopub.status.idle": "2024-03-04T11:56:39.331495Z",
     "shell.execute_reply": "2024-03-04T11:56:39.330629Z"
    },
    "papermill": {
     "duration": 0.024521,
     "end_time": "2024-03-04T11:56:39.333636",
     "exception": false,
     "start_time": "2024-03-04T11:56:39.309115",
     "status": "completed"
    },
    "tags": []
   },
   "outputs": [
    {
     "name": "stdout",
     "output_type": "stream",
     "text": [
      "              precision    recall  f1-score   support\n",
      "\n",
      "           0       0.78      0.74      0.76       422\n",
      "           1       0.72      0.77      0.75       378\n",
      "\n",
      "    accuracy                           0.75       800\n",
      "   macro avg       0.75      0.75      0.75       800\n",
      "weighted avg       0.76      0.75      0.75       800\n",
      "\n"
     ]
    }
   ],
   "source": [
    "print(classification_report(y_true=y_test, y_pred=y_pred))"
   ]
  },
  {
   "cell_type": "code",
   "execution_count": 30,
   "id": "9656113f",
   "metadata": {
    "execution": {
     "iopub.execute_input": "2024-03-04T11:56:39.351845Z",
     "iopub.status.busy": "2024-03-04T11:56:39.351012Z",
     "iopub.status.idle": "2024-03-04T11:56:39.356276Z",
     "shell.execute_reply": "2024-03-04T11:56:39.355695Z"
    },
    "papermill": {
     "duration": 0.015866,
     "end_time": "2024-03-04T11:56:39.357880",
     "exception": false,
     "start_time": "2024-03-04T11:56:39.342014",
     "status": "completed"
    },
    "tags": []
   },
   "outputs": [],
   "source": [
    "cm = metrics.confusion_matrix(y_test,y_pred, labels = lr.classes_)"
   ]
  },
  {
   "cell_type": "code",
   "execution_count": 31,
   "id": "b9ed3898",
   "metadata": {
    "execution": {
     "iopub.execute_input": "2024-03-04T11:56:39.376015Z",
     "iopub.status.busy": "2024-03-04T11:56:39.375310Z",
     "iopub.status.idle": "2024-03-04T11:56:39.689319Z",
     "shell.execute_reply": "2024-03-04T11:56:39.688402Z"
    },
    "papermill": {
     "duration": 0.325196,
     "end_time": "2024-03-04T11:56:39.691468",
     "exception": false,
     "start_time": "2024-03-04T11:56:39.366272",
     "status": "completed"
    },
    "tags": []
   },
   "outputs": [
    {
     "data": {
      "image/png": "[encoded data removed]",
      "text/plain": [
       "<Figure size 640x480 with 2 Axes>"
      ]
     },
     "metadata": {},
     "output_type": "display_data"
    }
   ],
   "source": [
    "display = metrics.ConfusionMatrixDisplay(confusion_matrix = cm,display_labels = lr.classes_)\n",
    "display.plot();"
   ]
  },
  {
   "cell_type": "code",
   "execution_count": null,
   "id": "6fce5559",
   "metadata": {
    "papermill": {
     "duration": 0.008587,
     "end_time": "2024-03-04T11:56:39.709423",
     "exception": false,
     "start_time": "2024-03-04T11:56:39.700836",
     "status": "completed"
    },
    "tags": []
   },
   "outputs": [],
   "source": []
  }
 ],
 "metadata": {
  "kaggle": {
   "accelerator": "none",
   "dataSources": [
    {
     "datasetId": 4291772,
     "sourceId": 7384155,
     "sourceType": "datasetVersion"
    }
   ],
   "dockerImageVersionId": 30664,
   "isGpuEnabled": false,
   "isInternetEnabled": true,
   "language": "python",
   "sourceType": "notebook"
  },
  "kernelspec": {
   "display_name": "Python 3",
   "language": "python",
   "name": "python3"
  },
  "language_info": {
   "codemirror_mode": {
    "name": "ipython",
    "version": 3
   },
   "file_extension": ".py",
   "mimetype": "text/x-python",
   "name": "python",
   "nbconvert_exporter": "python",
   "pygments_lexer": "ipython3",
   "version": "3.10.13"
  },
  "papermill": {
   "default_parameters": {},
   "duration": 7.272108,
   "end_time": "2024-03-04T11:56:40.337108",
   "environment_variables": {},
   "exception": null,
   "input_path": "__notebook__.ipynb",
   "output_path": "__notebook__.ipynb",
   "parameters": {},
   "start_time": "2024-03-04T11:56:33.065000",
   "version": "2.5.0"
  }
 },
 "nbformat": 4,
 "nbformat_minor": 5
}
