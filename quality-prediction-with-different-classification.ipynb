{
 "cells": [
  {
   "cell_type": "code",
   "execution_count": 1,
   "id": "90e0d232",
   "metadata": {
    "_cell_guid": "b1076dfc-b9ad-4769-8c92-a6c4dae69d19",
    "_uuid": "8f2839f25d086af736a60e9eeb907d3b93b6e0e5",
    "execution": {
     "iopub.execute_input": "2024-03-05T06:35:16.089930Z",
     "iopub.status.busy": "2024-03-05T06:35:16.089035Z",
     "iopub.status.idle": "2024-03-05T06:35:17.136194Z",
     "shell.execute_reply": "2024-03-05T06:35:17.134817Z"
    },
    "jupyter": {
     "source_hidden": true
    },
    "papermill": {
     "duration": 1.073269,
     "end_time": "2024-03-05T06:35:17.138795",
     "exception": false,
     "start_time": "2024-03-05T06:35:16.065526",
     "status": "completed"
    },
    "tags": []
   },
   "outputs": [
    {
     "name": "stdout",
     "output_type": "stream",
     "text": [
      "/kaggle/input/apple-quality/apple_quality.csv\n"
     ]
    }
   ],
   "source": [
    "# This Python 3 environment comes with many helpful analytics libraries installed\n",
    "# It is defined by the kaggle/python Docker image: https://github.com/kaggle/docker-python\n",
    "# For example, here's several helpful packages to load\n",
    "\n",
    "import numpy as np # linear algebra\n",
    "import pandas as pd # data processing, CSV file I/O (e.g. pd.read_csv)\n",
    "\n",
    "# Input data files are available in the read-only \"../input/\" directory\n",
    "# For example, running this (by clicking run or pressing Shift+Enter) will list all files under the input directory\n",
    "\n",
    "import os\n",
    "for dirname, _, filenames in os.walk('/kaggle/input'):\n",
    "    for filename in filenames:\n",
    "        print(os.path.join(dirname, filename))\n",
    "\n",
    "# You can write up to 20GB to the current directory (/kaggle/working/) that gets preserved as output when you create a version using \"Save & Run All\" \n",
    "# You can also write temporary files to /kaggle/temp/, but they won't be saved outside of the current session"
   ]
  },
  {
   "cell_type": "code",
   "execution_count": 2,
   "id": "935bd27a",
   "metadata": {
    "execution": {
     "iopub.execute_input": "2024-03-05T06:35:17.182901Z",
     "iopub.status.busy": "2024-03-05T06:35:17.182394Z",
     "iopub.status.idle": "2024-03-05T06:35:20.977718Z",
     "shell.execute_reply": "2024-03-05T06:35:20.976341Z"
    },
    "papermill": {
     "duration": 3.820842,
     "end_time": "2024-03-05T06:35:20.980721",
     "exception": false,
     "start_time": "2024-03-05T06:35:17.159879",
     "status": "completed"
    },
    "tags": []
   },
   "outputs": [],
   "source": [
    "import numpy as np\n",
    "import pandas as pd\n",
    "import matplotlib.pyplot as plt\n",
    "import seaborn as sns\n",
    "import sklearn.metrics as metrics\n",
    "from sklearn.metrics import classification_report\n",
    "from sklearn.model_selection import train_test_split\n",
    "from sklearn.preprocessing import StandardScaler\n",
    "from sklearn.linear_model import LogisticRegression\n",
    "from sklearn.naive_bayes import GaussianNB\n",
    "from sklearn.metrics import recall_score, precision_score, f1_score,accuracy_score\n",
    "from sklearn.neighbors import KNeighborsClassifier\n",
    "from sklearn.metrics import f1_score\n",
    "from sklearn.preprocessing import LabelEncoder\n",
    "from sklearn.model_selection import GridSearchCV, cross_validate\n",
    "from sklearn.tree import DecisionTreeClassifier\n",
    "from sklearn.ensemble import RandomForestClassifier, VotingClassifier\n",
    "from catboost import CatBoostClassifier\n",
    "from lightgbm import LGBMClassifier\n",
    "from xgboost import XGBClassifier\n",
    "from sklearn.svm import SVC\n",
    "\n",
    "import warnings\n",
    "warnings.simplefilter(action=\"ignore\")\n",
    "\n",
    "pd.set_option('display.max_columns', None)\n",
    "pd.set_option('display.width', 170)\n",
    "pd.set_option('display.max_rows', None)\n",
    "pd.set_option('display.float_format', lambda x: '%.2f' % x)"
   ]
  },
  {
   "cell_type": "code",
   "execution_count": 3,
   "id": "1e7023c4",
   "metadata": {
    "execution": {
     "iopub.execute_input": "2024-03-05T06:35:21.025512Z",
     "iopub.status.busy": "2024-03-05T06:35:21.024887Z",
     "iopub.status.idle": "2024-03-05T06:35:21.061737Z",
     "shell.execute_reply": "2024-03-05T06:35:21.060324Z"
    },
    "papermill": {
     "duration": 0.061936,
     "end_time": "2024-03-05T06:35:21.064558",
     "exception": false,
     "start_time": "2024-03-05T06:35:21.002622",
     "status": "completed"
    },
    "tags": []
   },
   "outputs": [],
   "source": [
    "df = pd.read_csv('/kaggle/input/apple-quality/apple_quality.csv')"
   ]
  },
  {
   "cell_type": "code",
   "execution_count": 4,
   "id": "7b094467",
   "metadata": {
    "execution": {
     "iopub.execute_input": "2024-03-05T06:35:21.112827Z",
     "iopub.status.busy": "2024-03-05T06:35:21.111151Z",
     "iopub.status.idle": "2024-03-05T06:35:21.138751Z",
     "shell.execute_reply": "2024-03-05T06:35:21.137015Z"
    },
    "papermill": {
     "duration": 0.05714,
     "end_time": "2024-03-05T06:35:21.142826",
     "exception": false,
     "start_time": "2024-03-05T06:35:21.085686",
     "status": "completed"
    },
    "tags": []
   },
   "outputs": [
    {
     "data": {
      "text/html": [
       "<div>\n",
       "<style scoped>\n",
       "    .dataframe tbody tr th:only-of-type {\n",
       "        vertical-align: middle;\n",
       "    }\n",
       "\n",
       "    .dataframe tbody tr th {\n",
       "        vertical-align: top;\n",
       "    }\n",
       "\n",
       "    .dataframe thead th {\n",
       "        text-align: right;\n",
       "    }\n",
       "</style>\n",
       "<table border=\"1\" class=\"dataframe\">\n",
       "  <thead>\n",
       "    <tr style=\"text-align: right;\">\n",
       "      <th></th>\n",
       "      <th>A_id</th>\n",
       "      <th>Size</th>\n",
       "      <th>Weight</th>\n",
       "      <th>Sweetness</th>\n",
       "      <th>Crunchiness</th>\n",
       "      <th>Juiciness</th>\n",
       "      <th>Ripeness</th>\n",
       "      <th>Acidity</th>\n",
       "      <th>Quality</th>\n",
       "    </tr>\n",
       "  </thead>\n",
       "  <tbody>\n",
       "    <tr>\n",
       "      <th>0</th>\n",
       "      <td>0.00</td>\n",
       "      <td>-3.97</td>\n",
       "      <td>-2.51</td>\n",
       "      <td>5.35</td>\n",
       "      <td>-1.01</td>\n",
       "      <td>1.84</td>\n",
       "      <td>0.33</td>\n",
       "      <td>-0.491590483</td>\n",
       "      <td>good</td>\n",
       "    </tr>\n",
       "    <tr>\n",
       "      <th>1</th>\n",
       "      <td>1.00</td>\n",
       "      <td>-1.20</td>\n",
       "      <td>-2.84</td>\n",
       "      <td>3.66</td>\n",
       "      <td>1.59</td>\n",
       "      <td>0.85</td>\n",
       "      <td>0.87</td>\n",
       "      <td>-0.722809367</td>\n",
       "      <td>good</td>\n",
       "    </tr>\n",
       "    <tr>\n",
       "      <th>2</th>\n",
       "      <td>2.00</td>\n",
       "      <td>-0.29</td>\n",
       "      <td>-1.35</td>\n",
       "      <td>-1.74</td>\n",
       "      <td>-0.34</td>\n",
       "      <td>2.84</td>\n",
       "      <td>-0.04</td>\n",
       "      <td>2.621636473</td>\n",
       "      <td>bad</td>\n",
       "    </tr>\n",
       "    <tr>\n",
       "      <th>3</th>\n",
       "      <td>3.00</td>\n",
       "      <td>-0.66</td>\n",
       "      <td>-2.27</td>\n",
       "      <td>1.32</td>\n",
       "      <td>-0.10</td>\n",
       "      <td>3.64</td>\n",
       "      <td>-3.41</td>\n",
       "      <td>0.790723217</td>\n",
       "      <td>good</td>\n",
       "    </tr>\n",
       "    <tr>\n",
       "      <th>4</th>\n",
       "      <td>4.00</td>\n",
       "      <td>1.36</td>\n",
       "      <td>-1.30</td>\n",
       "      <td>-0.38</td>\n",
       "      <td>-0.55</td>\n",
       "      <td>3.03</td>\n",
       "      <td>-1.30</td>\n",
       "      <td>0.501984036</td>\n",
       "      <td>good</td>\n",
       "    </tr>\n",
       "  </tbody>\n",
       "</table>\n",
       "</div>"
      ],
      "text/plain": [
       "   A_id  Size  Weight  Sweetness  Crunchiness  Juiciness  Ripeness       Acidity Quality\n",
       "0  0.00 -3.97   -2.51       5.35        -1.01       1.84      0.33  -0.491590483    good\n",
       "1  1.00 -1.20   -2.84       3.66         1.59       0.85      0.87  -0.722809367    good\n",
       "2  2.00 -0.29   -1.35      -1.74        -0.34       2.84     -0.04   2.621636473     bad\n",
       "3  3.00 -0.66   -2.27       1.32        -0.10       3.64     -3.41   0.790723217    good\n",
       "4  4.00  1.36   -1.30      -0.38        -0.55       3.03     -1.30   0.501984036    good"
      ]
     },
     "execution_count": 4,
     "metadata": {},
     "output_type": "execute_result"
    }
   ],
   "source": [
    "df.head()"
   ]
  },
  {
   "cell_type": "code",
   "execution_count": 5,
   "id": "dee6504a",
   "metadata": {
    "execution": {
     "iopub.execute_input": "2024-03-05T06:35:21.189621Z",
     "iopub.status.busy": "2024-03-05T06:35:21.189221Z",
     "iopub.status.idle": "2024-03-05T06:35:21.200579Z",
     "shell.execute_reply": "2024-03-05T06:35:21.199580Z"
    },
    "papermill": {
     "duration": 0.036058,
     "end_time": "2024-03-05T06:35:21.203039",
     "exception": false,
     "start_time": "2024-03-05T06:35:21.166981",
     "status": "completed"
    },
    "tags": []
   },
   "outputs": [
    {
     "data": {
      "text/plain": [
       "A_id           1\n",
       "Size           1\n",
       "Weight         1\n",
       "Sweetness      1\n",
       "Crunchiness    1\n",
       "Juiciness      1\n",
       "Ripeness       1\n",
       "Acidity        0\n",
       "Quality        1\n",
       "dtype: int64"
      ]
     },
     "execution_count": 5,
     "metadata": {},
     "output_type": "execute_result"
    }
   ],
   "source": [
    "df.isnull().sum()"
   ]
  },
  {
   "cell_type": "code",
   "execution_count": 6,
   "id": "6238c5b2",
   "metadata": {
    "execution": {
     "iopub.execute_input": "2024-03-05T06:35:21.248124Z",
     "iopub.status.busy": "2024-03-05T06:35:21.247344Z",
     "iopub.status.idle": "2024-03-05T06:35:21.259617Z",
     "shell.execute_reply": "2024-03-05T06:35:21.258707Z"
    },
    "papermill": {
     "duration": 0.037788,
     "end_time": "2024-03-05T06:35:21.262189",
     "exception": false,
     "start_time": "2024-03-05T06:35:21.224401",
     "status": "completed"
    },
    "tags": []
   },
   "outputs": [],
   "source": [
    "df.dropna(inplace=True)"
   ]
  },
  {
   "cell_type": "code",
   "execution_count": 7,
   "id": "4b54f07f",
   "metadata": {
    "execution": {
     "iopub.execute_input": "2024-03-05T06:35:21.308015Z",
     "iopub.status.busy": "2024-03-05T06:35:21.307370Z",
     "iopub.status.idle": "2024-03-05T06:35:21.317952Z",
     "shell.execute_reply": "2024-03-05T06:35:21.316792Z"
    },
    "papermill": {
     "duration": 0.036008,
     "end_time": "2024-03-05T06:35:21.320247",
     "exception": false,
     "start_time": "2024-03-05T06:35:21.284239",
     "status": "completed"
    },
    "tags": []
   },
   "outputs": [
    {
     "data": {
      "text/plain": [
       "A_id           0\n",
       "Size           0\n",
       "Weight         0\n",
       "Sweetness      0\n",
       "Crunchiness    0\n",
       "Juiciness      0\n",
       "Ripeness       0\n",
       "Acidity        0\n",
       "Quality        0\n",
       "dtype: int64"
      ]
     },
     "execution_count": 7,
     "metadata": {},
     "output_type": "execute_result"
    }
   ],
   "source": [
    "df.isnull().sum()"
   ]
  },
  {
   "cell_type": "code",
   "execution_count": 8,
   "id": "1a00ec78",
   "metadata": {
    "execution": {
     "iopub.execute_input": "2024-03-05T06:35:21.365142Z",
     "iopub.status.busy": "2024-03-05T06:35:21.364498Z",
     "iopub.status.idle": "2024-03-05T06:35:21.382037Z",
     "shell.execute_reply": "2024-03-05T06:35:21.380993Z"
    },
    "papermill": {
     "duration": 0.042651,
     "end_time": "2024-03-05T06:35:21.384482",
     "exception": false,
     "start_time": "2024-03-05T06:35:21.341831",
     "status": "completed"
    },
    "tags": []
   },
   "outputs": [
    {
     "data": {
      "text/plain": [
       "0"
      ]
     },
     "execution_count": 8,
     "metadata": {},
     "output_type": "execute_result"
    }
   ],
   "source": [
    "df.duplicated().sum()"
   ]
  },
  {
   "cell_type": "code",
   "execution_count": 9,
   "id": "6f9ca755",
   "metadata": {
    "execution": {
     "iopub.execute_input": "2024-03-05T06:35:21.430071Z",
     "iopub.status.busy": "2024-03-05T06:35:21.429656Z",
     "iopub.status.idle": "2024-03-05T06:35:21.453374Z",
     "shell.execute_reply": "2024-03-05T06:35:21.452215Z"
    },
    "papermill": {
     "duration": 0.049393,
     "end_time": "2024-03-05T06:35:21.455994",
     "exception": false,
     "start_time": "2024-03-05T06:35:21.406601",
     "status": "completed"
    },
    "tags": []
   },
   "outputs": [
    {
     "name": "stdout",
     "output_type": "stream",
     "text": [
      "<class 'pandas.core.frame.DataFrame'>\n",
      "Index: 4000 entries, 0 to 3999\n",
      "Data columns (total 9 columns):\n",
      " #   Column       Non-Null Count  Dtype  \n",
      "---  ------       --------------  -----  \n",
      " 0   A_id         4000 non-null   float64\n",
      " 1   Size         4000 non-null   float64\n",
      " 2   Weight       4000 non-null   float64\n",
      " 3   Sweetness    4000 non-null   float64\n",
      " 4   Crunchiness  4000 non-null   float64\n",
      " 5   Juiciness    4000 non-null   float64\n",
      " 6   Ripeness     4000 non-null   float64\n",
      " 7   Acidity      4000 non-null   object \n",
      " 8   Quality      4000 non-null   object \n",
      "dtypes: float64(7), object(2)\n",
      "memory usage: 312.5+ KB\n"
     ]
    }
   ],
   "source": [
    "df.info()"
   ]
  },
  {
   "cell_type": "code",
   "execution_count": 10,
   "id": "9a4f7b92",
   "metadata": {
    "execution": {
     "iopub.execute_input": "2024-03-05T06:35:21.501665Z",
     "iopub.status.busy": "2024-03-05T06:35:21.500930Z",
     "iopub.status.idle": "2024-03-05T06:35:21.508100Z",
     "shell.execute_reply": "2024-03-05T06:35:21.507016Z"
    },
    "papermill": {
     "duration": 0.032746,
     "end_time": "2024-03-05T06:35:21.510357",
     "exception": false,
     "start_time": "2024-03-05T06:35:21.477611",
     "status": "completed"
    },
    "tags": []
   },
   "outputs": [
    {
     "data": {
      "text/plain": [
       "array(['good', 'bad'], dtype=object)"
      ]
     },
     "execution_count": 10,
     "metadata": {},
     "output_type": "execute_result"
    }
   ],
   "source": [
    "df['Quality'].unique()"
   ]
  },
  {
   "cell_type": "code",
   "execution_count": 11,
   "id": "26c92cbc",
   "metadata": {
    "execution": {
     "iopub.execute_input": "2024-03-05T06:35:21.557844Z",
     "iopub.status.busy": "2024-03-05T06:35:21.557214Z",
     "iopub.status.idle": "2024-03-05T06:35:21.565329Z",
     "shell.execute_reply": "2024-03-05T06:35:21.564427Z"
    },
    "papermill": {
     "duration": 0.034402,
     "end_time": "2024-03-05T06:35:21.567775",
     "exception": false,
     "start_time": "2024-03-05T06:35:21.533373",
     "status": "completed"
    },
    "tags": []
   },
   "outputs": [],
   "source": [
    "# Object olan typeları float ve integer e dönüştüreceğiz.\n",
    "# We will convert object types to float and integer.\n",
    "\n",
    "df['Acidity'] = df['Acidity'].astype(float)\n",
    "\n",
    "# good olan yer True yani '1' konur. 'bad' olan ise False olur böylelikle '0' olur.\n",
    "# where 'good' is True, so '1' is put. where 'bad' is False, so '0' is put.\n",
    "df['Quality'] = (df['Quality'] == 'good').astype(int) "
   ]
  },
  {
   "cell_type": "code",
   "execution_count": 12,
   "id": "aaf878e4",
   "metadata": {
    "execution": {
     "iopub.execute_input": "2024-03-05T06:35:21.613472Z",
     "iopub.status.busy": "2024-03-05T06:35:21.613072Z",
     "iopub.status.idle": "2024-03-05T06:35:21.625869Z",
     "shell.execute_reply": "2024-03-05T06:35:21.624696Z"
    },
    "papermill": {
     "duration": 0.039158,
     "end_time": "2024-03-05T06:35:21.629048",
     "exception": false,
     "start_time": "2024-03-05T06:35:21.589890",
     "status": "completed"
    },
    "tags": []
   },
   "outputs": [
    {
     "name": "stdout",
     "output_type": "stream",
     "text": [
      "<class 'pandas.core.frame.DataFrame'>\n",
      "Index: 4000 entries, 0 to 3999\n",
      "Data columns (total 9 columns):\n",
      " #   Column       Non-Null Count  Dtype  \n",
      "---  ------       --------------  -----  \n",
      " 0   A_id         4000 non-null   float64\n",
      " 1   Size         4000 non-null   float64\n",
      " 2   Weight       4000 non-null   float64\n",
      " 3   Sweetness    4000 non-null   float64\n",
      " 4   Crunchiness  4000 non-null   float64\n",
      " 5   Juiciness    4000 non-null   float64\n",
      " 6   Ripeness     4000 non-null   float64\n",
      " 7   Acidity      4000 non-null   float64\n",
      " 8   Quality      4000 non-null   int64  \n",
      "dtypes: float64(8), int64(1)\n",
      "memory usage: 312.5 KB\n"
     ]
    }
   ],
   "source": [
    "df.info()"
   ]
  },
  {
   "cell_type": "code",
   "execution_count": 13,
   "id": "f819828c",
   "metadata": {
    "execution": {
     "iopub.execute_input": "2024-03-05T06:35:21.675784Z",
     "iopub.status.busy": "2024-03-05T06:35:21.675420Z",
     "iopub.status.idle": "2024-03-05T06:35:21.684888Z",
     "shell.execute_reply": "2024-03-05T06:35:21.684102Z"
    },
    "papermill": {
     "duration": 0.035836,
     "end_time": "2024-03-05T06:35:21.686989",
     "exception": false,
     "start_time": "2024-03-05T06:35:21.651153",
     "status": "completed"
    },
    "tags": []
   },
   "outputs": [
    {
     "data": {
      "text/plain": [
       "Quality\n",
       "1    2004\n",
       "0    1996\n",
       "Name: count, dtype: int64"
      ]
     },
     "execution_count": 13,
     "metadata": {},
     "output_type": "execute_result"
    }
   ],
   "source": [
    "df['Quality'].value_counts()"
   ]
  },
  {
   "cell_type": "code",
   "execution_count": 14,
   "id": "b940bf13",
   "metadata": {
    "execution": {
     "iopub.execute_input": "2024-03-05T06:35:21.734052Z",
     "iopub.status.busy": "2024-03-05T06:35:21.733160Z",
     "iopub.status.idle": "2024-03-05T06:35:21.780293Z",
     "shell.execute_reply": "2024-03-05T06:35:21.778815Z"
    },
    "papermill": {
     "duration": 0.073561,
     "end_time": "2024-03-05T06:35:21.783316",
     "exception": false,
     "start_time": "2024-03-05T06:35:21.709755",
     "status": "completed"
    },
    "tags": []
   },
   "outputs": [
    {
     "data": {
      "text/html": [
       "<div>\n",
       "<style scoped>\n",
       "    .dataframe tbody tr th:only-of-type {\n",
       "        vertical-align: middle;\n",
       "    }\n",
       "\n",
       "    .dataframe tbody tr th {\n",
       "        vertical-align: top;\n",
       "    }\n",
       "\n",
       "    .dataframe thead th {\n",
       "        text-align: right;\n",
       "    }\n",
       "</style>\n",
       "<table border=\"1\" class=\"dataframe\">\n",
       "  <thead>\n",
       "    <tr style=\"text-align: right;\">\n",
       "      <th></th>\n",
       "      <th>count</th>\n",
       "      <th>mean</th>\n",
       "      <th>std</th>\n",
       "      <th>min</th>\n",
       "      <th>25%</th>\n",
       "      <th>50%</th>\n",
       "      <th>75%</th>\n",
       "      <th>max</th>\n",
       "    </tr>\n",
       "  </thead>\n",
       "  <tbody>\n",
       "    <tr>\n",
       "      <th>A_id</th>\n",
       "      <td>4000.00</td>\n",
       "      <td>1999.50</td>\n",
       "      <td>1154.84</td>\n",
       "      <td>0.00</td>\n",
       "      <td>999.75</td>\n",
       "      <td>1999.50</td>\n",
       "      <td>2999.25</td>\n",
       "      <td>3999.00</td>\n",
       "    </tr>\n",
       "    <tr>\n",
       "      <th>Size</th>\n",
       "      <td>4000.00</td>\n",
       "      <td>-0.50</td>\n",
       "      <td>1.93</td>\n",
       "      <td>-7.15</td>\n",
       "      <td>-1.82</td>\n",
       "      <td>-0.51</td>\n",
       "      <td>0.81</td>\n",
       "      <td>6.41</td>\n",
       "    </tr>\n",
       "    <tr>\n",
       "      <th>Weight</th>\n",
       "      <td>4000.00</td>\n",
       "      <td>-0.99</td>\n",
       "      <td>1.60</td>\n",
       "      <td>-7.15</td>\n",
       "      <td>-2.01</td>\n",
       "      <td>-0.98</td>\n",
       "      <td>0.03</td>\n",
       "      <td>5.79</td>\n",
       "    </tr>\n",
       "    <tr>\n",
       "      <th>Sweetness</th>\n",
       "      <td>4000.00</td>\n",
       "      <td>-0.47</td>\n",
       "      <td>1.94</td>\n",
       "      <td>-6.89</td>\n",
       "      <td>-1.74</td>\n",
       "      <td>-0.50</td>\n",
       "      <td>0.80</td>\n",
       "      <td>6.37</td>\n",
       "    </tr>\n",
       "    <tr>\n",
       "      <th>Crunchiness</th>\n",
       "      <td>4000.00</td>\n",
       "      <td>0.99</td>\n",
       "      <td>1.40</td>\n",
       "      <td>-6.06</td>\n",
       "      <td>0.06</td>\n",
       "      <td>1.00</td>\n",
       "      <td>1.89</td>\n",
       "      <td>7.62</td>\n",
       "    </tr>\n",
       "    <tr>\n",
       "      <th>Juiciness</th>\n",
       "      <td>4000.00</td>\n",
       "      <td>0.51</td>\n",
       "      <td>1.93</td>\n",
       "      <td>-5.96</td>\n",
       "      <td>-0.80</td>\n",
       "      <td>0.53</td>\n",
       "      <td>1.84</td>\n",
       "      <td>7.36</td>\n",
       "    </tr>\n",
       "    <tr>\n",
       "      <th>Ripeness</th>\n",
       "      <td>4000.00</td>\n",
       "      <td>0.50</td>\n",
       "      <td>1.87</td>\n",
       "      <td>-5.86</td>\n",
       "      <td>-0.77</td>\n",
       "      <td>0.50</td>\n",
       "      <td>1.77</td>\n",
       "      <td>7.24</td>\n",
       "    </tr>\n",
       "    <tr>\n",
       "      <th>Acidity</th>\n",
       "      <td>4000.00</td>\n",
       "      <td>0.08</td>\n",
       "      <td>2.11</td>\n",
       "      <td>-7.01</td>\n",
       "      <td>-1.38</td>\n",
       "      <td>0.02</td>\n",
       "      <td>1.51</td>\n",
       "      <td>7.40</td>\n",
       "    </tr>\n",
       "    <tr>\n",
       "      <th>Quality</th>\n",
       "      <td>4000.00</td>\n",
       "      <td>0.50</td>\n",
       "      <td>0.50</td>\n",
       "      <td>0.00</td>\n",
       "      <td>0.00</td>\n",
       "      <td>1.00</td>\n",
       "      <td>1.00</td>\n",
       "      <td>1.00</td>\n",
       "    </tr>\n",
       "  </tbody>\n",
       "</table>\n",
       "</div>"
      ],
      "text/plain": [
       "              count    mean     std   min    25%     50%     75%     max\n",
       "A_id        4000.00 1999.50 1154.84  0.00 999.75 1999.50 2999.25 3999.00\n",
       "Size        4000.00   -0.50    1.93 -7.15  -1.82   -0.51    0.81    6.41\n",
       "Weight      4000.00   -0.99    1.60 -7.15  -2.01   -0.98    0.03    5.79\n",
       "Sweetness   4000.00   -0.47    1.94 -6.89  -1.74   -0.50    0.80    6.37\n",
       "Crunchiness 4000.00    0.99    1.40 -6.06   0.06    1.00    1.89    7.62\n",
       "Juiciness   4000.00    0.51    1.93 -5.96  -0.80    0.53    1.84    7.36\n",
       "Ripeness    4000.00    0.50    1.87 -5.86  -0.77    0.50    1.77    7.24\n",
       "Acidity     4000.00    0.08    2.11 -7.01  -1.38    0.02    1.51    7.40\n",
       "Quality     4000.00    0.50    0.50  0.00   0.00    1.00    1.00    1.00"
      ]
     },
     "execution_count": 14,
     "metadata": {},
     "output_type": "execute_result"
    }
   ],
   "source": [
    "df.describe().T"
   ]
  },
  {
   "cell_type": "code",
   "execution_count": 15,
   "id": "6964c8e0",
   "metadata": {
    "execution": {
     "iopub.execute_input": "2024-03-05T06:35:21.841139Z",
     "iopub.status.busy": "2024-03-05T06:35:21.840660Z",
     "iopub.status.idle": "2024-03-05T06:35:21.848687Z",
     "shell.execute_reply": "2024-03-05T06:35:21.847597Z"
    },
    "papermill": {
     "duration": 0.037217,
     "end_time": "2024-03-05T06:35:21.851233",
     "exception": false,
     "start_time": "2024-03-05T06:35:21.814016",
     "status": "completed"
    },
    "tags": []
   },
   "outputs": [
    {
     "data": {
      "text/plain": [
       "Index(['A_id', 'Size', 'Weight', 'Sweetness', 'Crunchiness', 'Juiciness', 'Ripeness', 'Acidity', 'Quality'], dtype='object')"
      ]
     },
     "execution_count": 15,
     "metadata": {},
     "output_type": "execute_result"
    }
   ],
   "source": [
    "df.columns"
   ]
  },
  {
   "cell_type": "code",
   "execution_count": 16,
   "id": "efe09757",
   "metadata": {
    "execution": {
     "iopub.execute_input": "2024-03-05T06:35:21.910845Z",
     "iopub.status.busy": "2024-03-05T06:35:21.910458Z",
     "iopub.status.idle": "2024-03-05T06:35:21.916782Z",
     "shell.execute_reply": "2024-03-05T06:35:21.915597Z"
    },
    "papermill": {
     "duration": 0.040245,
     "end_time": "2024-03-05T06:35:21.919203",
     "exception": false,
     "start_time": "2024-03-05T06:35:21.878958",
     "status": "completed"
    },
    "tags": []
   },
   "outputs": [],
   "source": [
    "df.drop(columns=['A_id'], inplace=True)"
   ]
  },
  {
   "cell_type": "code",
   "execution_count": 17,
   "id": "cce05e2a",
   "metadata": {
    "execution": {
     "iopub.execute_input": "2024-03-05T06:35:21.967079Z",
     "iopub.status.busy": "2024-03-05T06:35:21.966223Z",
     "iopub.status.idle": "2024-03-05T06:35:21.999106Z",
     "shell.execute_reply": "2024-03-05T06:35:21.997953Z"
    },
    "papermill": {
     "duration": 0.060075,
     "end_time": "2024-03-05T06:35:22.001813",
     "exception": false,
     "start_time": "2024-03-05T06:35:21.941738",
     "status": "completed"
    },
    "tags": []
   },
   "outputs": [
    {
     "data": {
      "text/html": [
       "<div>\n",
       "<style scoped>\n",
       "    .dataframe tbody tr th:only-of-type {\n",
       "        vertical-align: middle;\n",
       "    }\n",
       "\n",
       "    .dataframe tbody tr th {\n",
       "        vertical-align: top;\n",
       "    }\n",
       "\n",
       "    .dataframe thead th {\n",
       "        text-align: right;\n",
       "    }\n",
       "</style>\n",
       "<table border=\"1\" class=\"dataframe\">\n",
       "  <thead>\n",
       "    <tr style=\"text-align: right;\">\n",
       "      <th></th>\n",
       "      <th>count</th>\n",
       "      <th>mean</th>\n",
       "      <th>std</th>\n",
       "      <th>min</th>\n",
       "      <th>25%</th>\n",
       "      <th>50%</th>\n",
       "      <th>75%</th>\n",
       "      <th>max</th>\n",
       "    </tr>\n",
       "  </thead>\n",
       "  <tbody>\n",
       "    <tr>\n",
       "      <th>Size</th>\n",
       "      <td>4000.00</td>\n",
       "      <td>-0.50</td>\n",
       "      <td>1.93</td>\n",
       "      <td>-7.15</td>\n",
       "      <td>-1.82</td>\n",
       "      <td>-0.51</td>\n",
       "      <td>0.81</td>\n",
       "      <td>6.41</td>\n",
       "    </tr>\n",
       "    <tr>\n",
       "      <th>Weight</th>\n",
       "      <td>4000.00</td>\n",
       "      <td>-0.99</td>\n",
       "      <td>1.60</td>\n",
       "      <td>-7.15</td>\n",
       "      <td>-2.01</td>\n",
       "      <td>-0.98</td>\n",
       "      <td>0.03</td>\n",
       "      <td>5.79</td>\n",
       "    </tr>\n",
       "    <tr>\n",
       "      <th>Sweetness</th>\n",
       "      <td>4000.00</td>\n",
       "      <td>-0.47</td>\n",
       "      <td>1.94</td>\n",
       "      <td>-6.89</td>\n",
       "      <td>-1.74</td>\n",
       "      <td>-0.50</td>\n",
       "      <td>0.80</td>\n",
       "      <td>6.37</td>\n",
       "    </tr>\n",
       "    <tr>\n",
       "      <th>Crunchiness</th>\n",
       "      <td>4000.00</td>\n",
       "      <td>0.99</td>\n",
       "      <td>1.40</td>\n",
       "      <td>-6.06</td>\n",
       "      <td>0.06</td>\n",
       "      <td>1.00</td>\n",
       "      <td>1.89</td>\n",
       "      <td>7.62</td>\n",
       "    </tr>\n",
       "    <tr>\n",
       "      <th>Juiciness</th>\n",
       "      <td>4000.00</td>\n",
       "      <td>0.51</td>\n",
       "      <td>1.93</td>\n",
       "      <td>-5.96</td>\n",
       "      <td>-0.80</td>\n",
       "      <td>0.53</td>\n",
       "      <td>1.84</td>\n",
       "      <td>7.36</td>\n",
       "    </tr>\n",
       "    <tr>\n",
       "      <th>Ripeness</th>\n",
       "      <td>4000.00</td>\n",
       "      <td>0.50</td>\n",
       "      <td>1.87</td>\n",
       "      <td>-5.86</td>\n",
       "      <td>-0.77</td>\n",
       "      <td>0.50</td>\n",
       "      <td>1.77</td>\n",
       "      <td>7.24</td>\n",
       "    </tr>\n",
       "    <tr>\n",
       "      <th>Acidity</th>\n",
       "      <td>4000.00</td>\n",
       "      <td>0.08</td>\n",
       "      <td>2.11</td>\n",
       "      <td>-7.01</td>\n",
       "      <td>-1.38</td>\n",
       "      <td>0.02</td>\n",
       "      <td>1.51</td>\n",
       "      <td>7.40</td>\n",
       "    </tr>\n",
       "    <tr>\n",
       "      <th>Quality</th>\n",
       "      <td>4000.00</td>\n",
       "      <td>0.50</td>\n",
       "      <td>0.50</td>\n",
       "      <td>0.00</td>\n",
       "      <td>0.00</td>\n",
       "      <td>1.00</td>\n",
       "      <td>1.00</td>\n",
       "      <td>1.00</td>\n",
       "    </tr>\n",
       "  </tbody>\n",
       "</table>\n",
       "</div>"
      ],
      "text/plain": [
       "              count  mean  std   min   25%   50%  75%  max\n",
       "Size        4000.00 -0.50 1.93 -7.15 -1.82 -0.51 0.81 6.41\n",
       "Weight      4000.00 -0.99 1.60 -7.15 -2.01 -0.98 0.03 5.79\n",
       "Sweetness   4000.00 -0.47 1.94 -6.89 -1.74 -0.50 0.80 6.37\n",
       "Crunchiness 4000.00  0.99 1.40 -6.06  0.06  1.00 1.89 7.62\n",
       "Juiciness   4000.00  0.51 1.93 -5.96 -0.80  0.53 1.84 7.36\n",
       "Ripeness    4000.00  0.50 1.87 -5.86 -0.77  0.50 1.77 7.24\n",
       "Acidity     4000.00  0.08 2.11 -7.01 -1.38  0.02 1.51 7.40\n",
       "Quality     4000.00  0.50 0.50  0.00  0.00  1.00 1.00 1.00"
      ]
     },
     "execution_count": 17,
     "metadata": {},
     "output_type": "execute_result"
    }
   ],
   "source": [
    "df.describe().T"
   ]
  },
  {
   "cell_type": "code",
   "execution_count": 18,
   "id": "974b2232",
   "metadata": {
    "execution": {
     "iopub.execute_input": "2024-03-05T06:35:22.049070Z",
     "iopub.status.busy": "2024-03-05T06:35:22.048652Z",
     "iopub.status.idle": "2024-03-05T06:35:22.062262Z",
     "shell.execute_reply": "2024-03-05T06:35:22.061176Z"
    },
    "papermill": {
     "duration": 0.04029,
     "end_time": "2024-03-05T06:35:22.064880",
     "exception": false,
     "start_time": "2024-03-05T06:35:22.024590",
     "status": "completed"
    },
    "tags": []
   },
   "outputs": [
    {
     "data": {
      "text/html": [
       "<div>\n",
       "<style scoped>\n",
       "    .dataframe tbody tr th:only-of-type {\n",
       "        vertical-align: middle;\n",
       "    }\n",
       "\n",
       "    .dataframe tbody tr th {\n",
       "        vertical-align: top;\n",
       "    }\n",
       "\n",
       "    .dataframe thead th {\n",
       "        text-align: right;\n",
       "    }\n",
       "</style>\n",
       "<table border=\"1\" class=\"dataframe\">\n",
       "  <thead>\n",
       "    <tr style=\"text-align: right;\">\n",
       "      <th></th>\n",
       "      <th>Size</th>\n",
       "      <th>Weight</th>\n",
       "      <th>Sweetness</th>\n",
       "      <th>Crunchiness</th>\n",
       "      <th>Juiciness</th>\n",
       "      <th>Ripeness</th>\n",
       "      <th>Acidity</th>\n",
       "      <th>Quality</th>\n",
       "    </tr>\n",
       "  </thead>\n",
       "  <tbody>\n",
       "    <tr>\n",
       "      <th>0</th>\n",
       "      <td>-3.97</td>\n",
       "      <td>-2.51</td>\n",
       "      <td>5.35</td>\n",
       "      <td>-1.01</td>\n",
       "      <td>1.84</td>\n",
       "      <td>0.33</td>\n",
       "      <td>-0.49</td>\n",
       "      <td>1</td>\n",
       "    </tr>\n",
       "    <tr>\n",
       "      <th>1</th>\n",
       "      <td>-1.20</td>\n",
       "      <td>-2.84</td>\n",
       "      <td>3.66</td>\n",
       "      <td>1.59</td>\n",
       "      <td>0.85</td>\n",
       "      <td>0.87</td>\n",
       "      <td>-0.72</td>\n",
       "      <td>1</td>\n",
       "    </tr>\n",
       "    <tr>\n",
       "      <th>2</th>\n",
       "      <td>-0.29</td>\n",
       "      <td>-1.35</td>\n",
       "      <td>-1.74</td>\n",
       "      <td>-0.34</td>\n",
       "      <td>2.84</td>\n",
       "      <td>-0.04</td>\n",
       "      <td>2.62</td>\n",
       "      <td>0</td>\n",
       "    </tr>\n",
       "    <tr>\n",
       "      <th>3</th>\n",
       "      <td>-0.66</td>\n",
       "      <td>-2.27</td>\n",
       "      <td>1.32</td>\n",
       "      <td>-0.10</td>\n",
       "      <td>3.64</td>\n",
       "      <td>-3.41</td>\n",
       "      <td>0.79</td>\n",
       "      <td>1</td>\n",
       "    </tr>\n",
       "    <tr>\n",
       "      <th>4</th>\n",
       "      <td>1.36</td>\n",
       "      <td>-1.30</td>\n",
       "      <td>-0.38</td>\n",
       "      <td>-0.55</td>\n",
       "      <td>3.03</td>\n",
       "      <td>-1.30</td>\n",
       "      <td>0.50</td>\n",
       "      <td>1</td>\n",
       "    </tr>\n",
       "  </tbody>\n",
       "</table>\n",
       "</div>"
      ],
      "text/plain": [
       "   Size  Weight  Sweetness  Crunchiness  Juiciness  Ripeness  Acidity  Quality\n",
       "0 -3.97   -2.51       5.35        -1.01       1.84      0.33    -0.49        1\n",
       "1 -1.20   -2.84       3.66         1.59       0.85      0.87    -0.72        1\n",
       "2 -0.29   -1.35      -1.74        -0.34       2.84     -0.04     2.62        0\n",
       "3 -0.66   -2.27       1.32        -0.10       3.64     -3.41     0.79        1\n",
       "4  1.36   -1.30      -0.38        -0.55       3.03     -1.30     0.50        1"
      ]
     },
     "execution_count": 18,
     "metadata": {},
     "output_type": "execute_result"
    }
   ],
   "source": [
    "df.head()"
   ]
  },
  {
   "cell_type": "code",
   "execution_count": 19,
   "id": "c648ccf7",
   "metadata": {
    "execution": {
     "iopub.execute_input": "2024-03-05T06:35:22.120125Z",
     "iopub.status.busy": "2024-03-05T06:35:22.119208Z",
     "iopub.status.idle": "2024-03-05T06:35:22.125939Z",
     "shell.execute_reply": "2024-03-05T06:35:22.124837Z"
    },
    "papermill": {
     "duration": 0.035583,
     "end_time": "2024-03-05T06:35:22.128254",
     "exception": false,
     "start_time": "2024-03-05T06:35:22.092671",
     "status": "completed"
    },
    "tags": []
   },
   "outputs": [],
   "source": [
    "X = df.iloc[:,:-1]\n",
    "y = df.iloc[:,-1]"
   ]
  },
  {
   "cell_type": "code",
   "execution_count": 20,
   "id": "83eb3d8f",
   "metadata": {
    "execution": {
     "iopub.execute_input": "2024-03-05T06:35:22.178767Z",
     "iopub.status.busy": "2024-03-05T06:35:22.177802Z",
     "iopub.status.idle": "2024-03-05T06:35:22.191985Z",
     "shell.execute_reply": "2024-03-05T06:35:22.191171Z"
    },
    "papermill": {
     "duration": 0.042832,
     "end_time": "2024-03-05T06:35:22.194442",
     "exception": false,
     "start_time": "2024-03-05T06:35:22.151610",
     "status": "completed"
    },
    "tags": []
   },
   "outputs": [
    {
     "data": {
      "text/html": [
       "<div>\n",
       "<style scoped>\n",
       "    .dataframe tbody tr th:only-of-type {\n",
       "        vertical-align: middle;\n",
       "    }\n",
       "\n",
       "    .dataframe tbody tr th {\n",
       "        vertical-align: top;\n",
       "    }\n",
       "\n",
       "    .dataframe thead th {\n",
       "        text-align: right;\n",
       "    }\n",
       "</style>\n",
       "<table border=\"1\" class=\"dataframe\">\n",
       "  <thead>\n",
       "    <tr style=\"text-align: right;\">\n",
       "      <th></th>\n",
       "      <th>Size</th>\n",
       "      <th>Weight</th>\n",
       "      <th>Sweetness</th>\n",
       "      <th>Crunchiness</th>\n",
       "      <th>Juiciness</th>\n",
       "      <th>Ripeness</th>\n",
       "      <th>Acidity</th>\n",
       "    </tr>\n",
       "  </thead>\n",
       "  <tbody>\n",
       "    <tr>\n",
       "      <th>0</th>\n",
       "      <td>-3.97</td>\n",
       "      <td>-2.51</td>\n",
       "      <td>5.35</td>\n",
       "      <td>-1.01</td>\n",
       "      <td>1.84</td>\n",
       "      <td>0.33</td>\n",
       "      <td>-0.49</td>\n",
       "    </tr>\n",
       "    <tr>\n",
       "      <th>1</th>\n",
       "      <td>-1.20</td>\n",
       "      <td>-2.84</td>\n",
       "      <td>3.66</td>\n",
       "      <td>1.59</td>\n",
       "      <td>0.85</td>\n",
       "      <td>0.87</td>\n",
       "      <td>-0.72</td>\n",
       "    </tr>\n",
       "    <tr>\n",
       "      <th>2</th>\n",
       "      <td>-0.29</td>\n",
       "      <td>-1.35</td>\n",
       "      <td>-1.74</td>\n",
       "      <td>-0.34</td>\n",
       "      <td>2.84</td>\n",
       "      <td>-0.04</td>\n",
       "      <td>2.62</td>\n",
       "    </tr>\n",
       "    <tr>\n",
       "      <th>3</th>\n",
       "      <td>-0.66</td>\n",
       "      <td>-2.27</td>\n",
       "      <td>1.32</td>\n",
       "      <td>-0.10</td>\n",
       "      <td>3.64</td>\n",
       "      <td>-3.41</td>\n",
       "      <td>0.79</td>\n",
       "    </tr>\n",
       "    <tr>\n",
       "      <th>4</th>\n",
       "      <td>1.36</td>\n",
       "      <td>-1.30</td>\n",
       "      <td>-0.38</td>\n",
       "      <td>-0.55</td>\n",
       "      <td>3.03</td>\n",
       "      <td>-1.30</td>\n",
       "      <td>0.50</td>\n",
       "    </tr>\n",
       "  </tbody>\n",
       "</table>\n",
       "</div>"
      ],
      "text/plain": [
       "   Size  Weight  Sweetness  Crunchiness  Juiciness  Ripeness  Acidity\n",
       "0 -3.97   -2.51       5.35        -1.01       1.84      0.33    -0.49\n",
       "1 -1.20   -2.84       3.66         1.59       0.85      0.87    -0.72\n",
       "2 -0.29   -1.35      -1.74        -0.34       2.84     -0.04     2.62\n",
       "3 -0.66   -2.27       1.32        -0.10       3.64     -3.41     0.79\n",
       "4  1.36   -1.30      -0.38        -0.55       3.03     -1.30     0.50"
      ]
     },
     "execution_count": 20,
     "metadata": {},
     "output_type": "execute_result"
    }
   ],
   "source": [
    "X.head()"
   ]
  },
  {
   "cell_type": "code",
   "execution_count": 21,
   "id": "72be3415",
   "metadata": {
    "execution": {
     "iopub.execute_input": "2024-03-05T06:35:22.308843Z",
     "iopub.status.busy": "2024-03-05T06:35:22.307802Z",
     "iopub.status.idle": "2024-03-05T06:35:22.317310Z",
     "shell.execute_reply": "2024-03-05T06:35:22.316197Z"
    },
    "papermill": {
     "duration": 0.101875,
     "end_time": "2024-03-05T06:35:22.319829",
     "exception": false,
     "start_time": "2024-03-05T06:35:22.217954",
     "status": "completed"
    },
    "tags": []
   },
   "outputs": [
    {
     "data": {
      "text/plain": [
       "0    1\n",
       "1    1\n",
       "2    0\n",
       "3    1\n",
       "4    1\n",
       "Name: Quality, dtype: int64"
      ]
     },
     "execution_count": 21,
     "metadata": {},
     "output_type": "execute_result"
    }
   ],
   "source": [
    "y.head()"
   ]
  },
  {
   "cell_type": "code",
   "execution_count": 22,
   "id": "d998ca16",
   "metadata": {
    "execution": {
     "iopub.execute_input": "2024-03-05T06:35:22.369773Z",
     "iopub.status.busy": "2024-03-05T06:35:22.369385Z",
     "iopub.status.idle": "2024-03-05T06:35:22.378425Z",
     "shell.execute_reply": "2024-03-05T06:35:22.377340Z"
    },
    "papermill": {
     "duration": 0.037459,
     "end_time": "2024-03-05T06:35:22.380985",
     "exception": false,
     "start_time": "2024-03-05T06:35:22.343526",
     "status": "completed"
    },
    "tags": []
   },
   "outputs": [],
   "source": [
    "X_train, X_test, y_train, y_test = train_test_split(X, y, test_size = 0.2, random_state=42)"
   ]
  },
  {
   "cell_type": "code",
   "execution_count": 23,
   "id": "2c0047eb",
   "metadata": {
    "execution": {
     "iopub.execute_input": "2024-03-05T06:35:22.430616Z",
     "iopub.status.busy": "2024-03-05T06:35:22.430228Z",
     "iopub.status.idle": "2024-03-05T06:35:22.444644Z",
     "shell.execute_reply": "2024-03-05T06:35:22.442692Z"
    },
    "papermill": {
     "duration": 0.043682,
     "end_time": "2024-03-05T06:35:22.448474",
     "exception": false,
     "start_time": "2024-03-05T06:35:22.404792",
     "status": "completed"
    },
    "tags": []
   },
   "outputs": [],
   "source": [
    "scaler =StandardScaler()\n",
    "scaler.fit(X_train)\n",
    "X_train = scaler.transform(X_train)\n",
    "X_test = scaler.transform(X_test)"
   ]
  },
  {
   "cell_type": "code",
   "execution_count": 24,
   "id": "ef88f2ea",
   "metadata": {
    "execution": {
     "iopub.execute_input": "2024-03-05T06:35:22.505230Z",
     "iopub.status.busy": "2024-03-05T06:35:22.504805Z",
     "iopub.status.idle": "2024-03-05T06:35:22.514454Z",
     "shell.execute_reply": "2024-03-05T06:35:22.513298Z"
    },
    "papermill": {
     "duration": 0.037776,
     "end_time": "2024-03-05T06:35:22.516655",
     "exception": false,
     "start_time": "2024-03-05T06:35:22.478879",
     "status": "completed"
    },
    "tags": []
   },
   "outputs": [
    {
     "data": {
      "text/plain": [
       "array([[ 1.86627099, -0.44605275, -1.64169322, ...,  0.00318291,\n",
       "         0.62685362, -0.30173496],\n",
       "       [ 1.00573868,  0.47105943,  0.20994923, ...,  0.18290215,\n",
       "        -1.43093904,  0.88558406],\n",
       "       [ 0.88492503,  0.29295747,  1.12998604, ..., -0.56267641,\n",
       "        -0.97163297,  0.43699053],\n",
       "       ...,\n",
       "       [-0.18967329, -2.11788445,  1.57199717, ...,  1.37130664,\n",
       "         0.48395493, -0.52565637],\n",
       "       [-0.23039557,  0.50805619,  0.49064554, ..., -0.29785843,\n",
       "         0.52013526, -1.04409607],\n",
       "       [ 0.51235402, -0.45484399, -0.01413663, ...,  1.36740829,\n",
       "        -0.08474571, -0.93935657]])"
      ]
     },
     "execution_count": 24,
     "metadata": {},
     "output_type": "execute_result"
    }
   ],
   "source": [
    "X_test"
   ]
  },
  {
   "cell_type": "markdown",
   "id": "c36f167c",
   "metadata": {
    "papermill": {
     "duration": 0.023549,
     "end_time": "2024-03-05T06:35:22.564026",
     "exception": false,
     "start_time": "2024-03-05T06:35:22.540477",
     "status": "completed"
    },
    "tags": []
   },
   "source": [
    "### Linear Regression"
   ]
  },
  {
   "cell_type": "code",
   "execution_count": 25,
   "id": "f716f39b",
   "metadata": {
    "execution": {
     "iopub.execute_input": "2024-03-05T06:35:22.613199Z",
     "iopub.status.busy": "2024-03-05T06:35:22.612782Z",
     "iopub.status.idle": "2024-03-05T06:35:22.655544Z",
     "shell.execute_reply": "2024-03-05T06:35:22.653989Z"
    },
    "papermill": {
     "duration": 0.072069,
     "end_time": "2024-03-05T06:35:22.659860",
     "exception": false,
     "start_time": "2024-03-05T06:35:22.587791",
     "status": "completed"
    },
    "tags": []
   },
   "outputs": [
    {
     "data": {
      "text/html": [
       "<style>#sk-container-id-1 {color: black;background-color: white;}#sk-container-id-1 pre{padding: 0;}#sk-container-id-1 div.sk-toggleable {background-color: white;}#sk-container-id-1 label.sk-toggleable__label {cursor: pointer;display: block;width: 100%;margin-bottom: 0;padding: 0.3em;box-sizing: border-box;text-align: center;}#sk-container-id-1 label.sk-toggleable__label-arrow:before {content: \"▸\";float: left;margin-right: 0.25em;color: #696969;}#sk-container-id-1 label.sk-toggleable__label-arrow:hover:before {color: black;}#sk-container-id-1 div.sk-estimator:hover label.sk-toggleable__label-arrow:before {color: black;}#sk-container-id-1 div.sk-toggleable__content {max-height: 0;max-width: 0;overflow: hidden;text-align: left;background-color: #f0f8ff;}#sk-container-id-1 div.sk-toggleable__content pre {margin: 0.2em;color: black;border-radius: 0.25em;background-color: #f0f8ff;}#sk-container-id-1 input.sk-toggleable__control:checked~div.sk-toggleable__content {max-height: 200px;max-width: 100%;overflow: auto;}#sk-container-id-1 input.sk-toggleable__control:checked~label.sk-toggleable__label-arrow:before {content: \"▾\";}#sk-container-id-1 div.sk-estimator input.sk-toggleable__control:checked~label.sk-toggleable__label {background-color: #d4ebff;}#sk-container-id-1 div.sk-label input.sk-toggleable__control:checked~label.sk-toggleable__label {background-color: #d4ebff;}#sk-container-id-1 input.sk-hidden--visually {border: 0;clip: rect(1px 1px 1px 1px);clip: rect(1px, 1px, 1px, 1px);height: 1px;margin: -1px;overflow: hidden;padding: 0;position: absolute;width: 1px;}#sk-container-id-1 div.sk-estimator {font-family: monospace;background-color: #f0f8ff;border: 1px dotted black;border-radius: 0.25em;box-sizing: border-box;margin-bottom: 0.5em;}#sk-container-id-1 div.sk-estimator:hover {background-color: #d4ebff;}#sk-container-id-1 div.sk-parallel-item::after {content: \"\";width: 100%;border-bottom: 1px solid gray;flex-grow: 1;}#sk-container-id-1 div.sk-label:hover label.sk-toggleable__label {background-color: #d4ebff;}#sk-container-id-1 div.sk-serial::before {content: \"\";position: absolute;border-left: 1px solid gray;box-sizing: border-box;top: 0;bottom: 0;left: 50%;z-index: 0;}#sk-container-id-1 div.sk-serial {display: flex;flex-direction: column;align-items: center;background-color: white;padding-right: 0.2em;padding-left: 0.2em;position: relative;}#sk-container-id-1 div.sk-item {position: relative;z-index: 1;}#sk-container-id-1 div.sk-parallel {display: flex;align-items: stretch;justify-content: center;background-color: white;position: relative;}#sk-container-id-1 div.sk-item::before, #sk-container-id-1 div.sk-parallel-item::before {content: \"\";position: absolute;border-left: 1px solid gray;box-sizing: border-box;top: 0;bottom: 0;left: 50%;z-index: -1;}#sk-container-id-1 div.sk-parallel-item {display: flex;flex-direction: column;z-index: 1;position: relative;background-color: white;}#sk-container-id-1 div.sk-parallel-item:first-child::after {align-self: flex-end;width: 50%;}#sk-container-id-1 div.sk-parallel-item:last-child::after {align-self: flex-start;width: 50%;}#sk-container-id-1 div.sk-parallel-item:only-child::after {width: 0;}#sk-container-id-1 div.sk-dashed-wrapped {border: 1px dashed gray;margin: 0 0.4em 0.5em 0.4em;box-sizing: border-box;padding-bottom: 0.4em;background-color: white;}#sk-container-id-1 div.sk-label label {font-family: monospace;font-weight: bold;display: inline-block;line-height: 1.2em;}#sk-container-id-1 div.sk-label-container {text-align: center;}#sk-container-id-1 div.sk-container {/* jupyter's `normalize.less` sets `[hidden] { display: none; }` but bootstrap.min.css set `[hidden] { display: none !important; }` so we also need the `!important` here to be able to override the default hidden behavior on the sphinx rendered scikit-learn.org. See: https://github.com/scikit-learn/scikit-learn/issues/21755 */display: inline-block !important;position: relative;}#sk-container-id-1 div.sk-text-repr-fallback {display: none;}</style><div id=\"sk-container-id-1\" class=\"sk-top-container\"><div class=\"sk-text-repr-fallback\"><pre>LogisticRegression()</pre><b>In a Jupyter environment, please rerun this cell to show the HTML representation or trust the notebook. <br />On GitHub, the HTML representation is unable to render, please try loading this page with nbviewer.org.</b></div><div class=\"sk-container\" hidden><div class=\"sk-item\"><div class=\"sk-estimator sk-toggleable\"><input class=\"sk-toggleable__control sk-hidden--visually\" id=\"sk-estimator-id-1\" type=\"checkbox\" checked><label for=\"sk-estimator-id-1\" class=\"sk-toggleable__label sk-toggleable__label-arrow\">LogisticRegression</label><div class=\"sk-toggleable__content\"><pre>LogisticRegression()</pre></div></div></div></div></div>"
      ],
      "text/plain": [
       "LogisticRegression()"
      ]
     },
     "execution_count": 25,
     "metadata": {},
     "output_type": "execute_result"
    }
   ],
   "source": [
    "lr = LogisticRegression()\n",
    "lr.fit(X_train, y_train)"
   ]
  },
  {
   "cell_type": "code",
   "execution_count": 26,
   "id": "ac18635b",
   "metadata": {
    "execution": {
     "iopub.execute_input": "2024-03-05T06:35:22.766669Z",
     "iopub.status.busy": "2024-03-05T06:35:22.766272Z",
     "iopub.status.idle": "2024-03-05T06:35:22.773638Z",
     "shell.execute_reply": "2024-03-05T06:35:22.772457Z"
    },
    "papermill": {
     "duration": 0.064637,
     "end_time": "2024-03-05T06:35:22.776386",
     "exception": false,
     "start_time": "2024-03-05T06:35:22.711749",
     "status": "completed"
    },
    "tags": []
   },
   "outputs": [
    {
     "data": {
      "text/plain": [
       "array([[ 1.24668307,  0.41787882,  1.13684893,  0.03344432,  0.85475968,\n",
       "        -0.23972876, -0.66666667]])"
      ]
     },
     "execution_count": 26,
     "metadata": {},
     "output_type": "execute_result"
    }
   ],
   "source": [
    "lr.coef_"
   ]
  },
  {
   "cell_type": "code",
   "execution_count": 27,
   "id": "6cb5314a",
   "metadata": {
    "execution": {
     "iopub.execute_input": "2024-03-05T06:35:22.829941Z",
     "iopub.status.busy": "2024-03-05T06:35:22.829176Z",
     "iopub.status.idle": "2024-03-05T06:35:22.836596Z",
     "shell.execute_reply": "2024-03-05T06:35:22.835246Z"
    },
    "papermill": {
     "duration": 0.035801,
     "end_time": "2024-03-05T06:35:22.839202",
     "exception": false,
     "start_time": "2024-03-05T06:35:22.803401",
     "status": "completed"
    },
    "tags": []
   },
   "outputs": [
    {
     "data": {
      "text/plain": [
       "array([-0.03621811])"
      ]
     },
     "execution_count": 27,
     "metadata": {},
     "output_type": "execute_result"
    }
   ],
   "source": [
    "lr.intercept_"
   ]
  },
  {
   "cell_type": "code",
   "execution_count": 28,
   "id": "f0f51bd3",
   "metadata": {
    "execution": {
     "iopub.execute_input": "2024-03-05T06:35:22.890768Z",
     "iopub.status.busy": "2024-03-05T06:35:22.890368Z",
     "iopub.status.idle": "2024-03-05T06:35:22.896139Z",
     "shell.execute_reply": "2024-03-05T06:35:22.894994Z"
    },
    "papermill": {
     "duration": 0.034439,
     "end_time": "2024-03-05T06:35:22.898452",
     "exception": false,
     "start_time": "2024-03-05T06:35:22.864013",
     "status": "completed"
    },
    "tags": []
   },
   "outputs": [],
   "source": [
    "y_pred = lr.predict(X_test)"
   ]
  },
  {
   "cell_type": "code",
   "execution_count": 29,
   "id": "b6062e28",
   "metadata": {
    "execution": {
     "iopub.execute_input": "2024-03-05T06:35:22.949250Z",
     "iopub.status.busy": "2024-03-05T06:35:22.948423Z",
     "iopub.status.idle": "2024-03-05T06:35:22.965975Z",
     "shell.execute_reply": "2024-03-05T06:35:22.964521Z"
    },
    "papermill": {
     "duration": 0.045709,
     "end_time": "2024-03-05T06:35:22.968564",
     "exception": false,
     "start_time": "2024-03-05T06:35:22.922855",
     "status": "completed"
    },
    "tags": []
   },
   "outputs": [
    {
     "name": "stdout",
     "output_type": "stream",
     "text": [
      "Accuracy 0.754\n",
      "Precision 0.754\n",
      "Recall 0.752\n",
      "F1 Score 0.753\n"
     ]
    }
   ],
   "source": [
    "print('Accuracy','%.3f' % accuracy_score(y_test, y_pred))\n",
    "print('Precision','%.3f' % precision_score(y_test, y_pred))\n",
    "print('Recall','%.3f' % recall_score(y_test, y_pred))\n",
    "print('F1 Score','%.3f' % f1_score(y_test, y_pred))"
   ]
  },
  {
   "cell_type": "code",
   "execution_count": 30,
   "id": "7a9282bf",
   "metadata": {
    "execution": {
     "iopub.execute_input": "2024-03-05T06:35:23.019750Z",
     "iopub.status.busy": "2024-03-05T06:35:23.019315Z",
     "iopub.status.idle": "2024-03-05T06:35:23.026086Z",
     "shell.execute_reply": "2024-03-05T06:35:23.025274Z"
    },
    "papermill": {
     "duration": 0.035194,
     "end_time": "2024-03-05T06:35:23.028397",
     "exception": false,
     "start_time": "2024-03-05T06:35:22.993203",
     "status": "completed"
    },
    "tags": []
   },
   "outputs": [],
   "source": [
    "cm = metrics.confusion_matrix(y_test,y_pred, labels = lr.classes_)"
   ]
  },
  {
   "cell_type": "code",
   "execution_count": 31,
   "id": "49cfa921",
   "metadata": {
    "execution": {
     "iopub.execute_input": "2024-03-05T06:35:23.081758Z",
     "iopub.status.busy": "2024-03-05T06:35:23.081312Z",
     "iopub.status.idle": "2024-03-05T06:35:23.560331Z",
     "shell.execute_reply": "2024-03-05T06:35:23.559003Z"
    },
    "papermill": {
     "duration": 0.509298,
     "end_time": "2024-03-05T06:35:23.563381",
     "exception": false,
     "start_time": "2024-03-05T06:35:23.054083",
     "status": "completed"
    },
    "tags": []
   },
   "outputs": [
    {
     "data": {
      "image/png": "[encoded data removed]",
      "text/plain": [
       "<Figure size 640x480 with 2 Axes>"
      ]
     },
     "metadata": {},
     "output_type": "display_data"
    }
   ],
   "source": [
    "display = metrics.ConfusionMatrixDisplay(confusion_matrix = cm,display_labels = lr.classes_)\n",
    "display.plot();"
   ]
  },
  {
   "cell_type": "code",
   "execution_count": 32,
   "id": "8d2020d6",
   "metadata": {
    "execution": {
     "iopub.execute_input": "2024-03-05T06:35:23.615707Z",
     "iopub.status.busy": "2024-03-05T06:35:23.615332Z",
     "iopub.status.idle": "2024-03-05T06:35:23.621722Z",
     "shell.execute_reply": "2024-03-05T06:35:23.620498Z"
    },
    "papermill": {
     "duration": 0.03616,
     "end_time": "2024-03-05T06:35:23.624565",
     "exception": false,
     "start_time": "2024-03-05T06:35:23.588405",
     "status": "completed"
    },
    "tags": []
   },
   "outputs": [
    {
     "name": "stdout",
     "output_type": "stream",
     "text": [
      "Sınıf 0 için Accuracy: 0.756\n",
      "Sınıf 1 için Accuracy: 0.752\n"
     ]
    }
   ],
   "source": [
    "for i in range(len(cm)):\n",
    "    class_accuracy = cm[i, i] / cm[i, :].sum()\n",
    "    print(f'Sınıf {i} için Accuracy: {class_accuracy:.3f}')"
   ]
  },
  {
   "cell_type": "markdown",
   "id": "baab9da2",
   "metadata": {
    "papermill": {
     "duration": 0.025166,
     "end_time": "2024-03-05T06:35:23.676015",
     "exception": false,
     "start_time": "2024-03-05T06:35:23.650849",
     "status": "completed"
    },
    "tags": []
   },
   "source": [
    "### Naive Bayes "
   ]
  },
  {
   "cell_type": "code",
   "execution_count": 33,
   "id": "0a6aae96",
   "metadata": {
    "execution": {
     "iopub.execute_input": "2024-03-05T06:35:23.727945Z",
     "iopub.status.busy": "2024-03-05T06:35:23.727544Z",
     "iopub.status.idle": "2024-03-05T06:35:23.737165Z",
     "shell.execute_reply": "2024-03-05T06:35:23.736116Z"
    },
    "papermill": {
     "duration": 0.038255,
     "end_time": "2024-03-05T06:35:23.739489",
     "exception": false,
     "start_time": "2024-03-05T06:35:23.701234",
     "status": "completed"
    },
    "tags": []
   },
   "outputs": [
    {
     "data": {
      "text/html": [
       "<style>#sk-container-id-2 {color: black;background-color: white;}#sk-container-id-2 pre{padding: 0;}#sk-container-id-2 div.sk-toggleable {background-color: white;}#sk-container-id-2 label.sk-toggleable__label {cursor: pointer;display: block;width: 100%;margin-bottom: 0;padding: 0.3em;box-sizing: border-box;text-align: center;}#sk-container-id-2 label.sk-toggleable__label-arrow:before {content: \"▸\";float: left;margin-right: 0.25em;color: #696969;}#sk-container-id-2 label.sk-toggleable__label-arrow:hover:before {color: black;}#sk-container-id-2 div.sk-estimator:hover label.sk-toggleable__label-arrow:before {color: black;}#sk-container-id-2 div.sk-toggleable__content {max-height: 0;max-width: 0;overflow: hidden;text-align: left;background-color: #f0f8ff;}#sk-container-id-2 div.sk-toggleable__content pre {margin: 0.2em;color: black;border-radius: 0.25em;background-color: #f0f8ff;}#sk-container-id-2 input.sk-toggleable__control:checked~div.sk-toggleable__content {max-height: 200px;max-width: 100%;overflow: auto;}#sk-container-id-2 input.sk-toggleable__control:checked~label.sk-toggleable__label-arrow:before {content: \"▾\";}#sk-container-id-2 div.sk-estimator input.sk-toggleable__control:checked~label.sk-toggleable__label {background-color: #d4ebff;}#sk-container-id-2 div.sk-label input.sk-toggleable__control:checked~label.sk-toggleable__label {background-color: #d4ebff;}#sk-container-id-2 input.sk-hidden--visually {border: 0;clip: rect(1px 1px 1px 1px);clip: rect(1px, 1px, 1px, 1px);height: 1px;margin: -1px;overflow: hidden;padding: 0;position: absolute;width: 1px;}#sk-container-id-2 div.sk-estimator {font-family: monospace;background-color: #f0f8ff;border: 1px dotted black;border-radius: 0.25em;box-sizing: border-box;margin-bottom: 0.5em;}#sk-container-id-2 div.sk-estimator:hover {background-color: #d4ebff;}#sk-container-id-2 div.sk-parallel-item::after {content: \"\";width: 100%;border-bottom: 1px solid gray;flex-grow: 1;}#sk-container-id-2 div.sk-label:hover label.sk-toggleable__label {background-color: #d4ebff;}#sk-container-id-2 div.sk-serial::before {content: \"\";position: absolute;border-left: 1px solid gray;box-sizing: border-box;top: 0;bottom: 0;left: 50%;z-index: 0;}#sk-container-id-2 div.sk-serial {display: flex;flex-direction: column;align-items: center;background-color: white;padding-right: 0.2em;padding-left: 0.2em;position: relative;}#sk-container-id-2 div.sk-item {position: relative;z-index: 1;}#sk-container-id-2 div.sk-parallel {display: flex;align-items: stretch;justify-content: center;background-color: white;position: relative;}#sk-container-id-2 div.sk-item::before, #sk-container-id-2 div.sk-parallel-item::before {content: \"\";position: absolute;border-left: 1px solid gray;box-sizing: border-box;top: 0;bottom: 0;left: 50%;z-index: -1;}#sk-container-id-2 div.sk-parallel-item {display: flex;flex-direction: column;z-index: 1;position: relative;background-color: white;}#sk-container-id-2 div.sk-parallel-item:first-child::after {align-self: flex-end;width: 50%;}#sk-container-id-2 div.sk-parallel-item:last-child::after {align-self: flex-start;width: 50%;}#sk-container-id-2 div.sk-parallel-item:only-child::after {width: 0;}#sk-container-id-2 div.sk-dashed-wrapped {border: 1px dashed gray;margin: 0 0.4em 0.5em 0.4em;box-sizing: border-box;padding-bottom: 0.4em;background-color: white;}#sk-container-id-2 div.sk-label label {font-family: monospace;font-weight: bold;display: inline-block;line-height: 1.2em;}#sk-container-id-2 div.sk-label-container {text-align: center;}#sk-container-id-2 div.sk-container {/* jupyter's `normalize.less` sets `[hidden] { display: none; }` but bootstrap.min.css set `[hidden] { display: none !important; }` so we also need the `!important` here to be able to override the default hidden behavior on the sphinx rendered scikit-learn.org. See: https://github.com/scikit-learn/scikit-learn/issues/21755 */display: inline-block !important;position: relative;}#sk-container-id-2 div.sk-text-repr-fallback {display: none;}</style><div id=\"sk-container-id-2\" class=\"sk-top-container\"><div class=\"sk-text-repr-fallback\"><pre>GaussianNB()</pre><b>In a Jupyter environment, please rerun this cell to show the HTML representation or trust the notebook. <br />On GitHub, the HTML representation is unable to render, please try loading this page with nbviewer.org.</b></div><div class=\"sk-container\" hidden><div class=\"sk-item\"><div class=\"sk-estimator sk-toggleable\"><input class=\"sk-toggleable__control sk-hidden--visually\" id=\"sk-estimator-id-2\" type=\"checkbox\" checked><label for=\"sk-estimator-id-2\" class=\"sk-toggleable__label sk-toggleable__label-arrow\">GaussianNB</label><div class=\"sk-toggleable__content\"><pre>GaussianNB()</pre></div></div></div></div></div>"
      ],
      "text/plain": [
       "GaussianNB()"
      ]
     },
     "execution_count": 33,
     "metadata": {},
     "output_type": "execute_result"
    }
   ],
   "source": [
    "gnb = GaussianNB()\n",
    "gnb.fit(X_train, y_train)"
   ]
  },
  {
   "cell_type": "code",
   "execution_count": 34,
   "id": "37110d4f",
   "metadata": {
    "execution": {
     "iopub.execute_input": "2024-03-05T06:35:23.792615Z",
     "iopub.status.busy": "2024-03-05T06:35:23.791086Z",
     "iopub.status.idle": "2024-03-05T06:35:23.810865Z",
     "shell.execute_reply": "2024-03-05T06:35:23.809625Z"
    },
    "papermill": {
     "duration": 0.048907,
     "end_time": "2024-03-05T06:35:23.813494",
     "exception": false,
     "start_time": "2024-03-05T06:35:23.764587",
     "status": "completed"
    },
    "tags": []
   },
   "outputs": [
    {
     "name": "stdout",
     "output_type": "stream",
     "text": [
      "Accuracy 0.762\n",
      "Precision 0.770\n",
      "Recall 0.747\n",
      "F1 Score 0.758\n"
     ]
    }
   ],
   "source": [
    "y_preds = gnb.predict(X_test)\n",
    "\n",
    "print('Accuracy','%.3f' % accuracy_score(y_test, y_preds))\n",
    "print('Precision','%.3f' % precision_score(y_test, y_preds))\n",
    "print('Recall','%.3f' % recall_score(y_test, y_preds))\n",
    "print('F1 Score','%.3f' % f1_score(y_test, y_preds))"
   ]
  },
  {
   "cell_type": "code",
   "execution_count": 35,
   "id": "3ea3f48c",
   "metadata": {
    "execution": {
     "iopub.execute_input": "2024-03-05T06:35:23.865548Z",
     "iopub.status.busy": "2024-03-05T06:35:23.865172Z",
     "iopub.status.idle": "2024-03-05T06:35:24.201441Z",
     "shell.execute_reply": "2024-03-05T06:35:24.200133Z"
    },
    "papermill": {
     "duration": 0.365231,
     "end_time": "2024-03-05T06:35:24.203975",
     "exception": false,
     "start_time": "2024-03-05T06:35:23.838744",
     "status": "completed"
    },
    "tags": []
   },
   "outputs": [
    {
     "data": {
      "image/png": "[encoded data removed]",
      "text/plain": [
       "<Figure size 640x480 with 2 Axes>"
      ]
     },
     "metadata": {},
     "output_type": "display_data"
    }
   ],
   "source": [
    "cm2 = metrics.confusion_matrix(y_test,y_preds, labels = gnb.classes_)\n",
    "\n",
    "display2 = metrics.ConfusionMatrixDisplay(confusion_matrix = cm2,display_labels = gnb.classes_)\n",
    "display2.plot();"
   ]
  },
  {
   "cell_type": "code",
   "execution_count": 36,
   "id": "13efe43b",
   "metadata": {
    "execution": {
     "iopub.execute_input": "2024-03-05T06:35:24.258216Z",
     "iopub.status.busy": "2024-03-05T06:35:24.257798Z",
     "iopub.status.idle": "2024-03-05T06:35:24.263869Z",
     "shell.execute_reply": "2024-03-05T06:35:24.262713Z"
    },
    "papermill": {
     "duration": 0.036347,
     "end_time": "2024-03-05T06:35:24.266967",
     "exception": false,
     "start_time": "2024-03-05T06:35:24.230620",
     "status": "completed"
    },
    "tags": []
   },
   "outputs": [
    {
     "name": "stdout",
     "output_type": "stream",
     "text": [
      "Sınıf 0 için Accuracy: 0.778\n",
      "Sınıf 1 için Accuracy: 0.747\n"
     ]
    }
   ],
   "source": [
    "for i in range(len(cm2)):\n",
    "    class_accuracy = cm2[i, i] / cm2[i, :].sum()\n",
    "    print(f'Sınıf {i} için Accuracy: {class_accuracy:.3f}')"
   ]
  },
  {
   "cell_type": "markdown",
   "id": "0222f2df",
   "metadata": {
    "papermill": {
     "duration": 0.02593,
     "end_time": "2024-03-05T06:35:24.318753",
     "exception": false,
     "start_time": "2024-03-05T06:35:24.292823",
     "status": "completed"
    },
    "tags": []
   },
   "source": [
    "### K-Nearest Neighbors (KNN)"
   ]
  },
  {
   "cell_type": "code",
   "execution_count": 37,
   "id": "409f6e90",
   "metadata": {
    "execution": {
     "iopub.execute_input": "2024-03-05T06:35:24.372306Z",
     "iopub.status.busy": "2024-03-05T06:35:24.371937Z",
     "iopub.status.idle": "2024-03-05T06:35:24.383232Z",
     "shell.execute_reply": "2024-03-05T06:35:24.382356Z"
    },
    "papermill": {
     "duration": 0.040852,
     "end_time": "2024-03-05T06:35:24.385504",
     "exception": false,
     "start_time": "2024-03-05T06:35:24.344652",
     "status": "completed"
    },
    "tags": []
   },
   "outputs": [
    {
     "data": {
      "text/html": [
       "<style>#sk-container-id-3 {color: black;background-color: white;}#sk-container-id-3 pre{padding: 0;}#sk-container-id-3 div.sk-toggleable {background-color: white;}#sk-container-id-3 label.sk-toggleable__label {cursor: pointer;display: block;width: 100%;margin-bottom: 0;padding: 0.3em;box-sizing: border-box;text-align: center;}#sk-container-id-3 label.sk-toggleable__label-arrow:before {content: \"▸\";float: left;margin-right: 0.25em;color: #696969;}#sk-container-id-3 label.sk-toggleable__label-arrow:hover:before {color: black;}#sk-container-id-3 div.sk-estimator:hover label.sk-toggleable__label-arrow:before {color: black;}#sk-container-id-3 div.sk-toggleable__content {max-height: 0;max-width: 0;overflow: hidden;text-align: left;background-color: #f0f8ff;}#sk-container-id-3 div.sk-toggleable__content pre {margin: 0.2em;color: black;border-radius: 0.25em;background-color: #f0f8ff;}#sk-container-id-3 input.sk-toggleable__control:checked~div.sk-toggleable__content {max-height: 200px;max-width: 100%;overflow: auto;}#sk-container-id-3 input.sk-toggleable__control:checked~label.sk-toggleable__label-arrow:before {content: \"▾\";}#sk-container-id-3 div.sk-estimator input.sk-toggleable__control:checked~label.sk-toggleable__label {background-color: #d4ebff;}#sk-container-id-3 div.sk-label input.sk-toggleable__control:checked~label.sk-toggleable__label {background-color: #d4ebff;}#sk-container-id-3 input.sk-hidden--visually {border: 0;clip: rect(1px 1px 1px 1px);clip: rect(1px, 1px, 1px, 1px);height: 1px;margin: -1px;overflow: hidden;padding: 0;position: absolute;width: 1px;}#sk-container-id-3 div.sk-estimator {font-family: monospace;background-color: #f0f8ff;border: 1px dotted black;border-radius: 0.25em;box-sizing: border-box;margin-bottom: 0.5em;}#sk-container-id-3 div.sk-estimator:hover {background-color: #d4ebff;}#sk-container-id-3 div.sk-parallel-item::after {content: \"\";width: 100%;border-bottom: 1px solid gray;flex-grow: 1;}#sk-container-id-3 div.sk-label:hover label.sk-toggleable__label {background-color: #d4ebff;}#sk-container-id-3 div.sk-serial::before {content: \"\";position: absolute;border-left: 1px solid gray;box-sizing: border-box;top: 0;bottom: 0;left: 50%;z-index: 0;}#sk-container-id-3 div.sk-serial {display: flex;flex-direction: column;align-items: center;background-color: white;padding-right: 0.2em;padding-left: 0.2em;position: relative;}#sk-container-id-3 div.sk-item {position: relative;z-index: 1;}#sk-container-id-3 div.sk-parallel {display: flex;align-items: stretch;justify-content: center;background-color: white;position: relative;}#sk-container-id-3 div.sk-item::before, #sk-container-id-3 div.sk-parallel-item::before {content: \"\";position: absolute;border-left: 1px solid gray;box-sizing: border-box;top: 0;bottom: 0;left: 50%;z-index: -1;}#sk-container-id-3 div.sk-parallel-item {display: flex;flex-direction: column;z-index: 1;position: relative;background-color: white;}#sk-container-id-3 div.sk-parallel-item:first-child::after {align-self: flex-end;width: 50%;}#sk-container-id-3 div.sk-parallel-item:last-child::after {align-self: flex-start;width: 50%;}#sk-container-id-3 div.sk-parallel-item:only-child::after {width: 0;}#sk-container-id-3 div.sk-dashed-wrapped {border: 1px dashed gray;margin: 0 0.4em 0.5em 0.4em;box-sizing: border-box;padding-bottom: 0.4em;background-color: white;}#sk-container-id-3 div.sk-label label {font-family: monospace;font-weight: bold;display: inline-block;line-height: 1.2em;}#sk-container-id-3 div.sk-label-container {text-align: center;}#sk-container-id-3 div.sk-container {/* jupyter's `normalize.less` sets `[hidden] { display: none; }` but bootstrap.min.css set `[hidden] { display: none !important; }` so we also need the `!important` here to be able to override the default hidden behavior on the sphinx rendered scikit-learn.org. See: https://github.com/scikit-learn/scikit-learn/issues/21755 */display: inline-block !important;position: relative;}#sk-container-id-3 div.sk-text-repr-fallback {display: none;}</style><div id=\"sk-container-id-3\" class=\"sk-top-container\"><div class=\"sk-text-repr-fallback\"><pre>KNeighborsClassifier()</pre><b>In a Jupyter environment, please rerun this cell to show the HTML representation or trust the notebook. <br />On GitHub, the HTML representation is unable to render, please try loading this page with nbviewer.org.</b></div><div class=\"sk-container\" hidden><div class=\"sk-item\"><div class=\"sk-estimator sk-toggleable\"><input class=\"sk-toggleable__control sk-hidden--visually\" id=\"sk-estimator-id-3\" type=\"checkbox\" checked><label for=\"sk-estimator-id-3\" class=\"sk-toggleable__label sk-toggleable__label-arrow\">KNeighborsClassifier</label><div class=\"sk-toggleable__content\"><pre>KNeighborsClassifier()</pre></div></div></div></div></div>"
      ],
      "text/plain": [
       "KNeighborsClassifier()"
      ]
     },
     "execution_count": 37,
     "metadata": {},
     "output_type": "execute_result"
    }
   ],
   "source": [
    "knn = KNeighborsClassifier()\n",
    "knn.fit(X_train, y_train)"
   ]
  },
  {
   "cell_type": "code",
   "execution_count": 38,
   "id": "a4d3a9df",
   "metadata": {
    "execution": {
     "iopub.execute_input": "2024-03-05T06:35:24.439956Z",
     "iopub.status.busy": "2024-03-05T06:35:24.439557Z",
     "iopub.status.idle": "2024-03-05T06:35:24.525718Z",
     "shell.execute_reply": "2024-03-05T06:35:24.524965Z"
    },
    "papermill": {
     "duration": 0.116957,
     "end_time": "2024-03-05T06:35:24.528391",
     "exception": false,
     "start_time": "2024-03-05T06:35:24.411434",
     "status": "completed"
    },
    "tags": []
   },
   "outputs": [
    {
     "name": "stdout",
     "output_type": "stream",
     "text": [
      "Accuracy 0.902\n",
      "Precision 0.898\n",
      "Recall 0.907\n",
      "F1 Score 0.903\n"
     ]
    }
   ],
   "source": [
    "y_pred_knn = knn.predict(X_test)\n",
    "\n",
    "print('Accuracy','%.3f' % accuracy_score(y_test, y_pred_knn))\n",
    "print('Precision','%.3f' % precision_score(y_test, y_pred_knn))\n",
    "print('Recall','%.3f' % recall_score(y_test, y_pred_knn))\n",
    "print('F1 Score','%.3f' % f1_score(y_test, y_pred_knn))"
   ]
  },
  {
   "cell_type": "code",
   "execution_count": 39,
   "id": "1382bf85",
   "metadata": {
    "execution": {
     "iopub.execute_input": "2024-03-05T06:35:24.583293Z",
     "iopub.status.busy": "2024-03-05T06:35:24.582852Z",
     "iopub.status.idle": "2024-03-05T06:35:27.778990Z",
     "shell.execute_reply": "2024-03-05T06:35:27.777894Z"
    },
    "papermill": {
     "duration": 3.226719,
     "end_time": "2024-03-05T06:35:27.781585",
     "exception": false,
     "start_time": "2024-03-05T06:35:24.554866",
     "status": "completed"
    },
    "tags": []
   },
   "outputs": [],
   "source": [
    "f1s = []\n",
    "for i in range(1, 40):\n",
    "    knnx = KNeighborsClassifier(n_neighbors=i)\n",
    "    knnx.fit(X_train, y_train)\n",
    "    pred_i = knnx.predict(X_test)\n",
    "    f1s.append(f1_score(y_test, pred_i, average='weighted'))"
   ]
  },
  {
   "cell_type": "code",
   "execution_count": 40,
   "id": "ac247da8",
   "metadata": {
    "execution": {
     "iopub.execute_input": "2024-03-05T06:35:27.836599Z",
     "iopub.status.busy": "2024-03-05T06:35:27.836229Z",
     "iopub.status.idle": "2024-03-05T06:35:28.314186Z",
     "shell.execute_reply": "2024-03-05T06:35:28.312982Z"
    },
    "papermill": {
     "duration": 0.508369,
     "end_time": "2024-03-05T06:35:28.317406",
     "exception": false,
     "start_time": "2024-03-05T06:35:27.809037",
     "status": "completed"
    },
    "tags": []
   },
   "outputs": [
    {
     "data": {
      "image/png": "[encoded data removed]",
      "text/plain": [
       "<Figure size 1200x600 with 1 Axes>"
      ]
     },
     "metadata": {},
     "output_type": "display_data"
    }
   ],
   "source": [
    "plt.figure(figsize=(12, 6))\n",
    "plt.plot(range(1, 40), f1s,\n",
    "         color='green',\n",
    "         linestyle='dotted',\n",
    "         marker='o',\n",
    "         markerfacecolor='blue',\n",
    "         markersize=10)\n",
    "\n",
    "plt.title('F1 Score K Value')\n",
    "plt.xlabel('K Value')\n",
    "plt.ylabel('F1 Score')\n",
    "\n",
    "for i, f1 in enumerate(f1s, start=1):\n",
    "    plt.text(i, f1 + 0.0016, str(i), ha='center', va='center', fontsize=10)"
   ]
  },
  {
   "cell_type": "code",
   "execution_count": 41,
   "id": "78499851",
   "metadata": {
    "execution": {
     "iopub.execute_input": "2024-03-05T06:35:28.374223Z",
     "iopub.status.busy": "2024-03-05T06:35:28.373312Z",
     "iopub.status.idle": "2024-03-05T06:35:28.385847Z",
     "shell.execute_reply": "2024-03-05T06:35:28.384764Z"
    },
    "papermill": {
     "duration": 0.043631,
     "end_time": "2024-03-05T06:35:28.388299",
     "exception": false,
     "start_time": "2024-03-05T06:35:28.344668",
     "status": "completed"
    },
    "tags": []
   },
   "outputs": [
    {
     "data": {
      "text/html": [
       "<style>#sk-container-id-4 {color: black;background-color: white;}#sk-container-id-4 pre{padding: 0;}#sk-container-id-4 div.sk-toggleable {background-color: white;}#sk-container-id-4 label.sk-toggleable__label {cursor: pointer;display: block;width: 100%;margin-bottom: 0;padding: 0.3em;box-sizing: border-box;text-align: center;}#sk-container-id-4 label.sk-toggleable__label-arrow:before {content: \"▸\";float: left;margin-right: 0.25em;color: #696969;}#sk-container-id-4 label.sk-toggleable__label-arrow:hover:before {color: black;}#sk-container-id-4 div.sk-estimator:hover label.sk-toggleable__label-arrow:before {color: black;}#sk-container-id-4 div.sk-toggleable__content {max-height: 0;max-width: 0;overflow: hidden;text-align: left;background-color: #f0f8ff;}#sk-container-id-4 div.sk-toggleable__content pre {margin: 0.2em;color: black;border-radius: 0.25em;background-color: #f0f8ff;}#sk-container-id-4 input.sk-toggleable__control:checked~div.sk-toggleable__content {max-height: 200px;max-width: 100%;overflow: auto;}#sk-container-id-4 input.sk-toggleable__control:checked~label.sk-toggleable__label-arrow:before {content: \"▾\";}#sk-container-id-4 div.sk-estimator input.sk-toggleable__control:checked~label.sk-toggleable__label {background-color: #d4ebff;}#sk-container-id-4 div.sk-label input.sk-toggleable__control:checked~label.sk-toggleable__label {background-color: #d4ebff;}#sk-container-id-4 input.sk-hidden--visually {border: 0;clip: rect(1px 1px 1px 1px);clip: rect(1px, 1px, 1px, 1px);height: 1px;margin: -1px;overflow: hidden;padding: 0;position: absolute;width: 1px;}#sk-container-id-4 div.sk-estimator {font-family: monospace;background-color: #f0f8ff;border: 1px dotted black;border-radius: 0.25em;box-sizing: border-box;margin-bottom: 0.5em;}#sk-container-id-4 div.sk-estimator:hover {background-color: #d4ebff;}#sk-container-id-4 div.sk-parallel-item::after {content: \"\";width: 100%;border-bottom: 1px solid gray;flex-grow: 1;}#sk-container-id-4 div.sk-label:hover label.sk-toggleable__label {background-color: #d4ebff;}#sk-container-id-4 div.sk-serial::before {content: \"\";position: absolute;border-left: 1px solid gray;box-sizing: border-box;top: 0;bottom: 0;left: 50%;z-index: 0;}#sk-container-id-4 div.sk-serial {display: flex;flex-direction: column;align-items: center;background-color: white;padding-right: 0.2em;padding-left: 0.2em;position: relative;}#sk-container-id-4 div.sk-item {position: relative;z-index: 1;}#sk-container-id-4 div.sk-parallel {display: flex;align-items: stretch;justify-content: center;background-color: white;position: relative;}#sk-container-id-4 div.sk-item::before, #sk-container-id-4 div.sk-parallel-item::before {content: \"\";position: absolute;border-left: 1px solid gray;box-sizing: border-box;top: 0;bottom: 0;left: 50%;z-index: -1;}#sk-container-id-4 div.sk-parallel-item {display: flex;flex-direction: column;z-index: 1;position: relative;background-color: white;}#sk-container-id-4 div.sk-parallel-item:first-child::after {align-self: flex-end;width: 50%;}#sk-container-id-4 div.sk-parallel-item:last-child::after {align-self: flex-start;width: 50%;}#sk-container-id-4 div.sk-parallel-item:only-child::after {width: 0;}#sk-container-id-4 div.sk-dashed-wrapped {border: 1px dashed gray;margin: 0 0.4em 0.5em 0.4em;box-sizing: border-box;padding-bottom: 0.4em;background-color: white;}#sk-container-id-4 div.sk-label label {font-family: monospace;font-weight: bold;display: inline-block;line-height: 1.2em;}#sk-container-id-4 div.sk-label-container {text-align: center;}#sk-container-id-4 div.sk-container {/* jupyter's `normalize.less` sets `[hidden] { display: none; }` but bootstrap.min.css set `[hidden] { display: none !important; }` so we also need the `!important` here to be able to override the default hidden behavior on the sphinx rendered scikit-learn.org. See: https://github.com/scikit-learn/scikit-learn/issues/21755 */display: inline-block !important;position: relative;}#sk-container-id-4 div.sk-text-repr-fallback {display: none;}</style><div id=\"sk-container-id-4\" class=\"sk-top-container\"><div class=\"sk-text-repr-fallback\"><pre>KNeighborsClassifier(n_neighbors=29)</pre><b>In a Jupyter environment, please rerun this cell to show the HTML representation or trust the notebook. <br />On GitHub, the HTML representation is unable to render, please try loading this page with nbviewer.org.</b></div><div class=\"sk-container\" hidden><div class=\"sk-item\"><div class=\"sk-estimator sk-toggleable\"><input class=\"sk-toggleable__control sk-hidden--visually\" id=\"sk-estimator-id-4\" type=\"checkbox\" checked><label for=\"sk-estimator-id-4\" class=\"sk-toggleable__label sk-toggleable__label-arrow\">KNeighborsClassifier</label><div class=\"sk-toggleable__content\"><pre>KNeighborsClassifier(n_neighbors=29)</pre></div></div></div></div></div>"
      ],
      "text/plain": [
       "KNeighborsClassifier(n_neighbors=29)"
      ]
     },
     "execution_count": 41,
     "metadata": {},
     "output_type": "execute_result"
    }
   ],
   "source": [
    "knn_best = KNeighborsClassifier(n_neighbors=29)\n",
    "knn_best.fit(X_train, y_train)"
   ]
  },
  {
   "cell_type": "code",
   "execution_count": 42,
   "id": "cfad048a",
   "metadata": {
    "execution": {
     "iopub.execute_input": "2024-03-05T06:35:28.446478Z",
     "iopub.status.busy": "2024-03-05T06:35:28.445232Z",
     "iopub.status.idle": "2024-03-05T06:35:28.542973Z",
     "shell.execute_reply": "2024-03-05T06:35:28.541839Z"
    },
    "papermill": {
     "duration": 0.129183,
     "end_time": "2024-03-05T06:35:28.545462",
     "exception": false,
     "start_time": "2024-03-05T06:35:28.416279",
     "status": "completed"
    },
    "tags": []
   },
   "outputs": [
    {
     "name": "stdout",
     "output_type": "stream",
     "text": [
      "Accuracy 0.906\n",
      "Precision 0.913\n",
      "Recall 0.897\n",
      "F1 Score 0.905\n"
     ]
    }
   ],
   "source": [
    "y_pred_knn_best=knn_best.predict(X_test)\n",
    "\n",
    "print('Accuracy','%.3f' % accuracy_score(y_test, y_pred_knn_best))\n",
    "print('Precision','%.3f' % precision_score(y_test, y_pred_knn_best))\n",
    "print('Recall','%.3f' % recall_score(y_test, y_pred_knn_best))\n",
    "print('F1 Score','%.3f' % f1_score(y_test, y_pred_knn_best))"
   ]
  },
  {
   "cell_type": "code",
   "execution_count": 43,
   "id": "2381ea8d",
   "metadata": {
    "execution": {
     "iopub.execute_input": "2024-03-05T06:35:28.601954Z",
     "iopub.status.busy": "2024-03-05T06:35:28.601528Z",
     "iopub.status.idle": "2024-03-05T06:35:28.922131Z",
     "shell.execute_reply": "2024-03-05T06:35:28.920784Z"
    },
    "papermill": {
     "duration": 0.351946,
     "end_time": "2024-03-05T06:35:28.924848",
     "exception": false,
     "start_time": "2024-03-05T06:35:28.572902",
     "status": "completed"
    },
    "tags": []
   },
   "outputs": [
    {
     "data": {
      "image/png": "[encoded data removed]",
      "text/plain": [
       "<Figure size 640x480 with 2 Axes>"
      ]
     },
     "metadata": {},
     "output_type": "display_data"
    }
   ],
   "source": [
    "cm3 = metrics.confusion_matrix(y_test,y_pred_knn_best, labels = knn_best.classes_)\n",
    "\n",
    "display3 = metrics.ConfusionMatrixDisplay(confusion_matrix = cm3,display_labels = knn_best.classes_)\n",
    "display3.plot();"
   ]
  },
  {
   "cell_type": "code",
   "execution_count": 44,
   "id": "06869485",
   "metadata": {
    "execution": {
     "iopub.execute_input": "2024-03-05T06:35:28.984695Z",
     "iopub.status.busy": "2024-03-05T06:35:28.984312Z",
     "iopub.status.idle": "2024-03-05T06:35:28.990601Z",
     "shell.execute_reply": "2024-03-05T06:35:28.989486Z"
    },
    "papermill": {
     "duration": 0.039475,
     "end_time": "2024-03-05T06:35:28.993795",
     "exception": false,
     "start_time": "2024-03-05T06:35:28.954320",
     "status": "completed"
    },
    "tags": []
   },
   "outputs": [
    {
     "name": "stdout",
     "output_type": "stream",
     "text": [
      "Sınıf 0 için Accuracy: 0.915\n",
      "Sınıf 1 için Accuracy: 0.897\n"
     ]
    }
   ],
   "source": [
    "for i in range(len(cm3)):\n",
    "    class_accuracy = cm3[i, i] / cm3[i, :].sum()\n",
    "    print(f'Sınıf {i} için Accuracy: {class_accuracy:.3f}')"
   ]
  },
  {
   "cell_type": "markdown",
   "id": "d9fe888e",
   "metadata": {
    "papermill": {
     "duration": 0.027903,
     "end_time": "2024-03-05T06:35:29.050198",
     "exception": false,
     "start_time": "2024-03-05T06:35:29.022295",
     "status": "completed"
    },
    "tags": []
   },
   "source": [
    "### Support Vector Machine"
   ]
  },
  {
   "cell_type": "code",
   "execution_count": 45,
   "id": "9519308f",
   "metadata": {
    "execution": {
     "iopub.execute_input": "2024-03-05T06:35:29.109495Z",
     "iopub.status.busy": "2024-03-05T06:35:29.109113Z",
     "iopub.status.idle": "2024-03-05T06:35:29.304484Z",
     "shell.execute_reply": "2024-03-05T06:35:29.303619Z"
    },
    "papermill": {
     "duration": 0.227076,
     "end_time": "2024-03-05T06:35:29.306551",
     "exception": false,
     "start_time": "2024-03-05T06:35:29.079475",
     "status": "completed"
    },
    "tags": []
   },
   "outputs": [
    {
     "data": {
      "text/html": [
       "<style>#sk-container-id-5 {color: black;background-color: white;}#sk-container-id-5 pre{padding: 0;}#sk-container-id-5 div.sk-toggleable {background-color: white;}#sk-container-id-5 label.sk-toggleable__label {cursor: pointer;display: block;width: 100%;margin-bottom: 0;padding: 0.3em;box-sizing: border-box;text-align: center;}#sk-container-id-5 label.sk-toggleable__label-arrow:before {content: \"▸\";float: left;margin-right: 0.25em;color: #696969;}#sk-container-id-5 label.sk-toggleable__label-arrow:hover:before {color: black;}#sk-container-id-5 div.sk-estimator:hover label.sk-toggleable__label-arrow:before {color: black;}#sk-container-id-5 div.sk-toggleable__content {max-height: 0;max-width: 0;overflow: hidden;text-align: left;background-color: #f0f8ff;}#sk-container-id-5 div.sk-toggleable__content pre {margin: 0.2em;color: black;border-radius: 0.25em;background-color: #f0f8ff;}#sk-container-id-5 input.sk-toggleable__control:checked~div.sk-toggleable__content {max-height: 200px;max-width: 100%;overflow: auto;}#sk-container-id-5 input.sk-toggleable__control:checked~label.sk-toggleable__label-arrow:before {content: \"▾\";}#sk-container-id-5 div.sk-estimator input.sk-toggleable__control:checked~label.sk-toggleable__label {background-color: #d4ebff;}#sk-container-id-5 div.sk-label input.sk-toggleable__control:checked~label.sk-toggleable__label {background-color: #d4ebff;}#sk-container-id-5 input.sk-hidden--visually {border: 0;clip: rect(1px 1px 1px 1px);clip: rect(1px, 1px, 1px, 1px);height: 1px;margin: -1px;overflow: hidden;padding: 0;position: absolute;width: 1px;}#sk-container-id-5 div.sk-estimator {font-family: monospace;background-color: #f0f8ff;border: 1px dotted black;border-radius: 0.25em;box-sizing: border-box;margin-bottom: 0.5em;}#sk-container-id-5 div.sk-estimator:hover {background-color: #d4ebff;}#sk-container-id-5 div.sk-parallel-item::after {content: \"\";width: 100%;border-bottom: 1px solid gray;flex-grow: 1;}#sk-container-id-5 div.sk-label:hover label.sk-toggleable__label {background-color: #d4ebff;}#sk-container-id-5 div.sk-serial::before {content: \"\";position: absolute;border-left: 1px solid gray;box-sizing: border-box;top: 0;bottom: 0;left: 50%;z-index: 0;}#sk-container-id-5 div.sk-serial {display: flex;flex-direction: column;align-items: center;background-color: white;padding-right: 0.2em;padding-left: 0.2em;position: relative;}#sk-container-id-5 div.sk-item {position: relative;z-index: 1;}#sk-container-id-5 div.sk-parallel {display: flex;align-items: stretch;justify-content: center;background-color: white;position: relative;}#sk-container-id-5 div.sk-item::before, #sk-container-id-5 div.sk-parallel-item::before {content: \"\";position: absolute;border-left: 1px solid gray;box-sizing: border-box;top: 0;bottom: 0;left: 50%;z-index: -1;}#sk-container-id-5 div.sk-parallel-item {display: flex;flex-direction: column;z-index: 1;position: relative;background-color: white;}#sk-container-id-5 div.sk-parallel-item:first-child::after {align-self: flex-end;width: 50%;}#sk-container-id-5 div.sk-parallel-item:last-child::after {align-self: flex-start;width: 50%;}#sk-container-id-5 div.sk-parallel-item:only-child::after {width: 0;}#sk-container-id-5 div.sk-dashed-wrapped {border: 1px dashed gray;margin: 0 0.4em 0.5em 0.4em;box-sizing: border-box;padding-bottom: 0.4em;background-color: white;}#sk-container-id-5 div.sk-label label {font-family: monospace;font-weight: bold;display: inline-block;line-height: 1.2em;}#sk-container-id-5 div.sk-label-container {text-align: center;}#sk-container-id-5 div.sk-container {/* jupyter's `normalize.less` sets `[hidden] { display: none; }` but bootstrap.min.css set `[hidden] { display: none !important; }` so we also need the `!important` here to be able to override the default hidden behavior on the sphinx rendered scikit-learn.org. See: https://github.com/scikit-learn/scikit-learn/issues/21755 */display: inline-block !important;position: relative;}#sk-container-id-5 div.sk-text-repr-fallback {display: none;}</style><div id=\"sk-container-id-5\" class=\"sk-top-container\"><div class=\"sk-text-repr-fallback\"><pre>SVC()</pre><b>In a Jupyter environment, please rerun this cell to show the HTML representation or trust the notebook. <br />On GitHub, the HTML representation is unable to render, please try loading this page with nbviewer.org.</b></div><div class=\"sk-container\" hidden><div class=\"sk-item\"><div class=\"sk-estimator sk-toggleable\"><input class=\"sk-toggleable__control sk-hidden--visually\" id=\"sk-estimator-id-5\" type=\"checkbox\" checked><label for=\"sk-estimator-id-5\" class=\"sk-toggleable__label sk-toggleable__label-arrow\">SVC</label><div class=\"sk-toggleable__content\"><pre>SVC()</pre></div></div></div></div></div>"
      ],
      "text/plain": [
       "SVC()"
      ]
     },
     "execution_count": 45,
     "metadata": {},
     "output_type": "execute_result"
    }
   ],
   "source": [
    "svc = SVC()\n",
    "svc.fit(X_train, y_train)"
   ]
  },
  {
   "cell_type": "code",
   "execution_count": 46,
   "id": "d994e90f",
   "metadata": {
    "execution": {
     "iopub.execute_input": "2024-03-05T06:35:29.365031Z",
     "iopub.status.busy": "2024-03-05T06:35:29.364328Z",
     "iopub.status.idle": "2024-03-05T06:35:29.431672Z",
     "shell.execute_reply": "2024-03-05T06:35:29.430457Z"
    },
    "papermill": {
     "duration": 0.099099,
     "end_time": "2024-03-05T06:35:29.433881",
     "exception": false,
     "start_time": "2024-03-05T06:35:29.334782",
     "status": "completed"
    },
    "tags": []
   },
   "outputs": [
    {
     "name": "stdout",
     "output_type": "stream",
     "text": [
      "Accuracy 0.904\n",
      "Precision 0.905\n",
      "Recall 0.902\n",
      "F1 Score 0.903\n"
     ]
    }
   ],
   "source": [
    "y_pred_svc = svc.predict(X_test)\n",
    "\n",
    "print('Accuracy','%.3f' % accuracy_score(y_test, y_pred_svc))\n",
    "print('Precision','%.3f' % precision_score(y_test, y_pred_svc))\n",
    "print('Recall','%.3f' % recall_score(y_test, y_pred_svc))\n",
    "print('F1 Score','%.3f' % f1_score(y_test, y_pred_svc))"
   ]
  },
  {
   "cell_type": "code",
   "execution_count": 47,
   "id": "b36a8905",
   "metadata": {
    "execution": {
     "iopub.execute_input": "2024-03-05T06:35:29.492403Z",
     "iopub.status.busy": "2024-03-05T06:35:29.491949Z",
     "iopub.status.idle": "2024-03-05T06:35:29.814950Z",
     "shell.execute_reply": "2024-03-05T06:35:29.813476Z"
    },
    "papermill": {
     "duration": 0.356248,
     "end_time": "2024-03-05T06:35:29.818450",
     "exception": false,
     "start_time": "2024-03-05T06:35:29.462202",
     "status": "completed"
    },
    "tags": []
   },
   "outputs": [
    {
     "data": {
      "image/png": "[encoded data removed]",
      "text/plain": [
       "<Figure size 640x480 with 2 Axes>"
      ]
     },
     "metadata": {},
     "output_type": "display_data"
    }
   ],
   "source": [
    "cm4 = metrics.confusion_matrix(y_test,y_pred_svc, labels = svc.classes_)\n",
    "\n",
    "display4 = metrics.ConfusionMatrixDisplay(confusion_matrix = cm4,display_labels = svc.classes_)\n",
    "display4.plot();"
   ]
  },
  {
   "cell_type": "code",
   "execution_count": 48,
   "id": "6234f695",
   "metadata": {
    "execution": {
     "iopub.execute_input": "2024-03-05T06:35:29.878784Z",
     "iopub.status.busy": "2024-03-05T06:35:29.878404Z",
     "iopub.status.idle": "2024-03-05T06:35:29.884769Z",
     "shell.execute_reply": "2024-03-05T06:35:29.883689Z"
    },
    "papermill": {
     "duration": 0.039192,
     "end_time": "2024-03-05T06:35:29.887086",
     "exception": false,
     "start_time": "2024-03-05T06:35:29.847894",
     "status": "completed"
    },
    "tags": []
   },
   "outputs": [
    {
     "name": "stdout",
     "output_type": "stream",
     "text": [
      "Sınıf 0 için Accuracy: 0.905\n",
      "Sınıf 1 için Accuracy: 0.902\n"
     ]
    }
   ],
   "source": [
    "for i in range(len(cm4)):\n",
    "    class_accuracy = cm4[i, i] / cm4[i, :].sum()\n",
    "    print(f'Sınıf {i} için Accuracy: {class_accuracy:.3f}')"
   ]
  },
  {
   "cell_type": "markdown",
   "id": "a681d331",
   "metadata": {
    "papermill": {
     "duration": 0.028806,
     "end_time": "2024-03-05T06:35:29.945687",
     "exception": false,
     "start_time": "2024-03-05T06:35:29.916881",
     "status": "completed"
    },
    "tags": []
   },
   "source": [
    "### Decision Tree"
   ]
  },
  {
   "cell_type": "code",
   "execution_count": 49,
   "id": "6ea8e46f",
   "metadata": {
    "execution": {
     "iopub.execute_input": "2024-03-05T06:35:30.007030Z",
     "iopub.status.busy": "2024-03-05T06:35:30.006631Z",
     "iopub.status.idle": "2024-03-05T06:35:30.013544Z",
     "shell.execute_reply": "2024-03-05T06:35:30.012738Z"
    },
    "papermill": {
     "duration": 0.040301,
     "end_time": "2024-03-05T06:35:30.015760",
     "exception": false,
     "start_time": "2024-03-05T06:35:29.975459",
     "status": "completed"
    },
    "tags": []
   },
   "outputs": [],
   "source": [
    "X_t_train, X_t_test, y_t_train, y_t_test = train_test_split(X,y, test_size=0.2, random_state=42)"
   ]
  },
  {
   "cell_type": "code",
   "execution_count": 50,
   "id": "9af6d677",
   "metadata": {
    "execution": {
     "iopub.execute_input": "2024-03-05T06:35:30.076926Z",
     "iopub.status.busy": "2024-03-05T06:35:30.076472Z",
     "iopub.status.idle": "2024-03-05T06:35:30.114945Z",
     "shell.execute_reply": "2024-03-05T06:35:30.113779Z"
    },
    "papermill": {
     "duration": 0.072237,
     "end_time": "2024-03-05T06:35:30.117521",
     "exception": false,
     "start_time": "2024-03-05T06:35:30.045284",
     "status": "completed"
    },
    "tags": []
   },
   "outputs": [
    {
     "data": {
      "text/html": [
       "<style>#sk-container-id-6 {color: black;background-color: white;}#sk-container-id-6 pre{padding: 0;}#sk-container-id-6 div.sk-toggleable {background-color: white;}#sk-container-id-6 label.sk-toggleable__label {cursor: pointer;display: block;width: 100%;margin-bottom: 0;padding: 0.3em;box-sizing: border-box;text-align: center;}#sk-container-id-6 label.sk-toggleable__label-arrow:before {content: \"▸\";float: left;margin-right: 0.25em;color: #696969;}#sk-container-id-6 label.sk-toggleable__label-arrow:hover:before {color: black;}#sk-container-id-6 div.sk-estimator:hover label.sk-toggleable__label-arrow:before {color: black;}#sk-container-id-6 div.sk-toggleable__content {max-height: 0;max-width: 0;overflow: hidden;text-align: left;background-color: #f0f8ff;}#sk-container-id-6 div.sk-toggleable__content pre {margin: 0.2em;color: black;border-radius: 0.25em;background-color: #f0f8ff;}#sk-container-id-6 input.sk-toggleable__control:checked~div.sk-toggleable__content {max-height: 200px;max-width: 100%;overflow: auto;}#sk-container-id-6 input.sk-toggleable__control:checked~label.sk-toggleable__label-arrow:before {content: \"▾\";}#sk-container-id-6 div.sk-estimator input.sk-toggleable__control:checked~label.sk-toggleable__label {background-color: #d4ebff;}#sk-container-id-6 div.sk-label input.sk-toggleable__control:checked~label.sk-toggleable__label {background-color: #d4ebff;}#sk-container-id-6 input.sk-hidden--visually {border: 0;clip: rect(1px 1px 1px 1px);clip: rect(1px, 1px, 1px, 1px);height: 1px;margin: -1px;overflow: hidden;padding: 0;position: absolute;width: 1px;}#sk-container-id-6 div.sk-estimator {font-family: monospace;background-color: #f0f8ff;border: 1px dotted black;border-radius: 0.25em;box-sizing: border-box;margin-bottom: 0.5em;}#sk-container-id-6 div.sk-estimator:hover {background-color: #d4ebff;}#sk-container-id-6 div.sk-parallel-item::after {content: \"\";width: 100%;border-bottom: 1px solid gray;flex-grow: 1;}#sk-container-id-6 div.sk-label:hover label.sk-toggleable__label {background-color: #d4ebff;}#sk-container-id-6 div.sk-serial::before {content: \"\";position: absolute;border-left: 1px solid gray;box-sizing: border-box;top: 0;bottom: 0;left: 50%;z-index: 0;}#sk-container-id-6 div.sk-serial {display: flex;flex-direction: column;align-items: center;background-color: white;padding-right: 0.2em;padding-left: 0.2em;position: relative;}#sk-container-id-6 div.sk-item {position: relative;z-index: 1;}#sk-container-id-6 div.sk-parallel {display: flex;align-items: stretch;justify-content: center;background-color: white;position: relative;}#sk-container-id-6 div.sk-item::before, #sk-container-id-6 div.sk-parallel-item::before {content: \"\";position: absolute;border-left: 1px solid gray;box-sizing: border-box;top: 0;bottom: 0;left: 50%;z-index: -1;}#sk-container-id-6 div.sk-parallel-item {display: flex;flex-direction: column;z-index: 1;position: relative;background-color: white;}#sk-container-id-6 div.sk-parallel-item:first-child::after {align-self: flex-end;width: 50%;}#sk-container-id-6 div.sk-parallel-item:last-child::after {align-self: flex-start;width: 50%;}#sk-container-id-6 div.sk-parallel-item:only-child::after {width: 0;}#sk-container-id-6 div.sk-dashed-wrapped {border: 1px dashed gray;margin: 0 0.4em 0.5em 0.4em;box-sizing: border-box;padding-bottom: 0.4em;background-color: white;}#sk-container-id-6 div.sk-label label {font-family: monospace;font-weight: bold;display: inline-block;line-height: 1.2em;}#sk-container-id-6 div.sk-label-container {text-align: center;}#sk-container-id-6 div.sk-container {/* jupyter's `normalize.less` sets `[hidden] { display: none; }` but bootstrap.min.css set `[hidden] { display: none !important; }` so we also need the `!important` here to be able to override the default hidden behavior on the sphinx rendered scikit-learn.org. See: https://github.com/scikit-learn/scikit-learn/issues/21755 */display: inline-block !important;position: relative;}#sk-container-id-6 div.sk-text-repr-fallback {display: none;}</style><div id=\"sk-container-id-6\" class=\"sk-top-container\"><div class=\"sk-text-repr-fallback\"><pre>DecisionTreeClassifier()</pre><b>In a Jupyter environment, please rerun this cell to show the HTML representation or trust the notebook. <br />On GitHub, the HTML representation is unable to render, please try loading this page with nbviewer.org.</b></div><div class=\"sk-container\" hidden><div class=\"sk-item\"><div class=\"sk-estimator sk-toggleable\"><input class=\"sk-toggleable__control sk-hidden--visually\" id=\"sk-estimator-id-6\" type=\"checkbox\" checked><label for=\"sk-estimator-id-6\" class=\"sk-toggleable__label sk-toggleable__label-arrow\">DecisionTreeClassifier</label><div class=\"sk-toggleable__content\"><pre>DecisionTreeClassifier()</pre></div></div></div></div></div>"
      ],
      "text/plain": [
       "DecisionTreeClassifier()"
      ]
     },
     "execution_count": 50,
     "metadata": {},
     "output_type": "execute_result"
    }
   ],
   "source": [
    "dtc = DecisionTreeClassifier()\n",
    "dtc.fit(X_t_train, y_t_train)"
   ]
  },
  {
   "cell_type": "code",
   "execution_count": 51,
   "id": "8e34a5a8",
   "metadata": {
    "execution": {
     "iopub.execute_input": "2024-03-05T06:35:30.178346Z",
     "iopub.status.busy": "2024-03-05T06:35:30.177207Z",
     "iopub.status.idle": "2024-03-05T06:35:30.195691Z",
     "shell.execute_reply": "2024-03-05T06:35:30.194333Z"
    },
    "papermill": {
     "duration": 0.051557,
     "end_time": "2024-03-05T06:35:30.198329",
     "exception": false,
     "start_time": "2024-03-05T06:35:30.146772",
     "status": "completed"
    },
    "tags": []
   },
   "outputs": [
    {
     "name": "stdout",
     "output_type": "stream",
     "text": [
      "Accuracy 0.801\n",
      "Precision 0.800\n",
      "Recall 0.802\n",
      "F1 Score 0.801\n"
     ]
    }
   ],
   "source": [
    "y_pred_dtc = dtc.predict(X_t_test)\n",
    "\n",
    "print('Accuracy','%.3f' % accuracy_score(y_test, y_pred_dtc))\n",
    "print('Precision','%.3f' % precision_score(y_test, y_pred_dtc))\n",
    "print('Recall','%.3f' % recall_score(y_test, y_pred_dtc))\n",
    "print('F1 Score','%.3f' % f1_score(y_test, y_pred_dtc))"
   ]
  },
  {
   "cell_type": "code",
   "execution_count": 52,
   "id": "9f26afc7",
   "metadata": {
    "execution": {
     "iopub.execute_input": "2024-03-05T06:35:30.260347Z",
     "iopub.status.busy": "2024-03-05T06:35:30.259587Z",
     "iopub.status.idle": "2024-03-05T06:35:30.563181Z",
     "shell.execute_reply": "2024-03-05T06:35:30.562050Z"
    },
    "papermill": {
     "duration": 0.337687,
     "end_time": "2024-03-05T06:35:30.565484",
     "exception": false,
     "start_time": "2024-03-05T06:35:30.227797",
     "status": "completed"
    },
    "tags": []
   },
   "outputs": [
    {
     "data": {
      "image/png": "[encoded data removed]",
      "text/plain": [
       "<Figure size 640x480 with 2 Axes>"
      ]
     },
     "metadata": {},
     "output_type": "display_data"
    }
   ],
   "source": [
    "cm5 = metrics.confusion_matrix(y_test,y_pred_dtc, labels = dtc.classes_)\n",
    "\n",
    "display5 = metrics.ConfusionMatrixDisplay(confusion_matrix = cm5,display_labels = dtc.classes_)\n",
    "display5.plot();"
   ]
  },
  {
   "cell_type": "code",
   "execution_count": 53,
   "id": "1040ea44",
   "metadata": {
    "execution": {
     "iopub.execute_input": "2024-03-05T06:35:30.626904Z",
     "iopub.status.busy": "2024-03-05T06:35:30.626485Z",
     "iopub.status.idle": "2024-03-05T06:35:30.633068Z",
     "shell.execute_reply": "2024-03-05T06:35:30.631969Z"
    },
    "papermill": {
     "duration": 0.04037,
     "end_time": "2024-03-05T06:35:30.635375",
     "exception": false,
     "start_time": "2024-03-05T06:35:30.595005",
     "status": "completed"
    },
    "tags": []
   },
   "outputs": [
    {
     "name": "stdout",
     "output_type": "stream",
     "text": [
      "Sınıf 0 için Accuracy: 0.800\n",
      "Sınıf 1 için Accuracy: 0.802\n"
     ]
    }
   ],
   "source": [
    "for i in range(len(cm5)):\n",
    "    class_accuracy = cm5[i, i] / cm5[i, :].sum()\n",
    "    print(f'Sınıf {i} için Accuracy: {class_accuracy:.3f}')"
   ]
  },
  {
   "cell_type": "markdown",
   "id": "d03fdcde",
   "metadata": {
    "papermill": {
     "duration": 0.029595,
     "end_time": "2024-03-05T06:35:30.695216",
     "exception": false,
     "start_time": "2024-03-05T06:35:30.665621",
     "status": "completed"
    },
    "tags": []
   },
   "source": [
    "### Random Forest"
   ]
  },
  {
   "cell_type": "code",
   "execution_count": 54,
   "id": "e26fd334",
   "metadata": {
    "execution": {
     "iopub.execute_input": "2024-03-05T06:35:30.756716Z",
     "iopub.status.busy": "2024-03-05T06:35:30.756304Z",
     "iopub.status.idle": "2024-03-05T06:35:30.763429Z",
     "shell.execute_reply": "2024-03-05T06:35:30.762632Z"
    },
    "papermill": {
     "duration": 0.040362,
     "end_time": "2024-03-05T06:35:30.765847",
     "exception": false,
     "start_time": "2024-03-05T06:35:30.725485",
     "status": "completed"
    },
    "tags": []
   },
   "outputs": [],
   "source": [
    "X_f_train, X_f_test, y_f_train, y_f_test = train_test_split(X,y, test_size=0.2, random_state=42)"
   ]
  },
  {
   "cell_type": "code",
   "execution_count": 55,
   "id": "9eb48ffc",
   "metadata": {
    "execution": {
     "iopub.execute_input": "2024-03-05T06:35:30.829484Z",
     "iopub.status.busy": "2024-03-05T06:35:30.829040Z",
     "iopub.status.idle": "2024-03-05T06:35:31.646065Z",
     "shell.execute_reply": "2024-03-05T06:35:31.644951Z"
    },
    "papermill": {
     "duration": 0.852297,
     "end_time": "2024-03-05T06:35:31.648401",
     "exception": false,
     "start_time": "2024-03-05T06:35:30.796104",
     "status": "completed"
    },
    "tags": []
   },
   "outputs": [
    {
     "data": {
      "text/html": [
       "<style>#sk-container-id-7 {color: black;background-color: white;}#sk-container-id-7 pre{padding: 0;}#sk-container-id-7 div.sk-toggleable {background-color: white;}#sk-container-id-7 label.sk-toggleable__label {cursor: pointer;display: block;width: 100%;margin-bottom: 0;padding: 0.3em;box-sizing: border-box;text-align: center;}#sk-container-id-7 label.sk-toggleable__label-arrow:before {content: \"▸\";float: left;margin-right: 0.25em;color: #696969;}#sk-container-id-7 label.sk-toggleable__label-arrow:hover:before {color: black;}#sk-container-id-7 div.sk-estimator:hover label.sk-toggleable__label-arrow:before {color: black;}#sk-container-id-7 div.sk-toggleable__content {max-height: 0;max-width: 0;overflow: hidden;text-align: left;background-color: #f0f8ff;}#sk-container-id-7 div.sk-toggleable__content pre {margin: 0.2em;color: black;border-radius: 0.25em;background-color: #f0f8ff;}#sk-container-id-7 input.sk-toggleable__control:checked~div.sk-toggleable__content {max-height: 200px;max-width: 100%;overflow: auto;}#sk-container-id-7 input.sk-toggleable__control:checked~label.sk-toggleable__label-arrow:before {content: \"▾\";}#sk-container-id-7 div.sk-estimator input.sk-toggleable__control:checked~label.sk-toggleable__label {background-color: #d4ebff;}#sk-container-id-7 div.sk-label input.sk-toggleable__control:checked~label.sk-toggleable__label {background-color: #d4ebff;}#sk-container-id-7 input.sk-hidden--visually {border: 0;clip: rect(1px 1px 1px 1px);clip: rect(1px, 1px, 1px, 1px);height: 1px;margin: -1px;overflow: hidden;padding: 0;position: absolute;width: 1px;}#sk-container-id-7 div.sk-estimator {font-family: monospace;background-color: #f0f8ff;border: 1px dotted black;border-radius: 0.25em;box-sizing: border-box;margin-bottom: 0.5em;}#sk-container-id-7 div.sk-estimator:hover {background-color: #d4ebff;}#sk-container-id-7 div.sk-parallel-item::after {content: \"\";width: 100%;border-bottom: 1px solid gray;flex-grow: 1;}#sk-container-id-7 div.sk-label:hover label.sk-toggleable__label {background-color: #d4ebff;}#sk-container-id-7 div.sk-serial::before {content: \"\";position: absolute;border-left: 1px solid gray;box-sizing: border-box;top: 0;bottom: 0;left: 50%;z-index: 0;}#sk-container-id-7 div.sk-serial {display: flex;flex-direction: column;align-items: center;background-color: white;padding-right: 0.2em;padding-left: 0.2em;position: relative;}#sk-container-id-7 div.sk-item {position: relative;z-index: 1;}#sk-container-id-7 div.sk-parallel {display: flex;align-items: stretch;justify-content: center;background-color: white;position: relative;}#sk-container-id-7 div.sk-item::before, #sk-container-id-7 div.sk-parallel-item::before {content: \"\";position: absolute;border-left: 1px solid gray;box-sizing: border-box;top: 0;bottom: 0;left: 50%;z-index: -1;}#sk-container-id-7 div.sk-parallel-item {display: flex;flex-direction: column;z-index: 1;position: relative;background-color: white;}#sk-container-id-7 div.sk-parallel-item:first-child::after {align-self: flex-end;width: 50%;}#sk-container-id-7 div.sk-parallel-item:last-child::after {align-self: flex-start;width: 50%;}#sk-container-id-7 div.sk-parallel-item:only-child::after {width: 0;}#sk-container-id-7 div.sk-dashed-wrapped {border: 1px dashed gray;margin: 0 0.4em 0.5em 0.4em;box-sizing: border-box;padding-bottom: 0.4em;background-color: white;}#sk-container-id-7 div.sk-label label {font-family: monospace;font-weight: bold;display: inline-block;line-height: 1.2em;}#sk-container-id-7 div.sk-label-container {text-align: center;}#sk-container-id-7 div.sk-container {/* jupyter's `normalize.less` sets `[hidden] { display: none; }` but bootstrap.min.css set `[hidden] { display: none !important; }` so we also need the `!important` here to be able to override the default hidden behavior on the sphinx rendered scikit-learn.org. See: https://github.com/scikit-learn/scikit-learn/issues/21755 */display: inline-block !important;position: relative;}#sk-container-id-7 div.sk-text-repr-fallback {display: none;}</style><div id=\"sk-container-id-7\" class=\"sk-top-container\"><div class=\"sk-text-repr-fallback\"><pre>RandomForestClassifier()</pre><b>In a Jupyter environment, please rerun this cell to show the HTML representation or trust the notebook. <br />On GitHub, the HTML representation is unable to render, please try loading this page with nbviewer.org.</b></div><div class=\"sk-container\" hidden><div class=\"sk-item\"><div class=\"sk-estimator sk-toggleable\"><input class=\"sk-toggleable__control sk-hidden--visually\" id=\"sk-estimator-id-7\" type=\"checkbox\" checked><label for=\"sk-estimator-id-7\" class=\"sk-toggleable__label sk-toggleable__label-arrow\">RandomForestClassifier</label><div class=\"sk-toggleable__content\"><pre>RandomForestClassifier()</pre></div></div></div></div></div>"
      ],
      "text/plain": [
       "RandomForestClassifier()"
      ]
     },
     "execution_count": 55,
     "metadata": {},
     "output_type": "execute_result"
    }
   ],
   "source": [
    "rfc = RandomForestClassifier()\n",
    "rfc.fit(X_f_train,y_f_train)"
   ]
  },
  {
   "cell_type": "code",
   "execution_count": 56,
   "id": "3fa220b2",
   "metadata": {
    "execution": {
     "iopub.execute_input": "2024-03-05T06:35:31.710976Z",
     "iopub.status.busy": "2024-03-05T06:35:31.710547Z",
     "iopub.status.idle": "2024-03-05T06:35:31.750945Z",
     "shell.execute_reply": "2024-03-05T06:35:31.749803Z"
    },
    "papermill": {
     "duration": 0.075345,
     "end_time": "2024-03-05T06:35:31.753766",
     "exception": false,
     "start_time": "2024-03-05T06:35:31.678421",
     "status": "completed"
    },
    "tags": []
   },
   "outputs": [
    {
     "name": "stdout",
     "output_type": "stream",
     "text": [
      "Accuracy 0.801\n",
      "Precision 0.800\n",
      "Recall 0.802\n",
      "F1 Score 0.801\n"
     ]
    }
   ],
   "source": [
    "y_pred_rfc = rfc.predict(X_f_test)\n",
    "\n",
    "print('Accuracy','%.3f' % accuracy_score(y_test, y_pred_dtc))\n",
    "print('Precision','%.3f' % precision_score(y_test, y_pred_dtc))\n",
    "print('Recall','%.3f' % recall_score(y_test, y_pred_dtc))\n",
    "print('F1 Score','%.3f' % f1_score(y_test, y_pred_dtc))"
   ]
  },
  {
   "cell_type": "code",
   "execution_count": 57,
   "id": "83d74e61",
   "metadata": {
    "execution": {
     "iopub.execute_input": "2024-03-05T06:35:31.817030Z",
     "iopub.status.busy": "2024-03-05T06:35:31.816238Z",
     "iopub.status.idle": "2024-03-05T06:35:32.157852Z",
     "shell.execute_reply": "2024-03-05T06:35:32.156626Z"
    },
    "papermill": {
     "duration": 0.375658,
     "end_time": "2024-03-05T06:35:32.160407",
     "exception": false,
     "start_time": "2024-03-05T06:35:31.784749",
     "status": "completed"
    },
    "tags": []
   },
   "outputs": [
    {
     "data": {
      "image/png": "[encoded data removed]",
      "text/plain": [
       "<Figure size 640x480 with 2 Axes>"
      ]
     },
     "metadata": {},
     "output_type": "display_data"
    }
   ],
   "source": [
    "cm6 = metrics.confusion_matrix(y_test,y_pred_rfc, labels = rfc.classes_)\n",
    "\n",
    "display6 = metrics.ConfusionMatrixDisplay(confusion_matrix = cm6,display_labels = rfc.classes_)\n",
    "display6.plot();"
   ]
  },
  {
   "cell_type": "code",
   "execution_count": 58,
   "id": "05b9a64e",
   "metadata": {
    "execution": {
     "iopub.execute_input": "2024-03-05T06:35:32.225577Z",
     "iopub.status.busy": "2024-03-05T06:35:32.224466Z",
     "iopub.status.idle": "2024-03-05T06:35:32.231346Z",
     "shell.execute_reply": "2024-03-05T06:35:32.230092Z"
    },
    "papermill": {
     "duration": 0.042123,
     "end_time": "2024-03-05T06:35:32.233904",
     "exception": false,
     "start_time": "2024-03-05T06:35:32.191781",
     "status": "completed"
    },
    "tags": []
   },
   "outputs": [
    {
     "name": "stdout",
     "output_type": "stream",
     "text": [
      "Sınıf 0 için Accuracy: 0.893\n",
      "Sınıf 1 için Accuracy: 0.907\n"
     ]
    }
   ],
   "source": [
    "for i in range(len(cm6)):\n",
    "    class_accuracy = cm6[i, i] / cm6[i, :].sum()\n",
    "    print(f'Sınıf {i} için Accuracy: {class_accuracy:.3f}')"
   ]
  },
  {
   "cell_type": "code",
   "execution_count": 59,
   "id": "c8594115",
   "metadata": {
    "execution": {
     "iopub.execute_input": "2024-03-05T06:35:32.297946Z",
     "iopub.status.busy": "2024-03-05T06:35:32.297518Z",
     "iopub.status.idle": "2024-03-05T06:40:29.610738Z",
     "shell.execute_reply": "2024-03-05T06:40:29.609843Z"
    },
    "papermill": {
     "duration": 297.384374,
     "end_time": "2024-03-05T06:40:29.649179",
     "exception": false,
     "start_time": "2024-03-05T06:35:32.264805",
     "status": "completed"
    },
    "tags": []
   },
   "outputs": [
    {
     "data": {
      "image/png": "[encoded data removed]",
      "text/plain": [
       "<Figure size 1000x600 with 1 Axes>"
      ]
     },
     "metadata": {},
     "output_type": "display_data"
    },
    {
     "name": "stdout",
     "output_type": "stream",
     "text": [
      "Best Parameters: {'max_depth': 25, 'n_estimators': 350}\n"
     ]
    }
   ],
   "source": [
    "param_grid = {\n",
    "    'n_estimators': [10, 50, 100, 200,250,300,350],\n",
    "    'max_depth': [None, 5, 10, 20,25,30,35]\n",
    "}\n",
    "\n",
    "#Create a Random Forest classifier\n",
    "rf_classifier = RandomForestClassifier(random_state=42)\n",
    "\n",
    "#Perform grid search with cross-validation\n",
    "grid_search = GridSearchCV(estimator=rf_classifier, param_grid=param_grid, cv=5)\n",
    "grid_search.fit(X_f_train, y_f_train)\n",
    "\n",
    "#Get the results of grid search\n",
    "results_df = pd.DataFrame(grid_search.cv_results_)\n",
    "\n",
    "#Plot mean validation scores for each combination of parameters\n",
    "plt.figure(figsize=(10, 6))\n",
    "for n_estimators in param_grid['n_estimators']:\n",
    "    plt.plot(param_grid['max_depth'], results_df[results_df['param_n_estimators'] == n_estimators]['mean_test_score'],\n",
    "             marker='o', label=f'n_estimators={n_estimators}')\n",
    "plt.title('Mean Validation Scores vs. max_depth')\n",
    "plt.xlabel('max_depth')\n",
    "plt.ylabel('Mean Validation Score')\n",
    "plt.legend()\n",
    "plt.grid(True)\n",
    "plt.show()\n",
    "\n",
    "#Get the best combination of parameters\n",
    "best_params = grid_search.best_params_\n",
    "print(\"Best Parameters:\", best_params)"
   ]
  },
  {
   "cell_type": "code",
   "execution_count": 60,
   "id": "2dba5fdb",
   "metadata": {
    "execution": {
     "iopub.execute_input": "2024-03-05T06:40:29.717728Z",
     "iopub.status.busy": "2024-03-05T06:40:29.716467Z",
     "iopub.status.idle": "2024-03-05T06:40:32.703529Z",
     "shell.execute_reply": "2024-03-05T06:40:32.702414Z"
    },
    "papermill": {
     "duration": 3.023571,
     "end_time": "2024-03-05T06:40:32.705856",
     "exception": false,
     "start_time": "2024-03-05T06:40:29.682285",
     "status": "completed"
    },
    "tags": []
   },
   "outputs": [
    {
     "data": {
      "text/html": [
       "<style>#sk-container-id-8 {color: black;background-color: white;}#sk-container-id-8 pre{padding: 0;}#sk-container-id-8 div.sk-toggleable {background-color: white;}#sk-container-id-8 label.sk-toggleable__label {cursor: pointer;display: block;width: 100%;margin-bottom: 0;padding: 0.3em;box-sizing: border-box;text-align: center;}#sk-container-id-8 label.sk-toggleable__label-arrow:before {content: \"▸\";float: left;margin-right: 0.25em;color: #696969;}#sk-container-id-8 label.sk-toggleable__label-arrow:hover:before {color: black;}#sk-container-id-8 div.sk-estimator:hover label.sk-toggleable__label-arrow:before {color: black;}#sk-container-id-8 div.sk-toggleable__content {max-height: 0;max-width: 0;overflow: hidden;text-align: left;background-color: #f0f8ff;}#sk-container-id-8 div.sk-toggleable__content pre {margin: 0.2em;color: black;border-radius: 0.25em;background-color: #f0f8ff;}#sk-container-id-8 input.sk-toggleable__control:checked~div.sk-toggleable__content {max-height: 200px;max-width: 100%;overflow: auto;}#sk-container-id-8 input.sk-toggleable__control:checked~label.sk-toggleable__label-arrow:before {content: \"▾\";}#sk-container-id-8 div.sk-estimator input.sk-toggleable__control:checked~label.sk-toggleable__label {background-color: #d4ebff;}#sk-container-id-8 div.sk-label input.sk-toggleable__control:checked~label.sk-toggleable__label {background-color: #d4ebff;}#sk-container-id-8 input.sk-hidden--visually {border: 0;clip: rect(1px 1px 1px 1px);clip: rect(1px, 1px, 1px, 1px);height: 1px;margin: -1px;overflow: hidden;padding: 0;position: absolute;width: 1px;}#sk-container-id-8 div.sk-estimator {font-family: monospace;background-color: #f0f8ff;border: 1px dotted black;border-radius: 0.25em;box-sizing: border-box;margin-bottom: 0.5em;}#sk-container-id-8 div.sk-estimator:hover {background-color: #d4ebff;}#sk-container-id-8 div.sk-parallel-item::after {content: \"\";width: 100%;border-bottom: 1px solid gray;flex-grow: 1;}#sk-container-id-8 div.sk-label:hover label.sk-toggleable__label {background-color: #d4ebff;}#sk-container-id-8 div.sk-serial::before {content: \"\";position: absolute;border-left: 1px solid gray;box-sizing: border-box;top: 0;bottom: 0;left: 50%;z-index: 0;}#sk-container-id-8 div.sk-serial {display: flex;flex-direction: column;align-items: center;background-color: white;padding-right: 0.2em;padding-left: 0.2em;position: relative;}#sk-container-id-8 div.sk-item {position: relative;z-index: 1;}#sk-container-id-8 div.sk-parallel {display: flex;align-items: stretch;justify-content: center;background-color: white;position: relative;}#sk-container-id-8 div.sk-item::before, #sk-container-id-8 div.sk-parallel-item::before {content: \"\";position: absolute;border-left: 1px solid gray;box-sizing: border-box;top: 0;bottom: 0;left: 50%;z-index: -1;}#sk-container-id-8 div.sk-parallel-item {display: flex;flex-direction: column;z-index: 1;position: relative;background-color: white;}#sk-container-id-8 div.sk-parallel-item:first-child::after {align-self: flex-end;width: 50%;}#sk-container-id-8 div.sk-parallel-item:last-child::after {align-self: flex-start;width: 50%;}#sk-container-id-8 div.sk-parallel-item:only-child::after {width: 0;}#sk-container-id-8 div.sk-dashed-wrapped {border: 1px dashed gray;margin: 0 0.4em 0.5em 0.4em;box-sizing: border-box;padding-bottom: 0.4em;background-color: white;}#sk-container-id-8 div.sk-label label {font-family: monospace;font-weight: bold;display: inline-block;line-height: 1.2em;}#sk-container-id-8 div.sk-label-container {text-align: center;}#sk-container-id-8 div.sk-container {/* jupyter's `normalize.less` sets `[hidden] { display: none; }` but bootstrap.min.css set `[hidden] { display: none !important; }` so we also need the `!important` here to be able to override the default hidden behavior on the sphinx rendered scikit-learn.org. See: https://github.com/scikit-learn/scikit-learn/issues/21755 */display: inline-block !important;position: relative;}#sk-container-id-8 div.sk-text-repr-fallback {display: none;}</style><div id=\"sk-container-id-8\" class=\"sk-top-container\"><div class=\"sk-text-repr-fallback\"><pre>RandomForestClassifier(max_depth=20, n_estimators=350, random_state=0)</pre><b>In a Jupyter environment, please rerun this cell to show the HTML representation or trust the notebook. <br />On GitHub, the HTML representation is unable to render, please try loading this page with nbviewer.org.</b></div><div class=\"sk-container\" hidden><div class=\"sk-item\"><div class=\"sk-estimator sk-toggleable\"><input class=\"sk-toggleable__control sk-hidden--visually\" id=\"sk-estimator-id-8\" type=\"checkbox\" checked><label for=\"sk-estimator-id-8\" class=\"sk-toggleable__label sk-toggleable__label-arrow\">RandomForestClassifier</label><div class=\"sk-toggleable__content\"><pre>RandomForestClassifier(max_depth=20, n_estimators=350, random_state=0)</pre></div></div></div></div></div>"
      ],
      "text/plain": [
       "RandomForestClassifier(max_depth=20, n_estimators=350, random_state=0)"
      ]
     },
     "execution_count": 60,
     "metadata": {},
     "output_type": "execute_result"
    }
   ],
   "source": [
    "rfc1= RandomForestClassifier(n_estimators=350,max_depth=20,random_state=0)\n",
    "rfc1.fit(X_f_train,y_f_train)"
   ]
  },
  {
   "cell_type": "code",
   "execution_count": 61,
   "id": "0bbdc6b4",
   "metadata": {
    "execution": {
     "iopub.execute_input": "2024-03-05T06:40:32.774198Z",
     "iopub.status.busy": "2024-03-05T06:40:32.773380Z",
     "iopub.status.idle": "2024-03-05T06:40:32.863827Z",
     "shell.execute_reply": "2024-03-05T06:40:32.862658Z"
    },
    "papermill": {
     "duration": 0.128054,
     "end_time": "2024-03-05T06:40:32.866805",
     "exception": false,
     "start_time": "2024-03-05T06:40:32.738751",
     "status": "completed"
    },
    "tags": []
   },
   "outputs": [
    {
     "name": "stdout",
     "output_type": "stream",
     "text": [
      "Accuracy 0.911\n",
      "Precision 0.904\n",
      "Recall 0.920\n",
      "F1 Score 0.912\n"
     ]
    }
   ],
   "source": [
    "y_pred_rfc1= rfc1.predict(X_f_test)\n",
    "\n",
    "print('Accuracy','%.3f' % accuracy_score(y_test, y_pred_rfc1))\n",
    "print('Precision','%.3f' % precision_score(y_test, y_pred_rfc1))\n",
    "print('Recall','%.3f' % recall_score(y_test, y_pred_rfc1))\n",
    "print('F1 Score','%.3f' % f1_score(y_test, y_pred_rfc1))"
   ]
  },
  {
   "cell_type": "code",
   "execution_count": 62,
   "id": "4e2e5419",
   "metadata": {
    "execution": {
     "iopub.execute_input": "2024-03-05T06:40:32.935206Z",
     "iopub.status.busy": "2024-03-05T06:40:32.934786Z",
     "iopub.status.idle": "2024-03-05T06:40:33.268869Z",
     "shell.execute_reply": "2024-03-05T06:40:33.267979Z"
    },
    "papermill": {
     "duration": 0.371388,
     "end_time": "2024-03-05T06:40:33.271503",
     "exception": false,
     "start_time": "2024-03-05T06:40:32.900115",
     "status": "completed"
    },
    "tags": []
   },
   "outputs": [
    {
     "data": {
      "image/png": "[encoded data removed]",
      "text/plain": [
       "<Figure size 640x480 with 2 Axes>"
      ]
     },
     "metadata": {},
     "output_type": "display_data"
    }
   ],
   "source": [
    "cm7 = metrics.confusion_matrix(y_test,y_pred_rfc1, labels = rfc1.classes_)\n",
    "\n",
    "display7 = metrics.ConfusionMatrixDisplay(confusion_matrix = cm7,display_labels = rfc1.classes_)\n",
    "display7.plot();"
   ]
  },
  {
   "cell_type": "code",
   "execution_count": 63,
   "id": "0c7e7aa0",
   "metadata": {
    "execution": {
     "iopub.execute_input": "2024-03-05T06:40:33.340687Z",
     "iopub.status.busy": "2024-03-05T06:40:33.340039Z",
     "iopub.status.idle": "2024-03-05T06:40:33.346600Z",
     "shell.execute_reply": "2024-03-05T06:40:33.345435Z"
    },
    "papermill": {
     "duration": 0.044923,
     "end_time": "2024-03-05T06:40:33.350069",
     "exception": false,
     "start_time": "2024-03-05T06:40:33.305146",
     "status": "completed"
    },
    "tags": []
   },
   "outputs": [
    {
     "name": "stdout",
     "output_type": "stream",
     "text": [
      "Sınıf 0 için Accuracy: 0.903\n",
      "Sınıf 1 için Accuracy: 0.920\n"
     ]
    }
   ],
   "source": [
    "for i in range(len(cm7)):\n",
    "    class_accuracy = cm7[i, i] / cm7[i, :].sum()\n",
    "    print(f'Sınıf {i} için Accuracy: {class_accuracy:.3f}')"
   ]
  },
  {
   "cell_type": "markdown",
   "id": "8260798b",
   "metadata": {
    "papermill": {
     "duration": 0.032863,
     "end_time": "2024-03-05T06:40:33.416014",
     "exception": false,
     "start_time": "2024-03-05T06:40:33.383151",
     "status": "completed"
    },
    "tags": []
   },
   "source": [
    "#### Linear regression \n",
    "\n",
    "Sınıf 0 için Accuracy: 0.756\n",
    "Sınıf 1 için Accuracy: 0.752\n",
    "\n",
    "#### Naive Bayes\n",
    "\n",
    "Sınıf 0 için Accuracy: 0.778\n",
    "Sınıf 1 için Accuracy: 0.747\n",
    "\n",
    "#### KNN\n",
    "\n",
    "Sınıf 0 için Accuracy: 0.915\n",
    "Sınıf 1 için Accuracy: 0.897\n",
    "\n",
    "#### SVC \n",
    "\n",
    "Sınıf 0 için Accuracy: 0.905\n",
    "Sınıf 1 için Accuracy: 0.902\n",
    "\n",
    "#### Decision Tree\n",
    "\n",
    "Sınıf 0 için Accuracy: 0.805\n",
    "Sınıf 1 için Accuracy: 0.815\n",
    "\n",
    "#### Random Forest\n",
    "\n",
    "Sınıf 0 için Accuracy: 0.903\n",
    "Sınıf 1 için Accuracy: 0.912\n",
    "\n",
    "#### Random Forest best_params_\n",
    "\n",
    "Sınıf 0 için Accuracy: 0.903\n",
    "Sınıf 1 için Accuracy: 0.920"
   ]
  }
 ],
 "metadata": {
  "kaggle": {
   "accelerator": "none",
   "dataSources": [
    {
     "datasetId": 4291772,
     "sourceId": 7384155,
     "sourceType": "datasetVersion"
    }
   ],
   "dockerImageVersionId": 30664,
   "isGpuEnabled": false,
   "isInternetEnabled": true,
   "language": "python",
   "sourceType": "notebook"
  },
  "kernelspec": {
   "display_name": "Python 3",
   "language": "python",
   "name": "python3"
  },
  "language_info": {
   "codemirror_mode": {
    "name": "ipython",
    "version": 3
   },
   "file_extension": ".py",
   "mimetype": "text/x-python",
   "name": "python",
   "nbconvert_exporter": "python",
   "pygments_lexer": "ipython3",
   "version": "3.10.13"
  },
  "papermill": {
   "default_parameters": {},
   "duration": 321.550301,
   "end_time": "2024-03-05T06:40:34.373244",
   "environment_variables": {},
   "exception": null,
   "input_path": "__notebook__.ipynb",
   "output_path": "__notebook__.ipynb",
   "parameters": {},
   "start_time": "2024-03-05T06:35:12.822943",
   "version": "2.5.0"
  }
 },
 "nbformat": 4,
 "nbformat_minor": 5
}
