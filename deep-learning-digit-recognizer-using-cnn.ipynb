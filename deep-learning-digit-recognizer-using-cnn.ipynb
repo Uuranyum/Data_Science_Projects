{
 "cells": [
  {
   "cell_type": "code",
   "execution_count": 1,
   "id": "9f13721f",
   "metadata": {
    "execution": {
     "iopub.execute_input": "2024-10-17T12:57:32.114613Z",
     "iopub.status.busy": "2024-10-17T12:57:32.114097Z",
     "iopub.status.idle": "2024-10-17T12:57:38.775536Z",
     "shell.execute_reply": "2024-10-17T12:57:38.774442Z"
    },
    "papermill": {
     "duration": 6.670688,
     "end_time": "2024-10-17T12:57:38.778437",
     "exception": false,
     "start_time": "2024-10-17T12:57:32.107749",
     "status": "completed"
    },
    "tags": []
   },
   "outputs": [],
   "source": [
    "import numpy as np\n",
    "import pandas as pd\n",
    "import matplotlib.pyplot as plt\n",
    "import torch\n",
    "from torch import nn, optim\n",
    "from torch.utils.data import DataLoader, TensorDataset, random_split\n",
    "from torchvision import transforms\n",
    "import os\n",
    "from tqdm.auto import tqdm"
   ]
  },
  {
   "cell_type": "code",
   "execution_count": 2,
   "id": "934d11dc",
   "metadata": {
    "execution": {
     "iopub.execute_input": "2024-10-17T12:57:38.789512Z",
     "iopub.status.busy": "2024-10-17T12:57:38.788222Z",
     "iopub.status.idle": "2024-10-17T12:57:38.795895Z",
     "shell.execute_reply": "2024-10-17T12:57:38.794568Z"
    },
    "papermill": {
     "duration": 0.015971,
     "end_time": "2024-10-17T12:57:38.798691",
     "exception": false,
     "start_time": "2024-10-17T12:57:38.782720",
     "status": "completed"
    },
    "tags": []
   },
   "outputs": [
    {
     "name": "stdout",
     "output_type": "stream",
     "text": [
      "Using device: cpu\n"
     ]
    }
   ],
   "source": [
    "device = \"cuda\" if torch.cuda.is_available() else \"cpu\"\n",
    "print(f\"Using device: {device}\")"
   ]
  },
  {
   "cell_type": "code",
   "execution_count": 3,
   "id": "8af4cd8e",
   "metadata": {
    "execution": {
     "iopub.execute_input": "2024-10-17T12:57:38.809096Z",
     "iopub.status.busy": "2024-10-17T12:57:38.808661Z",
     "iopub.status.idle": "2024-10-17T12:57:44.671099Z",
     "shell.execute_reply": "2024-10-17T12:57:44.669893Z"
    },
    "papermill": {
     "duration": 5.871078,
     "end_time": "2024-10-17T12:57:44.673839",
     "exception": false,
     "start_time": "2024-10-17T12:57:38.802761",
     "status": "completed"
    },
    "tags": []
   },
   "outputs": [],
   "source": [
    "sample = '/kaggle/input/digit-recognizer/sample_submission.csv'\n",
    "test = '/kaggle/input/digit-recognizer/test.csv'\n",
    "train = '/kaggle/input/digit-recognizer/train.csv'\n",
    "\n",
    "df_sample = pd.read_csv(sample)\n",
    "df_test = pd.read_csv(test)\n",
    "df_train = pd.read_csv(train)"
   ]
  },
  {
   "cell_type": "code",
   "execution_count": 4,
   "id": "cb7beb6c",
   "metadata": {
    "_kg_hide-output": true,
    "execution": {
     "iopub.execute_input": "2024-10-17T12:57:44.683840Z",
     "iopub.status.busy": "2024-10-17T12:57:44.683441Z",
     "iopub.status.idle": "2024-10-17T12:57:44.711855Z",
     "shell.execute_reply": "2024-10-17T12:57:44.710386Z"
    },
    "papermill": {
     "duration": 0.036501,
     "end_time": "2024-10-17T12:57:44.714644",
     "exception": false,
     "start_time": "2024-10-17T12:57:44.678143",
     "status": "completed"
    },
    "tags": []
   },
   "outputs": [
    {
     "data": {
      "text/html": [
       "<div>\n",
       "<style scoped>\n",
       "    .dataframe tbody tr th:only-of-type {\n",
       "        vertical-align: middle;\n",
       "    }\n",
       "\n",
       "    .dataframe tbody tr th {\n",
       "        vertical-align: top;\n",
       "    }\n",
       "\n",
       "    .dataframe thead th {\n",
       "        text-align: right;\n",
       "    }\n",
       "</style>\n",
       "<table border=\"1\" class=\"dataframe\">\n",
       "  <thead>\n",
       "    <tr style=\"text-align: right;\">\n",
       "      <th></th>\n",
       "      <th>label</th>\n",
       "      <th>pixel0</th>\n",
       "      <th>pixel1</th>\n",
       "      <th>pixel2</th>\n",
       "      <th>pixel3</th>\n",
       "      <th>pixel4</th>\n",
       "      <th>pixel5</th>\n",
       "      <th>pixel6</th>\n",
       "      <th>pixel7</th>\n",
       "      <th>pixel8</th>\n",
       "      <th>...</th>\n",
       "      <th>pixel774</th>\n",
       "      <th>pixel775</th>\n",
       "      <th>pixel776</th>\n",
       "      <th>pixel777</th>\n",
       "      <th>pixel778</th>\n",
       "      <th>pixel779</th>\n",
       "      <th>pixel780</th>\n",
       "      <th>pixel781</th>\n",
       "      <th>pixel782</th>\n",
       "      <th>pixel783</th>\n",
       "    </tr>\n",
       "  </thead>\n",
       "  <tbody>\n",
       "    <tr>\n",
       "      <th>0</th>\n",
       "      <td>1</td>\n",
       "      <td>0</td>\n",
       "      <td>0</td>\n",
       "      <td>0</td>\n",
       "      <td>0</td>\n",
       "      <td>0</td>\n",
       "      <td>0</td>\n",
       "      <td>0</td>\n",
       "      <td>0</td>\n",
       "      <td>0</td>\n",
       "      <td>...</td>\n",
       "      <td>0</td>\n",
       "      <td>0</td>\n",
       "      <td>0</td>\n",
       "      <td>0</td>\n",
       "      <td>0</td>\n",
       "      <td>0</td>\n",
       "      <td>0</td>\n",
       "      <td>0</td>\n",
       "      <td>0</td>\n",
       "      <td>0</td>\n",
       "    </tr>\n",
       "    <tr>\n",
       "      <th>1</th>\n",
       "      <td>0</td>\n",
       "      <td>0</td>\n",
       "      <td>0</td>\n",
       "      <td>0</td>\n",
       "      <td>0</td>\n",
       "      <td>0</td>\n",
       "      <td>0</td>\n",
       "      <td>0</td>\n",
       "      <td>0</td>\n",
       "      <td>0</td>\n",
       "      <td>...</td>\n",
       "      <td>0</td>\n",
       "      <td>0</td>\n",
       "      <td>0</td>\n",
       "      <td>0</td>\n",
       "      <td>0</td>\n",
       "      <td>0</td>\n",
       "      <td>0</td>\n",
       "      <td>0</td>\n",
       "      <td>0</td>\n",
       "      <td>0</td>\n",
       "    </tr>\n",
       "    <tr>\n",
       "      <th>2</th>\n",
       "      <td>1</td>\n",
       "      <td>0</td>\n",
       "      <td>0</td>\n",
       "      <td>0</td>\n",
       "      <td>0</td>\n",
       "      <td>0</td>\n",
       "      <td>0</td>\n",
       "      <td>0</td>\n",
       "      <td>0</td>\n",
       "      <td>0</td>\n",
       "      <td>...</td>\n",
       "      <td>0</td>\n",
       "      <td>0</td>\n",
       "      <td>0</td>\n",
       "      <td>0</td>\n",
       "      <td>0</td>\n",
       "      <td>0</td>\n",
       "      <td>0</td>\n",
       "      <td>0</td>\n",
       "      <td>0</td>\n",
       "      <td>0</td>\n",
       "    </tr>\n",
       "    <tr>\n",
       "      <th>3</th>\n",
       "      <td>4</td>\n",
       "      <td>0</td>\n",
       "      <td>0</td>\n",
       "      <td>0</td>\n",
       "      <td>0</td>\n",
       "      <td>0</td>\n",
       "      <td>0</td>\n",
       "      <td>0</td>\n",
       "      <td>0</td>\n",
       "      <td>0</td>\n",
       "      <td>...</td>\n",
       "      <td>0</td>\n",
       "      <td>0</td>\n",
       "      <td>0</td>\n",
       "      <td>0</td>\n",
       "      <td>0</td>\n",
       "      <td>0</td>\n",
       "      <td>0</td>\n",
       "      <td>0</td>\n",
       "      <td>0</td>\n",
       "      <td>0</td>\n",
       "    </tr>\n",
       "    <tr>\n",
       "      <th>4</th>\n",
       "      <td>0</td>\n",
       "      <td>0</td>\n",
       "      <td>0</td>\n",
       "      <td>0</td>\n",
       "      <td>0</td>\n",
       "      <td>0</td>\n",
       "      <td>0</td>\n",
       "      <td>0</td>\n",
       "      <td>0</td>\n",
       "      <td>0</td>\n",
       "      <td>...</td>\n",
       "      <td>0</td>\n",
       "      <td>0</td>\n",
       "      <td>0</td>\n",
       "      <td>0</td>\n",
       "      <td>0</td>\n",
       "      <td>0</td>\n",
       "      <td>0</td>\n",
       "      <td>0</td>\n",
       "      <td>0</td>\n",
       "      <td>0</td>\n",
       "    </tr>\n",
       "  </tbody>\n",
       "</table>\n",
       "<p>5 rows × 785 columns</p>\n",
       "</div>"
      ],
      "text/plain": [
       "   label  pixel0  pixel1  pixel2  pixel3  pixel4  pixel5  pixel6  pixel7  \\\n",
       "0      1       0       0       0       0       0       0       0       0   \n",
       "1      0       0       0       0       0       0       0       0       0   \n",
       "2      1       0       0       0       0       0       0       0       0   \n",
       "3      4       0       0       0       0       0       0       0       0   \n",
       "4      0       0       0       0       0       0       0       0       0   \n",
       "\n",
       "   pixel8  ...  pixel774  pixel775  pixel776  pixel777  pixel778  pixel779  \\\n",
       "0       0  ...         0         0         0         0         0         0   \n",
       "1       0  ...         0         0         0         0         0         0   \n",
       "2       0  ...         0         0         0         0         0         0   \n",
       "3       0  ...         0         0         0         0         0         0   \n",
       "4       0  ...         0         0         0         0         0         0   \n",
       "\n",
       "   pixel780  pixel781  pixel782  pixel783  \n",
       "0         0         0         0         0  \n",
       "1         0         0         0         0  \n",
       "2         0         0         0         0  \n",
       "3         0         0         0         0  \n",
       "4         0         0         0         0  \n",
       "\n",
       "[5 rows x 785 columns]"
      ]
     },
     "execution_count": 4,
     "metadata": {},
     "output_type": "execute_result"
    }
   ],
   "source": [
    "df_train.head()"
   ]
  },
  {
   "cell_type": "code",
   "execution_count": 5,
   "id": "3b8fdd29",
   "metadata": {
    "_kg_hide-output": true,
    "execution": {
     "iopub.execute_input": "2024-10-17T12:57:44.725552Z",
     "iopub.status.busy": "2024-10-17T12:57:44.725116Z",
     "iopub.status.idle": "2024-10-17T12:57:44.783772Z",
     "shell.execute_reply": "2024-10-17T12:57:44.782410Z"
    },
    "papermill": {
     "duration": 0.067394,
     "end_time": "2024-10-17T12:57:44.786495",
     "exception": false,
     "start_time": "2024-10-17T12:57:44.719101",
     "status": "completed"
    },
    "scrolled": true,
    "tags": []
   },
   "outputs": [
    {
     "name": "stdout",
     "output_type": "stream",
     "text": [
      "<class 'pandas.core.frame.DataFrame'>\n",
      "RangeIndex: 42000 entries, 0 to 41999\n",
      "Columns: 785 entries, label to pixel783\n",
      "dtypes: int64(785)\n",
      "memory usage: 251.5 MB\n"
     ]
    }
   ],
   "source": [
    "df_train.info()"
   ]
  },
  {
   "cell_type": "code",
   "execution_count": 6,
   "id": "8f8a88d3",
   "metadata": {
    "execution": {
     "iopub.execute_input": "2024-10-17T12:57:44.798301Z",
     "iopub.status.busy": "2024-10-17T12:57:44.797849Z",
     "iopub.status.idle": "2024-10-17T12:57:44.920251Z",
     "shell.execute_reply": "2024-10-17T12:57:44.918740Z"
    },
    "papermill": {
     "duration": 0.131785,
     "end_time": "2024-10-17T12:57:44.923041",
     "exception": false,
     "start_time": "2024-10-17T12:57:44.791256",
     "status": "completed"
    },
    "tags": []
   },
   "outputs": [],
   "source": [
    "X_train = df_train.drop(columns = 'label').values\n",
    "y_train = df_train['label']"
   ]
  },
  {
   "cell_type": "code",
   "execution_count": 7,
   "id": "bb6259b4",
   "metadata": {
    "execution": {
     "iopub.execute_input": "2024-10-17T12:57:44.933713Z",
     "iopub.status.busy": "2024-10-17T12:57:44.933286Z",
     "iopub.status.idle": "2024-10-17T12:57:44.944360Z",
     "shell.execute_reply": "2024-10-17T12:57:44.943144Z"
    },
    "papermill": {
     "duration": 0.019489,
     "end_time": "2024-10-17T12:57:44.946987",
     "exception": false,
     "start_time": "2024-10-17T12:57:44.927498",
     "status": "completed"
    },
    "tags": []
   },
   "outputs": [],
   "source": [
    "label_counts = y_train.value_counts().sort_index()"
   ]
  },
  {
   "cell_type": "code",
   "execution_count": 8,
   "id": "2ee1b949",
   "metadata": {
    "execution": {
     "iopub.execute_input": "2024-10-17T12:57:44.958444Z",
     "iopub.status.busy": "2024-10-17T12:57:44.958060Z",
     "iopub.status.idle": "2024-10-17T12:57:45.266978Z",
     "shell.execute_reply": "2024-10-17T12:57:45.265497Z"
    },
    "papermill": {
     "duration": 0.317558,
     "end_time": "2024-10-17T12:57:45.269622",
     "exception": false,
     "start_time": "2024-10-17T12:57:44.952064",
     "status": "completed"
    },
    "tags": []
   },
   "outputs": [
    {
     "data": {
      "image/png": "[encoded data removed]",
      "text/plain": [
       "<Figure size 1200x800 with 1 Axes>"
      ]
     },
     "metadata": {},
     "output_type": "display_data"
    }
   ],
   "source": [
    "plt.figure(figsize = (12,8))\n",
    "plt.bar(label_counts.index, label_counts.values)\n",
    "plt.xlabel('Label')\n",
    "plt.ylabel('Count')\n",
    "plt.title('Label Distribution')\n",
    "plt.xticks(label_counts.index)\n",
    "plt.show()"
   ]
  },
  {
   "cell_type": "code",
   "execution_count": 9,
   "id": "02ac1b2b",
   "metadata": {
    "execution": {
     "iopub.execute_input": "2024-10-17T12:57:45.281108Z",
     "iopub.status.busy": "2024-10-17T12:57:45.280668Z",
     "iopub.status.idle": "2024-10-17T12:57:45.667313Z",
     "shell.execute_reply": "2024-10-17T12:57:45.666012Z"
    },
    "papermill": {
     "duration": 0.39544,
     "end_time": "2024-10-17T12:57:45.670125",
     "exception": false,
     "start_time": "2024-10-17T12:57:45.274685",
     "status": "completed"
    },
    "tags": []
   },
   "outputs": [],
   "source": [
    "X_train_torch = torch.tensor(X_train / 255.0, dtype = torch.float32)\n",
    "y_train_torch = torch.tensor(y_train, dtype = torch.long)\n",
    "test_Data = torch.tensor(df_test.values / 255.0, dtype = torch.float32)"
   ]
  },
  {
   "cell_type": "code",
   "execution_count": 10,
   "id": "82e4a153",
   "metadata": {
    "execution": {
     "iopub.execute_input": "2024-10-17T12:57:45.682947Z",
     "iopub.status.busy": "2024-10-17T12:57:45.682393Z",
     "iopub.status.idle": "2024-10-17T12:57:45.724782Z",
     "shell.execute_reply": "2024-10-17T12:57:45.723191Z"
    },
    "papermill": {
     "duration": 0.051687,
     "end_time": "2024-10-17T12:57:45.727902",
     "exception": false,
     "start_time": "2024-10-17T12:57:45.676215",
     "status": "completed"
    },
    "tags": []
   },
   "outputs": [
    {
     "data": {
      "text/plain": [
       "([0, 1, 2, 3, 4, 5, 6, 7, 8, 9], 10)"
      ]
     },
     "execution_count": 10,
     "metadata": {},
     "output_type": "execute_result"
    }
   ],
   "source": [
    "class_names = y_train_torch.unique().tolist()\n",
    "class_num = len(class_names)\n",
    "class_names, class_num"
   ]
  },
  {
   "cell_type": "code",
   "execution_count": 11,
   "id": "695468f9",
   "metadata": {
    "execution": {
     "iopub.execute_input": "2024-10-17T12:57:45.741056Z",
     "iopub.status.busy": "2024-10-17T12:57:45.740585Z",
     "iopub.status.idle": "2024-10-17T12:57:45.748557Z",
     "shell.execute_reply": "2024-10-17T12:57:45.747423Z"
    },
    "papermill": {
     "duration": 0.018013,
     "end_time": "2024-10-17T12:57:45.750905",
     "exception": false,
     "start_time": "2024-10-17T12:57:45.732892",
     "status": "completed"
    },
    "tags": []
   },
   "outputs": [
    {
     "name": "stdout",
     "output_type": "stream",
     "text": [
      "torch.Size([42000, 784])  => [data_Size, height * width]\n",
      "torch.Size([42000, 1, 28, 28])  => [data_size, channels, height, width]\n"
     ]
    }
   ],
   "source": [
    "print(X_train_torch.shape, ' => [data_Size, height * width]')\n",
    "X_train_torch = X_train_torch.reshape(-1, 1, 28, 28)\n",
    "print(X_train_torch.shape, ' => [data_size, channels, height, width]')"
   ]
  },
  {
   "cell_type": "code",
   "execution_count": 12,
   "id": "c0e9fe71",
   "metadata": {
    "execution": {
     "iopub.execute_input": "2024-10-17T12:57:45.762725Z",
     "iopub.status.busy": "2024-10-17T12:57:45.762267Z",
     "iopub.status.idle": "2024-10-17T12:57:45.789489Z",
     "shell.execute_reply": "2024-10-17T12:57:45.788082Z"
    },
    "papermill": {
     "duration": 0.036544,
     "end_time": "2024-10-17T12:57:45.792459",
     "exception": false,
     "start_time": "2024-10-17T12:57:45.755915",
     "status": "completed"
    },
    "tags": []
   },
   "outputs": [],
   "source": [
    "torch.manual_seed(247)\n",
    "\n",
    "df = TensorDataset(X_train_torch, y_train_torch)\n",
    "\n",
    "train_dataset, val_dataset = random_split(df, [0.8, 0.2])"
   ]
  },
  {
   "cell_type": "code",
   "execution_count": null,
   "id": "f388ae65",
   "metadata": {
    "papermill": {
     "duration": 0.004675,
     "end_time": "2024-10-17T12:57:45.802308",
     "exception": false,
     "start_time": "2024-10-17T12:57:45.797633",
     "status": "completed"
    },
    "tags": []
   },
   "outputs": [],
   "source": []
  }
 ],
 "metadata": {
  "kaggle": {
   "accelerator": "none",
   "dataSources": [
    {
     "databundleVersionId": 861823,
     "sourceId": 3004,
     "sourceType": "competition"
    }
   ],
   "dockerImageVersionId": 30786,
   "isGpuEnabled": false,
   "isInternetEnabled": true,
   "language": "python",
   "sourceType": "notebook"
  },
  "kernelspec": {
   "display_name": "Python 3",
   "language": "python",
   "name": "python3"
  },
  "language_info": {
   "codemirror_mode": {
    "name": "ipython",
    "version": 3
   },
   "file_extension": ".py",
   "mimetype": "text/x-python",
   "name": "python",
   "nbconvert_exporter": "python",
   "pygments_lexer": "ipython3",
   "version": "3.10.14"
  },
  "papermill": {
   "default_parameters": {},
   "duration": 18.14027,
   "end_time": "2024-10-17T12:57:47.132283",
   "environment_variables": {},
   "exception": null,
   "input_path": "__notebook__.ipynb",
   "output_path": "__notebook__.ipynb",
   "parameters": {},
   "start_time": "2024-10-17T12:57:28.992013",
   "version": "2.6.0"
  }
 },
 "nbformat": 4,
 "nbformat_minor": 5
}
