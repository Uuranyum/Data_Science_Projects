{
 "cells": [
  {
   "cell_type": "code",
   "execution_count": 1,
   "id": "8ae946b6",
   "metadata": {
    "execution": {
     "iopub.execute_input": "2024-03-11T10:42:24.661372Z",
     "iopub.status.busy": "2024-03-11T10:42:24.660573Z",
     "iopub.status.idle": "2024-03-11T10:42:28.038371Z",
     "shell.execute_reply": "2024-03-11T10:42:28.036988Z"
    },
    "papermill": {
     "duration": 3.395123,
     "end_time": "2024-03-11T10:42:28.042775",
     "exception": false,
     "start_time": "2024-03-11T10:42:24.647652",
     "status": "completed"
    },
    "tags": []
   },
   "outputs": [],
   "source": [
    "import pandas as pd\n",
    "import numpy as np\n",
    "import seaborn as sns\n",
    "import statsmodels.stats.api as sms\n",
    "from scipy.stats import shapiro, levene, mannwhitneyu, ttest_ind, pearsonr, fisher_exact\n",
    "\n",
    "import warnings\n",
    "\n",
    "warnings.simplefilter(action='ignore', category=FutureWarning)\n",
    "\n",
    "pd.set_option('display.max_columns', None)\n",
    "pd.set_option('display.max_rows', None)\n",
    "pd.set_option('display.width', None)\n",
    "pd.set_option('display.float_format', lambda x: '%.3f' % x)"
   ]
  },
  {
   "cell_type": "code",
   "execution_count": 2,
   "id": "5606c7c2",
   "metadata": {
    "execution": {
     "iopub.execute_input": "2024-03-11T10:42:28.065545Z",
     "iopub.status.busy": "2024-03-11T10:42:28.064903Z",
     "iopub.status.idle": "2024-03-11T10:42:28.564196Z",
     "shell.execute_reply": "2024-03-11T10:42:28.562836Z"
    },
    "papermill": {
     "duration": 0.514478,
     "end_time": "2024-03-11T10:42:28.567355",
     "exception": false,
     "start_time": "2024-03-11T10:42:28.052877",
     "status": "completed"
    },
    "tags": []
   },
   "outputs": [],
   "source": [
    "df = pd.read_csv('/kaggle/input/ecommerce-ab-testing-2022-dataset1/ecommerce_ab_testing_2022_dataset1/ab_data.csv')"
   ]
  },
  {
   "cell_type": "code",
   "execution_count": 3,
   "id": "d050f98d",
   "metadata": {
    "execution": {
     "iopub.execute_input": "2024-03-11T10:42:28.588483Z",
     "iopub.status.busy": "2024-03-11T10:42:28.588060Z",
     "iopub.status.idle": "2024-03-11T10:42:28.612017Z",
     "shell.execute_reply": "2024-03-11T10:42:28.610908Z"
    },
    "papermill": {
     "duration": 0.038391,
     "end_time": "2024-03-11T10:42:28.615313",
     "exception": false,
     "start_time": "2024-03-11T10:42:28.576922",
     "status": "completed"
    },
    "tags": []
   },
   "outputs": [
    {
     "data": {
      "text/html": [
       "<div>\n",
       "<style scoped>\n",
       "    .dataframe tbody tr th:only-of-type {\n",
       "        vertical-align: middle;\n",
       "    }\n",
       "\n",
       "    .dataframe tbody tr th {\n",
       "        vertical-align: top;\n",
       "    }\n",
       "\n",
       "    .dataframe thead th {\n",
       "        text-align: right;\n",
       "    }\n",
       "</style>\n",
       "<table border=\"1\" class=\"dataframe\">\n",
       "  <thead>\n",
       "    <tr style=\"text-align: right;\">\n",
       "      <th></th>\n",
       "      <th>user_id</th>\n",
       "      <th>timestamp</th>\n",
       "      <th>group</th>\n",
       "      <th>landing_page</th>\n",
       "      <th>converted</th>\n",
       "    </tr>\n",
       "  </thead>\n",
       "  <tbody>\n",
       "    <tr>\n",
       "      <th>0</th>\n",
       "      <td>851104</td>\n",
       "      <td>11:48.6</td>\n",
       "      <td>control</td>\n",
       "      <td>old_page</td>\n",
       "      <td>0</td>\n",
       "    </tr>\n",
       "    <tr>\n",
       "      <th>1</th>\n",
       "      <td>804228</td>\n",
       "      <td>01:45.2</td>\n",
       "      <td>control</td>\n",
       "      <td>old_page</td>\n",
       "      <td>0</td>\n",
       "    </tr>\n",
       "    <tr>\n",
       "      <th>2</th>\n",
       "      <td>661590</td>\n",
       "      <td>55:06.2</td>\n",
       "      <td>treatment</td>\n",
       "      <td>new_page</td>\n",
       "      <td>0</td>\n",
       "    </tr>\n",
       "    <tr>\n",
       "      <th>3</th>\n",
       "      <td>853541</td>\n",
       "      <td>28:03.1</td>\n",
       "      <td>treatment</td>\n",
       "      <td>new_page</td>\n",
       "      <td>0</td>\n",
       "    </tr>\n",
       "    <tr>\n",
       "      <th>4</th>\n",
       "      <td>864975</td>\n",
       "      <td>52:26.2</td>\n",
       "      <td>control</td>\n",
       "      <td>old_page</td>\n",
       "      <td>1</td>\n",
       "    </tr>\n",
       "  </tbody>\n",
       "</table>\n",
       "</div>"
      ],
      "text/plain": [
       "   user_id timestamp      group landing_page  converted\n",
       "0   851104   11:48.6    control     old_page          0\n",
       "1   804228   01:45.2    control     old_page          0\n",
       "2   661590   55:06.2  treatment     new_page          0\n",
       "3   853541   28:03.1  treatment     new_page          0\n",
       "4   864975   52:26.2    control     old_page          1"
      ]
     },
     "execution_count": 3,
     "metadata": {},
     "output_type": "execute_result"
    }
   ],
   "source": [
    "df.head()"
   ]
  },
  {
   "cell_type": "code",
   "execution_count": 4,
   "id": "8f49901e",
   "metadata": {
    "execution": {
     "iopub.execute_input": "2024-03-11T10:42:28.637109Z",
     "iopub.status.busy": "2024-03-11T10:42:28.636695Z",
     "iopub.status.idle": "2024-03-11T10:42:28.644460Z",
     "shell.execute_reply": "2024-03-11T10:42:28.643331Z"
    },
    "papermill": {
     "duration": 0.021403,
     "end_time": "2024-03-11T10:42:28.646857",
     "exception": false,
     "start_time": "2024-03-11T10:42:28.625454",
     "status": "completed"
    },
    "tags": []
   },
   "outputs": [
    {
     "data": {
      "text/plain": [
       "(294480, 5)"
      ]
     },
     "execution_count": 4,
     "metadata": {},
     "output_type": "execute_result"
    }
   ],
   "source": [
    "df.shape"
   ]
  },
  {
   "cell_type": "code",
   "execution_count": 5,
   "id": "768f4bbc",
   "metadata": {
    "execution": {
     "iopub.execute_input": "2024-03-11T10:42:28.670213Z",
     "iopub.status.busy": "2024-03-11T10:42:28.669771Z",
     "iopub.status.idle": "2024-03-11T10:42:28.814673Z",
     "shell.execute_reply": "2024-03-11T10:42:28.813608Z"
    },
    "papermill": {
     "duration": 0.16104,
     "end_time": "2024-03-11T10:42:28.818137",
     "exception": false,
     "start_time": "2024-03-11T10:42:28.657097",
     "status": "completed"
    },
    "tags": []
   },
   "outputs": [
    {
     "name": "stdout",
     "output_type": "stream",
     "text": [
      "<class 'pandas.core.frame.DataFrame'>\n",
      "RangeIndex: 294480 entries, 0 to 294479\n",
      "Data columns (total 5 columns):\n",
      " #   Column        Non-Null Count   Dtype \n",
      "---  ------        --------------   ----- \n",
      " 0   user_id       294480 non-null  int64 \n",
      " 1   timestamp     294480 non-null  object\n",
      " 2   group         294480 non-null  object\n",
      " 3   landing_page  294480 non-null  object\n",
      " 4   converted     294480 non-null  int64 \n",
      "dtypes: int64(2), object(3)\n",
      "memory usage: 11.2+ MB\n"
     ]
    }
   ],
   "source": [
    "df.info()"
   ]
  },
  {
   "cell_type": "code",
   "execution_count": 6,
   "id": "5a8b4207",
   "metadata": {
    "execution": {
     "iopub.execute_input": "2024-03-11T10:42:28.843176Z",
     "iopub.status.busy": "2024-03-11T10:42:28.842057Z",
     "iopub.status.idle": "2024-03-11T10:42:28.962672Z",
     "shell.execute_reply": "2024-03-11T10:42:28.961234Z"
    },
    "papermill": {
     "duration": 0.136628,
     "end_time": "2024-03-11T10:42:28.965657",
     "exception": false,
     "start_time": "2024-03-11T10:42:28.829029",
     "status": "completed"
    },
    "tags": []
   },
   "outputs": [
    {
     "data": {
      "text/plain": [
       "user_id         0\n",
       "timestamp       0\n",
       "group           0\n",
       "landing_page    0\n",
       "converted       0\n",
       "dtype: int64"
      ]
     },
     "execution_count": 6,
     "metadata": {},
     "output_type": "execute_result"
    }
   ],
   "source": [
    "df.isnull().sum()"
   ]
  },
  {
   "cell_type": "code",
   "execution_count": 7,
   "id": "3ff56c58",
   "metadata": {
    "execution": {
     "iopub.execute_input": "2024-03-11T10:42:28.990390Z",
     "iopub.status.busy": "2024-03-11T10:42:28.989902Z",
     "iopub.status.idle": "2024-03-11T10:42:29.131070Z",
     "shell.execute_reply": "2024-03-11T10:42:29.129380Z"
    },
    "papermill": {
     "duration": 0.157033,
     "end_time": "2024-03-11T10:42:29.133839",
     "exception": false,
     "start_time": "2024-03-11T10:42:28.976806",
     "status": "completed"
    },
    "tags": []
   },
   "outputs": [
    {
     "data": {
      "text/plain": [
       "user_id         290585\n",
       "timestamp        35993\n",
       "group                2\n",
       "landing_page         2\n",
       "converted            2\n",
       "dtype: int64"
      ]
     },
     "execution_count": 7,
     "metadata": {},
     "output_type": "execute_result"
    }
   ],
   "source": [
    "df.nunique()"
   ]
  },
  {
   "cell_type": "code",
   "execution_count": 8,
   "id": "ba8681f3",
   "metadata": {
    "execution": {
     "iopub.execute_input": "2024-03-11T10:42:29.159450Z",
     "iopub.status.busy": "2024-03-11T10:42:29.158625Z",
     "iopub.status.idle": "2024-03-11T10:42:29.207386Z",
     "shell.execute_reply": "2024-03-11T10:42:29.205956Z"
    },
    "papermill": {
     "duration": 0.065554,
     "end_time": "2024-03-11T10:42:29.210515",
     "exception": false,
     "start_time": "2024-03-11T10:42:29.144961",
     "status": "completed"
    },
    "tags": []
   },
   "outputs": [],
   "source": [
    "df.drop_duplicates(subset='user_id',keep=False, inplace=True)"
   ]
  },
  {
   "cell_type": "code",
   "execution_count": 9,
   "id": "47aa619a",
   "metadata": {
    "execution": {
     "iopub.execute_input": "2024-03-11T10:42:29.233447Z",
     "iopub.status.busy": "2024-03-11T10:42:29.232979Z",
     "iopub.status.idle": "2024-03-11T10:42:29.240944Z",
     "shell.execute_reply": "2024-03-11T10:42:29.239609Z"
    },
    "papermill": {
     "duration": 0.022433,
     "end_time": "2024-03-11T10:42:29.243495",
     "exception": false,
     "start_time": "2024-03-11T10:42:29.221062",
     "status": "completed"
    },
    "tags": []
   },
   "outputs": [
    {
     "data": {
      "text/plain": [
       "(286690, 5)"
      ]
     },
     "execution_count": 9,
     "metadata": {},
     "output_type": "execute_result"
    }
   ],
   "source": [
    "df.shape"
   ]
  },
  {
   "cell_type": "code",
   "execution_count": 10,
   "id": "bf37e2f2",
   "metadata": {
    "execution": {
     "iopub.execute_input": "2024-03-11T10:42:29.266565Z",
     "iopub.status.busy": "2024-03-11T10:42:29.266120Z",
     "iopub.status.idle": "2024-03-11T10:42:29.384396Z",
     "shell.execute_reply": "2024-03-11T10:42:29.382224Z"
    },
    "papermill": {
     "duration": 0.133034,
     "end_time": "2024-03-11T10:42:29.387222",
     "exception": false,
     "start_time": "2024-03-11T10:42:29.254188",
     "status": "completed"
    },
    "tags": []
   },
   "outputs": [
    {
     "name": "stdout",
     "output_type": "stream",
     "text": [
      "<class 'pandas.core.frame.DataFrame'>\n",
      "Index: 286690 entries, 0 to 294479\n",
      "Data columns (total 5 columns):\n",
      " #   Column        Non-Null Count   Dtype \n",
      "---  ------        --------------   ----- \n",
      " 0   user_id       286690 non-null  int64 \n",
      " 1   timestamp     286690 non-null  object\n",
      " 2   group         286690 non-null  object\n",
      " 3   landing_page  286690 non-null  object\n",
      " 4   converted     286690 non-null  int64 \n",
      "dtypes: int64(2), object(3)\n",
      "memory usage: 13.1+ MB\n"
     ]
    }
   ],
   "source": [
    "df.info()"
   ]
  },
  {
   "cell_type": "code",
   "execution_count": 11,
   "id": "245f89d6",
   "metadata": {
    "execution": {
     "iopub.execute_input": "2024-03-11T10:42:29.413143Z",
     "iopub.status.busy": "2024-03-11T10:42:29.412690Z",
     "iopub.status.idle": "2024-03-11T10:42:29.426941Z",
     "shell.execute_reply": "2024-03-11T10:42:29.425717Z"
    },
    "papermill": {
     "duration": 0.030282,
     "end_time": "2024-03-11T10:42:29.429421",
     "exception": false,
     "start_time": "2024-03-11T10:42:29.399139",
     "status": "completed"
    },
    "tags": []
   },
   "outputs": [
    {
     "data": {
      "text/html": [
       "<div>\n",
       "<style scoped>\n",
       "    .dataframe tbody tr th:only-of-type {\n",
       "        vertical-align: middle;\n",
       "    }\n",
       "\n",
       "    .dataframe tbody tr th {\n",
       "        vertical-align: top;\n",
       "    }\n",
       "\n",
       "    .dataframe thead th {\n",
       "        text-align: right;\n",
       "    }\n",
       "</style>\n",
       "<table border=\"1\" class=\"dataframe\">\n",
       "  <thead>\n",
       "    <tr style=\"text-align: right;\">\n",
       "      <th></th>\n",
       "      <th>user_id</th>\n",
       "      <th>timestamp</th>\n",
       "      <th>group</th>\n",
       "      <th>landing_page</th>\n",
       "      <th>converted</th>\n",
       "    </tr>\n",
       "  </thead>\n",
       "  <tbody>\n",
       "    <tr>\n",
       "      <th>0</th>\n",
       "      <td>851104</td>\n",
       "      <td>11:48.6</td>\n",
       "      <td>control</td>\n",
       "      <td>old_page</td>\n",
       "      <td>0</td>\n",
       "    </tr>\n",
       "    <tr>\n",
       "      <th>1</th>\n",
       "      <td>804228</td>\n",
       "      <td>01:45.2</td>\n",
       "      <td>control</td>\n",
       "      <td>old_page</td>\n",
       "      <td>0</td>\n",
       "    </tr>\n",
       "    <tr>\n",
       "      <th>2</th>\n",
       "      <td>661590</td>\n",
       "      <td>55:06.2</td>\n",
       "      <td>treatment</td>\n",
       "      <td>new_page</td>\n",
       "      <td>0</td>\n",
       "    </tr>\n",
       "    <tr>\n",
       "      <th>3</th>\n",
       "      <td>853541</td>\n",
       "      <td>28:03.1</td>\n",
       "      <td>treatment</td>\n",
       "      <td>new_page</td>\n",
       "      <td>0</td>\n",
       "    </tr>\n",
       "    <tr>\n",
       "      <th>4</th>\n",
       "      <td>864975</td>\n",
       "      <td>52:26.2</td>\n",
       "      <td>control</td>\n",
       "      <td>old_page</td>\n",
       "      <td>1</td>\n",
       "    </tr>\n",
       "  </tbody>\n",
       "</table>\n",
       "</div>"
      ],
      "text/plain": [
       "   user_id timestamp      group landing_page  converted\n",
       "0   851104   11:48.6    control     old_page          0\n",
       "1   804228   01:45.2    control     old_page          0\n",
       "2   661590   55:06.2  treatment     new_page          0\n",
       "3   853541   28:03.1  treatment     new_page          0\n",
       "4   864975   52:26.2    control     old_page          1"
      ]
     },
     "execution_count": 11,
     "metadata": {},
     "output_type": "execute_result"
    }
   ],
   "source": [
    "df.head()"
   ]
  },
  {
   "cell_type": "code",
   "execution_count": 12,
   "id": "e3a8ec5f",
   "metadata": {
    "execution": {
     "iopub.execute_input": "2024-03-11T10:42:29.454381Z",
     "iopub.status.busy": "2024-03-11T10:42:29.453952Z",
     "iopub.status.idle": "2024-03-11T10:42:29.536066Z",
     "shell.execute_reply": "2024-03-11T10:42:29.534760Z"
    },
    "papermill": {
     "duration": 0.098383,
     "end_time": "2024-03-11T10:42:29.539125",
     "exception": false,
     "start_time": "2024-03-11T10:42:29.440742",
     "status": "completed"
    },
    "tags": []
   },
   "outputs": [],
   "source": [
    "result = df.groupby(['group', 'landing_page']).size()"
   ]
  },
  {
   "cell_type": "code",
   "execution_count": 13,
   "id": "922b6ecc",
   "metadata": {
    "execution": {
     "iopub.execute_input": "2024-03-11T10:42:29.563353Z",
     "iopub.status.busy": "2024-03-11T10:42:29.562928Z",
     "iopub.status.idle": "2024-03-11T10:42:29.572965Z",
     "shell.execute_reply": "2024-03-11T10:42:29.571522Z"
    },
    "papermill": {
     "duration": 0.025053,
     "end_time": "2024-03-11T10:42:29.575719",
     "exception": false,
     "start_time": "2024-03-11T10:42:29.550666",
     "status": "completed"
    },
    "tags": []
   },
   "outputs": [
    {
     "data": {
      "text/plain": [
       "group      landing_page\n",
       "control    old_page        143293\n",
       "treatment  new_page        143397\n",
       "dtype: int64"
      ]
     },
     "execution_count": 13,
     "metadata": {},
     "output_type": "execute_result"
    }
   ],
   "source": [
    "result"
   ]
  },
  {
   "cell_type": "code",
   "execution_count": 14,
   "id": "47434b4b",
   "metadata": {
    "execution": {
     "iopub.execute_input": "2024-03-11T10:42:29.601669Z",
     "iopub.status.busy": "2024-03-11T10:42:29.601224Z",
     "iopub.status.idle": "2024-03-11T10:42:29.684321Z",
     "shell.execute_reply": "2024-03-11T10:42:29.683317Z"
    },
    "papermill": {
     "duration": 0.099655,
     "end_time": "2024-03-11T10:42:29.687227",
     "exception": false,
     "start_time": "2024-03-11T10:42:29.587572",
     "status": "completed"
    },
    "tags": []
   },
   "outputs": [],
   "source": [
    "result2 = df.groupby(['group', 'landing_page'])['converted'].mean().reset_index(name='mean_conversion')"
   ]
  },
  {
   "cell_type": "code",
   "execution_count": 15,
   "id": "9cd51b0d",
   "metadata": {
    "execution": {
     "iopub.execute_input": "2024-03-11T10:42:29.713388Z",
     "iopub.status.busy": "2024-03-11T10:42:29.712982Z",
     "iopub.status.idle": "2024-03-11T10:42:29.725100Z",
     "shell.execute_reply": "2024-03-11T10:42:29.724219Z"
    },
    "papermill": {
     "duration": 0.029103,
     "end_time": "2024-03-11T10:42:29.727881",
     "exception": false,
     "start_time": "2024-03-11T10:42:29.698778",
     "status": "completed"
    },
    "tags": []
   },
   "outputs": [
    {
     "data": {
      "text/html": [
       "<div>\n",
       "<style scoped>\n",
       "    .dataframe tbody tr th:only-of-type {\n",
       "        vertical-align: middle;\n",
       "    }\n",
       "\n",
       "    .dataframe tbody tr th {\n",
       "        vertical-align: top;\n",
       "    }\n",
       "\n",
       "    .dataframe thead th {\n",
       "        text-align: right;\n",
       "    }\n",
       "</style>\n",
       "<table border=\"1\" class=\"dataframe\">\n",
       "  <thead>\n",
       "    <tr style=\"text-align: right;\">\n",
       "      <th></th>\n",
       "      <th>group</th>\n",
       "      <th>landing_page</th>\n",
       "      <th>mean_conversion</th>\n",
       "    </tr>\n",
       "  </thead>\n",
       "  <tbody>\n",
       "    <tr>\n",
       "      <th>0</th>\n",
       "      <td>control</td>\n",
       "      <td>old_page</td>\n",
       "      <td>0.120</td>\n",
       "    </tr>\n",
       "    <tr>\n",
       "      <th>1</th>\n",
       "      <td>treatment</td>\n",
       "      <td>new_page</td>\n",
       "      <td>0.119</td>\n",
       "    </tr>\n",
       "  </tbody>\n",
       "</table>\n",
       "</div>"
      ],
      "text/plain": [
       "       group landing_page  mean_conversion\n",
       "0    control     old_page            0.120\n",
       "1  treatment     new_page            0.119"
      ]
     },
     "execution_count": 15,
     "metadata": {},
     "output_type": "execute_result"
    }
   ],
   "source": [
    "result2"
   ]
  },
  {
   "cell_type": "code",
   "execution_count": 16,
   "id": "3c869c06",
   "metadata": {
    "execution": {
     "iopub.execute_input": "2024-03-11T10:42:29.753584Z",
     "iopub.status.busy": "2024-03-11T10:42:29.753049Z",
     "iopub.status.idle": "2024-03-11T10:42:29.816124Z",
     "shell.execute_reply": "2024-03-11T10:42:29.814416Z"
    },
    "papermill": {
     "duration": 0.079453,
     "end_time": "2024-03-11T10:42:29.818883",
     "exception": false,
     "start_time": "2024-03-11T10:42:29.739430",
     "status": "completed"
    },
    "tags": []
   },
   "outputs": [],
   "source": [
    "result3 = df['landing_page'].value_counts(normalize=True).mul(100).reset_index(name='percentage')"
   ]
  },
  {
   "cell_type": "code",
   "execution_count": 17,
   "id": "da3997f3",
   "metadata": {
    "execution": {
     "iopub.execute_input": "2024-03-11T10:42:29.852359Z",
     "iopub.status.busy": "2024-03-11T10:42:29.851877Z",
     "iopub.status.idle": "2024-03-11T10:42:29.863232Z",
     "shell.execute_reply": "2024-03-11T10:42:29.861800Z"
    },
    "papermill": {
     "duration": 0.033579,
     "end_time": "2024-03-11T10:42:29.866572",
     "exception": false,
     "start_time": "2024-03-11T10:42:29.832993",
     "status": "completed"
    },
    "tags": []
   },
   "outputs": [
    {
     "data": {
      "text/html": [
       "<div>\n",
       "<style scoped>\n",
       "    .dataframe tbody tr th:only-of-type {\n",
       "        vertical-align: middle;\n",
       "    }\n",
       "\n",
       "    .dataframe tbody tr th {\n",
       "        vertical-align: top;\n",
       "    }\n",
       "\n",
       "    .dataframe thead th {\n",
       "        text-align: right;\n",
       "    }\n",
       "</style>\n",
       "<table border=\"1\" class=\"dataframe\">\n",
       "  <thead>\n",
       "    <tr style=\"text-align: right;\">\n",
       "      <th></th>\n",
       "      <th>landing_page</th>\n",
       "      <th>percentage</th>\n",
       "    </tr>\n",
       "  </thead>\n",
       "  <tbody>\n",
       "    <tr>\n",
       "      <th>0</th>\n",
       "      <td>new_page</td>\n",
       "      <td>50.018</td>\n",
       "    </tr>\n",
       "    <tr>\n",
       "      <th>1</th>\n",
       "      <td>old_page</td>\n",
       "      <td>49.982</td>\n",
       "    </tr>\n",
       "  </tbody>\n",
       "</table>\n",
       "</div>"
      ],
      "text/plain": [
       "  landing_page  percentage\n",
       "0     new_page      50.018\n",
       "1     old_page      49.982"
      ]
     },
     "execution_count": 17,
     "metadata": {},
     "output_type": "execute_result"
    }
   ],
   "source": [
    "result3"
   ]
  },
  {
   "cell_type": "code",
   "execution_count": 18,
   "id": "2ca55d8f",
   "metadata": {
    "execution": {
     "iopub.execute_input": "2024-03-11T10:42:29.899168Z",
     "iopub.status.busy": "2024-03-11T10:42:29.897238Z",
     "iopub.status.idle": "2024-03-11T10:42:30.000116Z",
     "shell.execute_reply": "2024-03-11T10:42:29.998833Z"
    },
    "papermill": {
     "duration": 0.12388,
     "end_time": "2024-03-11T10:42:30.003060",
     "exception": false,
     "start_time": "2024-03-11T10:42:29.879180",
     "status": "completed"
    },
    "tags": []
   },
   "outputs": [],
   "source": [
    "result4 = df.query(\"(group == 'control' & landing_page == 'new_page') | (group == 'treatment' & landing_page == 'old_page')\")"
   ]
  },
  {
   "cell_type": "code",
   "execution_count": 19,
   "id": "ff22d185",
   "metadata": {
    "execution": {
     "iopub.execute_input": "2024-03-11T10:42:30.031005Z",
     "iopub.status.busy": "2024-03-11T10:42:30.030569Z",
     "iopub.status.idle": "2024-03-11T10:42:30.043674Z",
     "shell.execute_reply": "2024-03-11T10:42:30.042388Z"
    },
    "papermill": {
     "duration": 0.029814,
     "end_time": "2024-03-11T10:42:30.046450",
     "exception": false,
     "start_time": "2024-03-11T10:42:30.016636",
     "status": "completed"
    },
    "tags": []
   },
   "outputs": [
    {
     "data": {
      "text/html": [
       "<div>\n",
       "<style scoped>\n",
       "    .dataframe tbody tr th:only-of-type {\n",
       "        vertical-align: middle;\n",
       "    }\n",
       "\n",
       "    .dataframe tbody tr th {\n",
       "        vertical-align: top;\n",
       "    }\n",
       "\n",
       "    .dataframe thead th {\n",
       "        text-align: right;\n",
       "    }\n",
       "</style>\n",
       "<table border=\"1\" class=\"dataframe\">\n",
       "  <thead>\n",
       "    <tr style=\"text-align: right;\">\n",
       "      <th></th>\n",
       "      <th>user_id</th>\n",
       "      <th>timestamp</th>\n",
       "      <th>group</th>\n",
       "      <th>landing_page</th>\n",
       "      <th>converted</th>\n",
       "    </tr>\n",
       "  </thead>\n",
       "  <tbody>\n",
       "  </tbody>\n",
       "</table>\n",
       "</div>"
      ],
      "text/plain": [
       "Empty DataFrame\n",
       "Columns: [user_id, timestamp, group, landing_page, converted]\n",
       "Index: []"
      ]
     },
     "execution_count": 19,
     "metadata": {},
     "output_type": "execute_result"
    }
   ],
   "source": [
    "result4"
   ]
  },
  {
   "cell_type": "markdown",
   "id": "eb95bb9b",
   "metadata": {
    "papermill": {
     "duration": 0.013341,
     "end_time": "2024-03-11T10:42:30.071655",
     "exception": false,
     "start_time": "2024-03-11T10:42:30.058314",
     "status": "completed"
    },
    "tags": []
   },
   "source": [
    "Control group = new page\n",
    "\n",
    "Treatment group = old page"
   ]
  },
  {
   "cell_type": "markdown",
   "id": "c150af11",
   "metadata": {
    "papermill": {
     "duration": 0.01237,
     "end_time": "2024-03-11T10:42:30.096744",
     "exception": false,
     "start_time": "2024-03-11T10:42:30.084374",
     "status": "completed"
    },
    "tags": []
   },
   "source": [
    "### AB Test\n",
    "#### Assumption of Normality\n",
    "\n",
    "- H0: Assumption of normal distribution is satisfied\n",
    "- H1: The assumption of normal distribution is not met\n",
    "\n",
    "If the p-value is less than 0.05, it is considered significant and a non-parametric test is used. Otherwise, a parametric test."
   ]
  },
  {
   "cell_type": "code",
   "execution_count": 20,
   "id": "5358724a",
   "metadata": {
    "execution": {
     "iopub.execute_input": "2024-03-11T10:42:30.128602Z",
     "iopub.status.busy": "2024-03-11T10:42:30.127728Z",
     "iopub.status.idle": "2024-03-11T10:42:30.221713Z",
     "shell.execute_reply": "2024-03-11T10:42:30.219059Z"
    },
    "papermill": {
     "duration": 0.116347,
     "end_time": "2024-03-11T10:42:30.226310",
     "exception": false,
     "start_time": "2024-03-11T10:42:30.109963",
     "status": "completed"
    },
    "tags": []
   },
   "outputs": [
    {
     "name": "stdout",
     "output_type": "stream",
     "text": [
      "p-value: 0.0\n",
      "test_stat: 0.3792334198951721\n"
     ]
    },
    {
     "name": "stderr",
     "output_type": "stream",
     "text": [
      "/opt/conda/lib/python3.10/site-packages/scipy/stats/_morestats.py:1882: UserWarning: p-value may not be accurate for N > 5000.\n",
      "  warnings.warn(\"p-value may not be accurate for N > 5000.\")\n"
     ]
    }
   ],
   "source": [
    "test_stat, pvalue  = shapiro(df.loc[df[\"landing_page\"] == \"old_page\", \"converted\"])\n",
    "print(\"p-value:\", pvalue)\n",
    "print(\"test_stat:\", test_stat)"
   ]
  },
  {
   "cell_type": "code",
   "execution_count": 21,
   "id": "d4c6a7e5",
   "metadata": {
    "execution": {
     "iopub.execute_input": "2024-03-11T10:42:30.253644Z",
     "iopub.status.busy": "2024-03-11T10:42:30.253218Z",
     "iopub.status.idle": "2024-03-11T10:42:30.331212Z",
     "shell.execute_reply": "2024-03-11T10:42:30.329817Z"
    },
    "papermill": {
     "duration": 0.095029,
     "end_time": "2024-03-11T10:42:30.333847",
     "exception": false,
     "start_time": "2024-03-11T10:42:30.238818",
     "status": "completed"
    },
    "tags": []
   },
   "outputs": [
    {
     "name": "stdout",
     "output_type": "stream",
     "text": [
      "Test Stat = 0.3769, p-value = 0.0000\n"
     ]
    }
   ],
   "source": [
    "test_stat, pvalue = shapiro(df.loc[df[\"landing_page\"] == \"new_page\", \"converted\"])\n",
    "print('Test Stat = %.4f, p-value = %.4f' % (test_stat, pvalue))"
   ]
  },
  {
   "cell_type": "markdown",
   "id": "52b3e640",
   "metadata": {
    "papermill": {
     "duration": 0.012621,
     "end_time": "2024-03-11T10:42:30.358569",
     "exception": false,
     "start_time": "2024-03-11T10:42:30.345948",
     "status": "completed"
    },
    "tags": []
   },
   "source": [
    "p-value < 0.05"
   ]
  },
  {
   "cell_type": "markdown",
   "id": "daaf6a45",
   "metadata": {
    "papermill": {
     "duration": 0.011842,
     "end_time": "2024-03-11T10:42:30.382785",
     "exception": false,
     "start_time": "2024-03-11T10:42:30.370943",
     "status": "completed"
    },
    "tags": []
   },
   "source": [
    "### Variance Homogeneity\n",
    "- H0: Variances are homogeneous\n",
    "- H1: Variances are not homogeneous"
   ]
  },
  {
   "cell_type": "code",
   "execution_count": 22,
   "id": "5dc8ff51",
   "metadata": {
    "execution": {
     "iopub.execute_input": "2024-03-11T10:42:30.411398Z",
     "iopub.status.busy": "2024-03-11T10:42:30.410946Z",
     "iopub.status.idle": "2024-03-11T10:42:30.559708Z",
     "shell.execute_reply": "2024-03-11T10:42:30.558330Z"
    },
    "papermill": {
     "duration": 0.167002,
     "end_time": "2024-03-11T10:42:30.562808",
     "exception": false,
     "start_time": "2024-03-11T10:42:30.395806",
     "status": "completed"
    },
    "tags": []
   },
   "outputs": [
    {
     "name": "stdout",
     "output_type": "stream",
     "text": [
      "Test Stat = 1.4268, p-value = 0.2323\n"
     ]
    }
   ],
   "source": [
    "test_stat, pvalue = levene(df.loc[df[\"landing_page\"] == \"new_page\", \"converted\"],\n",
    "                           df.loc[df[\"landing_page\"] == \"old_page\", \"converted\"])\n",
    "print('Test Stat = %.4f, p-value = %.4f' % (test_stat, pvalue))"
   ]
  },
  {
   "cell_type": "markdown",
   "id": "3ea4bb6b",
   "metadata": {
    "execution": {
     "iopub.execute_input": "2024-03-11T10:22:52.480016Z",
     "iopub.status.busy": "2024-03-11T10:22:52.479528Z",
     "iopub.status.idle": "2024-03-11T10:22:52.518769Z",
     "shell.execute_reply": "2024-03-11T10:22:52.517662Z",
     "shell.execute_reply.started": "2024-03-11T10:22:52.479980Z"
    },
    "papermill": {
     "duration": 0.014716,
     "end_time": "2024-03-11T10:42:30.590309",
     "exception": false,
     "start_time": "2024-03-11T10:42:30.575593",
     "status": "completed"
    },
    "tags": []
   },
   "source": [
    "p-value > 0.05\n",
    "\n",
    "Variances are homogenous H0: cannot be rejected"
   ]
  },
  {
   "cell_type": "markdown",
   "id": "e1b47990",
   "metadata": {
    "papermill": {
     "duration": 0.011781,
     "end_time": "2024-03-11T10:42:30.614478",
     "exception": false,
     "start_time": "2024-03-11T10:42:30.602697",
     "status": "completed"
    },
    "tags": []
   },
   "source": [
    "### Hypothesis Testing¶\n",
    "\n",
    "- H0: There is not statistically significant difference between the old page and new page\n",
    "- H1: There is statistically significant difference between the old page and new page\n"
   ]
  },
  {
   "cell_type": "code",
   "execution_count": 23,
   "id": "a2066f22",
   "metadata": {
    "execution": {
     "iopub.execute_input": "2024-03-11T10:42:30.641618Z",
     "iopub.status.busy": "2024-03-11T10:42:30.641190Z",
     "iopub.status.idle": "2024-03-11T10:42:31.218746Z",
     "shell.execute_reply": "2024-03-11T10:42:31.216929Z"
    },
    "papermill": {
     "duration": 0.594341,
     "end_time": "2024-03-11T10:42:31.221575",
     "exception": false,
     "start_time": "2024-03-11T10:42:30.627234",
     "status": "completed"
    },
    "tags": []
   },
   "outputs": [
    {
     "name": "stdout",
     "output_type": "stream",
     "text": [
      "Test Stat = 10259026653.0000, p-value = 0.2323\n"
     ]
    }
   ],
   "source": [
    "test_stat, pvalue = mannwhitneyu(df.loc[df[\"landing_page\"] == \"new_page\", \"converted\"],\n",
    "                           df.loc[df[\"landing_page\"] == \"old_page\", \"converted\"])\n",
    "\n",
    "print('Test Stat = %.4f, p-value = %.4f' % (test_stat, pvalue))"
   ]
  },
  {
   "cell_type": "markdown",
   "id": "d69bbb1a",
   "metadata": {
    "papermill": {
     "duration": 0.011869,
     "end_time": "2024-03-11T10:42:31.245922",
     "exception": false,
     "start_time": "2024-03-11T10:42:31.234053",
     "status": "completed"
    },
    "tags": []
   },
   "source": [
    "p-value >0.05\n",
    "There is not statistically significant difference between the old page and new page  H0: cannot be rejected"
   ]
  }
 ],
 "metadata": {
  "kaggle": {
   "accelerator": "none",
   "dataSources": [
    {
     "datasetId": 2133464,
     "sourceId": 3548178,
     "sourceType": "datasetVersion"
    }
   ],
   "dockerImageVersionId": 30664,
   "isGpuEnabled": false,
   "isInternetEnabled": true,
   "language": "python",
   "sourceType": "notebook"
  },
  "kernelspec": {
   "display_name": "Python 3",
   "language": "python",
   "name": "python3"
  },
  "language_info": {
   "codemirror_mode": {
    "name": "ipython",
    "version": 3
   },
   "file_extension": ".py",
   "mimetype": "text/x-python",
   "name": "python",
   "nbconvert_exporter": "python",
   "pygments_lexer": "ipython3",
   "version": "3.10.13"
  },
  "papermill": {
   "default_parameters": {},
   "duration": 11.206696,
   "end_time": "2024-03-11T10:42:32.182016",
   "environment_variables": {},
   "exception": null,
   "input_path": "__notebook__.ipynb",
   "output_path": "__notebook__.ipynb",
   "parameters": {},
   "start_time": "2024-03-11T10:42:20.975320",
   "version": "2.5.0"
  }
 },
 "nbformat": 4,
 "nbformat_minor": 5
}
