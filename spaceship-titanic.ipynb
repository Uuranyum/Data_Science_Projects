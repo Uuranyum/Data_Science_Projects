{
 "cells": [
  {
   "cell_type": "code",
   "execution_count": 1,
   "id": "1f5ea1fb",
   "metadata": {
    "execution": {
     "iopub.execute_input": "2024-03-06T06:45:01.435925Z",
     "iopub.status.busy": "2024-03-06T06:45:01.435597Z",
     "iopub.status.idle": "2024-03-06T06:45:04.933351Z",
     "shell.execute_reply": "2024-03-06T06:45:04.932412Z"
    },
    "papermill": {
     "duration": 3.506257,
     "end_time": "2024-03-06T06:45:04.936134",
     "exception": false,
     "start_time": "2024-03-06T06:45:01.429877",
     "status": "completed"
    },
    "tags": []
   },
   "outputs": [],
   "source": [
    "import numpy as np\n",
    "import pandas as pd\n",
    "import matplotlib.pyplot as plt\n",
    "import seaborn as sns\n",
    "from sklearn.linear_model import LogisticRegression\n",
    "from sklearn.ensemble import RandomForestClassifier\n",
    "from sklearn.tree import DecisionTreeClassifier\n",
    "from sklearn.neighbors import KNeighborsClassifier\n",
    "from xgboost import XGBClassifier\n",
    "from sklearn.ensemble import AdaBoostClassifier\n",
    "from catboost import CatBoostClassifier\n",
    "from lightgbm import LGBMClassifier\n",
    "from sklearn.naive_bayes import GaussianNB\n",
    "from sklearn.ensemble import GradientBoostingClassifier\n",
    "from sklearn.svm import SVC\n",
    "from sklearn.preprocessing import MinMaxScaler,StandardScaler, LabelEncoder\n",
    "from sklearn.metrics import classification_report,confusion_matrix,mean_squared_error,accuracy_score\n",
    "from sklearn.model_selection import train_test_split, cross_val_score,GridSearchCV\n",
    "\n",
    "import warnings\n",
    "warnings.filterwarnings(\"ignore\")\n",
    "\n",
    "pd.set_option('display.max_columns', None)\n",
    "pd.set_option('display.max_rows', None)\n",
    "pd.set_option('display.width', None)\n",
    "pd.set_option('display.float_format', lambda x: '%.3f' % x)"
   ]
  },
  {
   "cell_type": "code",
   "execution_count": 2,
   "id": "576537b3",
   "metadata": {
    "execution": {
     "iopub.execute_input": "2024-03-06T06:45:04.944652Z",
     "iopub.status.busy": "2024-03-06T06:45:04.944156Z",
     "iopub.status.idle": "2024-03-06T06:45:05.017119Z",
     "shell.execute_reply": "2024-03-06T06:45:05.016246Z"
    },
    "papermill": {
     "duration": 0.079539,
     "end_time": "2024-03-06T06:45:05.019621",
     "exception": false,
     "start_time": "2024-03-06T06:45:04.940082",
     "status": "completed"
    },
    "tags": []
   },
   "outputs": [],
   "source": [
    "test = pd.read_csv('/kaggle/input/spaceship-titanic/test.csv')\n",
    "train = pd.read_csv('/kaggle/input/spaceship-titanic/train.csv')"
   ]
  },
  {
   "cell_type": "code",
   "execution_count": 3,
   "id": "f5e935ea",
   "metadata": {
    "execution": {
     "iopub.execute_input": "2024-03-06T06:45:05.027837Z",
     "iopub.status.busy": "2024-03-06T06:45:05.027504Z",
     "iopub.status.idle": "2024-03-06T06:45:05.039855Z",
     "shell.execute_reply": "2024-03-06T06:45:05.039096Z"
    },
    "papermill": {
     "duration": 0.018493,
     "end_time": "2024-03-06T06:45:05.041732",
     "exception": false,
     "start_time": "2024-03-06T06:45:05.023239",
     "status": "completed"
    },
    "tags": []
   },
   "outputs": [
    {
     "data": {
      "text/plain": [
       "PassengerId       0\n",
       "HomePlanet       87\n",
       "CryoSleep        93\n",
       "Cabin           100\n",
       "Destination      92\n",
       "Age              91\n",
       "VIP              93\n",
       "RoomService      82\n",
       "FoodCourt       106\n",
       "ShoppingMall     98\n",
       "Spa             101\n",
       "VRDeck           80\n",
       "Name             94\n",
       "dtype: int64"
      ]
     },
     "execution_count": 3,
     "metadata": {},
     "output_type": "execute_result"
    }
   ],
   "source": [
    "test.isna().sum()"
   ]
  },
  {
   "cell_type": "code",
   "execution_count": 4,
   "id": "0424f971",
   "metadata": {
    "execution": {
     "iopub.execute_input": "2024-03-06T06:45:05.050417Z",
     "iopub.status.busy": "2024-03-06T06:45:05.049490Z",
     "iopub.status.idle": "2024-03-06T06:45:05.058009Z",
     "shell.execute_reply": "2024-03-06T06:45:05.057449Z"
    },
    "papermill": {
     "duration": 0.014271,
     "end_time": "2024-03-06T06:45:05.059575",
     "exception": false,
     "start_time": "2024-03-06T06:45:05.045304",
     "status": "completed"
    },
    "tags": []
   },
   "outputs": [
    {
     "data": {
      "text/plain": [
       "PassengerId       0\n",
       "HomePlanet      201\n",
       "CryoSleep       217\n",
       "Cabin           199\n",
       "Destination     182\n",
       "Age             179\n",
       "VIP             203\n",
       "RoomService     181\n",
       "FoodCourt       183\n",
       "ShoppingMall    208\n",
       "Spa             183\n",
       "VRDeck          188\n",
       "Name            200\n",
       "Transported       0\n",
       "dtype: int64"
      ]
     },
     "execution_count": 4,
     "metadata": {},
     "output_type": "execute_result"
    }
   ],
   "source": [
    "train.isna().sum()"
   ]
  },
  {
   "cell_type": "code",
   "execution_count": 5,
   "id": "bd3d2f8a",
   "metadata": {
    "execution": {
     "iopub.execute_input": "2024-03-06T06:45:05.067665Z",
     "iopub.status.busy": "2024-03-06T06:45:05.067252Z",
     "iopub.status.idle": "2024-03-06T06:45:05.153089Z",
     "shell.execute_reply": "2024-03-06T06:45:05.152298Z"
    },
    "papermill": {
     "duration": 0.09158,
     "end_time": "2024-03-06T06:45:05.154766",
     "exception": false,
     "start_time": "2024-03-06T06:45:05.063186",
     "status": "completed"
    },
    "tags": []
   },
   "outputs": [
    {
     "data": {
      "text/html": [
       "<div>\n",
       "<style scoped>\n",
       "    .dataframe tbody tr th:only-of-type {\n",
       "        vertical-align: middle;\n",
       "    }\n",
       "\n",
       "    .dataframe tbody tr th {\n",
       "        vertical-align: top;\n",
       "    }\n",
       "\n",
       "    .dataframe thead th {\n",
       "        text-align: right;\n",
       "    }\n",
       "</style>\n",
       "<table border=\"1\" class=\"dataframe\">\n",
       "  <thead>\n",
       "    <tr style=\"text-align: right;\">\n",
       "      <th></th>\n",
       "      <th>PassengerId</th>\n",
       "      <th>HomePlanet</th>\n",
       "      <th>CryoSleep</th>\n",
       "      <th>Cabin</th>\n",
       "      <th>Destination</th>\n",
       "      <th>Age</th>\n",
       "      <th>VIP</th>\n",
       "      <th>RoomService</th>\n",
       "      <th>FoodCourt</th>\n",
       "      <th>ShoppingMall</th>\n",
       "      <th>Spa</th>\n",
       "      <th>VRDeck</th>\n",
       "      <th>Name</th>\n",
       "      <th>Transported</th>\n",
       "    </tr>\n",
       "  </thead>\n",
       "  <tbody>\n",
       "    <tr>\n",
       "      <th>0</th>\n",
       "      <td>0001_01</td>\n",
       "      <td>Europa</td>\n",
       "      <td>False</td>\n",
       "      <td>B/0/P</td>\n",
       "      <td>TRAPPIST-1e</td>\n",
       "      <td>39.000</td>\n",
       "      <td>False</td>\n",
       "      <td>0.000</td>\n",
       "      <td>0.000</td>\n",
       "      <td>0.000</td>\n",
       "      <td>0.000</td>\n",
       "      <td>0.000</td>\n",
       "      <td>Maham Ofracculy</td>\n",
       "      <td>False</td>\n",
       "    </tr>\n",
       "    <tr>\n",
       "      <th>1</th>\n",
       "      <td>0002_01</td>\n",
       "      <td>Earth</td>\n",
       "      <td>False</td>\n",
       "      <td>F/0/S</td>\n",
       "      <td>TRAPPIST-1e</td>\n",
       "      <td>24.000</td>\n",
       "      <td>False</td>\n",
       "      <td>109.000</td>\n",
       "      <td>9.000</td>\n",
       "      <td>25.000</td>\n",
       "      <td>549.000</td>\n",
       "      <td>44.000</td>\n",
       "      <td>Juanna Vines</td>\n",
       "      <td>True</td>\n",
       "    </tr>\n",
       "    <tr>\n",
       "      <th>2</th>\n",
       "      <td>0003_01</td>\n",
       "      <td>Europa</td>\n",
       "      <td>False</td>\n",
       "      <td>A/0/S</td>\n",
       "      <td>TRAPPIST-1e</td>\n",
       "      <td>58.000</td>\n",
       "      <td>True</td>\n",
       "      <td>43.000</td>\n",
       "      <td>3576.000</td>\n",
       "      <td>0.000</td>\n",
       "      <td>6715.000</td>\n",
       "      <td>49.000</td>\n",
       "      <td>Altark Susent</td>\n",
       "      <td>False</td>\n",
       "    </tr>\n",
       "    <tr>\n",
       "      <th>3</th>\n",
       "      <td>0003_02</td>\n",
       "      <td>Europa</td>\n",
       "      <td>False</td>\n",
       "      <td>A/0/S</td>\n",
       "      <td>TRAPPIST-1e</td>\n",
       "      <td>33.000</td>\n",
       "      <td>False</td>\n",
       "      <td>0.000</td>\n",
       "      <td>1283.000</td>\n",
       "      <td>371.000</td>\n",
       "      <td>3329.000</td>\n",
       "      <td>193.000</td>\n",
       "      <td>Solam Susent</td>\n",
       "      <td>False</td>\n",
       "    </tr>\n",
       "    <tr>\n",
       "      <th>4</th>\n",
       "      <td>0004_01</td>\n",
       "      <td>Earth</td>\n",
       "      <td>False</td>\n",
       "      <td>F/1/S</td>\n",
       "      <td>TRAPPIST-1e</td>\n",
       "      <td>16.000</td>\n",
       "      <td>False</td>\n",
       "      <td>303.000</td>\n",
       "      <td>70.000</td>\n",
       "      <td>151.000</td>\n",
       "      <td>565.000</td>\n",
       "      <td>2.000</td>\n",
       "      <td>Willy Santantines</td>\n",
       "      <td>True</td>\n",
       "    </tr>\n",
       "  </tbody>\n",
       "</table>\n",
       "</div>"
      ],
      "text/plain": [
       "  PassengerId HomePlanet CryoSleep  Cabin  Destination    Age    VIP  \\\n",
       "0     0001_01     Europa     False  B/0/P  TRAPPIST-1e 39.000  False   \n",
       "1     0002_01      Earth     False  F/0/S  TRAPPIST-1e 24.000  False   \n",
       "2     0003_01     Europa     False  A/0/S  TRAPPIST-1e 58.000   True   \n",
       "3     0003_02     Europa     False  A/0/S  TRAPPIST-1e 33.000  False   \n",
       "4     0004_01      Earth     False  F/1/S  TRAPPIST-1e 16.000  False   \n",
       "\n",
       "   RoomService  FoodCourt  ShoppingMall      Spa  VRDeck               Name  \\\n",
       "0        0.000      0.000         0.000    0.000   0.000    Maham Ofracculy   \n",
       "1      109.000      9.000        25.000  549.000  44.000       Juanna Vines   \n",
       "2       43.000   3576.000         0.000 6715.000  49.000      Altark Susent   \n",
       "3        0.000   1283.000       371.000 3329.000 193.000       Solam Susent   \n",
       "4      303.000     70.000       151.000  565.000   2.000  Willy Santantines   \n",
       "\n",
       "  Transported  \n",
       "0       False  \n",
       "1        True  \n",
       "2       False  \n",
       "3       False  \n",
       "4        True  "
      ]
     },
     "execution_count": 5,
     "metadata": {},
     "output_type": "execute_result"
    }
   ],
   "source": [
    "df = pd.merge(train, test, how='outer')\n",
    "df.head()"
   ]
  },
  {
   "cell_type": "markdown",
   "id": "6a8b8182",
   "metadata": {
    "execution": {
     "iopub.execute_input": "2024-03-06T06:32:38.236777Z",
     "iopub.status.busy": "2024-03-06T06:32:38.236256Z",
     "iopub.status.idle": "2024-03-06T06:32:38.252118Z",
     "shell.execute_reply": "2024-03-06T06:32:38.250504Z",
     "shell.execute_reply.started": "2024-03-06T06:32:38.236736Z"
    },
    "papermill": {
     "duration": 0.003277,
     "end_time": "2024-03-06T06:45:05.161731",
     "exception": false,
     "start_time": "2024-03-06T06:45:05.158454",
     "status": "completed"
    },
    "tags": []
   },
   "source": [
    "###File and Data Field Descriptions\n",
    "\n",
    "***train.csv*** - Personal records for about two-thirds (~8700) of the passengers, to be used as training data.\n",
    "\n",
    "***PassengerId*** - A unique Id for each passenger. Each Id takes the form gggg_pp where gggg indicates a group the passenger is travelling with and pp is their number within the group. People in a group are often family members, but not always.\n",
    "\n",
    "***HomePlanet*** - The planet the passenger departed from, typically their planet of permanent residence.\n",
    "\n",
    "***CryoSleep*** - Indicates whether the passenger elected to be put into suspended animation for the duration of the voyage. Passengers in cryosleep are confined to their cabins.\n",
    "\n",
    "***Cabin*** - The cabin number where the passenger is staying. Takes the form deck/num/side, where side can be either P for Port or S for Starboard.\n",
    "\n",
    "***Destination*** - The planet the passenger will be debarking to.\n",
    "\n",
    "***Age*** - The age of the passenger.\n",
    "\n",
    "***VIP*** - Whether the passenger has paid for special VIP service during the voyage.\n",
    "\n",
    "***RoomService, FoodCourt, ShoppingMall, Spa, VRDeck*** - Amount the passenger has billed at each of the Spaceship Titanic's many luxury amenities.\n",
    "\n",
    "***Name*** - The first and last names of the passenger.\n",
    "\n",
    "***Transported*** - Whether the passenger was transported to another dimension. This is the target, the column you are trying to predict."
   ]
  },
  {
   "cell_type": "code",
   "execution_count": 6,
   "id": "5fa808f9",
   "metadata": {
    "execution": {
     "iopub.execute_input": "2024-03-06T06:45:05.170058Z",
     "iopub.status.busy": "2024-03-06T06:45:05.169742Z",
     "iopub.status.idle": "2024-03-06T06:45:05.194313Z",
     "shell.execute_reply": "2024-03-06T06:45:05.193548Z"
    },
    "papermill": {
     "duration": 0.030761,
     "end_time": "2024-03-06T06:45:05.195843",
     "exception": false,
     "start_time": "2024-03-06T06:45:05.165082",
     "status": "completed"
    },
    "tags": []
   },
   "outputs": [
    {
     "data": {
      "text/html": [
       "<div>\n",
       "<style scoped>\n",
       "    .dataframe tbody tr th:only-of-type {\n",
       "        vertical-align: middle;\n",
       "    }\n",
       "\n",
       "    .dataframe tbody tr th {\n",
       "        vertical-align: top;\n",
       "    }\n",
       "\n",
       "    .dataframe thead th {\n",
       "        text-align: right;\n",
       "    }\n",
       "</style>\n",
       "<table border=\"1\" class=\"dataframe\">\n",
       "  <thead>\n",
       "    <tr style=\"text-align: right;\">\n",
       "      <th></th>\n",
       "      <th>count</th>\n",
       "      <th>mean</th>\n",
       "      <th>std</th>\n",
       "      <th>min</th>\n",
       "      <th>25%</th>\n",
       "      <th>50%</th>\n",
       "      <th>75%</th>\n",
       "      <th>max</th>\n",
       "    </tr>\n",
       "  </thead>\n",
       "  <tbody>\n",
       "    <tr>\n",
       "      <th>Age</th>\n",
       "      <td>12700.000</td>\n",
       "      <td>28.772</td>\n",
       "      <td>14.387</td>\n",
       "      <td>0.000</td>\n",
       "      <td>19.000</td>\n",
       "      <td>27.000</td>\n",
       "      <td>38.000</td>\n",
       "      <td>79.000</td>\n",
       "    </tr>\n",
       "    <tr>\n",
       "      <th>RoomService</th>\n",
       "      <td>12707.000</td>\n",
       "      <td>222.898</td>\n",
       "      <td>647.597</td>\n",
       "      <td>0.000</td>\n",
       "      <td>0.000</td>\n",
       "      <td>0.000</td>\n",
       "      <td>49.000</td>\n",
       "      <td>14327.000</td>\n",
       "    </tr>\n",
       "    <tr>\n",
       "      <th>FoodCourt</th>\n",
       "      <td>12681.000</td>\n",
       "      <td>451.962</td>\n",
       "      <td>1584.371</td>\n",
       "      <td>0.000</td>\n",
       "      <td>0.000</td>\n",
       "      <td>0.000</td>\n",
       "      <td>77.000</td>\n",
       "      <td>29813.000</td>\n",
       "    </tr>\n",
       "    <tr>\n",
       "      <th>ShoppingMall</th>\n",
       "      <td>12664.000</td>\n",
       "      <td>174.906</td>\n",
       "      <td>590.559</td>\n",
       "      <td>0.000</td>\n",
       "      <td>0.000</td>\n",
       "      <td>0.000</td>\n",
       "      <td>29.000</td>\n",
       "      <td>23492.000</td>\n",
       "    </tr>\n",
       "    <tr>\n",
       "      <th>Spa</th>\n",
       "      <td>12686.000</td>\n",
       "      <td>308.477</td>\n",
       "      <td>1130.280</td>\n",
       "      <td>0.000</td>\n",
       "      <td>0.000</td>\n",
       "      <td>0.000</td>\n",
       "      <td>57.000</td>\n",
       "      <td>22408.000</td>\n",
       "    </tr>\n",
       "    <tr>\n",
       "      <th>VRDeck</th>\n",
       "      <td>12702.000</td>\n",
       "      <td>306.789</td>\n",
       "      <td>1180.097</td>\n",
       "      <td>0.000</td>\n",
       "      <td>0.000</td>\n",
       "      <td>0.000</td>\n",
       "      <td>42.000</td>\n",
       "      <td>24133.000</td>\n",
       "    </tr>\n",
       "  </tbody>\n",
       "</table>\n",
       "</div>"
      ],
      "text/plain": [
       "                 count    mean      std   min    25%    50%    75%       max\n",
       "Age          12700.000  28.772   14.387 0.000 19.000 27.000 38.000    79.000\n",
       "RoomService  12707.000 222.898  647.597 0.000  0.000  0.000 49.000 14327.000\n",
       "FoodCourt    12681.000 451.962 1584.371 0.000  0.000  0.000 77.000 29813.000\n",
       "ShoppingMall 12664.000 174.906  590.559 0.000  0.000  0.000 29.000 23492.000\n",
       "Spa          12686.000 308.477 1130.280 0.000  0.000  0.000 57.000 22408.000\n",
       "VRDeck       12702.000 306.789 1180.097 0.000  0.000  0.000 42.000 24133.000"
      ]
     },
     "execution_count": 6,
     "metadata": {},
     "output_type": "execute_result"
    }
   ],
   "source": [
    "df.describe().T"
   ]
  },
  {
   "cell_type": "code",
   "execution_count": 7,
   "id": "f9386268",
   "metadata": {
    "execution": {
     "iopub.execute_input": "2024-03-06T06:45:05.204735Z",
     "iopub.status.busy": "2024-03-06T06:45:05.204467Z",
     "iopub.status.idle": "2024-03-06T06:45:05.221494Z",
     "shell.execute_reply": "2024-03-06T06:45:05.220716Z"
    },
    "papermill": {
     "duration": 0.023437,
     "end_time": "2024-03-06T06:45:05.223190",
     "exception": false,
     "start_time": "2024-03-06T06:45:05.199753",
     "status": "completed"
    },
    "tags": []
   },
   "outputs": [
    {
     "name": "stdout",
     "output_type": "stream",
     "text": [
      "<class 'pandas.core.frame.DataFrame'>\n",
      "RangeIndex: 12970 entries, 0 to 12969\n",
      "Data columns (total 14 columns):\n",
      " #   Column        Non-Null Count  Dtype  \n",
      "---  ------        --------------  -----  \n",
      " 0   PassengerId   12970 non-null  object \n",
      " 1   HomePlanet    12682 non-null  object \n",
      " 2   CryoSleep     12660 non-null  object \n",
      " 3   Cabin         12671 non-null  object \n",
      " 4   Destination   12696 non-null  object \n",
      " 5   Age           12700 non-null  float64\n",
      " 6   VIP           12674 non-null  object \n",
      " 7   RoomService   12707 non-null  float64\n",
      " 8   FoodCourt     12681 non-null  float64\n",
      " 9   ShoppingMall  12664 non-null  float64\n",
      " 10  Spa           12686 non-null  float64\n",
      " 11  VRDeck        12702 non-null  float64\n",
      " 12  Name          12676 non-null  object \n",
      " 13  Transported   8693 non-null   object \n",
      "dtypes: float64(6), object(8)\n",
      "memory usage: 1.4+ MB\n"
     ]
    }
   ],
   "source": [
    "df.info()"
   ]
  },
  {
   "cell_type": "code",
   "execution_count": 8,
   "id": "3b081c4c",
   "metadata": {
    "execution": {
     "iopub.execute_input": "2024-03-06T06:45:05.232582Z",
     "iopub.status.busy": "2024-03-06T06:45:05.231827Z",
     "iopub.status.idle": "2024-03-06T06:45:05.243170Z",
     "shell.execute_reply": "2024-03-06T06:45:05.242448Z"
    },
    "papermill": {
     "duration": 0.017527,
     "end_time": "2024-03-06T06:45:05.244775",
     "exception": false,
     "start_time": "2024-03-06T06:45:05.227248",
     "status": "completed"
    },
    "tags": []
   },
   "outputs": [
    {
     "data": {
      "text/plain": [
       "PassengerId        0\n",
       "HomePlanet       288\n",
       "CryoSleep        310\n",
       "Cabin            299\n",
       "Destination      274\n",
       "Age              270\n",
       "VIP              296\n",
       "RoomService      263\n",
       "FoodCourt        289\n",
       "ShoppingMall     306\n",
       "Spa              284\n",
       "VRDeck           268\n",
       "Name             294\n",
       "Transported     4277\n",
       "dtype: int64"
      ]
     },
     "execution_count": 8,
     "metadata": {},
     "output_type": "execute_result"
    }
   ],
   "source": [
    "df.isnull().sum()"
   ]
  },
  {
   "cell_type": "code",
   "execution_count": 9,
   "id": "2db29176",
   "metadata": {
    "execution": {
     "iopub.execute_input": "2024-03-06T06:45:05.253760Z",
     "iopub.status.busy": "2024-03-06T06:45:05.253519Z",
     "iopub.status.idle": "2024-03-06T06:45:05.265575Z",
     "shell.execute_reply": "2024-03-06T06:45:05.264373Z"
    },
    "papermill": {
     "duration": 0.01857,
     "end_time": "2024-03-06T06:45:05.267447",
     "exception": false,
     "start_time": "2024-03-06T06:45:05.248877",
     "status": "completed"
    },
    "tags": []
   },
   "outputs": [
    {
     "name": "stdout",
     "output_type": "stream",
     "text": [
      "              0.000  0.010  0.050  0.250  0.500  0.750    0.950    0.990  \\\n",
      "Age           0.000  0.000  4.000 19.000 27.000 38.000   56.000   65.010   \n",
      "RoomService   0.000  0.000  0.000  0.000  0.000 49.000 1275.800 3009.520   \n",
      "FoodCourt     0.000  0.000  0.000  0.000  0.000 77.000 2670.000 7797.600   \n",
      "ShoppingMall  0.000  0.000  0.000  0.000  0.000 29.000  964.250 2396.740   \n",
      "Spa           0.000  0.000  0.000  0.000  0.000 57.000 1589.000 5435.900   \n",
      "VRDeck        0.000  0.000  0.000  0.000  0.000 42.000 1538.800 5838.930   \n",
      "\n",
      "                 1.000  \n",
      "Age             79.000  \n",
      "RoomService  14327.000  \n",
      "FoodCourt    29813.000  \n",
      "ShoppingMall 23492.000  \n",
      "Spa          22408.000  \n",
      "VRDeck       24133.000  \n"
     ]
    }
   ],
   "source": [
    "numeric = df.select_dtypes(include=['number']).columns\n",
    "print(df[numeric].quantile([0,0.01,0.05,0.25,0.50,0.75,0.95,0.99,1]).T)"
   ]
  },
  {
   "cell_type": "code",
   "execution_count": 10,
   "id": "ee4fd328",
   "metadata": {
    "execution": {
     "iopub.execute_input": "2024-03-06T06:45:05.277081Z",
     "iopub.status.busy": "2024-03-06T06:45:05.276779Z",
     "iopub.status.idle": "2024-03-06T06:45:05.283924Z",
     "shell.execute_reply": "2024-03-06T06:45:05.283134Z"
    },
    "papermill": {
     "duration": 0.013931,
     "end_time": "2024-03-06T06:45:05.285661",
     "exception": false,
     "start_time": "2024-03-06T06:45:05.271730",
     "status": "completed"
    },
    "tags": []
   },
   "outputs": [],
   "source": [
    "dff = df.copy()"
   ]
  },
  {
   "cell_type": "code",
   "execution_count": null,
   "id": "87066110",
   "metadata": {
    "execution": {
     "iopub.execute_input": "2024-03-06T06:37:57.910518Z",
     "iopub.status.busy": "2024-03-06T06:37:57.910098Z",
     "iopub.status.idle": "2024-03-06T06:37:57.937102Z",
     "shell.execute_reply": "2024-03-06T06:37:57.934153Z",
     "shell.execute_reply.started": "2024-03-06T06:37:57.910490Z"
    },
    "papermill": {
     "duration": 0.003703,
     "end_time": "2024-03-06T06:45:05.293618",
     "exception": false,
     "start_time": "2024-03-06T06:45:05.289915",
     "status": "completed"
    },
    "tags": []
   },
   "outputs": [],
   "source": []
  },
  {
   "cell_type": "code",
   "execution_count": null,
   "id": "45b12519",
   "metadata": {
    "papermill": {
     "duration": 0.004672,
     "end_time": "2024-03-06T06:45:05.302143",
     "exception": false,
     "start_time": "2024-03-06T06:45:05.297471",
     "status": "completed"
    },
    "tags": []
   },
   "outputs": [],
   "source": []
  }
 ],
 "metadata": {
  "kaggle": {
   "accelerator": "none",
   "dataSources": [
    {
     "databundleVersionId": 3220602,
     "sourceId": 34377,
     "sourceType": "competition"
    }
   ],
   "dockerImageVersionId": 30664,
   "isGpuEnabled": false,
   "isInternetEnabled": true,
   "language": "python",
   "sourceType": "notebook"
  },
  "kernelspec": {
   "display_name": "Python 3",
   "language": "python",
   "name": "python3"
  },
  "language_info": {
   "codemirror_mode": {
    "name": "ipython",
    "version": 3
   },
   "file_extension": ".py",
   "mimetype": "text/x-python",
   "name": "python",
   "nbconvert_exporter": "python",
   "pygments_lexer": "ipython3",
   "version": "3.10.13"
  },
  "papermill": {
   "default_parameters": {},
   "duration": 6.851763,
   "end_time": "2024-03-06T06:45:06.027060",
   "environment_variables": {},
   "exception": null,
   "input_path": "__notebook__.ipynb",
   "output_path": "__notebook__.ipynb",
   "parameters": {},
   "start_time": "2024-03-06T06:44:59.175297",
   "version": "2.5.0"
  }
 },
 "nbformat": 4,
 "nbformat_minor": 5
}
