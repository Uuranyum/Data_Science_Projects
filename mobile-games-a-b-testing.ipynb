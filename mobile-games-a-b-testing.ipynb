{
 "cells": [
  {
   "cell_type": "markdown",
   "id": "a64a0eb6",
   "metadata": {
    "papermill": {
     "duration": 0.007787,
     "end_time": "2024-03-11T14:03:06.987622",
     "exception": false,
     "start_time": "2024-03-11T14:03:06.979835",
     "status": "completed"
    },
    "tags": []
   },
   "source": [
    "### About Dataset\n",
    "\n",
    "#### Context\n",
    "This dataset includes A/B test results of Cookie Cats to examine what happens when the first gate in the game was moved from level 30 to level 40. When a player installed the game, he or she was randomly assigned to either gate_30 or gate_40.\n",
    "\n",
    "#### Content\n",
    "The data we have is from 90,189 players that installed the game while the AB-test was running. The variables are:\n",
    "\n",
    "- userid: A unique number that identifies each player.\n",
    "- version: Whether the player was put in the control group (gate_30 - a gate at level 30) or the group with the moved gate (gate_40 - a gate at level 40).\n",
    "- sum_gamerounds: the number of game rounds played by the player during the first 14 days after install.\n",
    "- retention_1: Did the player come back and play 1 day after installing?\n",
    "- retention_7: Did the player come back and play 7 days after installing?\n",
    "\n",
    "When a player installed the game, he or she was randomly assigned to either"
   ]
  },
  {
   "cell_type": "code",
   "execution_count": 1,
   "id": "42e5aa77",
   "metadata": {
    "execution": {
     "iopub.execute_input": "2024-03-11T14:03:07.004124Z",
     "iopub.status.busy": "2024-03-11T14:03:07.003709Z",
     "iopub.status.idle": "2024-03-11T14:03:10.134038Z",
     "shell.execute_reply": "2024-03-11T14:03:10.132715Z"
    },
    "papermill": {
     "duration": 3.141993,
     "end_time": "2024-03-11T14:03:10.137027",
     "exception": false,
     "start_time": "2024-03-11T14:03:06.995034",
     "status": "completed"
    },
    "tags": []
   },
   "outputs": [],
   "source": [
    "import pandas as pd\n",
    "import numpy as np\n",
    "import seaborn as sns\n",
    "import matplotlib.pyplot as plt\n",
    "from scipy import stats as sts\n",
    "import statsmodels.stats.api as sms\n",
    "from scipy.stats import shapiro, levene, mannwhitneyu, ttest_ind, pearsonr, fisher_exact\n",
    "\n",
    "import warnings\n",
    "\n",
    "warnings.simplefilter(action='ignore', category=FutureWarning)\n",
    "pd.options.mode.chained_assignment = None\n",
    "\n",
    "pd.set_option('display.max_columns', None)\n",
    "pd.set_option('display.max_rows', None)\n",
    "pd.set_option('display.width', None)\n",
    "pd.set_option('display.float_format', lambda x: '%.3f' % x)\n"
   ]
  },
  {
   "cell_type": "code",
   "execution_count": 2,
   "id": "d6006925",
   "metadata": {
    "execution": {
     "iopub.execute_input": "2024-03-11T14:03:10.154063Z",
     "iopub.status.busy": "2024-03-11T14:03:10.153480Z",
     "iopub.status.idle": "2024-03-11T14:03:10.290963Z",
     "shell.execute_reply": "2024-03-11T14:03:10.289606Z"
    },
    "papermill": {
     "duration": 0.149132,
     "end_time": "2024-03-11T14:03:10.293780",
     "exception": false,
     "start_time": "2024-03-11T14:03:10.144648",
     "status": "completed"
    },
    "tags": []
   },
   "outputs": [
    {
     "data": {
      "text/html": [
       "<div>\n",
       "<style scoped>\n",
       "    .dataframe tbody tr th:only-of-type {\n",
       "        vertical-align: middle;\n",
       "    }\n",
       "\n",
       "    .dataframe tbody tr th {\n",
       "        vertical-align: top;\n",
       "    }\n",
       "\n",
       "    .dataframe thead th {\n",
       "        text-align: right;\n",
       "    }\n",
       "</style>\n",
       "<table border=\"1\" class=\"dataframe\">\n",
       "  <thead>\n",
       "    <tr style=\"text-align: right;\">\n",
       "      <th></th>\n",
       "      <th>userid</th>\n",
       "      <th>version</th>\n",
       "      <th>sum_gamerounds</th>\n",
       "      <th>retention_1</th>\n",
       "      <th>retention_7</th>\n",
       "    </tr>\n",
       "  </thead>\n",
       "  <tbody>\n",
       "    <tr>\n",
       "      <th>0</th>\n",
       "      <td>116</td>\n",
       "      <td>gate_30</td>\n",
       "      <td>3</td>\n",
       "      <td>False</td>\n",
       "      <td>False</td>\n",
       "    </tr>\n",
       "    <tr>\n",
       "      <th>1</th>\n",
       "      <td>337</td>\n",
       "      <td>gate_30</td>\n",
       "      <td>38</td>\n",
       "      <td>True</td>\n",
       "      <td>False</td>\n",
       "    </tr>\n",
       "    <tr>\n",
       "      <th>2</th>\n",
       "      <td>377</td>\n",
       "      <td>gate_40</td>\n",
       "      <td>165</td>\n",
       "      <td>True</td>\n",
       "      <td>False</td>\n",
       "    </tr>\n",
       "    <tr>\n",
       "      <th>3</th>\n",
       "      <td>483</td>\n",
       "      <td>gate_40</td>\n",
       "      <td>1</td>\n",
       "      <td>False</td>\n",
       "      <td>False</td>\n",
       "    </tr>\n",
       "    <tr>\n",
       "      <th>4</th>\n",
       "      <td>488</td>\n",
       "      <td>gate_40</td>\n",
       "      <td>179</td>\n",
       "      <td>True</td>\n",
       "      <td>True</td>\n",
       "    </tr>\n",
       "  </tbody>\n",
       "</table>\n",
       "</div>"
      ],
      "text/plain": [
       "   userid  version  sum_gamerounds  retention_1  retention_7\n",
       "0     116  gate_30               3        False        False\n",
       "1     337  gate_30              38         True        False\n",
       "2     377  gate_40             165         True        False\n",
       "3     483  gate_40               1        False        False\n",
       "4     488  gate_40             179         True         True"
      ]
     },
     "execution_count": 2,
     "metadata": {},
     "output_type": "execute_result"
    }
   ],
   "source": [
    "df = pd.read_csv('/kaggle/input/mobile-games-ab-testing-cookie-cats/cookie_cats.csv')\n",
    "df.head()"
   ]
  },
  {
   "cell_type": "code",
   "execution_count": 3,
   "id": "46dba736",
   "metadata": {
    "execution": {
     "iopub.execute_input": "2024-03-11T14:03:10.310923Z",
     "iopub.status.busy": "2024-03-11T14:03:10.310492Z",
     "iopub.status.idle": "2024-03-11T14:03:10.332903Z",
     "shell.execute_reply": "2024-03-11T14:03:10.331741Z"
    },
    "papermill": {
     "duration": 0.034158,
     "end_time": "2024-03-11T14:03:10.335552",
     "exception": false,
     "start_time": "2024-03-11T14:03:10.301394",
     "status": "completed"
    },
    "tags": []
   },
   "outputs": [
    {
     "data": {
      "text/plain": [
       "userid            0\n",
       "version           0\n",
       "sum_gamerounds    0\n",
       "retention_1       0\n",
       "retention_7       0\n",
       "dtype: int64"
      ]
     },
     "execution_count": 3,
     "metadata": {},
     "output_type": "execute_result"
    }
   ],
   "source": [
    "df.isnull().sum()"
   ]
  },
  {
   "cell_type": "code",
   "execution_count": 4,
   "id": "643da008",
   "metadata": {
    "execution": {
     "iopub.execute_input": "2024-03-11T14:03:10.352612Z",
     "iopub.status.busy": "2024-03-11T14:03:10.352229Z",
     "iopub.status.idle": "2024-03-11T14:03:10.383005Z",
     "shell.execute_reply": "2024-03-11T14:03:10.381758Z"
    },
    "papermill": {
     "duration": 0.042462,
     "end_time": "2024-03-11T14:03:10.385719",
     "exception": false,
     "start_time": "2024-03-11T14:03:10.343257",
     "status": "completed"
    },
    "tags": []
   },
   "outputs": [
    {
     "data": {
      "text/html": [
       "<div>\n",
       "<style scoped>\n",
       "    .dataframe tbody tr th:only-of-type {\n",
       "        vertical-align: middle;\n",
       "    }\n",
       "\n",
       "    .dataframe tbody tr th {\n",
       "        vertical-align: top;\n",
       "    }\n",
       "\n",
       "    .dataframe thead th {\n",
       "        text-align: right;\n",
       "    }\n",
       "</style>\n",
       "<table border=\"1\" class=\"dataframe\">\n",
       "  <thead>\n",
       "    <tr style=\"text-align: right;\">\n",
       "      <th></th>\n",
       "      <th>count</th>\n",
       "      <th>mean</th>\n",
       "      <th>std</th>\n",
       "      <th>min</th>\n",
       "      <th>25%</th>\n",
       "      <th>50%</th>\n",
       "      <th>75%</th>\n",
       "      <th>max</th>\n",
       "    </tr>\n",
       "  </thead>\n",
       "  <tbody>\n",
       "    <tr>\n",
       "      <th>userid</th>\n",
       "      <td>90189.000</td>\n",
       "      <td>4998412.234</td>\n",
       "      <td>2883285.608</td>\n",
       "      <td>116.000</td>\n",
       "      <td>2512230.000</td>\n",
       "      <td>4995815.000</td>\n",
       "      <td>7496452.000</td>\n",
       "      <td>9999861.000</td>\n",
       "    </tr>\n",
       "    <tr>\n",
       "      <th>sum_gamerounds</th>\n",
       "      <td>90189.000</td>\n",
       "      <td>51.872</td>\n",
       "      <td>195.051</td>\n",
       "      <td>0.000</td>\n",
       "      <td>5.000</td>\n",
       "      <td>16.000</td>\n",
       "      <td>51.000</td>\n",
       "      <td>49854.000</td>\n",
       "    </tr>\n",
       "  </tbody>\n",
       "</table>\n",
       "</div>"
      ],
      "text/plain": [
       "                   count        mean         std     min         25%  \\\n",
       "userid         90189.000 4998412.234 2883285.608 116.000 2512230.000   \n",
       "sum_gamerounds 90189.000      51.872     195.051   0.000       5.000   \n",
       "\n",
       "                       50%         75%         max  \n",
       "userid         4995815.000 7496452.000 9999861.000  \n",
       "sum_gamerounds      16.000      51.000   49854.000  "
      ]
     },
     "execution_count": 4,
     "metadata": {},
     "output_type": "execute_result"
    }
   ],
   "source": [
    "df.describe().T"
   ]
  },
  {
   "cell_type": "code",
   "execution_count": 5,
   "id": "4016216a",
   "metadata": {
    "execution": {
     "iopub.execute_input": "2024-03-11T14:03:10.403527Z",
     "iopub.status.busy": "2024-03-11T14:03:10.402974Z",
     "iopub.status.idle": "2024-03-11T14:03:10.442845Z",
     "shell.execute_reply": "2024-03-11T14:03:10.441640Z"
    },
    "papermill": {
     "duration": 0.051986,
     "end_time": "2024-03-11T14:03:10.445700",
     "exception": false,
     "start_time": "2024-03-11T14:03:10.393714",
     "status": "completed"
    },
    "tags": []
   },
   "outputs": [
    {
     "name": "stdout",
     "output_type": "stream",
     "text": [
      "<class 'pandas.core.frame.DataFrame'>\n",
      "RangeIndex: 90189 entries, 0 to 90188\n",
      "Data columns (total 5 columns):\n",
      " #   Column          Non-Null Count  Dtype \n",
      "---  ------          --------------  ----- \n",
      " 0   userid          90189 non-null  int64 \n",
      " 1   version         90189 non-null  object\n",
      " 2   sum_gamerounds  90189 non-null  int64 \n",
      " 3   retention_1     90189 non-null  bool  \n",
      " 4   retention_7     90189 non-null  bool  \n",
      "dtypes: bool(2), int64(2), object(1)\n",
      "memory usage: 2.2+ MB\n"
     ]
    }
   ],
   "source": [
    "df.info()"
   ]
  },
  {
   "cell_type": "code",
   "execution_count": 6,
   "id": "ba1d4422",
   "metadata": {
    "execution": {
     "iopub.execute_input": "2024-03-11T14:03:10.464794Z",
     "iopub.status.busy": "2024-03-11T14:03:10.464336Z",
     "iopub.status.idle": "2024-03-11T14:03:10.487477Z",
     "shell.execute_reply": "2024-03-11T14:03:10.486049Z"
    },
    "papermill": {
     "duration": 0.036762,
     "end_time": "2024-03-11T14:03:10.490699",
     "exception": false,
     "start_time": "2024-03-11T14:03:10.453937",
     "status": "completed"
    },
    "tags": []
   },
   "outputs": [
    {
     "data": {
      "text/plain": [
       "version\n",
       "gate_40    45489\n",
       "gate_30    44700\n",
       "Name: count, dtype: int64"
      ]
     },
     "execution_count": 6,
     "metadata": {},
     "output_type": "execute_result"
    }
   ],
   "source": [
    "df['version'].value_counts()"
   ]
  },
  {
   "cell_type": "code",
   "execution_count": 7,
   "id": "0a5eea6c",
   "metadata": {
    "execution": {
     "iopub.execute_input": "2024-03-11T14:03:10.509441Z",
     "iopub.status.busy": "2024-03-11T14:03:10.508644Z",
     "iopub.status.idle": "2024-03-11T14:03:10.529235Z",
     "shell.execute_reply": "2024-03-11T14:03:10.528058Z"
    },
    "papermill": {
     "duration": 0.033366,
     "end_time": "2024-03-11T14:03:10.532368",
     "exception": false,
     "start_time": "2024-03-11T14:03:10.499002",
     "status": "completed"
    },
    "tags": []
   },
   "outputs": [
    {
     "name": "stdout",
     "output_type": "stream",
     "text": [
      "version\n",
      "gate_40   50.437\n",
      "gate_30   49.563\n",
      "Name: proportion, dtype: float64\n"
     ]
    }
   ],
   "source": [
    "value_counts = df['version'].value_counts(normalize=True) * 100\n",
    "print(value_counts)"
   ]
  },
  {
   "cell_type": "code",
   "execution_count": 8,
   "id": "f993e245",
   "metadata": {
    "execution": {
     "iopub.execute_input": "2024-03-11T14:03:10.550760Z",
     "iopub.status.busy": "2024-03-11T14:03:10.550360Z",
     "iopub.status.idle": "2024-03-11T14:03:10.590051Z",
     "shell.execute_reply": "2024-03-11T14:03:10.589058Z"
    },
    "papermill": {
     "duration": 0.05195,
     "end_time": "2024-03-11T14:03:10.592686",
     "exception": false,
     "start_time": "2024-03-11T14:03:10.540736",
     "status": "completed"
    },
    "tags": []
   },
   "outputs": [
    {
     "data": {
      "text/html": [
       "<div>\n",
       "<style scoped>\n",
       "    .dataframe tbody tr th:only-of-type {\n",
       "        vertical-align: middle;\n",
       "    }\n",
       "\n",
       "    .dataframe tbody tr th {\n",
       "        vertical-align: top;\n",
       "    }\n",
       "\n",
       "    .dataframe thead th {\n",
       "        text-align: right;\n",
       "    }\n",
       "</style>\n",
       "<table border=\"1\" class=\"dataframe\">\n",
       "  <thead>\n",
       "    <tr style=\"text-align: right;\">\n",
       "      <th>version</th>\n",
       "      <th>gate_30</th>\n",
       "      <th>gate_40</th>\n",
       "    </tr>\n",
       "  </thead>\n",
       "  <tbody>\n",
       "    <tr>\n",
       "      <th>count</th>\n",
       "      <td>44700.000</td>\n",
       "      <td>45489.000</td>\n",
       "    </tr>\n",
       "    <tr>\n",
       "      <th>mean</th>\n",
       "      <td>52.456</td>\n",
       "      <td>51.299</td>\n",
       "    </tr>\n",
       "    <tr>\n",
       "      <th>std</th>\n",
       "      <td>256.716</td>\n",
       "      <td>103.294</td>\n",
       "    </tr>\n",
       "    <tr>\n",
       "      <th>min</th>\n",
       "      <td>0.000</td>\n",
       "      <td>0.000</td>\n",
       "    </tr>\n",
       "    <tr>\n",
       "      <th>25%</th>\n",
       "      <td>5.000</td>\n",
       "      <td>5.000</td>\n",
       "    </tr>\n",
       "    <tr>\n",
       "      <th>50%</th>\n",
       "      <td>17.000</td>\n",
       "      <td>16.000</td>\n",
       "    </tr>\n",
       "    <tr>\n",
       "      <th>75%</th>\n",
       "      <td>50.000</td>\n",
       "      <td>52.000</td>\n",
       "    </tr>\n",
       "    <tr>\n",
       "      <th>max</th>\n",
       "      <td>49854.000</td>\n",
       "      <td>2640.000</td>\n",
       "    </tr>\n",
       "  </tbody>\n",
       "</table>\n",
       "</div>"
      ],
      "text/plain": [
       "version   gate_30   gate_40\n",
       "count   44700.000 45489.000\n",
       "mean       52.456    51.299\n",
       "std       256.716   103.294\n",
       "min         0.000     0.000\n",
       "25%         5.000     5.000\n",
       "50%        17.000    16.000\n",
       "75%        50.000    52.000\n",
       "max     49854.000  2640.000"
      ]
     },
     "execution_count": 8,
     "metadata": {},
     "output_type": "execute_result"
    }
   ],
   "source": [
    "df.groupby('version')['sum_gamerounds'].describe().T"
   ]
  },
  {
   "cell_type": "code",
   "execution_count": 9,
   "id": "c9e78054",
   "metadata": {
    "execution": {
     "iopub.execute_input": "2024-03-11T14:03:10.611863Z",
     "iopub.status.busy": "2024-03-11T14:03:10.611410Z",
     "iopub.status.idle": "2024-03-11T14:03:10.632467Z",
     "shell.execute_reply": "2024-03-11T14:03:10.631219Z"
    },
    "papermill": {
     "duration": 0.033755,
     "end_time": "2024-03-11T14:03:10.635076",
     "exception": false,
     "start_time": "2024-03-11T14:03:10.601321",
     "status": "completed"
    },
    "tags": []
   },
   "outputs": [
    {
     "data": {
      "text/plain": [
       "version\n",
       "gate_30   65903.322\n",
       "gate_40   10669.736\n",
       "Name: sum_gamerounds, dtype: float64"
      ]
     },
     "execution_count": 9,
     "metadata": {},
     "output_type": "execute_result"
    }
   ],
   "source": [
    "df.groupby('version')['sum_gamerounds'].var()"
   ]
  },
  {
   "cell_type": "markdown",
   "id": "62e4f3e9",
   "metadata": {
    "papermill": {
     "duration": 0.008433,
     "end_time": "2024-03-11T14:03:10.652414",
     "exception": false,
     "start_time": "2024-03-11T14:03:10.643981",
     "status": "completed"
    },
    "tags": []
   },
   "source": [
    "##### Number of Games Played (sum_gamerounds):\n",
    "In the gate_30 version, the average number of games played (sum_gamerounds) is higher (average 65903,322).\n",
    "\n",
    "In the gate_40 version, the average number of games played is lower (average 10669.736).\n",
    "\n",
    "This may indicate that the gate_30 version causes players to play for longer periods of time or to perform more gaming activities.\n",
    "\n",
    "##### Other Basic Statistics:\n",
    "The other statistics given (count, min, 25%, 50%, 75%, max) also show the differences between the two versions.\n",
    "\n",
    "For example, the maximum number of games in the gate_30 version (49854) is higher than in the gate_40 version (2640).\n",
    "\n",
    "The median (50%) also differs. This may indicate that the central tendency of the distribution of the two versions is different."
   ]
  },
  {
   "cell_type": "code",
   "execution_count": 10,
   "id": "22e33fe4",
   "metadata": {
    "execution": {
     "iopub.execute_input": "2024-03-11T14:03:10.674472Z",
     "iopub.status.busy": "2024-03-11T14:03:10.673780Z",
     "iopub.status.idle": "2024-03-11T14:03:10.714663Z",
     "shell.execute_reply": "2024-03-11T14:03:10.713410Z"
    },
    "papermill": {
     "duration": 0.055791,
     "end_time": "2024-03-11T14:03:10.717358",
     "exception": false,
     "start_time": "2024-03-11T14:03:10.661567",
     "status": "completed"
    },
    "tags": []
   },
   "outputs": [
    {
     "data": {
      "text/html": [
       "<div>\n",
       "<style scoped>\n",
       "    .dataframe tbody tr th:only-of-type {\n",
       "        vertical-align: middle;\n",
       "    }\n",
       "\n",
       "    .dataframe tbody tr th {\n",
       "        vertical-align: top;\n",
       "    }\n",
       "\n",
       "    .dataframe thead th {\n",
       "        text-align: right;\n",
       "    }\n",
       "</style>\n",
       "<table border=\"1\" class=\"dataframe\">\n",
       "  <thead>\n",
       "    <tr style=\"text-align: right;\">\n",
       "      <th></th>\n",
       "      <th>userid</th>\n",
       "      <th>version</th>\n",
       "      <th>sum_gamerounds</th>\n",
       "      <th>retention_1</th>\n",
       "      <th>retention_7</th>\n",
       "    </tr>\n",
       "  </thead>\n",
       "  <tbody>\n",
       "    <tr>\n",
       "      <th>0</th>\n",
       "      <td>116</td>\n",
       "      <td>gate_30</td>\n",
       "      <td>3</td>\n",
       "      <td>0</td>\n",
       "      <td>0</td>\n",
       "    </tr>\n",
       "    <tr>\n",
       "      <th>1</th>\n",
       "      <td>337</td>\n",
       "      <td>gate_30</td>\n",
       "      <td>38</td>\n",
       "      <td>1</td>\n",
       "      <td>0</td>\n",
       "    </tr>\n",
       "    <tr>\n",
       "      <th>6</th>\n",
       "      <td>1066</td>\n",
       "      <td>gate_30</td>\n",
       "      <td>0</td>\n",
       "      <td>0</td>\n",
       "      <td>0</td>\n",
       "    </tr>\n",
       "    <tr>\n",
       "      <th>11</th>\n",
       "      <td>2101</td>\n",
       "      <td>gate_30</td>\n",
       "      <td>0</td>\n",
       "      <td>0</td>\n",
       "      <td>0</td>\n",
       "    </tr>\n",
       "    <tr>\n",
       "      <th>13</th>\n",
       "      <td>2179</td>\n",
       "      <td>gate_30</td>\n",
       "      <td>39</td>\n",
       "      <td>1</td>\n",
       "      <td>0</td>\n",
       "    </tr>\n",
       "  </tbody>\n",
       "</table>\n",
       "</div>"
      ],
      "text/plain": [
       "    userid  version  sum_gamerounds  retention_1  retention_7\n",
       "0      116  gate_30               3            0            0\n",
       "1      337  gate_30              38            1            0\n",
       "6     1066  gate_30               0            0            0\n",
       "11    2101  gate_30               0            0            0\n",
       "13    2179  gate_30              39            1            0"
      ]
     },
     "execution_count": 10,
     "metadata": {},
     "output_type": "execute_result"
    }
   ],
   "source": [
    "control = df[df['version'] == 'gate_30']\n",
    "control['retention_1'] = control['retention_1'].map({True: 1, False: 0})\n",
    "control['retention_7'] = control['retention_7'].map({True: 1, False: 0})\n",
    "\n",
    "control.head()"
   ]
  },
  {
   "cell_type": "code",
   "execution_count": 11,
   "id": "9a81d2a3",
   "metadata": {
    "execution": {
     "iopub.execute_input": "2024-03-11T14:03:10.738607Z",
     "iopub.status.busy": "2024-03-11T14:03:10.738206Z",
     "iopub.status.idle": "2024-03-11T14:03:10.775485Z",
     "shell.execute_reply": "2024-03-11T14:03:10.774371Z"
    },
    "papermill": {
     "duration": 0.051089,
     "end_time": "2024-03-11T14:03:10.778106",
     "exception": false,
     "start_time": "2024-03-11T14:03:10.727017",
     "status": "completed"
    },
    "tags": []
   },
   "outputs": [
    {
     "data": {
      "text/html": [
       "<div>\n",
       "<style scoped>\n",
       "    .dataframe tbody tr th:only-of-type {\n",
       "        vertical-align: middle;\n",
       "    }\n",
       "\n",
       "    .dataframe tbody tr th {\n",
       "        vertical-align: top;\n",
       "    }\n",
       "\n",
       "    .dataframe thead th {\n",
       "        text-align: right;\n",
       "    }\n",
       "</style>\n",
       "<table border=\"1\" class=\"dataframe\">\n",
       "  <thead>\n",
       "    <tr style=\"text-align: right;\">\n",
       "      <th></th>\n",
       "      <th>userid</th>\n",
       "      <th>version</th>\n",
       "      <th>sum_gamerounds</th>\n",
       "      <th>retention_1</th>\n",
       "      <th>retention_7</th>\n",
       "    </tr>\n",
       "  </thead>\n",
       "  <tbody>\n",
       "    <tr>\n",
       "      <th>2</th>\n",
       "      <td>377</td>\n",
       "      <td>gate_40</td>\n",
       "      <td>165</td>\n",
       "      <td>1</td>\n",
       "      <td>0</td>\n",
       "    </tr>\n",
       "    <tr>\n",
       "      <th>3</th>\n",
       "      <td>483</td>\n",
       "      <td>gate_40</td>\n",
       "      <td>1</td>\n",
       "      <td>0</td>\n",
       "      <td>0</td>\n",
       "    </tr>\n",
       "    <tr>\n",
       "      <th>4</th>\n",
       "      <td>488</td>\n",
       "      <td>gate_40</td>\n",
       "      <td>179</td>\n",
       "      <td>1</td>\n",
       "      <td>1</td>\n",
       "    </tr>\n",
       "    <tr>\n",
       "      <th>5</th>\n",
       "      <td>540</td>\n",
       "      <td>gate_40</td>\n",
       "      <td>187</td>\n",
       "      <td>1</td>\n",
       "      <td>1</td>\n",
       "    </tr>\n",
       "    <tr>\n",
       "      <th>7</th>\n",
       "      <td>1444</td>\n",
       "      <td>gate_40</td>\n",
       "      <td>2</td>\n",
       "      <td>0</td>\n",
       "      <td>0</td>\n",
       "    </tr>\n",
       "  </tbody>\n",
       "</table>\n",
       "</div>"
      ],
      "text/plain": [
       "   userid  version  sum_gamerounds  retention_1  retention_7\n",
       "2     377  gate_40             165            1            0\n",
       "3     483  gate_40               1            0            0\n",
       "4     488  gate_40             179            1            1\n",
       "5     540  gate_40             187            1            1\n",
       "7    1444  gate_40               2            0            0"
      ]
     },
     "execution_count": 11,
     "metadata": {},
     "output_type": "execute_result"
    }
   ],
   "source": [
    "test = df[df['version'] == 'gate_40']\n",
    "test['retention_1'] = test['retention_1'].map({True: 1, False: 0})\n",
    "test['retention_7'] = test['retention_7'].map({True: 1, False: 0})\n",
    "\n",
    "test.head()"
   ]
  },
  {
   "cell_type": "markdown",
   "id": "f5fce81c",
   "metadata": {
    "papermill": {
     "duration": 0.008876,
     "end_time": "2024-03-11T14:03:10.796218",
     "exception": false,
     "start_time": "2024-03-11T14:03:10.787342",
     "status": "completed"
    },
    "tags": []
   },
   "source": [
    "### A/B Testing Analysis\n",
    "First, let us analyse how moving the gate from level 30 to level 40 affects the number of players after 1 and 7 days."
   ]
  },
  {
   "cell_type": "code",
   "execution_count": 12,
   "id": "9e08fa73",
   "metadata": {
    "execution": {
     "iopub.execute_input": "2024-03-11T14:03:10.816966Z",
     "iopub.status.busy": "2024-03-11T14:03:10.816508Z",
     "iopub.status.idle": "2024-03-11T14:03:10.827583Z",
     "shell.execute_reply": "2024-03-11T14:03:10.825975Z"
    },
    "papermill": {
     "duration": 0.025015,
     "end_time": "2024-03-11T14:03:10.830580",
     "exception": false,
     "start_time": "2024-03-11T14:03:10.805565",
     "status": "completed"
    },
    "tags": []
   },
   "outputs": [
    {
     "name": "stdout",
     "output_type": "stream",
     "text": [
      "Percentage of returning players of control group after 1 day: 44.8 %\n",
      "Percentage of returning players of control group after 7 day: 19.0 %\n",
      "Percentage of returning players of test group after 1 day: 44.2 %\n",
      "Percentage of returning players of test group after 7 day: 18.2 %\n"
     ]
    }
   ],
   "source": [
    "def calculate_returning_players_stats(df):\n",
    "    returning_players_1_day = df['retention_1'].sum()\n",
    "    returning_players_7_day = df['retention_7'].sum()\n",
    "    total_users = len(df)\n",
    "    \n",
    "    percentage_1_day = (returning_players_1_day / total_users)*100\n",
    "    percentage_7_day = (returning_players_7_day / total_users)*100\n",
    "    \n",
    "    return percentage_1_day, percentage_7_day\n",
    "\n",
    "groups = {'control': control, 'test' : test}\n",
    "\n",
    "for group_name, group_data in groups.items():\n",
    "    percentage_1_day, percentage_7_day = calculate_returning_players_stats(group_data)\n",
    "    print(f'Percentage of returning players of {group_name} group after 1 day: {round(percentage_1_day, 1)} %')\n",
    "    print(f'Percentage of returning players of {group_name} group after 7 day: {round(percentage_7_day, 1)} %')"
   ]
  },
  {
   "cell_type": "markdown",
   "id": "f7bdd160",
   "metadata": {
    "papermill": {
     "duration": 0.009616,
     "end_time": "2024-03-11T14:03:10.849867",
     "exception": false,
     "start_time": "2024-03-11T14:03:10.840251",
     "status": "completed"
    },
    "tags": []
   },
   "source": [
    "When the percentages are analysed, no significant difference can be observed."
   ]
  },
  {
   "cell_type": "markdown",
   "id": "c364397d",
   "metadata": {
    "papermill": {
     "duration": 0.009336,
     "end_time": "2024-03-11T14:03:10.868750",
     "exception": false,
     "start_time": "2024-03-11T14:03:10.859414",
     "status": "completed"
    },
    "tags": []
   },
   "source": [
    "- pvalue : 0.05\n",
    "- h0 < pvalue h0: not accepted\n",
    "- h0 > pvalue : h0: accepted"
   ]
  },
  {
   "cell_type": "markdown",
   "id": "cc3d51f0",
   "metadata": {
    "papermill": {
     "duration": 0.009228,
     "end_time": "2024-03-11T14:03:10.888186",
     "exception": false,
     "start_time": "2024-03-11T14:03:10.878958",
     "status": "completed"
    },
    "tags": []
   },
   "source": [
    "- H0 : Normally distributed.\n",
    "- H1 : Reject normally distributed."
   ]
  },
  {
   "cell_type": "code",
   "execution_count": 13,
   "id": "8e56a917",
   "metadata": {
    "execution": {
     "iopub.execute_input": "2024-03-11T14:03:10.910979Z",
     "iopub.status.busy": "2024-03-11T14:03:10.909707Z",
     "iopub.status.idle": "2024-03-11T14:03:10.933402Z",
     "shell.execute_reply": "2024-03-11T14:03:10.932343Z"
    },
    "papermill": {
     "duration": 0.03963,
     "end_time": "2024-03-11T14:03:10.937571",
     "exception": false,
     "start_time": "2024-03-11T14:03:10.897941",
     "status": "completed"
    },
    "tags": []
   },
   "outputs": [
    {
     "name": "stdout",
     "output_type": "stream",
     "text": [
      "Control 1-day Shapiro-Wilk test p-value: 0.0\n",
      "Control 7-day Shapiro-Wilk test p-value: 0.0\n",
      "Test 1-day Shapiro-Wilk test p-value: 0.0\n",
      "Test 7-day Shapiro-Wilk test p-value: 0.0\n"
     ]
    },
    {
     "name": "stderr",
     "output_type": "stream",
     "text": [
      "/opt/conda/lib/python3.10/site-packages/scipy/stats/_morestats.py:1882: UserWarning: p-value may not be accurate for N > 5000.\n",
      "  warnings.warn(\"p-value may not be accurate for N > 5000.\")\n"
     ]
    }
   ],
   "source": [
    "# Control grubu için Shapiro-Wilk testi\n",
    "stat_control_1, p_control_1 = shapiro(control['retention_1'])\n",
    "stat_control_7, p_control_7 = shapiro(control['retention_7'])\n",
    "\n",
    "# Test grubu için Shapiro-Wilk testi\n",
    "stat_test_1, p_test_1 = shapiro(test['retention_1'])\n",
    "stat_test_7, p_test_7 = shapiro(test['retention_7'])\n",
    "\n",
    "print(\"Control 1-day Shapiro-Wilk test p-value:\", p_control_1)\n",
    "print(\"Control 7-day Shapiro-Wilk test p-value:\", p_control_7)\n",
    "print(\"Test 1-day Shapiro-Wilk test p-value:\", p_test_1)\n",
    "print(\"Test 7-day Shapiro-Wilk test p-value:\", p_test_7)"
   ]
  },
  {
   "cell_type": "markdown",
   "id": "9a95aab2",
   "metadata": {
    "papermill": {
     "duration": 0.009322,
     "end_time": "2024-03-11T14:03:10.956606",
     "exception": false,
     "start_time": "2024-03-11T14:03:10.947284",
     "status": "completed"
    },
    "tags": []
   },
   "source": [
    "p-value < 0.05 H0 rejected. Not normally distributed. We will use mannwhitneyu for this"
   ]
  },
  {
   "cell_type": "code",
   "execution_count": 14,
   "id": "61b26cb6",
   "metadata": {
    "execution": {
     "iopub.execute_input": "2024-03-11T14:03:10.979199Z",
     "iopub.status.busy": "2024-03-11T14:03:10.978743Z",
     "iopub.status.idle": "2024-03-11T14:03:11.126573Z",
     "shell.execute_reply": "2024-03-11T14:03:11.125392Z"
    },
    "papermill": {
     "duration": 0.161987,
     "end_time": "2024-03-11T14:03:11.129563",
     "exception": false,
     "start_time": "2024-03-11T14:03:10.967576",
     "status": "completed"
    },
    "tags": []
   },
   "outputs": [
    {
     "name": "stdout",
     "output_type": "stream",
     "text": [
      "Test Stat = 1024331250.5000, p-value = 0.0502\n"
     ]
    }
   ],
   "source": [
    "test_stat, p_value = sts.mannwhitneyu(control[\"sum_gamerounds\"], test[\"sum_gamerounds\"])\n",
    "print('Test Stat = %.4f, p-value = %.4f' % (test_stat, p_value))"
   ]
  },
  {
   "cell_type": "markdown",
   "id": "092ebe7d",
   "metadata": {
    "papermill": {
     "duration": 0.009473,
     "end_time": "2024-03-11T14:03:11.148975",
     "exception": false,
     "start_time": "2024-03-11T14:03:11.139502",
     "status": "completed"
    },
    "tags": []
   },
   "source": [
    "Since p-value > 0.05, it can be concluded that there is no statistically significant difference between the two groups."
   ]
  }
 ],
 "metadata": {
  "kaggle": {
   "accelerator": "none",
   "dataSources": [
    {
     "datasetId": 1149830,
     "sourceId": 1927698,
     "sourceType": "datasetVersion"
    }
   ],
   "dockerImageVersionId": 30664,
   "isGpuEnabled": false,
   "isInternetEnabled": true,
   "language": "python",
   "sourceType": "notebook"
  },
  "kernelspec": {
   "display_name": "Python 3",
   "language": "python",
   "name": "python3"
  },
  "language_info": {
   "codemirror_mode": {
    "name": "ipython",
    "version": 3
   },
   "file_extension": ".py",
   "mimetype": "text/x-python",
   "name": "python",
   "nbconvert_exporter": "python",
   "pygments_lexer": "ipython3",
   "version": "3.10.13"
  },
  "papermill": {
   "default_parameters": {},
   "duration": 8.074775,
   "end_time": "2024-03-11T14:03:11.781316",
   "environment_variables": {},
   "exception": null,
   "input_path": "__notebook__.ipynb",
   "output_path": "__notebook__.ipynb",
   "parameters": {},
   "start_time": "2024-03-11T14:03:03.706541",
   "version": "2.5.0"
  }
 },
 "nbformat": 4,
 "nbformat_minor": 5
}
