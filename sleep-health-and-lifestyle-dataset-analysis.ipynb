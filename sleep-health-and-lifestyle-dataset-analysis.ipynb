{
 "cells": [
  {
   "cell_type": "code",
   "execution_count": 1,
   "id": "4d71d9b0",
   "metadata": {
    "_cell_guid": "b1076dfc-b9ad-4769-8c92-a6c4dae69d19",
    "_uuid": "8f2839f25d086af736a60e9eeb907d3b93b6e0e5",
    "execution": {
     "iopub.execute_input": "2024-03-01T12:06:37.860001Z",
     "iopub.status.busy": "2024-03-01T12:06:37.859087Z",
     "iopub.status.idle": "2024-03-01T12:06:38.783158Z",
     "shell.execute_reply": "2024-03-01T12:06:38.782118Z"
    },
    "jupyter": {
     "source_hidden": true
    },
    "papermill": {
     "duration": 0.949019,
     "end_time": "2024-03-01T12:06:38.786154",
     "exception": false,
     "start_time": "2024-03-01T12:06:37.837135",
     "status": "completed"
    },
    "tags": []
   },
   "outputs": [
    {
     "name": "stdout",
     "output_type": "stream",
     "text": [
      "/kaggle/input/sleep-health-and-lifestyle-dataset/Sleep_health_and_lifestyle_dataset.csv\n"
     ]
    }
   ],
   "source": [
    "# This Python 3 environment comes with many helpful analytics libraries installed\n",
    "# It is defined by the kaggle/python Docker image: https://github.com/kaggle/docker-python\n",
    "# For example, here's several helpful packages to load\n",
    "\n",
    "import numpy as np # linear algebra\n",
    "import pandas as pd # data processing, CSV file I/O (e.g. pd.read_csv)\n",
    "\n",
    "# Input data files are available in the read-only \"../input/\" directory\n",
    "# For example, running this (by clicking run or pressing Shift+Enter) will list all files under the input directory\n",
    "\n",
    "import os\n",
    "for dirname, _, filenames in os.walk('/kaggle/input'):\n",
    "    for filename in filenames:\n",
    "        print(os.path.join(dirname, filename))\n",
    "\n",
    "# You can write up to 20GB to the current directory (/kaggle/working/) that gets preserved as output when you create a version using \"Save & Run All\" \n",
    "# You can also write temporary files to /kaggle/temp/, but they won't be saved outside of the current session"
   ]
  },
  {
   "cell_type": "code",
   "execution_count": 2,
   "id": "e9b0162b",
   "metadata": {
    "execution": {
     "iopub.execute_input": "2024-03-01T12:06:38.828419Z",
     "iopub.status.busy": "2024-03-01T12:06:38.827820Z",
     "iopub.status.idle": "2024-03-01T12:06:40.444573Z",
     "shell.execute_reply": "2024-03-01T12:06:40.443540Z"
    },
    "papermill": {
     "duration": 1.640228,
     "end_time": "2024-03-01T12:06:40.447390",
     "exception": false,
     "start_time": "2024-03-01T12:06:38.807162",
     "status": "completed"
    },
    "tags": []
   },
   "outputs": [],
   "source": [
    "import numpy as np\n",
    "import pandas as pd\n",
    "import seaborn as sns\n",
    "import matplotlib.pyplot as plt\n",
    "import scipy\n",
    "from sklearn.preprocessing import LabelEncoder\n",
    "import warnings\n",
    "warnings.simplefilter(action='ignore', category=FutureWarning)"
   ]
  },
  {
   "cell_type": "code",
   "execution_count": 3,
   "id": "ec154898",
   "metadata": {
    "execution": {
     "iopub.execute_input": "2024-03-01T12:06:40.490411Z",
     "iopub.status.busy": "2024-03-01T12:06:40.489940Z",
     "iopub.status.idle": "2024-03-01T12:06:40.514175Z",
     "shell.execute_reply": "2024-03-01T12:06:40.513234Z"
    },
    "papermill": {
     "duration": 0.049196,
     "end_time": "2024-03-01T12:06:40.516933",
     "exception": false,
     "start_time": "2024-03-01T12:06:40.467737",
     "status": "completed"
    },
    "tags": []
   },
   "outputs": [],
   "source": [
    "df = pd.read_csv('/kaggle/input/sleep-health-and-lifestyle-dataset/Sleep_health_and_lifestyle_dataset.csv')"
   ]
  },
  {
   "cell_type": "code",
   "execution_count": 4,
   "id": "91a97172",
   "metadata": {
    "execution": {
     "iopub.execute_input": "2024-03-01T12:06:40.557910Z",
     "iopub.status.busy": "2024-03-01T12:06:40.557222Z",
     "iopub.status.idle": "2024-03-01T12:06:40.582360Z",
     "shell.execute_reply": "2024-03-01T12:06:40.580991Z"
    },
    "papermill": {
     "duration": 0.048735,
     "end_time": "2024-03-01T12:06:40.585164",
     "exception": false,
     "start_time": "2024-03-01T12:06:40.536429",
     "status": "completed"
    },
    "tags": []
   },
   "outputs": [
    {
     "data": {
      "text/html": [
       "<div>\n",
       "<style scoped>\n",
       "    .dataframe tbody tr th:only-of-type {\n",
       "        vertical-align: middle;\n",
       "    }\n",
       "\n",
       "    .dataframe tbody tr th {\n",
       "        vertical-align: top;\n",
       "    }\n",
       "\n",
       "    .dataframe thead th {\n",
       "        text-align: right;\n",
       "    }\n",
       "</style>\n",
       "<table border=\"1\" class=\"dataframe\">\n",
       "  <thead>\n",
       "    <tr style=\"text-align: right;\">\n",
       "      <th></th>\n",
       "      <th>Person ID</th>\n",
       "      <th>Gender</th>\n",
       "      <th>Age</th>\n",
       "      <th>Occupation</th>\n",
       "      <th>Sleep Duration</th>\n",
       "      <th>Quality of Sleep</th>\n",
       "      <th>Physical Activity Level</th>\n",
       "      <th>Stress Level</th>\n",
       "      <th>BMI Category</th>\n",
       "      <th>Blood Pressure</th>\n",
       "      <th>Heart Rate</th>\n",
       "      <th>Daily Steps</th>\n",
       "      <th>Sleep Disorder</th>\n",
       "    </tr>\n",
       "  </thead>\n",
       "  <tbody>\n",
       "    <tr>\n",
       "      <th>0</th>\n",
       "      <td>1</td>\n",
       "      <td>Male</td>\n",
       "      <td>27</td>\n",
       "      <td>Software Engineer</td>\n",
       "      <td>6.1</td>\n",
       "      <td>6</td>\n",
       "      <td>42</td>\n",
       "      <td>6</td>\n",
       "      <td>Overweight</td>\n",
       "      <td>126/83</td>\n",
       "      <td>77</td>\n",
       "      <td>4200</td>\n",
       "      <td>NaN</td>\n",
       "    </tr>\n",
       "    <tr>\n",
       "      <th>1</th>\n",
       "      <td>2</td>\n",
       "      <td>Male</td>\n",
       "      <td>28</td>\n",
       "      <td>Doctor</td>\n",
       "      <td>6.2</td>\n",
       "      <td>6</td>\n",
       "      <td>60</td>\n",
       "      <td>8</td>\n",
       "      <td>Normal</td>\n",
       "      <td>125/80</td>\n",
       "      <td>75</td>\n",
       "      <td>10000</td>\n",
       "      <td>NaN</td>\n",
       "    </tr>\n",
       "    <tr>\n",
       "      <th>2</th>\n",
       "      <td>3</td>\n",
       "      <td>Male</td>\n",
       "      <td>28</td>\n",
       "      <td>Doctor</td>\n",
       "      <td>6.2</td>\n",
       "      <td>6</td>\n",
       "      <td>60</td>\n",
       "      <td>8</td>\n",
       "      <td>Normal</td>\n",
       "      <td>125/80</td>\n",
       "      <td>75</td>\n",
       "      <td>10000</td>\n",
       "      <td>NaN</td>\n",
       "    </tr>\n",
       "    <tr>\n",
       "      <th>3</th>\n",
       "      <td>4</td>\n",
       "      <td>Male</td>\n",
       "      <td>28</td>\n",
       "      <td>Sales Representative</td>\n",
       "      <td>5.9</td>\n",
       "      <td>4</td>\n",
       "      <td>30</td>\n",
       "      <td>8</td>\n",
       "      <td>Obese</td>\n",
       "      <td>140/90</td>\n",
       "      <td>85</td>\n",
       "      <td>3000</td>\n",
       "      <td>Sleep Apnea</td>\n",
       "    </tr>\n",
       "    <tr>\n",
       "      <th>4</th>\n",
       "      <td>5</td>\n",
       "      <td>Male</td>\n",
       "      <td>28</td>\n",
       "      <td>Sales Representative</td>\n",
       "      <td>5.9</td>\n",
       "      <td>4</td>\n",
       "      <td>30</td>\n",
       "      <td>8</td>\n",
       "      <td>Obese</td>\n",
       "      <td>140/90</td>\n",
       "      <td>85</td>\n",
       "      <td>3000</td>\n",
       "      <td>Sleep Apnea</td>\n",
       "    </tr>\n",
       "  </tbody>\n",
       "</table>\n",
       "</div>"
      ],
      "text/plain": [
       "   Person ID Gender  Age            Occupation  Sleep Duration  \\\n",
       "0          1   Male   27     Software Engineer             6.1   \n",
       "1          2   Male   28                Doctor             6.2   \n",
       "2          3   Male   28                Doctor             6.2   \n",
       "3          4   Male   28  Sales Representative             5.9   \n",
       "4          5   Male   28  Sales Representative             5.9   \n",
       "\n",
       "   Quality of Sleep  Physical Activity Level  Stress Level BMI Category  \\\n",
       "0                 6                       42             6   Overweight   \n",
       "1                 6                       60             8       Normal   \n",
       "2                 6                       60             8       Normal   \n",
       "3                 4                       30             8        Obese   \n",
       "4                 4                       30             8        Obese   \n",
       "\n",
       "  Blood Pressure  Heart Rate  Daily Steps Sleep Disorder  \n",
       "0         126/83          77         4200            NaN  \n",
       "1         125/80          75        10000            NaN  \n",
       "2         125/80          75        10000            NaN  \n",
       "3         140/90          85         3000    Sleep Apnea  \n",
       "4         140/90          85         3000    Sleep Apnea  "
      ]
     },
     "execution_count": 4,
     "metadata": {},
     "output_type": "execute_result"
    }
   ],
   "source": [
    "df.head()"
   ]
  },
  {
   "cell_type": "code",
   "execution_count": 5,
   "id": "87ef4b11",
   "metadata": {
    "execution": {
     "iopub.execute_input": "2024-03-01T12:06:40.628629Z",
     "iopub.status.busy": "2024-03-01T12:06:40.628201Z",
     "iopub.status.idle": "2024-03-01T12:06:40.634751Z",
     "shell.execute_reply": "2024-03-01T12:06:40.633872Z"
    },
    "papermill": {
     "duration": 0.032376,
     "end_time": "2024-03-01T12:06:40.637461",
     "exception": false,
     "start_time": "2024-03-01T12:06:40.605085",
     "status": "completed"
    },
    "tags": []
   },
   "outputs": [
    {
     "data": {
      "text/plain": [
       "(374, 13)"
      ]
     },
     "execution_count": 5,
     "metadata": {},
     "output_type": "execute_result"
    }
   ],
   "source": [
    "df.shape"
   ]
  },
  {
   "cell_type": "code",
   "execution_count": 6,
   "id": "d559c595",
   "metadata": {
    "execution": {
     "iopub.execute_input": "2024-03-01T12:06:40.678751Z",
     "iopub.status.busy": "2024-03-01T12:06:40.677749Z",
     "iopub.status.idle": "2024-03-01T12:06:40.706844Z",
     "shell.execute_reply": "2024-03-01T12:06:40.705718Z"
    },
    "papermill": {
     "duration": 0.052335,
     "end_time": "2024-03-01T12:06:40.709437",
     "exception": false,
     "start_time": "2024-03-01T12:06:40.657102",
     "status": "completed"
    },
    "tags": []
   },
   "outputs": [
    {
     "name": "stdout",
     "output_type": "stream",
     "text": [
      "<class 'pandas.core.frame.DataFrame'>\n",
      "RangeIndex: 374 entries, 0 to 373\n",
      "Data columns (total 13 columns):\n",
      " #   Column                   Non-Null Count  Dtype  \n",
      "---  ------                   --------------  -----  \n",
      " 0   Person ID                374 non-null    int64  \n",
      " 1   Gender                   374 non-null    object \n",
      " 2   Age                      374 non-null    int64  \n",
      " 3   Occupation               374 non-null    object \n",
      " 4   Sleep Duration           374 non-null    float64\n",
      " 5   Quality of Sleep         374 non-null    int64  \n",
      " 6   Physical Activity Level  374 non-null    int64  \n",
      " 7   Stress Level             374 non-null    int64  \n",
      " 8   BMI Category             374 non-null    object \n",
      " 9   Blood Pressure           374 non-null    object \n",
      " 10  Heart Rate               374 non-null    int64  \n",
      " 11  Daily Steps              374 non-null    int64  \n",
      " 12  Sleep Disorder           155 non-null    object \n",
      "dtypes: float64(1), int64(7), object(5)\n",
      "memory usage: 38.1+ KB\n"
     ]
    }
   ],
   "source": [
    "df.info()"
   ]
  },
  {
   "cell_type": "code",
   "execution_count": 7,
   "id": "276befe1",
   "metadata": {
    "execution": {
     "iopub.execute_input": "2024-03-01T12:06:40.748871Z",
     "iopub.status.busy": "2024-03-01T12:06:40.748300Z",
     "iopub.status.idle": "2024-03-01T12:06:40.757070Z",
     "shell.execute_reply": "2024-03-01T12:06:40.755983Z"
    },
    "papermill": {
     "duration": 0.031076,
     "end_time": "2024-03-01T12:06:40.759168",
     "exception": false,
     "start_time": "2024-03-01T12:06:40.728092",
     "status": "completed"
    },
    "tags": []
   },
   "outputs": [
    {
     "data": {
      "text/plain": [
       "Person ID                    0\n",
       "Gender                       0\n",
       "Age                          0\n",
       "Occupation                   0\n",
       "Sleep Duration               0\n",
       "Quality of Sleep             0\n",
       "Physical Activity Level      0\n",
       "Stress Level                 0\n",
       "BMI Category                 0\n",
       "Blood Pressure               0\n",
       "Heart Rate                   0\n",
       "Daily Steps                  0\n",
       "Sleep Disorder             219\n",
       "dtype: int64"
      ]
     },
     "execution_count": 7,
     "metadata": {},
     "output_type": "execute_result"
    }
   ],
   "source": [
    "df.isnull().sum()"
   ]
  },
  {
   "cell_type": "code",
   "execution_count": 8,
   "id": "17313915",
   "metadata": {
    "execution": {
     "iopub.execute_input": "2024-03-01T12:06:40.799417Z",
     "iopub.status.busy": "2024-03-01T12:06:40.798808Z",
     "iopub.status.idle": "2024-03-01T12:06:40.835254Z",
     "shell.execute_reply": "2024-03-01T12:06:40.833797Z"
    },
    "papermill": {
     "duration": 0.059482,
     "end_time": "2024-03-01T12:06:40.837872",
     "exception": false,
     "start_time": "2024-03-01T12:06:40.778390",
     "status": "completed"
    },
    "tags": []
   },
   "outputs": [
    {
     "data": {
      "text/html": [
       "<div>\n",
       "<style scoped>\n",
       "    .dataframe tbody tr th:only-of-type {\n",
       "        vertical-align: middle;\n",
       "    }\n",
       "\n",
       "    .dataframe tbody tr th {\n",
       "        vertical-align: top;\n",
       "    }\n",
       "\n",
       "    .dataframe thead th {\n",
       "        text-align: right;\n",
       "    }\n",
       "</style>\n",
       "<table border=\"1\" class=\"dataframe\">\n",
       "  <thead>\n",
       "    <tr style=\"text-align: right;\">\n",
       "      <th></th>\n",
       "      <th>count</th>\n",
       "      <th>mean</th>\n",
       "      <th>std</th>\n",
       "      <th>min</th>\n",
       "      <th>25%</th>\n",
       "      <th>50%</th>\n",
       "      <th>75%</th>\n",
       "      <th>max</th>\n",
       "    </tr>\n",
       "  </thead>\n",
       "  <tbody>\n",
       "    <tr>\n",
       "      <th>Person ID</th>\n",
       "      <td>374.0</td>\n",
       "      <td>187.500000</td>\n",
       "      <td>108.108742</td>\n",
       "      <td>1.0</td>\n",
       "      <td>94.25</td>\n",
       "      <td>187.5</td>\n",
       "      <td>280.75</td>\n",
       "      <td>374.0</td>\n",
       "    </tr>\n",
       "    <tr>\n",
       "      <th>Age</th>\n",
       "      <td>374.0</td>\n",
       "      <td>42.184492</td>\n",
       "      <td>8.673133</td>\n",
       "      <td>27.0</td>\n",
       "      <td>35.25</td>\n",
       "      <td>43.0</td>\n",
       "      <td>50.00</td>\n",
       "      <td>59.0</td>\n",
       "    </tr>\n",
       "    <tr>\n",
       "      <th>Sleep Duration</th>\n",
       "      <td>374.0</td>\n",
       "      <td>7.132086</td>\n",
       "      <td>0.795657</td>\n",
       "      <td>5.8</td>\n",
       "      <td>6.40</td>\n",
       "      <td>7.2</td>\n",
       "      <td>7.80</td>\n",
       "      <td>8.5</td>\n",
       "    </tr>\n",
       "    <tr>\n",
       "      <th>Quality of Sleep</th>\n",
       "      <td>374.0</td>\n",
       "      <td>7.312834</td>\n",
       "      <td>1.196956</td>\n",
       "      <td>4.0</td>\n",
       "      <td>6.00</td>\n",
       "      <td>7.0</td>\n",
       "      <td>8.00</td>\n",
       "      <td>9.0</td>\n",
       "    </tr>\n",
       "    <tr>\n",
       "      <th>Physical Activity Level</th>\n",
       "      <td>374.0</td>\n",
       "      <td>59.171123</td>\n",
       "      <td>20.830804</td>\n",
       "      <td>30.0</td>\n",
       "      <td>45.00</td>\n",
       "      <td>60.0</td>\n",
       "      <td>75.00</td>\n",
       "      <td>90.0</td>\n",
       "    </tr>\n",
       "    <tr>\n",
       "      <th>Stress Level</th>\n",
       "      <td>374.0</td>\n",
       "      <td>5.385027</td>\n",
       "      <td>1.774526</td>\n",
       "      <td>3.0</td>\n",
       "      <td>4.00</td>\n",
       "      <td>5.0</td>\n",
       "      <td>7.00</td>\n",
       "      <td>8.0</td>\n",
       "    </tr>\n",
       "    <tr>\n",
       "      <th>Heart Rate</th>\n",
       "      <td>374.0</td>\n",
       "      <td>70.165775</td>\n",
       "      <td>4.135676</td>\n",
       "      <td>65.0</td>\n",
       "      <td>68.00</td>\n",
       "      <td>70.0</td>\n",
       "      <td>72.00</td>\n",
       "      <td>86.0</td>\n",
       "    </tr>\n",
       "    <tr>\n",
       "      <th>Daily Steps</th>\n",
       "      <td>374.0</td>\n",
       "      <td>6816.844920</td>\n",
       "      <td>1617.915679</td>\n",
       "      <td>3000.0</td>\n",
       "      <td>5600.00</td>\n",
       "      <td>7000.0</td>\n",
       "      <td>8000.00</td>\n",
       "      <td>10000.0</td>\n",
       "    </tr>\n",
       "  </tbody>\n",
       "</table>\n",
       "</div>"
      ],
      "text/plain": [
       "                         count         mean          std     min      25%  \\\n",
       "Person ID                374.0   187.500000   108.108742     1.0    94.25   \n",
       "Age                      374.0    42.184492     8.673133    27.0    35.25   \n",
       "Sleep Duration           374.0     7.132086     0.795657     5.8     6.40   \n",
       "Quality of Sleep         374.0     7.312834     1.196956     4.0     6.00   \n",
       "Physical Activity Level  374.0    59.171123    20.830804    30.0    45.00   \n",
       "Stress Level             374.0     5.385027     1.774526     3.0     4.00   \n",
       "Heart Rate               374.0    70.165775     4.135676    65.0    68.00   \n",
       "Daily Steps              374.0  6816.844920  1617.915679  3000.0  5600.00   \n",
       "\n",
       "                            50%      75%      max  \n",
       "Person ID                 187.5   280.75    374.0  \n",
       "Age                        43.0    50.00     59.0  \n",
       "Sleep Duration              7.2     7.80      8.5  \n",
       "Quality of Sleep            7.0     8.00      9.0  \n",
       "Physical Activity Level    60.0    75.00     90.0  \n",
       "Stress Level                5.0     7.00      8.0  \n",
       "Heart Rate                 70.0    72.00     86.0  \n",
       "Daily Steps              7000.0  8000.00  10000.0  "
      ]
     },
     "execution_count": 8,
     "metadata": {},
     "output_type": "execute_result"
    }
   ],
   "source": [
    "df.describe().T"
   ]
  },
  {
   "cell_type": "code",
   "execution_count": 9,
   "id": "820b946b",
   "metadata": {
    "execution": {
     "iopub.execute_input": "2024-03-01T12:06:40.880277Z",
     "iopub.status.busy": "2024-03-01T12:06:40.879585Z",
     "iopub.status.idle": "2024-03-01T12:06:40.885643Z",
     "shell.execute_reply": "2024-03-01T12:06:40.884814Z"
    },
    "papermill": {
     "duration": 0.030023,
     "end_time": "2024-03-01T12:06:40.887989",
     "exception": false,
     "start_time": "2024-03-01T12:06:40.857966",
     "status": "completed"
    },
    "tags": []
   },
   "outputs": [],
   "source": [
    "df.rename(columns = {'Person ID': 'person_id',\n",
    "                       'Gender': 'gender',\n",
    "                       'Age': 'age',\n",
    "                       'Occupation': 'occupation',\n",
    "                       'Sleep Duration': 'sleep_duration',\n",
    "                       'Quality of Sleep': 'quality_of_sleep',\n",
    "                       'Physical Activity Level': 'physical_activity_level',\n",
    "                       'Stress Level': 'stress_level',\n",
    "                       'BMI Category': 'bmi_category',\n",
    "                       'Blood Pressure': 'blood_pressure',\n",
    "                       'Heart Rate': 'heart_rate',\n",
    "                       'Daily Steps': 'daily_steps',\n",
    "                       'Sleep Disorder': 'sleep_disorder'                      \n",
    "                      }, inplace=True)"
   ]
  },
  {
   "cell_type": "code",
   "execution_count": 10,
   "id": "e756d6e5",
   "metadata": {
    "execution": {
     "iopub.execute_input": "2024-03-01T12:06:40.930896Z",
     "iopub.status.busy": "2024-03-01T12:06:40.930432Z",
     "iopub.status.idle": "2024-03-01T12:06:40.942588Z",
     "shell.execute_reply": "2024-03-01T12:06:40.941525Z"
    },
    "papermill": {
     "duration": 0.036601,
     "end_time": "2024-03-01T12:06:40.944879",
     "exception": false,
     "start_time": "2024-03-01T12:06:40.908278",
     "status": "completed"
    },
    "tags": []
   },
   "outputs": [
    {
     "data": {
      "text/plain": [
       "person_id                  374\n",
       "gender                       2\n",
       "age                         31\n",
       "occupation                  11\n",
       "sleep_duration              27\n",
       "quality_of_sleep             6\n",
       "physical_activity_level     16\n",
       "stress_level                 6\n",
       "bmi_category                 4\n",
       "blood_pressure              25\n",
       "heart_rate                  19\n",
       "daily_steps                 20\n",
       "sleep_disorder               2\n",
       "dtype: int64"
      ]
     },
     "execution_count": 10,
     "metadata": {},
     "output_type": "execute_result"
    }
   ],
   "source": [
    "df.nunique()"
   ]
  },
  {
   "cell_type": "code",
   "execution_count": 11,
   "id": "1b0ecccb",
   "metadata": {
    "execution": {
     "iopub.execute_input": "2024-03-01T12:06:41.046717Z",
     "iopub.status.busy": "2024-03-01T12:06:41.045770Z",
     "iopub.status.idle": "2024-03-01T12:06:41.053828Z",
     "shell.execute_reply": "2024-03-01T12:06:41.052759Z"
    },
    "papermill": {
     "duration": 0.09098,
     "end_time": "2024-03-01T12:06:41.056033",
     "exception": false,
     "start_time": "2024-03-01T12:06:40.965053",
     "status": "completed"
    },
    "tags": []
   },
   "outputs": [
    {
     "data": {
      "text/plain": [
       "array(['Software Engineer', 'Doctor', 'Sales Representative', 'Teacher',\n",
       "       'Nurse', 'Engineer', 'Accountant', 'Scientist', 'Lawyer',\n",
       "       'Salesperson', 'Manager'], dtype=object)"
      ]
     },
     "execution_count": 11,
     "metadata": {},
     "output_type": "execute_result"
    }
   ],
   "source": [
    "df['occupation'].unique()"
   ]
  },
  {
   "cell_type": "code",
   "execution_count": 12,
   "id": "987932ff",
   "metadata": {
    "execution": {
     "iopub.execute_input": "2024-03-01T12:06:41.097486Z",
     "iopub.status.busy": "2024-03-01T12:06:41.097086Z",
     "iopub.status.idle": "2024-03-01T12:06:41.106336Z",
     "shell.execute_reply": "2024-03-01T12:06:41.105122Z"
    },
    "papermill": {
     "duration": 0.032831,
     "end_time": "2024-03-01T12:06:41.108815",
     "exception": false,
     "start_time": "2024-03-01T12:06:41.075984",
     "status": "completed"
    },
    "tags": []
   },
   "outputs": [
    {
     "data": {
      "text/plain": [
       "occupation\n",
       "Nurse                   73\n",
       "Doctor                  71\n",
       "Engineer                63\n",
       "Lawyer                  47\n",
       "Teacher                 40\n",
       "Accountant              37\n",
       "Salesperson             32\n",
       "Software Engineer        4\n",
       "Scientist                4\n",
       "Sales Representative     2\n",
       "Manager                  1\n",
       "Name: count, dtype: int64"
      ]
     },
     "execution_count": 12,
     "metadata": {},
     "output_type": "execute_result"
    }
   ],
   "source": [
    "df['occupation'].value_counts()"
   ]
  },
  {
   "cell_type": "code",
   "execution_count": 13,
   "id": "c78adcc7",
   "metadata": {
    "execution": {
     "iopub.execute_input": "2024-03-01T12:06:41.150608Z",
     "iopub.status.busy": "2024-03-01T12:06:41.150249Z",
     "iopub.status.idle": "2024-03-01T12:06:41.158933Z",
     "shell.execute_reply": "2024-03-01T12:06:41.157694Z"
    },
    "papermill": {
     "duration": 0.032767,
     "end_time": "2024-03-01T12:06:41.161606",
     "exception": false,
     "start_time": "2024-03-01T12:06:41.128839",
     "status": "completed"
    },
    "tags": []
   },
   "outputs": [],
   "source": [
    "df.loc[df.occupation == 'Software Engineer', 'occupation'] = 'Engineer'\n",
    "df.loc[df.occupation == 'Sales Representative', 'occupation'] = 'Salesperson'\n",
    "df.loc[df.occupation == 'Scientist','occupation'] = 'Other'\n",
    "df.loc[df.occupation == 'Manager', 'occupation'] = 'Other'"
   ]
  },
  {
   "cell_type": "code",
   "execution_count": 14,
   "id": "0fe7c5c8",
   "metadata": {
    "execution": {
     "iopub.execute_input": "2024-03-01T12:06:41.205371Z",
     "iopub.status.busy": "2024-03-01T12:06:41.204278Z",
     "iopub.status.idle": "2024-03-01T12:06:41.212093Z",
     "shell.execute_reply": "2024-03-01T12:06:41.210984Z"
    },
    "papermill": {
     "duration": 0.032016,
     "end_time": "2024-03-01T12:06:41.214378",
     "exception": false,
     "start_time": "2024-03-01T12:06:41.182362",
     "status": "completed"
    },
    "tags": []
   },
   "outputs": [
    {
     "data": {
      "text/plain": [
       "array(['Engineer', 'Doctor', 'Salesperson', 'Teacher', 'Nurse',\n",
       "       'Accountant', 'Other', 'Lawyer'], dtype=object)"
      ]
     },
     "execution_count": 14,
     "metadata": {},
     "output_type": "execute_result"
    }
   ],
   "source": [
    "df['occupation'].unique()"
   ]
  },
  {
   "cell_type": "code",
   "execution_count": 15,
   "id": "ca271eff",
   "metadata": {
    "execution": {
     "iopub.execute_input": "2024-03-01T12:06:41.259719Z",
     "iopub.status.busy": "2024-03-01T12:06:41.259041Z",
     "iopub.status.idle": "2024-03-01T12:06:41.267931Z",
     "shell.execute_reply": "2024-03-01T12:06:41.266752Z"
    },
    "papermill": {
     "duration": 0.034855,
     "end_time": "2024-03-01T12:06:41.270109",
     "exception": false,
     "start_time": "2024-03-01T12:06:41.235254",
     "status": "completed"
    },
    "tags": []
   },
   "outputs": [
    {
     "data": {
      "text/plain": [
       "occupation\n",
       "Nurse          73\n",
       "Doctor         71\n",
       "Engineer       67\n",
       "Lawyer         47\n",
       "Teacher        40\n",
       "Accountant     37\n",
       "Salesperson    34\n",
       "Other           5\n",
       "Name: count, dtype: int64"
      ]
     },
     "execution_count": 15,
     "metadata": {},
     "output_type": "execute_result"
    }
   ],
   "source": [
    "df['occupation'].value_counts()"
   ]
  },
  {
   "cell_type": "code",
   "execution_count": 16,
   "id": "41097759",
   "metadata": {
    "execution": {
     "iopub.execute_input": "2024-03-01T12:06:41.314357Z",
     "iopub.status.busy": "2024-03-01T12:06:41.313545Z",
     "iopub.status.idle": "2024-03-01T12:06:41.321129Z",
     "shell.execute_reply": "2024-03-01T12:06:41.319986Z"
    },
    "papermill": {
     "duration": 0.032656,
     "end_time": "2024-03-01T12:06:41.323603",
     "exception": false,
     "start_time": "2024-03-01T12:06:41.290947",
     "status": "completed"
    },
    "tags": []
   },
   "outputs": [
    {
     "data": {
      "text/plain": [
       "array(['Overweight', 'Normal', 'Obese', 'Normal Weight'], dtype=object)"
      ]
     },
     "execution_count": 16,
     "metadata": {},
     "output_type": "execute_result"
    }
   ],
   "source": [
    "df.bmi_category.unique()"
   ]
  },
  {
   "cell_type": "code",
   "execution_count": 17,
   "id": "07cb1d41",
   "metadata": {
    "execution": {
     "iopub.execute_input": "2024-03-01T12:06:41.368640Z",
     "iopub.status.busy": "2024-03-01T12:06:41.367963Z",
     "iopub.status.idle": "2024-03-01T12:06:41.376905Z",
     "shell.execute_reply": "2024-03-01T12:06:41.375475Z"
    },
    "papermill": {
     "duration": 0.034054,
     "end_time": "2024-03-01T12:06:41.379223",
     "exception": false,
     "start_time": "2024-03-01T12:06:41.345169",
     "status": "completed"
    },
    "tags": []
   },
   "outputs": [
    {
     "data": {
      "text/plain": [
       "bmi_category\n",
       "Normal           195\n",
       "Overweight       148\n",
       "Normal Weight     21\n",
       "Obese             10\n",
       "Name: count, dtype: int64"
      ]
     },
     "execution_count": 17,
     "metadata": {},
     "output_type": "execute_result"
    }
   ],
   "source": [
    "df.bmi_category.value_counts()"
   ]
  },
  {
   "cell_type": "code",
   "execution_count": 18,
   "id": "ddbc9589",
   "metadata": {
    "execution": {
     "iopub.execute_input": "2024-03-01T12:06:41.423573Z",
     "iopub.status.busy": "2024-03-01T12:06:41.423157Z",
     "iopub.status.idle": "2024-03-01T12:06:41.429628Z",
     "shell.execute_reply": "2024-03-01T12:06:41.428129Z"
    },
    "papermill": {
     "duration": 0.032372,
     "end_time": "2024-03-01T12:06:41.432397",
     "exception": false,
     "start_time": "2024-03-01T12:06:41.400025",
     "status": "completed"
    },
    "tags": []
   },
   "outputs": [],
   "source": [
    "df.loc[df.bmi_category == 'Normal Weight', 'bmi_category'] = 'Normal'"
   ]
  },
  {
   "cell_type": "code",
   "execution_count": 19,
   "id": "59fdd881",
   "metadata": {
    "execution": {
     "iopub.execute_input": "2024-03-01T12:06:41.477335Z",
     "iopub.status.busy": "2024-03-01T12:06:41.476867Z",
     "iopub.status.idle": "2024-03-01T12:06:41.484262Z",
     "shell.execute_reply": "2024-03-01T12:06:41.482987Z"
    },
    "papermill": {
     "duration": 0.032985,
     "end_time": "2024-03-01T12:06:41.486838",
     "exception": false,
     "start_time": "2024-03-01T12:06:41.453853",
     "status": "completed"
    },
    "tags": []
   },
   "outputs": [
    {
     "data": {
      "text/plain": [
       "array(['Overweight', 'Normal', 'Obese'], dtype=object)"
      ]
     },
     "execution_count": 19,
     "metadata": {},
     "output_type": "execute_result"
    }
   ],
   "source": [
    "df.bmi_category.unique()"
   ]
  },
  {
   "cell_type": "code",
   "execution_count": 20,
   "id": "bad30304",
   "metadata": {
    "execution": {
     "iopub.execute_input": "2024-03-01T12:06:41.533484Z",
     "iopub.status.busy": "2024-03-01T12:06:41.533031Z",
     "iopub.status.idle": "2024-03-01T12:06:41.542174Z",
     "shell.execute_reply": "2024-03-01T12:06:41.540866Z"
    },
    "papermill": {
     "duration": 0.036139,
     "end_time": "2024-03-01T12:06:41.544542",
     "exception": false,
     "start_time": "2024-03-01T12:06:41.508403",
     "status": "completed"
    },
    "tags": []
   },
   "outputs": [
    {
     "data": {
      "text/plain": [
       "bmi_category\n",
       "Normal        216\n",
       "Overweight    148\n",
       "Obese          10\n",
       "Name: count, dtype: int64"
      ]
     },
     "execution_count": 20,
     "metadata": {},
     "output_type": "execute_result"
    }
   ],
   "source": [
    "df.bmi_category.value_counts()"
   ]
  },
  {
   "cell_type": "code",
   "execution_count": 21,
   "id": "5b7b8c7e",
   "metadata": {
    "execution": {
     "iopub.execute_input": "2024-03-01T12:06:41.590408Z",
     "iopub.status.busy": "2024-03-01T12:06:41.589994Z",
     "iopub.status.idle": "2024-03-01T12:06:41.597289Z",
     "shell.execute_reply": "2024-03-01T12:06:41.596367Z"
    },
    "papermill": {
     "duration": 0.032999,
     "end_time": "2024-03-01T12:06:41.599561",
     "exception": false,
     "start_time": "2024-03-01T12:06:41.566562",
     "status": "completed"
    },
    "tags": []
   },
   "outputs": [
    {
     "data": {
      "text/plain": [
       "array([nan, 'Sleep Apnea', 'Insomnia'], dtype=object)"
      ]
     },
     "execution_count": 21,
     "metadata": {},
     "output_type": "execute_result"
    }
   ],
   "source": [
    "df.sleep_disorder.unique()"
   ]
  },
  {
   "cell_type": "code",
   "execution_count": 22,
   "id": "cf25d6c5",
   "metadata": {
    "execution": {
     "iopub.execute_input": "2024-03-01T12:06:41.646633Z",
     "iopub.status.busy": "2024-03-01T12:06:41.646250Z",
     "iopub.status.idle": "2024-03-01T12:06:41.653685Z",
     "shell.execute_reply": "2024-03-01T12:06:41.652371Z"
    },
    "papermill": {
     "duration": 0.032993,
     "end_time": "2024-03-01T12:06:41.656091",
     "exception": false,
     "start_time": "2024-03-01T12:06:41.623098",
     "status": "completed"
    },
    "tags": []
   },
   "outputs": [],
   "source": [
    "df.sleep_disorder = df.sleep_disorder.fillna(value='None')"
   ]
  },
  {
   "cell_type": "code",
   "execution_count": 23,
   "id": "3c3089da",
   "metadata": {
    "execution": {
     "iopub.execute_input": "2024-03-01T12:06:41.701692Z",
     "iopub.status.busy": "2024-03-01T12:06:41.701283Z",
     "iopub.status.idle": "2024-03-01T12:06:41.710532Z",
     "shell.execute_reply": "2024-03-01T12:06:41.709362Z"
    },
    "papermill": {
     "duration": 0.035281,
     "end_time": "2024-03-01T12:06:41.713355",
     "exception": false,
     "start_time": "2024-03-01T12:06:41.678074",
     "status": "completed"
    },
    "tags": []
   },
   "outputs": [
    {
     "data": {
      "text/plain": [
       "0      126/83\n",
       "1      125/80\n",
       "2      125/80\n",
       "3      140/90\n",
       "4      140/90\n",
       "        ...  \n",
       "369    140/95\n",
       "370    140/95\n",
       "371    140/95\n",
       "372    140/95\n",
       "373    140/95\n",
       "Name: blood_pressure, Length: 374, dtype: object"
      ]
     },
     "execution_count": 23,
     "metadata": {},
     "output_type": "execute_result"
    }
   ],
   "source": [
    "df.blood_pressure"
   ]
  },
  {
   "cell_type": "code",
   "execution_count": 24,
   "id": "90eb59d9",
   "metadata": {
    "execution": {
     "iopub.execute_input": "2024-03-01T12:06:41.761349Z",
     "iopub.status.busy": "2024-03-01T12:06:41.760982Z",
     "iopub.status.idle": "2024-03-01T12:06:41.768838Z",
     "shell.execute_reply": "2024-03-01T12:06:41.767952Z"
    },
    "papermill": {
     "duration": 0.03484,
     "end_time": "2024-03-01T12:06:41.770853",
     "exception": false,
     "start_time": "2024-03-01T12:06:41.736013",
     "status": "completed"
    },
    "tags": []
   },
   "outputs": [],
   "source": [
    "df[['systolic_blood_pressure', 'diastolic_blood_pressure']] = df['blood_pressure'].str.split(\"/\", expand = True).astype(int)"
   ]
  },
  {
   "cell_type": "code",
   "execution_count": 25,
   "id": "f30d957a",
   "metadata": {
    "execution": {
     "iopub.execute_input": "2024-03-01T12:06:41.816263Z",
     "iopub.status.busy": "2024-03-01T12:06:41.815861Z",
     "iopub.status.idle": "2024-03-01T12:06:41.831231Z",
     "shell.execute_reply": "2024-03-01T12:06:41.830412Z"
    },
    "papermill": {
     "duration": 0.040564,
     "end_time": "2024-03-01T12:06:41.833430",
     "exception": false,
     "start_time": "2024-03-01T12:06:41.792866",
     "status": "completed"
    },
    "tags": []
   },
   "outputs": [
    {
     "data": {
      "text/html": [
       "<div>\n",
       "<style scoped>\n",
       "    .dataframe tbody tr th:only-of-type {\n",
       "        vertical-align: middle;\n",
       "    }\n",
       "\n",
       "    .dataframe tbody tr th {\n",
       "        vertical-align: top;\n",
       "    }\n",
       "\n",
       "    .dataframe thead th {\n",
       "        text-align: right;\n",
       "    }\n",
       "</style>\n",
       "<table border=\"1\" class=\"dataframe\">\n",
       "  <thead>\n",
       "    <tr style=\"text-align: right;\">\n",
       "      <th></th>\n",
       "      <th>person_id</th>\n",
       "      <th>gender</th>\n",
       "      <th>age</th>\n",
       "      <th>occupation</th>\n",
       "      <th>sleep_duration</th>\n",
       "      <th>quality_of_sleep</th>\n",
       "      <th>physical_activity_level</th>\n",
       "      <th>stress_level</th>\n",
       "      <th>bmi_category</th>\n",
       "      <th>blood_pressure</th>\n",
       "      <th>heart_rate</th>\n",
       "      <th>daily_steps</th>\n",
       "      <th>sleep_disorder</th>\n",
       "      <th>systolic_blood_pressure</th>\n",
       "      <th>diastolic_blood_pressure</th>\n",
       "    </tr>\n",
       "  </thead>\n",
       "  <tbody>\n",
       "    <tr>\n",
       "      <th>0</th>\n",
       "      <td>1</td>\n",
       "      <td>Male</td>\n",
       "      <td>27</td>\n",
       "      <td>Engineer</td>\n",
       "      <td>6.1</td>\n",
       "      <td>6</td>\n",
       "      <td>42</td>\n",
       "      <td>6</td>\n",
       "      <td>Overweight</td>\n",
       "      <td>126/83</td>\n",
       "      <td>77</td>\n",
       "      <td>4200</td>\n",
       "      <td>None</td>\n",
       "      <td>126</td>\n",
       "      <td>83</td>\n",
       "    </tr>\n",
       "    <tr>\n",
       "      <th>1</th>\n",
       "      <td>2</td>\n",
       "      <td>Male</td>\n",
       "      <td>28</td>\n",
       "      <td>Doctor</td>\n",
       "      <td>6.2</td>\n",
       "      <td>6</td>\n",
       "      <td>60</td>\n",
       "      <td>8</td>\n",
       "      <td>Normal</td>\n",
       "      <td>125/80</td>\n",
       "      <td>75</td>\n",
       "      <td>10000</td>\n",
       "      <td>None</td>\n",
       "      <td>125</td>\n",
       "      <td>80</td>\n",
       "    </tr>\n",
       "    <tr>\n",
       "      <th>2</th>\n",
       "      <td>3</td>\n",
       "      <td>Male</td>\n",
       "      <td>28</td>\n",
       "      <td>Doctor</td>\n",
       "      <td>6.2</td>\n",
       "      <td>6</td>\n",
       "      <td>60</td>\n",
       "      <td>8</td>\n",
       "      <td>Normal</td>\n",
       "      <td>125/80</td>\n",
       "      <td>75</td>\n",
       "      <td>10000</td>\n",
       "      <td>None</td>\n",
       "      <td>125</td>\n",
       "      <td>80</td>\n",
       "    </tr>\n",
       "    <tr>\n",
       "      <th>3</th>\n",
       "      <td>4</td>\n",
       "      <td>Male</td>\n",
       "      <td>28</td>\n",
       "      <td>Salesperson</td>\n",
       "      <td>5.9</td>\n",
       "      <td>4</td>\n",
       "      <td>30</td>\n",
       "      <td>8</td>\n",
       "      <td>Obese</td>\n",
       "      <td>140/90</td>\n",
       "      <td>85</td>\n",
       "      <td>3000</td>\n",
       "      <td>Sleep Apnea</td>\n",
       "      <td>140</td>\n",
       "      <td>90</td>\n",
       "    </tr>\n",
       "    <tr>\n",
       "      <th>4</th>\n",
       "      <td>5</td>\n",
       "      <td>Male</td>\n",
       "      <td>28</td>\n",
       "      <td>Salesperson</td>\n",
       "      <td>5.9</td>\n",
       "      <td>4</td>\n",
       "      <td>30</td>\n",
       "      <td>8</td>\n",
       "      <td>Obese</td>\n",
       "      <td>140/90</td>\n",
       "      <td>85</td>\n",
       "      <td>3000</td>\n",
       "      <td>Sleep Apnea</td>\n",
       "      <td>140</td>\n",
       "      <td>90</td>\n",
       "    </tr>\n",
       "  </tbody>\n",
       "</table>\n",
       "</div>"
      ],
      "text/plain": [
       "   person_id gender  age   occupation  sleep_duration  quality_of_sleep  \\\n",
       "0          1   Male   27     Engineer             6.1                 6   \n",
       "1          2   Male   28       Doctor             6.2                 6   \n",
       "2          3   Male   28       Doctor             6.2                 6   \n",
       "3          4   Male   28  Salesperson             5.9                 4   \n",
       "4          5   Male   28  Salesperson             5.9                 4   \n",
       "\n",
       "   physical_activity_level  stress_level bmi_category blood_pressure  \\\n",
       "0                       42             6   Overweight         126/83   \n",
       "1                       60             8       Normal         125/80   \n",
       "2                       60             8       Normal         125/80   \n",
       "3                       30             8        Obese         140/90   \n",
       "4                       30             8        Obese         140/90   \n",
       "\n",
       "   heart_rate  daily_steps sleep_disorder  systolic_blood_pressure  \\\n",
       "0          77         4200           None                      126   \n",
       "1          75        10000           None                      125   \n",
       "2          75        10000           None                      125   \n",
       "3          85         3000    Sleep Apnea                      140   \n",
       "4          85         3000    Sleep Apnea                      140   \n",
       "\n",
       "   diastolic_blood_pressure  \n",
       "0                        83  \n",
       "1                        80  \n",
       "2                        80  \n",
       "3                        90  \n",
       "4                        90  "
      ]
     },
     "execution_count": 25,
     "metadata": {},
     "output_type": "execute_result"
    }
   ],
   "source": [
    "df.head()"
   ]
  },
  {
   "cell_type": "markdown",
   "id": "ba4380a0",
   "metadata": {
    "papermill": {
     "duration": 0.021534,
     "end_time": "2024-03-01T12:06:41.876923",
     "exception": false,
     "start_time": "2024-03-01T12:06:41.855389",
     "status": "completed"
    },
    "tags": []
   },
   "source": [
    "### Correlation "
   ]
  },
  {
   "cell_type": "code",
   "execution_count": 26,
   "id": "b10ea732",
   "metadata": {
    "execution": {
     "iopub.execute_input": "2024-03-01T12:06:41.924305Z",
     "iopub.status.busy": "2024-03-01T12:06:41.923842Z",
     "iopub.status.idle": "2024-03-01T12:06:41.932861Z",
     "shell.execute_reply": "2024-03-01T12:06:41.931590Z"
    },
    "papermill": {
     "duration": 0.036446,
     "end_time": "2024-03-01T12:06:41.935107",
     "exception": false,
     "start_time": "2024-03-01T12:06:41.898661",
     "status": "completed"
    },
    "tags": []
   },
   "outputs": [],
   "source": [
    "selected_columns = ['age', 'sleep_duration', 'quality_of_sleep', 'physical_activity_level', \n",
    "                    'stress_level', 'heart_rate', 'daily_steps','systolic_blood_pressure','diastolic_blood_pressure']\n",
    "df_selected = df[selected_columns]"
   ]
  },
  {
   "cell_type": "code",
   "execution_count": 27,
   "id": "38dc9bef",
   "metadata": {
    "execution": {
     "iopub.execute_input": "2024-03-01T12:06:41.980394Z",
     "iopub.status.busy": "2024-03-01T12:06:41.979973Z",
     "iopub.status.idle": "2024-03-01T12:06:41.988260Z",
     "shell.execute_reply": "2024-03-01T12:06:41.987035Z"
    },
    "papermill": {
     "duration": 0.033344,
     "end_time": "2024-03-01T12:06:41.990483",
     "exception": false,
     "start_time": "2024-03-01T12:06:41.957139",
     "status": "completed"
    },
    "tags": []
   },
   "outputs": [],
   "source": [
    "corr = df_selected.corr()"
   ]
  },
  {
   "cell_type": "code",
   "execution_count": 28,
   "id": "c6a98409",
   "metadata": {
    "execution": {
     "iopub.execute_input": "2024-03-01T12:06:42.036017Z",
     "iopub.status.busy": "2024-03-01T12:06:42.035623Z",
     "iopub.status.idle": "2024-03-01T12:06:42.643830Z",
     "shell.execute_reply": "2024-03-01T12:06:42.642908Z"
    },
    "papermill": {
     "duration": 0.634041,
     "end_time": "2024-03-01T12:06:42.647066",
     "exception": false,
     "start_time": "2024-03-01T12:06:42.013025",
     "status": "completed"
    },
    "tags": []
   },
   "outputs": [
    {
     "data": {
      "image/png": "[encoded data removed]",
      "text/plain": [
       "<Figure size 1000x800 with 2 Axes>"
      ]
     },
     "metadata": {},
     "output_type": "display_data"
    }
   ],
   "source": [
    "plt.figure(figsize=(10, 8))\n",
    "sns.heatmap(corr, annot=True, cmap='coolwarm', fmt=\".2f\", linewidths=.5)\n",
    "plt.title('Seçilen Sütunlar Üzerinde Korelasyon Matrisi Heatmap')\n",
    "plt.show()"
   ]
  },
  {
   "cell_type": "markdown",
   "id": "348dc186",
   "metadata": {
    "papermill": {
     "duration": 0.022748,
     "end_time": "2024-03-01T12:06:42.693094",
     "exception": false,
     "start_time": "2024-03-01T12:06:42.670346",
     "status": "completed"
    },
    "tags": []
   },
   "source": [
    "### Summary \n",
    "\n",
    "**Correlations (>0.5)**\n",
    "\n",
    "-quality of sleep and sleep duration\n",
    "\n",
    "-heart rate and stress level\n",
    "\n",
    "-daily steps and physical activity level\n",
    "\n",
    "-blood pressure and age\n",
    "\n",
    "**Correlations (<-0.5)**\n",
    "\n",
    "-stress level and sleep duration\n",
    "\n",
    "-stress level and quality of sleep\n",
    "\n",
    "-heart rate abd sleep duration\n",
    "\n",
    "-heart rate and quality of sleep"
   ]
  },
  {
   "cell_type": "code",
   "execution_count": 29,
   "id": "9cd4a270",
   "metadata": {
    "execution": {
     "iopub.execute_input": "2024-03-01T12:06:42.741633Z",
     "iopub.status.busy": "2024-03-01T12:06:42.741233Z",
     "iopub.status.idle": "2024-03-01T12:06:42.754016Z",
     "shell.execute_reply": "2024-03-01T12:06:42.752801Z"
    },
    "papermill": {
     "duration": 0.039535,
     "end_time": "2024-03-01T12:06:42.756663",
     "exception": false,
     "start_time": "2024-03-01T12:06:42.717128",
     "status": "completed"
    },
    "tags": []
   },
   "outputs": [
    {
     "data": {
      "text/html": [
       "<div>\n",
       "<style scoped>\n",
       "    .dataframe tbody tr th:only-of-type {\n",
       "        vertical-align: middle;\n",
       "    }\n",
       "\n",
       "    .dataframe tbody tr th {\n",
       "        vertical-align: top;\n",
       "    }\n",
       "\n",
       "    .dataframe thead th {\n",
       "        text-align: right;\n",
       "    }\n",
       "</style>\n",
       "<table border=\"1\" class=\"dataframe\">\n",
       "  <thead>\n",
       "    <tr style=\"text-align: right;\">\n",
       "      <th></th>\n",
       "      <th>sleep_duration</th>\n",
       "      <th>quality_of_sleep</th>\n",
       "      <th>sleep_disorder</th>\n",
       "    </tr>\n",
       "  </thead>\n",
       "  <tbody>\n",
       "    <tr>\n",
       "      <th>0</th>\n",
       "      <td>6.1</td>\n",
       "      <td>6</td>\n",
       "      <td>None</td>\n",
       "    </tr>\n",
       "    <tr>\n",
       "      <th>1</th>\n",
       "      <td>6.2</td>\n",
       "      <td>6</td>\n",
       "      <td>None</td>\n",
       "    </tr>\n",
       "    <tr>\n",
       "      <th>2</th>\n",
       "      <td>6.2</td>\n",
       "      <td>6</td>\n",
       "      <td>None</td>\n",
       "    </tr>\n",
       "    <tr>\n",
       "      <th>3</th>\n",
       "      <td>5.9</td>\n",
       "      <td>4</td>\n",
       "      <td>Sleep Apnea</td>\n",
       "    </tr>\n",
       "    <tr>\n",
       "      <th>4</th>\n",
       "      <td>5.9</td>\n",
       "      <td>4</td>\n",
       "      <td>Sleep Apnea</td>\n",
       "    </tr>\n",
       "  </tbody>\n",
       "</table>\n",
       "</div>"
      ],
      "text/plain": [
       "   sleep_duration  quality_of_sleep sleep_disorder\n",
       "0             6.1                 6           None\n",
       "1             6.2                 6           None\n",
       "2             6.2                 6           None\n",
       "3             5.9                 4    Sleep Apnea\n",
       "4             5.9                 4    Sleep Apnea"
      ]
     },
     "execution_count": 29,
     "metadata": {},
     "output_type": "execute_result"
    }
   ],
   "source": [
    "s_v =df[['sleep_duration','quality_of_sleep','sleep_disorder']].copy(deep=True)\n",
    "s_v.head()"
   ]
  },
  {
   "cell_type": "code",
   "execution_count": 30,
   "id": "2a7d1082",
   "metadata": {
    "execution": {
     "iopub.execute_input": "2024-03-01T12:06:42.806953Z",
     "iopub.status.busy": "2024-03-01T12:06:42.806393Z",
     "iopub.status.idle": "2024-03-01T12:06:42.972654Z",
     "shell.execute_reply": "2024-03-01T12:06:42.971447Z"
    },
    "papermill": {
     "duration": 0.195198,
     "end_time": "2024-03-01T12:06:42.975776",
     "exception": false,
     "start_time": "2024-03-01T12:06:42.780578",
     "status": "completed"
    },
    "tags": []
   },
   "outputs": [
    {
     "data": {
      "image/png": "[encoded data removed]",
      "text/plain": [
       "<Figure size 640x480 with 1 Axes>"
      ]
     },
     "metadata": {},
     "output_type": "display_data"
    }
   ],
   "source": [
    "# sleep_disorder sütununa göre gruplama yapalım.\n",
    "# Grouping by sleep_disorder column.\n",
    "sleep_disorder_counts = s_v['sleep_disorder'].value_counts()\n",
    "\n",
    "#Pasta grafiği\n",
    "#Pie Chart\n",
    "sleep_disorder_counts.plot(kind = 'pie', \n",
    "                           autopct='%1.0f%%',\n",
    "                          explode=[0.05]*len(sleep_disorder_counts), # dilimleri ayırmak için explode kullandık.  # You can use explode to separate the slices.\n",
    "                          shadow=True, #Gölgelendirme ,#shadowing\n",
    "                          startangle=140) #çizim başlangıç derecesi ##drawing starting angle\n",
    "plt.axis('equal')\n",
    "plt.ylabel('Count')\n",
    "plt.show()"
   ]
  },
  {
   "cell_type": "code",
   "execution_count": 31,
   "id": "ab38b817",
   "metadata": {
    "execution": {
     "iopub.execute_input": "2024-03-01T12:06:43.062035Z",
     "iopub.status.busy": "2024-03-01T12:06:43.061459Z",
     "iopub.status.idle": "2024-03-01T12:06:44.699159Z",
     "shell.execute_reply": "2024-03-01T12:06:44.698285Z"
    },
    "papermill": {
     "duration": 1.680456,
     "end_time": "2024-03-01T12:06:44.701679",
     "exception": false,
     "start_time": "2024-03-01T12:06:43.021223",
     "status": "completed"
    },
    "tags": []
   },
   "outputs": [
    {
     "data": {
      "image/png": "[encoded data removed]",
      "text/plain": [
       "<Figure size 637.125x500 with 6 Axes>"
      ]
     },
     "metadata": {},
     "output_type": "display_data"
    }
   ],
   "source": [
    "sns.pairplot(data=s_v, kind=\"hist\", hue='sleep_disorder', diag_kind='kde')\n",
    "plt.show()"
   ]
  },
  {
   "cell_type": "markdown",
   "id": "517c2ba7",
   "metadata": {
    "papermill": {
     "duration": 0.025263,
     "end_time": "2024-03-01T12:06:44.751584",
     "exception": false,
     "start_time": "2024-03-01T12:06:44.726321",
     "status": "completed"
    },
    "tags": []
   },
   "source": [
    "**Uyku süresi:** Uyku apnesi olan kişiler, diğer gruplara göre daha az uyku süresine sahip olma eğilimindedir.\n",
    "\n",
    "**Sleep duration:** People with sleep apnoea tend to have less sleep duration than other groups\n",
    "\n",
    "**Uykuya dalma süresi:** Uyku apnesi olan kişiler, diğer gruplara göre daha uzun uykuya dalma süresine sahip olma eğilimindedir.\n",
    "\n",
    "**Time to fall asleep:** People with sleep apnoea tend to have a longer time to fall asleep than other groups.\n",
    "\n",
    "**Uyku verimliliği:** Uyku apnesi olan kişiler, diğer gruplara göre daha düşük uyku verimliliğine sahip olma eğilimindedir.\n",
    "\n",
    "**Sleep efficiency:** People with sleep apnoea tend to have lower sleep efficiency than other groups."
   ]
  },
  {
   "cell_type": "code",
   "execution_count": 32,
   "id": "e1d0f2ef",
   "metadata": {
    "execution": {
     "iopub.execute_input": "2024-03-01T12:06:44.803102Z",
     "iopub.status.busy": "2024-03-01T12:06:44.802327Z",
     "iopub.status.idle": "2024-03-01T12:06:44.816836Z",
     "shell.execute_reply": "2024-03-01T12:06:44.815736Z"
    },
    "papermill": {
     "duration": 0.04313,
     "end_time": "2024-03-01T12:06:44.819157",
     "exception": false,
     "start_time": "2024-03-01T12:06:44.776027",
     "status": "completed"
    },
    "tags": []
   },
   "outputs": [
    {
     "data": {
      "text/html": [
       "<div>\n",
       "<style scoped>\n",
       "    .dataframe tbody tr th:only-of-type {\n",
       "        vertical-align: middle;\n",
       "    }\n",
       "\n",
       "    .dataframe tbody tr th {\n",
       "        vertical-align: top;\n",
       "    }\n",
       "\n",
       "    .dataframe thead th {\n",
       "        text-align: right;\n",
       "    }\n",
       "</style>\n",
       "<table border=\"1\" class=\"dataframe\">\n",
       "  <thead>\n",
       "    <tr style=\"text-align: right;\">\n",
       "      <th></th>\n",
       "      <th>sleep_duration</th>\n",
       "      <th>quality_of_sleep</th>\n",
       "    </tr>\n",
       "    <tr>\n",
       "      <th>sleep_disorder</th>\n",
       "      <th></th>\n",
       "      <th></th>\n",
       "    </tr>\n",
       "  </thead>\n",
       "  <tbody>\n",
       "    <tr>\n",
       "      <th>Insomnia</th>\n",
       "      <td>6.589610</td>\n",
       "      <td>6.532468</td>\n",
       "    </tr>\n",
       "    <tr>\n",
       "      <th>None</th>\n",
       "      <td>7.358447</td>\n",
       "      <td>7.625571</td>\n",
       "    </tr>\n",
       "    <tr>\n",
       "      <th>Sleep Apnea</th>\n",
       "      <td>7.032051</td>\n",
       "      <td>7.205128</td>\n",
       "    </tr>\n",
       "  </tbody>\n",
       "</table>\n",
       "</div>"
      ],
      "text/plain": [
       "                sleep_duration  quality_of_sleep\n",
       "sleep_disorder                                  \n",
       "Insomnia              6.589610          6.532468\n",
       "None                  7.358447          7.625571\n",
       "Sleep Apnea           7.032051          7.205128"
      ]
     },
     "execution_count": 32,
     "metadata": {},
     "output_type": "execute_result"
    }
   ],
   "source": [
    "s_v.groupby('sleep_disorder').mean()"
   ]
  },
  {
   "cell_type": "code",
   "execution_count": 33,
   "id": "8c10b98d",
   "metadata": {
    "execution": {
     "iopub.execute_input": "2024-03-01T12:06:44.871397Z",
     "iopub.status.busy": "2024-03-01T12:06:44.870933Z",
     "iopub.status.idle": "2024-03-01T12:06:45.071073Z",
     "shell.execute_reply": "2024-03-01T12:06:45.069667Z"
    },
    "papermill": {
     "duration": 0.228779,
     "end_time": "2024-03-01T12:06:45.073469",
     "exception": false,
     "start_time": "2024-03-01T12:06:44.844690",
     "status": "completed"
    },
    "tags": []
   },
   "outputs": [
    {
     "data": {
      "image/png": "[encoded data removed]",
      "text/plain": [
       "<Figure size 640x480 with 1 Axes>"
      ]
     },
     "metadata": {},
     "output_type": "display_data"
    }
   ],
   "source": [
    "sns.boxplot(data=s_v, x='quality_of_sleep', y='sleep_disorder', showmeans=True, meanline=True);"
   ]
  },
  {
   "cell_type": "code",
   "execution_count": 34,
   "id": "80fdd3b2",
   "metadata": {
    "execution": {
     "iopub.execute_input": "2024-03-01T12:06:45.129031Z",
     "iopub.status.busy": "2024-03-01T12:06:45.128024Z",
     "iopub.status.idle": "2024-03-01T12:06:45.143325Z",
     "shell.execute_reply": "2024-03-01T12:06:45.142527Z"
    },
    "papermill": {
     "duration": 0.045418,
     "end_time": "2024-03-01T12:06:45.145381",
     "exception": false,
     "start_time": "2024-03-01T12:06:45.099963",
     "status": "completed"
    },
    "tags": []
   },
   "outputs": [
    {
     "data": {
      "text/html": [
       "<div>\n",
       "<style scoped>\n",
       "    .dataframe tbody tr th:only-of-type {\n",
       "        vertical-align: middle;\n",
       "    }\n",
       "\n",
       "    .dataframe tbody tr th {\n",
       "        vertical-align: top;\n",
       "    }\n",
       "\n",
       "    .dataframe thead th {\n",
       "        text-align: right;\n",
       "    }\n",
       "</style>\n",
       "<table border=\"1\" class=\"dataframe\">\n",
       "  <thead>\n",
       "    <tr style=\"text-align: right;\">\n",
       "      <th></th>\n",
       "      <th></th>\n",
       "      <th>sleep_duration</th>\n",
       "      <th>quality_of_sleep</th>\n",
       "    </tr>\n",
       "    <tr>\n",
       "      <th>sleep_disorder</th>\n",
       "      <th></th>\n",
       "      <th></th>\n",
       "      <th></th>\n",
       "    </tr>\n",
       "  </thead>\n",
       "  <tbody>\n",
       "    <tr>\n",
       "      <th rowspan=\"2\" valign=\"top\">Insomnia</th>\n",
       "      <th>sleep_duration</th>\n",
       "      <td>1.000000</td>\n",
       "      <td>0.753207</td>\n",
       "    </tr>\n",
       "    <tr>\n",
       "      <th>quality_of_sleep</th>\n",
       "      <td>0.753207</td>\n",
       "      <td>1.000000</td>\n",
       "    </tr>\n",
       "    <tr>\n",
       "      <th rowspan=\"2\" valign=\"top\">None</th>\n",
       "      <th>sleep_duration</th>\n",
       "      <td>1.000000</td>\n",
       "      <td>0.836940</td>\n",
       "    </tr>\n",
       "    <tr>\n",
       "      <th>quality_of_sleep</th>\n",
       "      <td>0.836940</td>\n",
       "      <td>1.000000</td>\n",
       "    </tr>\n",
       "    <tr>\n",
       "      <th rowspan=\"2\" valign=\"top\">Sleep Apnea</th>\n",
       "      <th>sleep_duration</th>\n",
       "      <td>1.000000</td>\n",
       "      <td>0.944228</td>\n",
       "    </tr>\n",
       "    <tr>\n",
       "      <th>quality_of_sleep</th>\n",
       "      <td>0.944228</td>\n",
       "      <td>1.000000</td>\n",
       "    </tr>\n",
       "  </tbody>\n",
       "</table>\n",
       "</div>"
      ],
      "text/plain": [
       "                                 sleep_duration  quality_of_sleep\n",
       "sleep_disorder                                                   \n",
       "Insomnia       sleep_duration          1.000000          0.753207\n",
       "               quality_of_sleep        0.753207          1.000000\n",
       "None           sleep_duration          1.000000          0.836940\n",
       "               quality_of_sleep        0.836940          1.000000\n",
       "Sleep Apnea    sleep_duration          1.000000          0.944228\n",
       "               quality_of_sleep        0.944228          1.000000"
      ]
     },
     "execution_count": 34,
     "metadata": {},
     "output_type": "execute_result"
    }
   ],
   "source": [
    "s_v.groupby('sleep_disorder').corr(method = 'pearson', numeric_only = True)"
   ]
  },
  {
   "cell_type": "code",
   "execution_count": 35,
   "id": "a571aaff",
   "metadata": {
    "execution": {
     "iopub.execute_input": "2024-03-01T12:06:45.198741Z",
     "iopub.status.busy": "2024-03-01T12:06:45.197700Z",
     "iopub.status.idle": "2024-03-01T12:06:45.210792Z",
     "shell.execute_reply": "2024-03-01T12:06:45.209975Z"
    },
    "papermill": {
     "duration": 0.04184,
     "end_time": "2024-03-01T12:06:45.213038",
     "exception": false,
     "start_time": "2024-03-01T12:06:45.171198",
     "status": "completed"
    },
    "tags": []
   },
   "outputs": [
    {
     "data": {
      "text/plain": [
       "NormaltestResult(statistic=25.539591571592695, pvalue=2.8454316322969777e-06)"
      ]
     },
     "execution_count": 35,
     "metadata": {},
     "output_type": "execute_result"
    }
   ],
   "source": [
    "scipy.stats.normaltest(s_v.quality_of_sleep)"
   ]
  },
  {
   "cell_type": "code",
   "execution_count": 36,
   "id": "3b4dcec1",
   "metadata": {
    "execution": {
     "iopub.execute_input": "2024-03-01T12:06:45.267238Z",
     "iopub.status.busy": "2024-03-01T12:06:45.266187Z",
     "iopub.status.idle": "2024-03-01T12:06:45.278005Z",
     "shell.execute_reply": "2024-03-01T12:06:45.276974Z"
    },
    "papermill": {
     "duration": 0.040986,
     "end_time": "2024-03-01T12:06:45.280320",
     "exception": false,
     "start_time": "2024-03-01T12:06:45.239334",
     "status": "completed"
    },
    "tags": []
   },
   "outputs": [
    {
     "data": {
      "text/plain": [
       "MannwhitneyuResult(statistic=9450.5, pvalue=0.1469825908691403)"
      ]
     },
     "execution_count": 36,
     "metadata": {},
     "output_type": "execute_result"
    }
   ],
   "source": [
    "scipy.stats.mannwhitneyu(s_v[s_v.sleep_disorder == 'None'].quality_of_sleep, s_v[s_v.sleep_disorder == 'Sleep Apnea'].quality_of_sleep)"
   ]
  },
  {
   "cell_type": "code",
   "execution_count": 37,
   "id": "6fd23104",
   "metadata": {
    "execution": {
     "iopub.execute_input": "2024-03-01T12:06:45.334822Z",
     "iopub.status.busy": "2024-03-01T12:06:45.334396Z",
     "iopub.status.idle": "2024-03-01T12:06:45.345745Z",
     "shell.execute_reply": "2024-03-01T12:06:45.344699Z"
    },
    "papermill": {
     "duration": 0.041437,
     "end_time": "2024-03-01T12:06:45.348060",
     "exception": false,
     "start_time": "2024-03-01T12:06:45.306623",
     "status": "completed"
    },
    "tags": []
   },
   "outputs": [
    {
     "data": {
      "text/plain": [
       "MannwhitneyuResult(statistic=13330.5, pvalue=2.8434741946408995e-15)"
      ]
     },
     "execution_count": 37,
     "metadata": {},
     "output_type": "execute_result"
    }
   ],
   "source": [
    "scipy.stats.mannwhitneyu(s_v[s_v.sleep_disorder=='None'].quality_of_sleep,s_v[s_v.sleep_disorder=='Insomnia'].quality_of_sleep)"
   ]
  },
  {
   "cell_type": "code",
   "execution_count": 38,
   "id": "e0e2a256",
   "metadata": {
    "execution": {
     "iopub.execute_input": "2024-03-01T12:06:45.402615Z",
     "iopub.status.busy": "2024-03-01T12:06:45.402272Z",
     "iopub.status.idle": "2024-03-01T12:06:45.412669Z",
     "shell.execute_reply": "2024-03-01T12:06:45.411644Z"
    },
    "papermill": {
     "duration": 0.040341,
     "end_time": "2024-03-01T12:06:45.414802",
     "exception": false,
     "start_time": "2024-03-01T12:06:45.374461",
     "status": "completed"
    },
    "tags": []
   },
   "outputs": [
    {
     "data": {
      "text/plain": [
       "MannwhitneyuResult(statistic=3534.5, pvalue=0.04549503830464518)"
      ]
     },
     "execution_count": 38,
     "metadata": {},
     "output_type": "execute_result"
    }
   ],
   "source": [
    "scipy.stats.mannwhitneyu(s_v[s_v.sleep_disorder=='Sleep Apnea'].quality_of_sleep,s_v[s_v.sleep_disorder=='Insomnia'].quality_of_sleep)"
   ]
  },
  {
   "cell_type": "code",
   "execution_count": 39,
   "id": "cccd22c6",
   "metadata": {
    "execution": {
     "iopub.execute_input": "2024-03-01T12:06:45.467835Z",
     "iopub.status.busy": "2024-03-01T12:06:45.467467Z",
     "iopub.status.idle": "2024-03-01T12:06:45.660335Z",
     "shell.execute_reply": "2024-03-01T12:06:45.659466Z"
    },
    "papermill": {
     "duration": 0.222479,
     "end_time": "2024-03-01T12:06:45.663105",
     "exception": false,
     "start_time": "2024-03-01T12:06:45.440626",
     "status": "completed"
    },
    "tags": []
   },
   "outputs": [
    {
     "data": {
      "image/png": "[encoded data removed]",
      "text/plain": [
       "<Figure size 640x480 with 1 Axes>"
      ]
     },
     "metadata": {},
     "output_type": "display_data"
    }
   ],
   "source": [
    "sns.boxplot(data = s_v, x='sleep_duration', y='sleep_disorder');"
   ]
  },
  {
   "cell_type": "code",
   "execution_count": 40,
   "id": "506d6c22",
   "metadata": {
    "execution": {
     "iopub.execute_input": "2024-03-01T12:06:45.720527Z",
     "iopub.status.busy": "2024-03-01T12:06:45.719822Z",
     "iopub.status.idle": "2024-03-01T12:06:45.728711Z",
     "shell.execute_reply": "2024-03-01T12:06:45.727586Z"
    },
    "papermill": {
     "duration": 0.040504,
     "end_time": "2024-03-01T12:06:45.731013",
     "exception": false,
     "start_time": "2024-03-01T12:06:45.690509",
     "status": "completed"
    },
    "tags": []
   },
   "outputs": [
    {
     "data": {
      "text/plain": [
       "NormaltestResult(statistic=421.66773216455977, pvalue=2.7290743156282892e-92)"
      ]
     },
     "execution_count": 40,
     "metadata": {},
     "output_type": "execute_result"
    }
   ],
   "source": [
    "scipy.stats.normaltest(s_v.sleep_duration)"
   ]
  },
  {
   "cell_type": "code",
   "execution_count": 41,
   "id": "55d740e9",
   "metadata": {
    "execution": {
     "iopub.execute_input": "2024-03-01T12:06:45.787612Z",
     "iopub.status.busy": "2024-03-01T12:06:45.787237Z",
     "iopub.status.idle": "2024-03-01T12:06:45.798187Z",
     "shell.execute_reply": "2024-03-01T12:06:45.797204Z"
    },
    "papermill": {
     "duration": 0.041916,
     "end_time": "2024-03-01T12:06:45.800283",
     "exception": false,
     "start_time": "2024-03-01T12:06:45.758367",
     "status": "completed"
    },
    "tags": []
   },
   "outputs": [
    {
     "data": {
      "text/plain": [
       "MannwhitneyuResult(statistic=9772.5, pvalue=0.05810214416524308)"
      ]
     },
     "execution_count": 41,
     "metadata": {},
     "output_type": "execute_result"
    }
   ],
   "source": [
    "scipy.stats.mannwhitneyu(s_v[s_v.sleep_disorder == 'None'].sleep_duration, s_v[s_v.sleep_disorder == 'Sleep Apnea'].sleep_duration)"
   ]
  },
  {
   "cell_type": "code",
   "execution_count": 42,
   "id": "1ab4926a",
   "metadata": {
    "execution": {
     "iopub.execute_input": "2024-03-01T12:06:45.856238Z",
     "iopub.status.busy": "2024-03-01T12:06:45.855543Z",
     "iopub.status.idle": "2024-03-01T12:06:45.864833Z",
     "shell.execute_reply": "2024-03-01T12:06:45.864113Z"
    },
    "papermill": {
     "duration": 0.039619,
     "end_time": "2024-03-01T12:06:45.866994",
     "exception": false,
     "start_time": "2024-03-01T12:06:45.827375",
     "status": "completed"
    },
    "tags": []
   },
   "outputs": [
    {
     "data": {
      "text/plain": [
       "MannwhitneyuResult(statistic=13266.5, pvalue=6.335915075528475e-14)"
      ]
     },
     "execution_count": 42,
     "metadata": {},
     "output_type": "execute_result"
    }
   ],
   "source": [
    "scipy.stats.mannwhitneyu(s_v[s_v.sleep_disorder=='None'].sleep_duration, s_v[s_v.sleep_disorder=='Insomnia'].sleep_duration)"
   ]
  },
  {
   "cell_type": "code",
   "execution_count": 43,
   "id": "7ac6fd65",
   "metadata": {
    "execution": {
     "iopub.execute_input": "2024-03-01T12:06:45.923112Z",
     "iopub.status.busy": "2024-03-01T12:06:45.922438Z",
     "iopub.status.idle": "2024-03-01T12:06:45.932029Z",
     "shell.execute_reply": "2024-03-01T12:06:45.930896Z"
    },
    "papermill": {
     "duration": 0.04033,
     "end_time": "2024-03-01T12:06:45.934095",
     "exception": false,
     "start_time": "2024-03-01T12:06:45.893765",
     "status": "completed"
    },
    "tags": []
   },
   "outputs": [
    {
     "data": {
      "text/plain": [
       "MannwhitneyuResult(statistic=3206.5, pvalue=0.46550737996645586)"
      ]
     },
     "execution_count": 43,
     "metadata": {},
     "output_type": "execute_result"
    }
   ],
   "source": [
    "scipy.stats.mannwhitneyu(s_v[s_v.sleep_disorder =='Sleep Apnea'].sleep_duration,s_v[s_v.sleep_disorder == 'Insomnia'].sleep_duration)"
   ]
  },
  {
   "cell_type": "code",
   "execution_count": 44,
   "id": "be4896f4",
   "metadata": {
    "execution": {
     "iopub.execute_input": "2024-03-01T12:06:45.989809Z",
     "iopub.status.busy": "2024-03-01T12:06:45.988933Z",
     "iopub.status.idle": "2024-03-01T12:06:45.999818Z",
     "shell.execute_reply": "2024-03-01T12:06:45.998760Z"
    },
    "papermill": {
     "duration": 0.041481,
     "end_time": "2024-03-01T12:06:46.002489",
     "exception": false,
     "start_time": "2024-03-01T12:06:45.961008",
     "status": "completed"
    },
    "tags": []
   },
   "outputs": [
    {
     "data": {
      "text/html": [
       "<div>\n",
       "<style scoped>\n",
       "    .dataframe tbody tr th:only-of-type {\n",
       "        vertical-align: middle;\n",
       "    }\n",
       "\n",
       "    .dataframe tbody tr th {\n",
       "        vertical-align: top;\n",
       "    }\n",
       "\n",
       "    .dataframe thead th {\n",
       "        text-align: right;\n",
       "    }\n",
       "</style>\n",
       "<table border=\"1\" class=\"dataframe\">\n",
       "  <thead>\n",
       "    <tr style=\"text-align: right;\">\n",
       "      <th></th>\n",
       "      <th>sleep_duration</th>\n",
       "      <th>quality_of_sleep</th>\n",
       "    </tr>\n",
       "  </thead>\n",
       "  <tbody>\n",
       "    <tr>\n",
       "      <th>sleep_duration</th>\n",
       "      <td>1.000000</td>\n",
       "      <td>0.883213</td>\n",
       "    </tr>\n",
       "    <tr>\n",
       "      <th>quality_of_sleep</th>\n",
       "      <td>0.883213</td>\n",
       "      <td>1.000000</td>\n",
       "    </tr>\n",
       "  </tbody>\n",
       "</table>\n",
       "</div>"
      ],
      "text/plain": [
       "                  sleep_duration  quality_of_sleep\n",
       "sleep_duration          1.000000          0.883213\n",
       "quality_of_sleep        0.883213          1.000000"
      ]
     },
     "execution_count": 44,
     "metadata": {},
     "output_type": "execute_result"
    }
   ],
   "source": [
    "s_v.corr(method = 'pearson', numeric_only=True)"
   ]
  },
  {
   "cell_type": "code",
   "execution_count": 45,
   "id": "02150600",
   "metadata": {
    "execution": {
     "iopub.execute_input": "2024-03-01T12:06:46.058280Z",
     "iopub.status.busy": "2024-03-01T12:06:46.057664Z",
     "iopub.status.idle": "2024-03-01T12:06:46.071942Z",
     "shell.execute_reply": "2024-03-01T12:06:46.070584Z"
    },
    "papermill": {
     "duration": 0.044997,
     "end_time": "2024-03-01T12:06:46.074286",
     "exception": false,
     "start_time": "2024-03-01T12:06:46.029289",
     "status": "completed"
    },
    "tags": []
   },
   "outputs": [
    {
     "data": {
      "text/html": [
       "<div>\n",
       "<style scoped>\n",
       "    .dataframe tbody tr th:only-of-type {\n",
       "        vertical-align: middle;\n",
       "    }\n",
       "\n",
       "    .dataframe tbody tr th {\n",
       "        vertical-align: top;\n",
       "    }\n",
       "\n",
       "    .dataframe thead th {\n",
       "        text-align: right;\n",
       "    }\n",
       "</style>\n",
       "<table border=\"1\" class=\"dataframe\">\n",
       "  <thead>\n",
       "    <tr style=\"text-align: right;\">\n",
       "      <th></th>\n",
       "      <th></th>\n",
       "      <th>sleep_duration</th>\n",
       "      <th>quality_of_sleep</th>\n",
       "    </tr>\n",
       "    <tr>\n",
       "      <th>sleep_disorder</th>\n",
       "      <th></th>\n",
       "      <th></th>\n",
       "      <th></th>\n",
       "    </tr>\n",
       "  </thead>\n",
       "  <tbody>\n",
       "    <tr>\n",
       "      <th rowspan=\"2\" valign=\"top\">Insomnia</th>\n",
       "      <th>sleep_duration</th>\n",
       "      <td>1.000000</td>\n",
       "      <td>0.753207</td>\n",
       "    </tr>\n",
       "    <tr>\n",
       "      <th>quality_of_sleep</th>\n",
       "      <td>0.753207</td>\n",
       "      <td>1.000000</td>\n",
       "    </tr>\n",
       "    <tr>\n",
       "      <th rowspan=\"2\" valign=\"top\">None</th>\n",
       "      <th>sleep_duration</th>\n",
       "      <td>1.000000</td>\n",
       "      <td>0.836940</td>\n",
       "    </tr>\n",
       "    <tr>\n",
       "      <th>quality_of_sleep</th>\n",
       "      <td>0.836940</td>\n",
       "      <td>1.000000</td>\n",
       "    </tr>\n",
       "    <tr>\n",
       "      <th rowspan=\"2\" valign=\"top\">Sleep Apnea</th>\n",
       "      <th>sleep_duration</th>\n",
       "      <td>1.000000</td>\n",
       "      <td>0.944228</td>\n",
       "    </tr>\n",
       "    <tr>\n",
       "      <th>quality_of_sleep</th>\n",
       "      <td>0.944228</td>\n",
       "      <td>1.000000</td>\n",
       "    </tr>\n",
       "  </tbody>\n",
       "</table>\n",
       "</div>"
      ],
      "text/plain": [
       "                                 sleep_duration  quality_of_sleep\n",
       "sleep_disorder                                                   \n",
       "Insomnia       sleep_duration          1.000000          0.753207\n",
       "               quality_of_sleep        0.753207          1.000000\n",
       "None           sleep_duration          1.000000          0.836940\n",
       "               quality_of_sleep        0.836940          1.000000\n",
       "Sleep Apnea    sleep_duration          1.000000          0.944228\n",
       "               quality_of_sleep        0.944228          1.000000"
      ]
     },
     "execution_count": 45,
     "metadata": {},
     "output_type": "execute_result"
    }
   ],
   "source": [
    "s_v.groupby('sleep_disorder').corr(method='pearson')"
   ]
  },
  {
   "cell_type": "markdown",
   "id": "656a130f",
   "metadata": {
    "execution": {
     "iopub.execute_input": "2024-03-01T09:23:44.595926Z",
     "iopub.status.busy": "2024-03-01T09:23:44.595521Z",
     "iopub.status.idle": "2024-03-01T09:23:44.630782Z",
     "shell.execute_reply": "2024-03-01T09:23:44.629793Z",
     "shell.execute_reply.started": "2024-03-01T09:23:44.595894Z"
    },
    "papermill": {
     "duration": 0.027338,
     "end_time": "2024-03-01T12:06:46.128412",
     "exception": false,
     "start_time": "2024-03-01T12:06:46.101074",
     "status": "completed"
    },
    "tags": []
   },
   "source": [
    "### İçgörülerin özeti\n",
    "'Insomnia' kategorisinde, 'sleep_duration' ile 'quality_of_sleep' arasında 0.75 civarında pozitif bir korelasyon görülmektedir. Bu, uyku süresi ile uyku kalitesi arasında belirgin bir ilişki olduğunu gösterir. Yani, uyku süresi arttıkça uyku kalitesi de artma eğilimindedir.\n",
    "Benzer şekilde, 'None' (hiçbir uyku bozukluğu olmayanlar) kategorisinde de uyku süresi ile uyku kalitesi arasında güçlü bir korelasyon (0.84 civarı) gözlemlenmektedir.\n",
    "'Sleep Apnea' kategorisinde de uyku süresi ile uyku kalitesi arasında güçlü bir pozitif korelasyon (0.94 civarı) mevcuttur.\n",
    "Bu sonuçlar, uyku süresi ile uyku kalitesi arasında güçlü bir ilişkinin olduğunu ve bu ilişkinin farklı uyku bozuklukları altında bile devam ettiğini göstermektedir.\n",
    "\n",
    "### Summary of insights\n",
    "In the category 'Insomnia', there is a positive correlation of around 0.75 between 'sleep_duration' and 'quality_of_sleep'. This indicates that there is a significant relationship between sleep duration and sleep quality. That is, as sleep duration increases, sleep quality tends to increase.\n",
    "Similarly, a strong correlation (around 0.84) is observed between sleep duration and sleep quality in the category 'None' (no sleep disorder).\n",
    "There is also a strong positive correlation (around 0.94) between sleep duration and sleep quality in the 'Sleep Apnoea' category.\n",
    "These results show that there is a strong relationship between sleep duration and sleep quality and that this relationship persists even under different sleep disorders."
   ]
  },
  {
   "cell_type": "code",
   "execution_count": 46,
   "id": "a53f2efe",
   "metadata": {
    "execution": {
     "iopub.execute_input": "2024-03-01T12:06:46.185674Z",
     "iopub.status.busy": "2024-03-01T12:06:46.184421Z",
     "iopub.status.idle": "2024-03-01T12:06:46.192263Z",
     "shell.execute_reply": "2024-03-01T12:06:46.190984Z"
    },
    "papermill": {
     "duration": 0.038731,
     "end_time": "2024-03-01T12:06:46.194426",
     "exception": false,
     "start_time": "2024-03-01T12:06:46.155695",
     "status": "completed"
    },
    "tags": []
   },
   "outputs": [],
   "source": [
    "demo_sleep = df[['sleep_disorder', 'quality_of_sleep','sleep_duration','gender','age','occupation']].copy(deep=True)"
   ]
  },
  {
   "cell_type": "code",
   "execution_count": 47,
   "id": "db723d95",
   "metadata": {
    "execution": {
     "iopub.execute_input": "2024-03-01T12:06:46.254232Z",
     "iopub.status.busy": "2024-03-01T12:06:46.253516Z",
     "iopub.status.idle": "2024-03-01T12:06:46.266351Z",
     "shell.execute_reply": "2024-03-01T12:06:46.265414Z"
    },
    "papermill": {
     "duration": 0.046058,
     "end_time": "2024-03-01T12:06:46.268427",
     "exception": false,
     "start_time": "2024-03-01T12:06:46.222369",
     "status": "completed"
    },
    "tags": []
   },
   "outputs": [
    {
     "data": {
      "text/html": [
       "<div>\n",
       "<style scoped>\n",
       "    .dataframe tbody tr th:only-of-type {\n",
       "        vertical-align: middle;\n",
       "    }\n",
       "\n",
       "    .dataframe tbody tr th {\n",
       "        vertical-align: top;\n",
       "    }\n",
       "\n",
       "    .dataframe thead th {\n",
       "        text-align: right;\n",
       "    }\n",
       "</style>\n",
       "<table border=\"1\" class=\"dataframe\">\n",
       "  <thead>\n",
       "    <tr style=\"text-align: right;\">\n",
       "      <th></th>\n",
       "      <th>sleep_disorder</th>\n",
       "      <th>quality_of_sleep</th>\n",
       "      <th>sleep_duration</th>\n",
       "      <th>gender</th>\n",
       "      <th>age</th>\n",
       "      <th>occupation</th>\n",
       "    </tr>\n",
       "  </thead>\n",
       "  <tbody>\n",
       "    <tr>\n",
       "      <th>0</th>\n",
       "      <td>None</td>\n",
       "      <td>6</td>\n",
       "      <td>6.1</td>\n",
       "      <td>Male</td>\n",
       "      <td>27</td>\n",
       "      <td>Engineer</td>\n",
       "    </tr>\n",
       "    <tr>\n",
       "      <th>1</th>\n",
       "      <td>None</td>\n",
       "      <td>6</td>\n",
       "      <td>6.2</td>\n",
       "      <td>Male</td>\n",
       "      <td>28</td>\n",
       "      <td>Doctor</td>\n",
       "    </tr>\n",
       "    <tr>\n",
       "      <th>2</th>\n",
       "      <td>None</td>\n",
       "      <td>6</td>\n",
       "      <td>6.2</td>\n",
       "      <td>Male</td>\n",
       "      <td>28</td>\n",
       "      <td>Doctor</td>\n",
       "    </tr>\n",
       "    <tr>\n",
       "      <th>3</th>\n",
       "      <td>Sleep Apnea</td>\n",
       "      <td>4</td>\n",
       "      <td>5.9</td>\n",
       "      <td>Male</td>\n",
       "      <td>28</td>\n",
       "      <td>Salesperson</td>\n",
       "    </tr>\n",
       "    <tr>\n",
       "      <th>4</th>\n",
       "      <td>Sleep Apnea</td>\n",
       "      <td>4</td>\n",
       "      <td>5.9</td>\n",
       "      <td>Male</td>\n",
       "      <td>28</td>\n",
       "      <td>Salesperson</td>\n",
       "    </tr>\n",
       "  </tbody>\n",
       "</table>\n",
       "</div>"
      ],
      "text/plain": [
       "  sleep_disorder  quality_of_sleep  sleep_duration gender  age   occupation\n",
       "0           None                 6             6.1   Male   27     Engineer\n",
       "1           None                 6             6.2   Male   28       Doctor\n",
       "2           None                 6             6.2   Male   28       Doctor\n",
       "3    Sleep Apnea                 4             5.9   Male   28  Salesperson\n",
       "4    Sleep Apnea                 4             5.9   Male   28  Salesperson"
      ]
     },
     "execution_count": 47,
     "metadata": {},
     "output_type": "execute_result"
    }
   ],
   "source": [
    "demo_sleep.head()"
   ]
  },
  {
   "cell_type": "code",
   "execution_count": 48,
   "id": "ceb6b02b",
   "metadata": {
    "execution": {
     "iopub.execute_input": "2024-03-01T12:06:46.327665Z",
     "iopub.status.busy": "2024-03-01T12:06:46.327306Z",
     "iopub.status.idle": "2024-03-01T12:06:49.626320Z",
     "shell.execute_reply": "2024-03-01T12:06:49.625389Z"
    },
    "papermill": {
     "duration": 3.332225,
     "end_time": "2024-03-01T12:06:49.628877",
     "exception": false,
     "start_time": "2024-03-01T12:06:46.296652",
     "status": "completed"
    },
    "tags": []
   },
   "outputs": [
    {
     "data": {
      "image/png": "[encoded data removed]",
      "text/plain": [
       "<Figure size 887.125x750 with 12 Axes>"
      ]
     },
     "metadata": {},
     "output_type": "display_data"
    }
   ],
   "source": [
    "sns.pairplot(data=demo_sleep, kind=\"hist\", hue='sleep_disorder', diag_kind='kde')\n",
    "plt.show()"
   ]
  },
  {
   "cell_type": "code",
   "execution_count": 49,
   "id": "1fbffc8e",
   "metadata": {
    "execution": {
     "iopub.execute_input": "2024-03-01T12:06:49.691411Z",
     "iopub.status.busy": "2024-03-01T12:06:49.690585Z",
     "iopub.status.idle": "2024-03-01T12:06:49.703055Z",
     "shell.execute_reply": "2024-03-01T12:06:49.701664Z"
    },
    "papermill": {
     "duration": 0.045778,
     "end_time": "2024-03-01T12:06:49.705607",
     "exception": false,
     "start_time": "2024-03-01T12:06:49.659829",
     "status": "completed"
    },
    "tags": []
   },
   "outputs": [
    {
     "data": {
      "text/html": [
       "<div>\n",
       "<style scoped>\n",
       "    .dataframe tbody tr th:only-of-type {\n",
       "        vertical-align: middle;\n",
       "    }\n",
       "\n",
       "    .dataframe tbody tr th {\n",
       "        vertical-align: top;\n",
       "    }\n",
       "\n",
       "    .dataframe thead th {\n",
       "        text-align: right;\n",
       "    }\n",
       "</style>\n",
       "<table border=\"1\" class=\"dataframe\">\n",
       "  <thead>\n",
       "    <tr style=\"text-align: right;\">\n",
       "      <th></th>\n",
       "      <th>quality_of_sleep</th>\n",
       "      <th>sleep_duration</th>\n",
       "      <th>age</th>\n",
       "    </tr>\n",
       "  </thead>\n",
       "  <tbody>\n",
       "    <tr>\n",
       "      <th>quality_of_sleep</th>\n",
       "      <td>1.000000</td>\n",
       "      <td>0.883213</td>\n",
       "      <td>0.473734</td>\n",
       "    </tr>\n",
       "    <tr>\n",
       "      <th>sleep_duration</th>\n",
       "      <td>0.883213</td>\n",
       "      <td>1.000000</td>\n",
       "      <td>0.344709</td>\n",
       "    </tr>\n",
       "    <tr>\n",
       "      <th>age</th>\n",
       "      <td>0.473734</td>\n",
       "      <td>0.344709</td>\n",
       "      <td>1.000000</td>\n",
       "    </tr>\n",
       "  </tbody>\n",
       "</table>\n",
       "</div>"
      ],
      "text/plain": [
       "                  quality_of_sleep  sleep_duration       age\n",
       "quality_of_sleep          1.000000        0.883213  0.473734\n",
       "sleep_duration            0.883213        1.000000  0.344709\n",
       "age                       0.473734        0.344709  1.000000"
      ]
     },
     "execution_count": 49,
     "metadata": {},
     "output_type": "execute_result"
    }
   ],
   "source": [
    "demo_sleep.corr(method='pearson',numeric_only=True)"
   ]
  },
  {
   "cell_type": "code",
   "execution_count": 50,
   "id": "ffe15345",
   "metadata": {
    "execution": {
     "iopub.execute_input": "2024-03-01T12:06:49.766297Z",
     "iopub.status.busy": "2024-03-01T12:06:49.765838Z",
     "iopub.status.idle": "2024-03-01T12:06:49.784384Z",
     "shell.execute_reply": "2024-03-01T12:06:49.783097Z"
    },
    "papermill": {
     "duration": 0.051577,
     "end_time": "2024-03-01T12:06:49.786562",
     "exception": false,
     "start_time": "2024-03-01T12:06:49.734985",
     "status": "completed"
    },
    "tags": []
   },
   "outputs": [
    {
     "data": {
      "text/html": [
       "<div>\n",
       "<style scoped>\n",
       "    .dataframe tbody tr th:only-of-type {\n",
       "        vertical-align: middle;\n",
       "    }\n",
       "\n",
       "    .dataframe tbody tr th {\n",
       "        vertical-align: top;\n",
       "    }\n",
       "\n",
       "    .dataframe thead th {\n",
       "        text-align: right;\n",
       "    }\n",
       "</style>\n",
       "<table border=\"1\" class=\"dataframe\">\n",
       "  <thead>\n",
       "    <tr style=\"text-align: right;\">\n",
       "      <th></th>\n",
       "      <th></th>\n",
       "      <th>quality_of_sleep</th>\n",
       "      <th>sleep_duration</th>\n",
       "      <th>age</th>\n",
       "    </tr>\n",
       "    <tr>\n",
       "      <th>sleep_disorder</th>\n",
       "      <th></th>\n",
       "      <th></th>\n",
       "      <th></th>\n",
       "      <th></th>\n",
       "    </tr>\n",
       "  </thead>\n",
       "  <tbody>\n",
       "    <tr>\n",
       "      <th rowspan=\"3\" valign=\"top\">Insomnia</th>\n",
       "      <th>quality_of_sleep</th>\n",
       "      <td>1.000000</td>\n",
       "      <td>0.753207</td>\n",
       "      <td>0.505891</td>\n",
       "    </tr>\n",
       "    <tr>\n",
       "      <th>sleep_duration</th>\n",
       "      <td>0.753207</td>\n",
       "      <td>1.000000</td>\n",
       "      <td>0.220630</td>\n",
       "    </tr>\n",
       "    <tr>\n",
       "      <th>age</th>\n",
       "      <td>0.505891</td>\n",
       "      <td>0.220630</td>\n",
       "      <td>1.000000</td>\n",
       "    </tr>\n",
       "    <tr>\n",
       "      <th rowspan=\"3\" valign=\"top\">None</th>\n",
       "      <th>quality_of_sleep</th>\n",
       "      <td>1.000000</td>\n",
       "      <td>0.836940</td>\n",
       "      <td>0.725944</td>\n",
       "    </tr>\n",
       "    <tr>\n",
       "      <th>sleep_duration</th>\n",
       "      <td>0.836940</td>\n",
       "      <td>1.000000</td>\n",
       "      <td>0.600184</td>\n",
       "    </tr>\n",
       "    <tr>\n",
       "      <th>age</th>\n",
       "      <td>0.725944</td>\n",
       "      <td>0.600184</td>\n",
       "      <td>1.000000</td>\n",
       "    </tr>\n",
       "    <tr>\n",
       "      <th rowspan=\"3\" valign=\"top\">Sleep Apnea</th>\n",
       "      <th>quality_of_sleep</th>\n",
       "      <td>1.000000</td>\n",
       "      <td>0.944228</td>\n",
       "      <td>0.734103</td>\n",
       "    </tr>\n",
       "    <tr>\n",
       "      <th>sleep_duration</th>\n",
       "      <td>0.944228</td>\n",
       "      <td>1.000000</td>\n",
       "      <td>0.557955</td>\n",
       "    </tr>\n",
       "    <tr>\n",
       "      <th>age</th>\n",
       "      <td>0.734103</td>\n",
       "      <td>0.557955</td>\n",
       "      <td>1.000000</td>\n",
       "    </tr>\n",
       "  </tbody>\n",
       "</table>\n",
       "</div>"
      ],
      "text/plain": [
       "                                 quality_of_sleep  sleep_duration       age\n",
       "sleep_disorder                                                             \n",
       "Insomnia       quality_of_sleep          1.000000        0.753207  0.505891\n",
       "               sleep_duration            0.753207        1.000000  0.220630\n",
       "               age                       0.505891        0.220630  1.000000\n",
       "None           quality_of_sleep          1.000000        0.836940  0.725944\n",
       "               sleep_duration            0.836940        1.000000  0.600184\n",
       "               age                       0.725944        0.600184  1.000000\n",
       "Sleep Apnea    quality_of_sleep          1.000000        0.944228  0.734103\n",
       "               sleep_duration            0.944228        1.000000  0.557955\n",
       "               age                       0.734103        0.557955  1.000000"
      ]
     },
     "execution_count": 50,
     "metadata": {},
     "output_type": "execute_result"
    }
   ],
   "source": [
    "demo_sleep.groupby('sleep_disorder').corr(method='pearson',numeric_only=True)"
   ]
  },
  {
   "cell_type": "code",
   "execution_count": 51,
   "id": "f078223d",
   "metadata": {
    "execution": {
     "iopub.execute_input": "2024-03-01T12:06:49.846153Z",
     "iopub.status.busy": "2024-03-01T12:06:49.845702Z",
     "iopub.status.idle": "2024-03-01T12:06:49.859618Z",
     "shell.execute_reply": "2024-03-01T12:06:49.858514Z"
    },
    "papermill": {
     "duration": 0.046823,
     "end_time": "2024-03-01T12:06:49.862006",
     "exception": false,
     "start_time": "2024-03-01T12:06:49.815183",
     "status": "completed"
    },
    "tags": []
   },
   "outputs": [
    {
     "data": {
      "text/html": [
       "<div>\n",
       "<style scoped>\n",
       "    .dataframe tbody tr th:only-of-type {\n",
       "        vertical-align: middle;\n",
       "    }\n",
       "\n",
       "    .dataframe tbody tr th {\n",
       "        vertical-align: top;\n",
       "    }\n",
       "\n",
       "    .dataframe thead th {\n",
       "        text-align: right;\n",
       "    }\n",
       "</style>\n",
       "<table border=\"1\" class=\"dataframe\">\n",
       "  <thead>\n",
       "    <tr style=\"text-align: right;\">\n",
       "      <th></th>\n",
       "      <th>quality_of_sleep</th>\n",
       "      <th>sleep_duration</th>\n",
       "      <th>age</th>\n",
       "    </tr>\n",
       "    <tr>\n",
       "      <th>gender</th>\n",
       "      <th></th>\n",
       "      <th></th>\n",
       "      <th></th>\n",
       "    </tr>\n",
       "  </thead>\n",
       "  <tbody>\n",
       "    <tr>\n",
       "      <th>Female</th>\n",
       "      <td>7.664865</td>\n",
       "      <td>7.229730</td>\n",
       "      <td>47.405405</td>\n",
       "    </tr>\n",
       "    <tr>\n",
       "      <th>Male</th>\n",
       "      <td>6.968254</td>\n",
       "      <td>7.036508</td>\n",
       "      <td>37.074074</td>\n",
       "    </tr>\n",
       "  </tbody>\n",
       "</table>\n",
       "</div>"
      ],
      "text/plain": [
       "        quality_of_sleep  sleep_duration        age\n",
       "gender                                             \n",
       "Female          7.664865        7.229730  47.405405\n",
       "Male            6.968254        7.036508  37.074074"
      ]
     },
     "execution_count": 51,
     "metadata": {},
     "output_type": "execute_result"
    }
   ],
   "source": [
    "demo_sleep.groupby('gender').mean(numeric_only=True)"
   ]
  },
  {
   "cell_type": "code",
   "execution_count": 52,
   "id": "15eb2033",
   "metadata": {
    "execution": {
     "iopub.execute_input": "2024-03-01T12:06:49.924155Z",
     "iopub.status.busy": "2024-03-01T12:06:49.923717Z",
     "iopub.status.idle": "2024-03-01T12:06:49.935197Z",
     "shell.execute_reply": "2024-03-01T12:06:49.934395Z"
    },
    "papermill": {
     "duration": 0.046143,
     "end_time": "2024-03-01T12:06:49.937171",
     "exception": false,
     "start_time": "2024-03-01T12:06:49.891028",
     "status": "completed"
    },
    "tags": []
   },
   "outputs": [
    {
     "data": {
      "text/plain": [
       "MannwhitneyuResult(statistic=14929.5, pvalue=0.014440351736077347)"
      ]
     },
     "execution_count": 52,
     "metadata": {},
     "output_type": "execute_result"
    }
   ],
   "source": [
    "scipy.stats.mannwhitneyu(demo_sleep[demo_sleep.gender == 'Male'].sleep_duration, demo_sleep[demo_sleep.gender == 'Female'].sleep_duration)"
   ]
  },
  {
   "cell_type": "code",
   "execution_count": 53,
   "id": "a238fb9f",
   "metadata": {
    "execution": {
     "iopub.execute_input": "2024-03-01T12:06:49.997409Z",
     "iopub.status.busy": "2024-03-01T12:06:49.996976Z",
     "iopub.status.idle": "2024-03-01T12:06:50.008988Z",
     "shell.execute_reply": "2024-03-01T12:06:50.007930Z"
    },
    "papermill": {
     "duration": 0.044976,
     "end_time": "2024-03-01T12:06:50.011183",
     "exception": false,
     "start_time": "2024-03-01T12:06:49.966207",
     "status": "completed"
    },
    "tags": []
   },
   "outputs": [
    {
     "data": {
      "text/plain": [
       "MannwhitneyuResult(statistic=11596.0, pvalue=6.047606194925148e-09)"
      ]
     },
     "execution_count": 53,
     "metadata": {},
     "output_type": "execute_result"
    }
   ],
   "source": [
    "scipy.stats.mannwhitneyu(demo_sleep[demo_sleep.gender=='Male'].quality_of_sleep, demo_sleep[demo_sleep.gender =='Female'].quality_of_sleep)"
   ]
  },
  {
   "cell_type": "code",
   "execution_count": 54,
   "id": "801a1151",
   "metadata": {
    "execution": {
     "iopub.execute_input": "2024-03-01T12:06:50.073099Z",
     "iopub.status.busy": "2024-03-01T12:06:50.072650Z",
     "iopub.status.idle": "2024-03-01T12:06:50.084327Z",
     "shell.execute_reply": "2024-03-01T12:06:50.083219Z"
    },
    "papermill": {
     "duration": 0.045874,
     "end_time": "2024-03-01T12:06:50.086648",
     "exception": false,
     "start_time": "2024-03-01T12:06:50.040774",
     "status": "completed"
    },
    "tags": []
   },
   "outputs": [
    {
     "data": {
      "text/plain": [
       "MannwhitneyuResult(statistic=5644.0, pvalue=8.379659804355159e-30)"
      ]
     },
     "execution_count": 54,
     "metadata": {},
     "output_type": "execute_result"
    }
   ],
   "source": [
    "scipy.stats.mannwhitneyu(demo_sleep[demo_sleep.gender=='Male'].age,demo_sleep[demo_sleep.gender=='Female'].age)"
   ]
  },
  {
   "cell_type": "code",
   "execution_count": 55,
   "id": "6ab35092",
   "metadata": {
    "execution": {
     "iopub.execute_input": "2024-03-01T12:06:50.151251Z",
     "iopub.status.busy": "2024-03-01T12:06:50.150839Z",
     "iopub.status.idle": "2024-03-01T12:06:50.363422Z",
     "shell.execute_reply": "2024-03-01T12:06:50.362352Z"
    },
    "papermill": {
     "duration": 0.248494,
     "end_time": "2024-03-01T12:06:50.365852",
     "exception": false,
     "start_time": "2024-03-01T12:06:50.117358",
     "status": "completed"
    },
    "tags": []
   },
   "outputs": [
    {
     "data": {
      "image/png": "[encoded data removed]",
      "text/plain": [
       "<Figure size 640x480 with 1 Axes>"
      ]
     },
     "metadata": {},
     "output_type": "display_data"
    }
   ],
   "source": [
    "sns.boxplot(data=demo_sleep, x='sleep_duration', y='gender', showmeans=True);"
   ]
  },
  {
   "cell_type": "code",
   "execution_count": 56,
   "id": "06d78ef0",
   "metadata": {
    "execution": {
     "iopub.execute_input": "2024-03-01T12:06:50.427850Z",
     "iopub.status.busy": "2024-03-01T12:06:50.427129Z",
     "iopub.status.idle": "2024-03-01T12:06:50.635053Z",
     "shell.execute_reply": "2024-03-01T12:06:50.633963Z"
    },
    "papermill": {
     "duration": 0.241578,
     "end_time": "2024-03-01T12:06:50.637285",
     "exception": false,
     "start_time": "2024-03-01T12:06:50.395707",
     "status": "completed"
    },
    "tags": []
   },
   "outputs": [
    {
     "data": {
      "image/png": "[encoded data removed]",
      "text/plain": [
       "<Figure size 640x480 with 1 Axes>"
      ]
     },
     "metadata": {},
     "output_type": "display_data"
    }
   ],
   "source": [
    "sns.boxplot(data = demo_sleep, x='quality_of_sleep', y='gender', showmeans=True);"
   ]
  },
  {
   "cell_type": "code",
   "execution_count": 57,
   "id": "71ca09e1",
   "metadata": {
    "execution": {
     "iopub.execute_input": "2024-03-01T12:06:50.700471Z",
     "iopub.status.busy": "2024-03-01T12:06:50.700084Z",
     "iopub.status.idle": "2024-03-01T12:06:50.958430Z",
     "shell.execute_reply": "2024-03-01T12:06:50.957307Z"
    },
    "papermill": {
     "duration": 0.2916,
     "end_time": "2024-03-01T12:06:50.960700",
     "exception": false,
     "start_time": "2024-03-01T12:06:50.669100",
     "status": "completed"
    },
    "tags": []
   },
   "outputs": [
    {
     "data": {
      "image/png": "[encoded data removed]",
      "text/plain": [
       "<Figure size 640x480 with 1 Axes>"
      ]
     },
     "metadata": {},
     "output_type": "display_data"
    }
   ],
   "source": [
    "grouped = demo_sleep.groupby('gender')['sleep_disorder'].value_counts(normalize=True)\n",
    "grouped = grouped.unstack()\n",
    "grouped.plot(kind='bar')\n",
    "plt.show()"
   ]
  },
  {
   "cell_type": "code",
   "execution_count": 58,
   "id": "5296f474",
   "metadata": {
    "execution": {
     "iopub.execute_input": "2024-03-01T12:06:51.024979Z",
     "iopub.status.busy": "2024-03-01T12:06:51.024135Z",
     "iopub.status.idle": "2024-03-01T12:06:51.038474Z",
     "shell.execute_reply": "2024-03-01T12:06:51.037332Z"
    },
    "papermill": {
     "duration": 0.049517,
     "end_time": "2024-03-01T12:06:51.040905",
     "exception": false,
     "start_time": "2024-03-01T12:06:50.991388",
     "status": "completed"
    },
    "tags": []
   },
   "outputs": [
    {
     "data": {
      "text/html": [
       "<div>\n",
       "<style scoped>\n",
       "    .dataframe tbody tr th:only-of-type {\n",
       "        vertical-align: middle;\n",
       "    }\n",
       "\n",
       "    .dataframe tbody tr th {\n",
       "        vertical-align: top;\n",
       "    }\n",
       "\n",
       "    .dataframe thead th {\n",
       "        text-align: right;\n",
       "    }\n",
       "</style>\n",
       "<table border=\"1\" class=\"dataframe\">\n",
       "  <thead>\n",
       "    <tr style=\"text-align: right;\">\n",
       "      <th></th>\n",
       "      <th>quality_of_sleep</th>\n",
       "      <th>sleep_duration</th>\n",
       "      <th>age</th>\n",
       "    </tr>\n",
       "    <tr>\n",
       "      <th>occupation</th>\n",
       "      <th></th>\n",
       "      <th></th>\n",
       "      <th></th>\n",
       "    </tr>\n",
       "  </thead>\n",
       "  <tbody>\n",
       "    <tr>\n",
       "      <th>Accountant</th>\n",
       "      <td>7.891892</td>\n",
       "      <td>7.113514</td>\n",
       "      <td>39.621622</td>\n",
       "    </tr>\n",
       "    <tr>\n",
       "      <th>Doctor</th>\n",
       "      <td>6.647887</td>\n",
       "      <td>6.970423</td>\n",
       "      <td>32.676056</td>\n",
       "    </tr>\n",
       "    <tr>\n",
       "      <th>Engineer</th>\n",
       "      <td>8.298507</td>\n",
       "      <td>7.913433</td>\n",
       "      <td>45.671642</td>\n",
       "    </tr>\n",
       "    <tr>\n",
       "      <th>Lawyer</th>\n",
       "      <td>7.893617</td>\n",
       "      <td>7.410638</td>\n",
       "      <td>39.425532</td>\n",
       "    </tr>\n",
       "    <tr>\n",
       "      <th>Nurse</th>\n",
       "      <td>7.369863</td>\n",
       "      <td>7.063014</td>\n",
       "      <td>51.794521</td>\n",
       "    </tr>\n",
       "    <tr>\n",
       "      <th>Other</th>\n",
       "      <td>5.400000</td>\n",
       "      <td>6.180000</td>\n",
       "      <td>35.800000</td>\n",
       "    </tr>\n",
       "    <tr>\n",
       "      <th>Salesperson</th>\n",
       "      <td>5.882353</td>\n",
       "      <td>6.373529</td>\n",
       "      <td>42.617647</td>\n",
       "    </tr>\n",
       "    <tr>\n",
       "      <th>Teacher</th>\n",
       "      <td>6.975000</td>\n",
       "      <td>6.690000</td>\n",
       "      <td>41.725000</td>\n",
       "    </tr>\n",
       "  </tbody>\n",
       "</table>\n",
       "</div>"
      ],
      "text/plain": [
       "             quality_of_sleep  sleep_duration        age\n",
       "occupation                                              \n",
       "Accountant           7.891892        7.113514  39.621622\n",
       "Doctor               6.647887        6.970423  32.676056\n",
       "Engineer             8.298507        7.913433  45.671642\n",
       "Lawyer               7.893617        7.410638  39.425532\n",
       "Nurse                7.369863        7.063014  51.794521\n",
       "Other                5.400000        6.180000  35.800000\n",
       "Salesperson          5.882353        6.373529  42.617647\n",
       "Teacher              6.975000        6.690000  41.725000"
      ]
     },
     "execution_count": 58,
     "metadata": {},
     "output_type": "execute_result"
    }
   ],
   "source": [
    "demo_sleep.groupby('occupation').mean(numeric_only=True)"
   ]
  },
  {
   "cell_type": "code",
   "execution_count": 59,
   "id": "cc89f73f",
   "metadata": {
    "execution": {
     "iopub.execute_input": "2024-03-01T12:06:51.108513Z",
     "iopub.status.busy": "2024-03-01T12:06:51.108104Z",
     "iopub.status.idle": "2024-03-01T12:06:51.452799Z",
     "shell.execute_reply": "2024-03-01T12:06:51.451711Z"
    },
    "papermill": {
     "duration": 0.381015,
     "end_time": "2024-03-01T12:06:51.455514",
     "exception": false,
     "start_time": "2024-03-01T12:06:51.074499",
     "status": "completed"
    },
    "tags": []
   },
   "outputs": [
    {
     "data": {
      "image/png": "[encoded data removed]",
      "text/plain": [
       "<Figure size 1000x600 with 1 Axes>"
      ]
     },
     "metadata": {},
     "output_type": "display_data"
    }
   ],
   "source": [
    "plt.figure(figsize=(10, 6))\n",
    "sns.boxplot(data=demo_sleep, x='occupation', y='sleep_duration', showmeans=True)\n",
    "plt.title('Sleep Duration by Occupation (Box Plot)')\n",
    "plt.xlabel('Occupation')\n",
    "plt.ylabel('Sleep Duration')\n",
    "plt.xticks(rotation=45)  # X eksenindeki meslek etiketlerini döndürme\n",
    "plt.show()"
   ]
  },
  {
   "cell_type": "code",
   "execution_count": 60,
   "id": "abc6b262",
   "metadata": {
    "execution": {
     "iopub.execute_input": "2024-03-01T12:06:51.524332Z",
     "iopub.status.busy": "2024-03-01T12:06:51.523936Z",
     "iopub.status.idle": "2024-03-01T12:06:51.859993Z",
     "shell.execute_reply": "2024-03-01T12:06:51.858856Z"
    },
    "papermill": {
     "duration": 0.373777,
     "end_time": "2024-03-01T12:06:51.862596",
     "exception": false,
     "start_time": "2024-03-01T12:06:51.488819",
     "status": "completed"
    },
    "tags": []
   },
   "outputs": [
    {
     "data": {
      "image/png": "[encoded data removed]",
      "text/plain": [
       "<Figure size 1000x600 with 1 Axes>"
      ]
     },
     "metadata": {},
     "output_type": "display_data"
    }
   ],
   "source": [
    "plt.figure(figsize=(10, 6))\n",
    "sns.boxplot(data=demo_sleep, x='occupation', y='quality_of_sleep', showmeans=True)\n",
    "plt.title('Sleep Duration by Occupation (Box Plot)')\n",
    "plt.xlabel('Occupation')\n",
    "plt.ylabel('Sleep Duration')\n",
    "plt.xticks(rotation=45)  # X eksenindeki meslek etiketlerini döndürme\n",
    "plt.show()"
   ]
  },
  {
   "cell_type": "code",
   "execution_count": 61,
   "id": "10d0827e",
   "metadata": {
    "execution": {
     "iopub.execute_input": "2024-03-01T12:06:51.931010Z",
     "iopub.status.busy": "2024-03-01T12:06:51.930018Z",
     "iopub.status.idle": "2024-03-01T12:06:52.219675Z",
     "shell.execute_reply": "2024-03-01T12:06:52.218597Z"
    },
    "papermill": {
     "duration": 0.326408,
     "end_time": "2024-03-01T12:06:52.222099",
     "exception": false,
     "start_time": "2024-03-01T12:06:51.895691",
     "status": "completed"
    },
    "tags": []
   },
   "outputs": [
    {
     "data": {
      "image/png": "[encoded data removed]",
      "text/plain": [
       "<Figure size 640x480 with 1 Axes>"
      ]
     },
     "metadata": {},
     "output_type": "display_data"
    }
   ],
   "source": [
    "demo_sleep.groupby('occupation')['sleep_disorder'].value_counts(normalize=True).unstack().plot.bar();"
   ]
  },
  {
   "cell_type": "markdown",
   "id": "cd9a16c0",
   "metadata": {
    "papermill": {
     "duration": 0.032154,
     "end_time": "2024-03-01T12:06:52.286876",
     "exception": false,
     "start_time": "2024-03-01T12:06:52.254722",
     "status": "completed"
    },
    "tags": []
   },
   "source": [
    "###General: The graph shows that the prevalence of sleep disorders varies by occupation.\n",
    "Accountants: Of the listed occupations, accountants appear to have the highest prevalence for both insomnia (25%) and sleep apnoea (15%).\n",
    "Doctors: Doctors appear to have a lower prevalence of sleep disorders compared to accountants, with 10% experiencing insomnia and 5% experiencing sleep apnoea.\n",
    "Engineers: The graph shows that engineers have a similar prevalence of insomnia (15%) as accountants, but a lower prevalence of sleep apnoea (5%).\n",
    "Salespeople: Salespeople appear to have a lower prevalence of both sleep disorders compared to accountants and engineers. The graph shows that 10% of salespeople experience insomnia and 5% experience sleep apnoea.\n",
    "Teachers: Teachers appear to have the lowest prevalence of sleep disorders among the occupations listed on the chart. The values show that 5% of teachers experience insomnia and 5% experience sleep apnoea."
   ]
  },
  {
   "cell_type": "code",
   "execution_count": 62,
   "id": "1d427642",
   "metadata": {
    "execution": {
     "iopub.execute_input": "2024-03-01T12:06:52.354525Z",
     "iopub.status.busy": "2024-03-01T12:06:52.353971Z",
     "iopub.status.idle": "2024-03-01T12:06:52.360417Z",
     "shell.execute_reply": "2024-03-01T12:06:52.359657Z"
    },
    "papermill": {
     "duration": 0.042763,
     "end_time": "2024-03-01T12:06:52.362541",
     "exception": false,
     "start_time": "2024-03-01T12:06:52.319778",
     "status": "completed"
    },
    "tags": []
   },
   "outputs": [],
   "source": [
    "health_sleep = df[['sleep_disorder', 'quality_of_sleep','sleep_duration','physical_activity_level','daily_steps','stress_level','bmi_category','heart_rate','systolic_blood_pressure','diastolic_blood_pressure']].copy(deep=True)"
   ]
  },
  {
   "cell_type": "code",
   "execution_count": 63,
   "id": "ee93cf2f",
   "metadata": {
    "execution": {
     "iopub.execute_input": "2024-03-01T12:06:52.431135Z",
     "iopub.status.busy": "2024-03-01T12:06:52.430322Z",
     "iopub.status.idle": "2024-03-01T12:06:52.445547Z",
     "shell.execute_reply": "2024-03-01T12:06:52.444368Z"
    },
    "papermill": {
     "duration": 0.052649,
     "end_time": "2024-03-01T12:06:52.448150",
     "exception": false,
     "start_time": "2024-03-01T12:06:52.395501",
     "status": "completed"
    },
    "tags": []
   },
   "outputs": [
    {
     "data": {
      "text/html": [
       "<div>\n",
       "<style scoped>\n",
       "    .dataframe tbody tr th:only-of-type {\n",
       "        vertical-align: middle;\n",
       "    }\n",
       "\n",
       "    .dataframe tbody tr th {\n",
       "        vertical-align: top;\n",
       "    }\n",
       "\n",
       "    .dataframe thead th {\n",
       "        text-align: right;\n",
       "    }\n",
       "</style>\n",
       "<table border=\"1\" class=\"dataframe\">\n",
       "  <thead>\n",
       "    <tr style=\"text-align: right;\">\n",
       "      <th></th>\n",
       "      <th>sleep_disorder</th>\n",
       "      <th>quality_of_sleep</th>\n",
       "      <th>sleep_duration</th>\n",
       "      <th>physical_activity_level</th>\n",
       "      <th>daily_steps</th>\n",
       "      <th>stress_level</th>\n",
       "      <th>bmi_category</th>\n",
       "      <th>heart_rate</th>\n",
       "      <th>systolic_blood_pressure</th>\n",
       "      <th>diastolic_blood_pressure</th>\n",
       "    </tr>\n",
       "  </thead>\n",
       "  <tbody>\n",
       "    <tr>\n",
       "      <th>0</th>\n",
       "      <td>None</td>\n",
       "      <td>6</td>\n",
       "      <td>6.1</td>\n",
       "      <td>42</td>\n",
       "      <td>4200</td>\n",
       "      <td>6</td>\n",
       "      <td>Overweight</td>\n",
       "      <td>77</td>\n",
       "      <td>126</td>\n",
       "      <td>83</td>\n",
       "    </tr>\n",
       "    <tr>\n",
       "      <th>1</th>\n",
       "      <td>None</td>\n",
       "      <td>6</td>\n",
       "      <td>6.2</td>\n",
       "      <td>60</td>\n",
       "      <td>10000</td>\n",
       "      <td>8</td>\n",
       "      <td>Normal</td>\n",
       "      <td>75</td>\n",
       "      <td>125</td>\n",
       "      <td>80</td>\n",
       "    </tr>\n",
       "    <tr>\n",
       "      <th>2</th>\n",
       "      <td>None</td>\n",
       "      <td>6</td>\n",
       "      <td>6.2</td>\n",
       "      <td>60</td>\n",
       "      <td>10000</td>\n",
       "      <td>8</td>\n",
       "      <td>Normal</td>\n",
       "      <td>75</td>\n",
       "      <td>125</td>\n",
       "      <td>80</td>\n",
       "    </tr>\n",
       "  </tbody>\n",
       "</table>\n",
       "</div>"
      ],
      "text/plain": [
       "  sleep_disorder  quality_of_sleep  sleep_duration  physical_activity_level  \\\n",
       "0           None                 6             6.1                       42   \n",
       "1           None                 6             6.2                       60   \n",
       "2           None                 6             6.2                       60   \n",
       "\n",
       "   daily_steps  stress_level bmi_category  heart_rate  \\\n",
       "0         4200             6   Overweight          77   \n",
       "1        10000             8       Normal          75   \n",
       "2        10000             8       Normal          75   \n",
       "\n",
       "   systolic_blood_pressure  diastolic_blood_pressure  \n",
       "0                      126                        83  \n",
       "1                      125                        80  \n",
       "2                      125                        80  "
      ]
     },
     "execution_count": 63,
     "metadata": {},
     "output_type": "execute_result"
    }
   ],
   "source": [
    "health_sleep.head(3)"
   ]
  },
  {
   "cell_type": "code",
   "execution_count": 64,
   "id": "090d1691",
   "metadata": {
    "execution": {
     "iopub.execute_input": "2024-03-01T12:06:52.518620Z",
     "iopub.status.busy": "2024-03-01T12:06:52.517389Z",
     "iopub.status.idle": "2024-03-01T12:07:17.815656Z",
     "shell.execute_reply": "2024-03-01T12:07:17.814449Z"
    },
    "papermill": {
     "duration": 25.337458,
     "end_time": "2024-03-01T12:07:17.818614",
     "exception": false,
     "start_time": "2024-03-01T12:06:52.481156",
     "status": "completed"
    },
    "tags": []
   },
   "outputs": [
    {
     "data": {
      "text/plain": [
       "<seaborn.axisgrid.PairGrid at 0x7f34458247f0>"
      ]
     },
     "execution_count": 64,
     "metadata": {},
     "output_type": "execute_result"
    },
    {
     "data": {
      "image/png": "[encoded data removed]",
      "text/plain": [
       "<Figure size 2137.12x2000 with 72 Axes>"
      ]
     },
     "metadata": {},
     "output_type": "display_data"
    }
   ],
   "source": [
    "sns.pairplot(data=health_sleep, kind=\"hist\", hue='sleep_disorder')"
   ]
  },
  {
   "cell_type": "code",
   "execution_count": 65,
   "id": "f0acbd43",
   "metadata": {
    "execution": {
     "iopub.execute_input": "2024-03-01T12:07:17.892569Z",
     "iopub.status.busy": "2024-03-01T12:07:17.891366Z",
     "iopub.status.idle": "2024-03-01T12:07:17.907054Z",
     "shell.execute_reply": "2024-03-01T12:07:17.906187Z"
    },
    "papermill": {
     "duration": 0.054711,
     "end_time": "2024-03-01T12:07:17.909027",
     "exception": false,
     "start_time": "2024-03-01T12:07:17.854316",
     "status": "completed"
    },
    "tags": []
   },
   "outputs": [
    {
     "data": {
      "text/html": [
       "<div>\n",
       "<style scoped>\n",
       "    .dataframe tbody tr th:only-of-type {\n",
       "        vertical-align: middle;\n",
       "    }\n",
       "\n",
       "    .dataframe tbody tr th {\n",
       "        vertical-align: top;\n",
       "    }\n",
       "\n",
       "    .dataframe thead th {\n",
       "        text-align: right;\n",
       "    }\n",
       "</style>\n",
       "<table border=\"1\" class=\"dataframe\">\n",
       "  <thead>\n",
       "    <tr style=\"text-align: right;\">\n",
       "      <th></th>\n",
       "      <th>quality_of_sleep</th>\n",
       "      <th>sleep_duration</th>\n",
       "      <th>physical_activity_level</th>\n",
       "      <th>daily_steps</th>\n",
       "      <th>stress_level</th>\n",
       "      <th>heart_rate</th>\n",
       "      <th>systolic_blood_pressure</th>\n",
       "      <th>diastolic_blood_pressure</th>\n",
       "    </tr>\n",
       "    <tr>\n",
       "      <th>sleep_disorder</th>\n",
       "      <th></th>\n",
       "      <th></th>\n",
       "      <th></th>\n",
       "      <th></th>\n",
       "      <th></th>\n",
       "      <th></th>\n",
       "      <th></th>\n",
       "      <th></th>\n",
       "    </tr>\n",
       "  </thead>\n",
       "  <tbody>\n",
       "    <tr>\n",
       "      <th>Insomnia</th>\n",
       "      <td>6.532468</td>\n",
       "      <td>6.589610</td>\n",
       "      <td>46.818182</td>\n",
       "      <td>5901.298701</td>\n",
       "      <td>5.870130</td>\n",
       "      <td>70.467532</td>\n",
       "      <td>132.038961</td>\n",
       "      <td>86.857143</td>\n",
       "    </tr>\n",
       "    <tr>\n",
       "      <th>None</th>\n",
       "      <td>7.625571</td>\n",
       "      <td>7.358447</td>\n",
       "      <td>57.949772</td>\n",
       "      <td>6852.968037</td>\n",
       "      <td>5.114155</td>\n",
       "      <td>69.018265</td>\n",
       "      <td>124.045662</td>\n",
       "      <td>81.000000</td>\n",
       "    </tr>\n",
       "    <tr>\n",
       "      <th>Sleep Apnea</th>\n",
       "      <td>7.205128</td>\n",
       "      <td>7.032051</td>\n",
       "      <td>74.794872</td>\n",
       "      <td>7619.230769</td>\n",
       "      <td>5.666667</td>\n",
       "      <td>73.089744</td>\n",
       "      <td>137.769231</td>\n",
       "      <td>92.717949</td>\n",
       "    </tr>\n",
       "  </tbody>\n",
       "</table>\n",
       "</div>"
      ],
      "text/plain": [
       "                quality_of_sleep  sleep_duration  physical_activity_level  \\\n",
       "sleep_disorder                                                              \n",
       "Insomnia                6.532468        6.589610                46.818182   \n",
       "None                    7.625571        7.358447                57.949772   \n",
       "Sleep Apnea             7.205128        7.032051                74.794872   \n",
       "\n",
       "                daily_steps  stress_level  heart_rate  \\\n",
       "sleep_disorder                                          \n",
       "Insomnia        5901.298701      5.870130   70.467532   \n",
       "None            6852.968037      5.114155   69.018265   \n",
       "Sleep Apnea     7619.230769      5.666667   73.089744   \n",
       "\n",
       "                systolic_blood_pressure  diastolic_blood_pressure  \n",
       "sleep_disorder                                                     \n",
       "Insomnia                     132.038961                 86.857143  \n",
       "None                         124.045662                 81.000000  \n",
       "Sleep Apnea                  137.769231                 92.717949  "
      ]
     },
     "execution_count": 65,
     "metadata": {},
     "output_type": "execute_result"
    }
   ],
   "source": [
    "health_sleep.groupby('sleep_disorder').mean(numeric_only=True)"
   ]
  },
  {
   "cell_type": "code",
   "execution_count": 66,
   "id": "5d49a7dc",
   "metadata": {
    "execution": {
     "iopub.execute_input": "2024-03-01T12:07:17.982638Z",
     "iopub.status.busy": "2024-03-01T12:07:17.981716Z",
     "iopub.status.idle": "2024-03-01T12:07:17.990716Z",
     "shell.execute_reply": "2024-03-01T12:07:17.989955Z"
    },
    "papermill": {
     "duration": 0.047835,
     "end_time": "2024-03-01T12:07:17.992590",
     "exception": false,
     "start_time": "2024-03-01T12:07:17.944755",
     "status": "completed"
    },
    "tags": []
   },
   "outputs": [
    {
     "data": {
      "text/plain": [
       "NormaltestResult(statistic=44.32888074580998, pvalue=2.366496418710339e-10)"
      ]
     },
     "execution_count": 66,
     "metadata": {},
     "output_type": "execute_result"
    }
   ],
   "source": [
    "scipy.stats.normaltest(health_sleep.systolic_blood_pressure)"
   ]
  },
  {
   "cell_type": "code",
   "execution_count": 67,
   "id": "8b5f677b",
   "metadata": {
    "execution": {
     "iopub.execute_input": "2024-03-01T12:07:18.066207Z",
     "iopub.status.busy": "2024-03-01T12:07:18.065567Z",
     "iopub.status.idle": "2024-03-01T12:07:18.074113Z",
     "shell.execute_reply": "2024-03-01T12:07:18.073214Z"
    },
    "papermill": {
     "duration": 0.048071,
     "end_time": "2024-03-01T12:07:18.076166",
     "exception": false,
     "start_time": "2024-03-01T12:07:18.028095",
     "status": "completed"
    },
    "tags": []
   },
   "outputs": [
    {
     "data": {
      "text/plain": [
       "NormaltestResult(statistic=43.1200849985241, pvalue=4.3310431735544495e-10)"
      ]
     },
     "execution_count": 67,
     "metadata": {},
     "output_type": "execute_result"
    }
   ],
   "source": [
    "scipy.stats.normaltest(health_sleep.diastolic_blood_pressure)"
   ]
  },
  {
   "cell_type": "code",
   "execution_count": 68,
   "id": "b7271f09",
   "metadata": {
    "execution": {
     "iopub.execute_input": "2024-03-01T12:07:18.151744Z",
     "iopub.status.busy": "2024-03-01T12:07:18.151313Z",
     "iopub.status.idle": "2024-03-01T12:07:18.162343Z",
     "shell.execute_reply": "2024-03-01T12:07:18.161107Z"
    },
    "papermill": {
     "duration": 0.051562,
     "end_time": "2024-03-01T12:07:18.164685",
     "exception": false,
     "start_time": "2024-03-01T12:07:18.113123",
     "status": "completed"
    },
    "tags": []
   },
   "outputs": [
    {
     "data": {
      "text/plain": [
       "MannwhitneyuResult(statistic=2032.5, pvalue=2.7925337312647312e-24)"
      ]
     },
     "execution_count": 68,
     "metadata": {},
     "output_type": "execute_result"
    }
   ],
   "source": [
    "scipy.stats.mannwhitneyu(health_sleep[health_sleep.sleep_disorder=='None'].systolic_blood_pressure,health_sleep[health_sleep.sleep_disorder == 'Insomnia'].systolic_blood_pressure)"
   ]
  },
  {
   "cell_type": "code",
   "execution_count": 69,
   "id": "3ac60474",
   "metadata": {
    "execution": {
     "iopub.execute_input": "2024-03-01T12:07:18.240978Z",
     "iopub.status.busy": "2024-03-01T12:07:18.240147Z",
     "iopub.status.idle": "2024-03-01T12:07:18.251120Z",
     "shell.execute_reply": "2024-03-01T12:07:18.250003Z"
    },
    "papermill": {
     "duration": 0.051319,
     "end_time": "2024-03-01T12:07:18.253481",
     "exception": false,
     "start_time": "2024-03-01T12:07:18.202162",
     "status": "completed"
    },
    "tags": []
   },
   "outputs": [
    {
     "data": {
      "text/plain": [
       "MannwhitneyuResult(statistic=970.5, pvalue=1.5833817261716064e-14)"
      ]
     },
     "execution_count": 69,
     "metadata": {},
     "output_type": "execute_result"
    }
   ],
   "source": [
    "scipy.stats.mannwhitneyu(health_sleep[health_sleep.sleep_disorder == 'Insomnia'].systolic_blood_pressure, health_sleep[health_sleep.sleep_disorder == 'Sleep Apnea'].systolic_blood_pressure)"
   ]
  },
  {
   "cell_type": "code",
   "execution_count": 70,
   "id": "33a4ff0a",
   "metadata": {
    "execution": {
     "iopub.execute_input": "2024-03-01T12:07:18.328468Z",
     "iopub.status.busy": "2024-03-01T12:07:18.328057Z",
     "iopub.status.idle": "2024-03-01T12:07:18.339112Z",
     "shell.execute_reply": "2024-03-01T12:07:18.338116Z"
    },
    "papermill": {
     "duration": 0.051194,
     "end_time": "2024-03-01T12:07:18.341220",
     "exception": false,
     "start_time": "2024-03-01T12:07:18.290026",
     "status": "completed"
    },
    "tags": []
   },
   "outputs": [
    {
     "data": {
      "text/plain": [
       "MannwhitneyuResult(statistic=980.5, pvalue=3.099666428013716e-32)"
      ]
     },
     "execution_count": 70,
     "metadata": {},
     "output_type": "execute_result"
    }
   ],
   "source": [
    "scipy.stats.mannwhitneyu(health_sleep[health_sleep.sleep_disorder =='None'].systolic_blood_pressure,health_sleep[health_sleep.sleep_disorder == 'Sleep Apnea'].systolic_blood_pressure)"
   ]
  },
  {
   "cell_type": "code",
   "execution_count": 71,
   "id": "265b6edb",
   "metadata": {
    "execution": {
     "iopub.execute_input": "2024-03-01T12:07:18.417735Z",
     "iopub.status.busy": "2024-03-01T12:07:18.416545Z",
     "iopub.status.idle": "2024-03-01T12:07:18.427578Z",
     "shell.execute_reply": "2024-03-01T12:07:18.426497Z"
    },
    "papermill": {
     "duration": 0.051113,
     "end_time": "2024-03-01T12:07:18.429765",
     "exception": false,
     "start_time": "2024-03-01T12:07:18.378652",
     "status": "completed"
    },
    "tags": []
   },
   "outputs": [
    {
     "data": {
      "text/plain": [
       "MannwhitneyuResult(statistic=2134.5, pvalue=1.927261028283621e-24)"
      ]
     },
     "execution_count": 71,
     "metadata": {},
     "output_type": "execute_result"
    }
   ],
   "source": [
    "scipy.stats.mannwhitneyu(health_sleep[health_sleep.sleep_disorder=='None']. diastolic_blood_pressure, health_sleep[health_sleep.sleep_disorder == 'Insomnia'].diastolic_blood_pressure)"
   ]
  },
  {
   "cell_type": "code",
   "execution_count": 72,
   "id": "1c24a922",
   "metadata": {
    "execution": {
     "iopub.execute_input": "2024-03-01T12:07:18.504944Z",
     "iopub.status.busy": "2024-03-01T12:07:18.503908Z",
     "iopub.status.idle": "2024-03-01T12:07:18.514503Z",
     "shell.execute_reply": "2024-03-01T12:07:18.513424Z"
    },
    "papermill": {
     "duration": 0.050399,
     "end_time": "2024-03-01T12:07:18.516445",
     "exception": false,
     "start_time": "2024-03-01T12:07:18.466046",
     "status": "completed"
    },
    "tags": []
   },
   "outputs": [
    {
     "data": {
      "text/plain": [
       "MannwhitneyuResult(statistic=822.0, pvalue=2.933840387185841e-16)"
      ]
     },
     "execution_count": 72,
     "metadata": {},
     "output_type": "execute_result"
    }
   ],
   "source": [
    "scipy.stats.mannwhitneyu(health_sleep[health_sleep.sleep_disorder == 'Insomnia'].diastolic_blood_pressure, health_sleep[health_sleep.sleep_disorder == 'Sleep Apnea'].diastolic_blood_pressure)"
   ]
  },
  {
   "cell_type": "code",
   "execution_count": 73,
   "id": "2bfe3a9c",
   "metadata": {
    "execution": {
     "iopub.execute_input": "2024-03-01T12:07:18.591583Z",
     "iopub.status.busy": "2024-03-01T12:07:18.590667Z",
     "iopub.status.idle": "2024-03-01T12:07:18.601534Z",
     "shell.execute_reply": "2024-03-01T12:07:18.600411Z"
    },
    "papermill": {
     "duration": 0.050477,
     "end_time": "2024-03-01T12:07:18.603675",
     "exception": false,
     "start_time": "2024-03-01T12:07:18.553198",
     "status": "completed"
    },
    "tags": []
   },
   "outputs": [
    {
     "data": {
      "text/plain": [
       "MannwhitneyuResult(statistic=908.0, pvalue=5.657915311442221e-34)"
      ]
     },
     "execution_count": 73,
     "metadata": {},
     "output_type": "execute_result"
    }
   ],
   "source": [
    "scipy.stats.mannwhitneyu(health_sleep[health_sleep.sleep_disorder == 'None'].diastolic_blood_pressure,health_sleep[health_sleep.sleep_disorder=='Sleep Apnea'].diastolic_blood_pressure)"
   ]
  },
  {
   "cell_type": "code",
   "execution_count": 74,
   "id": "d88ae879",
   "metadata": {
    "execution": {
     "iopub.execute_input": "2024-03-01T12:07:18.678489Z",
     "iopub.status.busy": "2024-03-01T12:07:18.677768Z",
     "iopub.status.idle": "2024-03-01T12:07:18.690712Z",
     "shell.execute_reply": "2024-03-01T12:07:18.689636Z"
    },
    "papermill": {
     "duration": 0.053084,
     "end_time": "2024-03-01T12:07:18.693088",
     "exception": false,
     "start_time": "2024-03-01T12:07:18.640004",
     "status": "completed"
    },
    "tags": []
   },
   "outputs": [
    {
     "data": {
      "text/html": [
       "<div>\n",
       "<style scoped>\n",
       "    .dataframe tbody tr th:only-of-type {\n",
       "        vertical-align: middle;\n",
       "    }\n",
       "\n",
       "    .dataframe tbody tr th {\n",
       "        vertical-align: top;\n",
       "    }\n",
       "\n",
       "    .dataframe thead th {\n",
       "        text-align: right;\n",
       "    }\n",
       "</style>\n",
       "<table border=\"1\" class=\"dataframe\">\n",
       "  <thead>\n",
       "    <tr style=\"text-align: right;\">\n",
       "      <th></th>\n",
       "      <th>heart_rate</th>\n",
       "      <th>stress_level</th>\n",
       "      <th>quality_of_sleep</th>\n",
       "      <th>sleep_duration</th>\n",
       "    </tr>\n",
       "  </thead>\n",
       "  <tbody>\n",
       "    <tr>\n",
       "      <th>heart_rate</th>\n",
       "      <td>1.000000</td>\n",
       "      <td>0.670026</td>\n",
       "      <td>-0.659865</td>\n",
       "      <td>-0.516455</td>\n",
       "    </tr>\n",
       "    <tr>\n",
       "      <th>stress_level</th>\n",
       "      <td>0.670026</td>\n",
       "      <td>1.000000</td>\n",
       "      <td>-0.898752</td>\n",
       "      <td>-0.811023</td>\n",
       "    </tr>\n",
       "    <tr>\n",
       "      <th>quality_of_sleep</th>\n",
       "      <td>-0.659865</td>\n",
       "      <td>-0.898752</td>\n",
       "      <td>1.000000</td>\n",
       "      <td>0.883213</td>\n",
       "    </tr>\n",
       "    <tr>\n",
       "      <th>sleep_duration</th>\n",
       "      <td>-0.516455</td>\n",
       "      <td>-0.811023</td>\n",
       "      <td>0.883213</td>\n",
       "      <td>1.000000</td>\n",
       "    </tr>\n",
       "  </tbody>\n",
       "</table>\n",
       "</div>"
      ],
      "text/plain": [
       "                  heart_rate  stress_level  quality_of_sleep  sleep_duration\n",
       "heart_rate          1.000000      0.670026         -0.659865       -0.516455\n",
       "stress_level        0.670026      1.000000         -0.898752       -0.811023\n",
       "quality_of_sleep   -0.659865     -0.898752          1.000000        0.883213\n",
       "sleep_duration     -0.516455     -0.811023          0.883213        1.000000"
      ]
     },
     "execution_count": 74,
     "metadata": {},
     "output_type": "execute_result"
    }
   ],
   "source": [
    "health_sleep[['heart_rate','stress_level','quality_of_sleep','sleep_duration']].corr(method='pearson')"
   ]
  },
  {
   "cell_type": "code",
   "execution_count": 75,
   "id": "40b5b7e9",
   "metadata": {
    "execution": {
     "iopub.execute_input": "2024-03-01T12:07:18.768486Z",
     "iopub.status.busy": "2024-03-01T12:07:18.767238Z",
     "iopub.status.idle": "2024-03-01T12:07:18.786574Z",
     "shell.execute_reply": "2024-03-01T12:07:18.785508Z"
    },
    "papermill": {
     "duration": 0.059343,
     "end_time": "2024-03-01T12:07:18.788711",
     "exception": false,
     "start_time": "2024-03-01T12:07:18.729368",
     "status": "completed"
    },
    "tags": []
   },
   "outputs": [
    {
     "data": {
      "text/html": [
       "<div>\n",
       "<style scoped>\n",
       "    .dataframe tbody tr th:only-of-type {\n",
       "        vertical-align: middle;\n",
       "    }\n",
       "\n",
       "    .dataframe tbody tr th {\n",
       "        vertical-align: top;\n",
       "    }\n",
       "\n",
       "    .dataframe thead th {\n",
       "        text-align: right;\n",
       "    }\n",
       "</style>\n",
       "<table border=\"1\" class=\"dataframe\">\n",
       "  <thead>\n",
       "    <tr style=\"text-align: right;\">\n",
       "      <th></th>\n",
       "      <th></th>\n",
       "      <th>heart_rate</th>\n",
       "      <th>stress_level</th>\n",
       "      <th>quality_of_sleep</th>\n",
       "      <th>sleep_duration</th>\n",
       "    </tr>\n",
       "    <tr>\n",
       "      <th>sleep_disorder</th>\n",
       "      <th></th>\n",
       "      <th></th>\n",
       "      <th></th>\n",
       "      <th></th>\n",
       "      <th></th>\n",
       "    </tr>\n",
       "  </thead>\n",
       "  <tbody>\n",
       "    <tr>\n",
       "      <th rowspan=\"4\" valign=\"top\">Insomnia</th>\n",
       "      <th>heart_rate</th>\n",
       "      <td>1.000000</td>\n",
       "      <td>0.719036</td>\n",
       "      <td>-0.605499</td>\n",
       "      <td>-0.163630</td>\n",
       "    </tr>\n",
       "    <tr>\n",
       "      <th>stress_level</th>\n",
       "      <td>0.719036</td>\n",
       "      <td>1.000000</td>\n",
       "      <td>-0.723100</td>\n",
       "      <td>-0.487877</td>\n",
       "    </tr>\n",
       "    <tr>\n",
       "      <th>quality_of_sleep</th>\n",
       "      <td>-0.605499</td>\n",
       "      <td>-0.723100</td>\n",
       "      <td>1.000000</td>\n",
       "      <td>0.753207</td>\n",
       "    </tr>\n",
       "    <tr>\n",
       "      <th>sleep_duration</th>\n",
       "      <td>-0.163630</td>\n",
       "      <td>-0.487877</td>\n",
       "      <td>0.753207</td>\n",
       "      <td>1.000000</td>\n",
       "    </tr>\n",
       "    <tr>\n",
       "      <th rowspan=\"4\" valign=\"top\">None</th>\n",
       "      <th>heart_rate</th>\n",
       "      <td>1.000000</td>\n",
       "      <td>0.800938</td>\n",
       "      <td>-0.809742</td>\n",
       "      <td>-0.678363</td>\n",
       "    </tr>\n",
       "    <tr>\n",
       "      <th>stress_level</th>\n",
       "      <td>0.800938</td>\n",
       "      <td>1.000000</td>\n",
       "      <td>-0.938882</td>\n",
       "      <td>-0.778761</td>\n",
       "    </tr>\n",
       "    <tr>\n",
       "      <th>quality_of_sleep</th>\n",
       "      <td>-0.809742</td>\n",
       "      <td>-0.938882</td>\n",
       "      <td>1.000000</td>\n",
       "      <td>0.836940</td>\n",
       "    </tr>\n",
       "    <tr>\n",
       "      <th>sleep_duration</th>\n",
       "      <td>-0.678363</td>\n",
       "      <td>-0.778761</td>\n",
       "      <td>0.836940</td>\n",
       "      <td>1.000000</td>\n",
       "    </tr>\n",
       "    <tr>\n",
       "      <th rowspan=\"4\" valign=\"top\">Sleep Apnea</th>\n",
       "      <th>heart_rate</th>\n",
       "      <td>1.000000</td>\n",
       "      <td>0.605020</td>\n",
       "      <td>-0.703582</td>\n",
       "      <td>-0.598596</td>\n",
       "    </tr>\n",
       "    <tr>\n",
       "      <th>stress_level</th>\n",
       "      <td>0.605020</td>\n",
       "      <td>1.000000</td>\n",
       "      <td>-0.945325</td>\n",
       "      <td>-0.984028</td>\n",
       "    </tr>\n",
       "    <tr>\n",
       "      <th>quality_of_sleep</th>\n",
       "      <td>-0.703582</td>\n",
       "      <td>-0.945325</td>\n",
       "      <td>1.000000</td>\n",
       "      <td>0.944228</td>\n",
       "    </tr>\n",
       "    <tr>\n",
       "      <th>sleep_duration</th>\n",
       "      <td>-0.598596</td>\n",
       "      <td>-0.984028</td>\n",
       "      <td>0.944228</td>\n",
       "      <td>1.000000</td>\n",
       "    </tr>\n",
       "  </tbody>\n",
       "</table>\n",
       "</div>"
      ],
      "text/plain": [
       "                                 heart_rate  stress_level  quality_of_sleep  \\\n",
       "sleep_disorder                                                                \n",
       "Insomnia       heart_rate          1.000000      0.719036         -0.605499   \n",
       "               stress_level        0.719036      1.000000         -0.723100   \n",
       "               quality_of_sleep   -0.605499     -0.723100          1.000000   \n",
       "               sleep_duration     -0.163630     -0.487877          0.753207   \n",
       "None           heart_rate          1.000000      0.800938         -0.809742   \n",
       "               stress_level        0.800938      1.000000         -0.938882   \n",
       "               quality_of_sleep   -0.809742     -0.938882          1.000000   \n",
       "               sleep_duration     -0.678363     -0.778761          0.836940   \n",
       "Sleep Apnea    heart_rate          1.000000      0.605020         -0.703582   \n",
       "               stress_level        0.605020      1.000000         -0.945325   \n",
       "               quality_of_sleep   -0.703582     -0.945325          1.000000   \n",
       "               sleep_duration     -0.598596     -0.984028          0.944228   \n",
       "\n",
       "                                 sleep_duration  \n",
       "sleep_disorder                                   \n",
       "Insomnia       heart_rate             -0.163630  \n",
       "               stress_level           -0.487877  \n",
       "               quality_of_sleep        0.753207  \n",
       "               sleep_duration          1.000000  \n",
       "None           heart_rate             -0.678363  \n",
       "               stress_level           -0.778761  \n",
       "               quality_of_sleep        0.836940  \n",
       "               sleep_duration          1.000000  \n",
       "Sleep Apnea    heart_rate             -0.598596  \n",
       "               stress_level           -0.984028  \n",
       "               quality_of_sleep        0.944228  \n",
       "               sleep_duration          1.000000  "
      ]
     },
     "execution_count": 75,
     "metadata": {},
     "output_type": "execute_result"
    }
   ],
   "source": [
    "health_sleep[['heart_rate','stress_level','quality_of_sleep','sleep_duration','sleep_disorder']].groupby('sleep_disorder').corr(method='pearson')"
   ]
  },
  {
   "cell_type": "code",
   "execution_count": 76,
   "id": "8ef09056",
   "metadata": {
    "execution": {
     "iopub.execute_input": "2024-03-01T12:07:18.864920Z",
     "iopub.status.busy": "2024-03-01T12:07:18.864290Z",
     "iopub.status.idle": "2024-03-01T12:07:18.880950Z",
     "shell.execute_reply": "2024-03-01T12:07:18.879898Z"
    },
    "papermill": {
     "duration": 0.05704,
     "end_time": "2024-03-01T12:07:18.882964",
     "exception": false,
     "start_time": "2024-03-01T12:07:18.825924",
     "status": "completed"
    },
    "tags": []
   },
   "outputs": [
    {
     "data": {
      "text/html": [
       "<div>\n",
       "<style scoped>\n",
       "    .dataframe tbody tr th:only-of-type {\n",
       "        vertical-align: middle;\n",
       "    }\n",
       "\n",
       "    .dataframe tbody tr th {\n",
       "        vertical-align: top;\n",
       "    }\n",
       "\n",
       "    .dataframe thead th {\n",
       "        text-align: right;\n",
       "    }\n",
       "</style>\n",
       "<table border=\"1\" class=\"dataframe\">\n",
       "  <thead>\n",
       "    <tr style=\"text-align: right;\">\n",
       "      <th></th>\n",
       "      <th>person_id</th>\n",
       "      <th>age</th>\n",
       "      <th>sleep_duration</th>\n",
       "      <th>quality_of_sleep</th>\n",
       "      <th>physical_activity_level</th>\n",
       "      <th>stress_level</th>\n",
       "      <th>heart_rate</th>\n",
       "      <th>daily_steps</th>\n",
       "      <th>systolic_blood_pressure</th>\n",
       "      <th>diastolic_blood_pressure</th>\n",
       "    </tr>\n",
       "    <tr>\n",
       "      <th>bmi_category</th>\n",
       "      <th></th>\n",
       "      <th></th>\n",
       "      <th></th>\n",
       "      <th></th>\n",
       "      <th></th>\n",
       "      <th></th>\n",
       "      <th></th>\n",
       "      <th></th>\n",
       "      <th></th>\n",
       "      <th></th>\n",
       "    </tr>\n",
       "  </thead>\n",
       "  <tbody>\n",
       "    <tr>\n",
       "      <th>Normal</th>\n",
       "      <td>139.648148</td>\n",
       "      <td>38.472222</td>\n",
       "      <td>7.387963</td>\n",
       "      <td>7.638889</td>\n",
       "      <td>57.949074</td>\n",
       "      <td>5.134259</td>\n",
       "      <td>68.976852</td>\n",
       "      <td>6875.462963</td>\n",
       "      <td>123.606481</td>\n",
       "      <td>80.601852</td>\n",
       "    </tr>\n",
       "    <tr>\n",
       "      <th>Obese</th>\n",
       "      <td>134.900000</td>\n",
       "      <td>38.000000</td>\n",
       "      <td>6.960000</td>\n",
       "      <td>6.400000</td>\n",
       "      <td>55.000000</td>\n",
       "      <td>5.700000</td>\n",
       "      <td>84.300000</td>\n",
       "      <td>3350.000000</td>\n",
       "      <td>139.200000</td>\n",
       "      <td>90.200000</td>\n",
       "    </tr>\n",
       "    <tr>\n",
       "      <th>Overweight</th>\n",
       "      <td>260.891892</td>\n",
       "      <td>47.885135</td>\n",
       "      <td>6.770270</td>\n",
       "      <td>6.898649</td>\n",
       "      <td>61.236486</td>\n",
       "      <td>5.729730</td>\n",
       "      <td>70.945946</td>\n",
       "      <td>6965.540541</td>\n",
       "      <td>135.054054</td>\n",
       "      <td>90.182432</td>\n",
       "    </tr>\n",
       "  </tbody>\n",
       "</table>\n",
       "</div>"
      ],
      "text/plain": [
       "               person_id        age  sleep_duration  quality_of_sleep  \\\n",
       "bmi_category                                                            \n",
       "Normal        139.648148  38.472222        7.387963          7.638889   \n",
       "Obese         134.900000  38.000000        6.960000          6.400000   \n",
       "Overweight    260.891892  47.885135        6.770270          6.898649   \n",
       "\n",
       "              physical_activity_level  stress_level  heart_rate  daily_steps  \\\n",
       "bmi_category                                                                   \n",
       "Normal                      57.949074      5.134259   68.976852  6875.462963   \n",
       "Obese                       55.000000      5.700000   84.300000  3350.000000   \n",
       "Overweight                  61.236486      5.729730   70.945946  6965.540541   \n",
       "\n",
       "              systolic_blood_pressure  diastolic_blood_pressure  \n",
       "bmi_category                                                     \n",
       "Normal                     123.606481                 80.601852  \n",
       "Obese                      139.200000                 90.200000  \n",
       "Overweight                 135.054054                 90.182432  "
      ]
     },
     "execution_count": 76,
     "metadata": {},
     "output_type": "execute_result"
    }
   ],
   "source": [
    "df.groupby('bmi_category').mean(numeric_only = True)"
   ]
  },
  {
   "cell_type": "code",
   "execution_count": 77,
   "id": "bf2eabd8",
   "metadata": {
    "execution": {
     "iopub.execute_input": "2024-03-01T12:07:18.959392Z",
     "iopub.status.busy": "2024-03-01T12:07:18.959037Z",
     "iopub.status.idle": "2024-03-01T12:07:18.967030Z",
     "shell.execute_reply": "2024-03-01T12:07:18.966041Z"
    },
    "papermill": {
     "duration": 0.048736,
     "end_time": "2024-03-01T12:07:18.969047",
     "exception": false,
     "start_time": "2024-03-01T12:07:18.920311",
     "status": "completed"
    },
    "tags": []
   },
   "outputs": [
    {
     "data": {
      "text/plain": [
       "bmi_category\n",
       "Normal        216\n",
       "Overweight    148\n",
       "Obese          10\n",
       "Name: count, dtype: int64"
      ]
     },
     "execution_count": 77,
     "metadata": {},
     "output_type": "execute_result"
    }
   ],
   "source": [
    "df['bmi_category'].value_counts()"
   ]
  },
  {
   "cell_type": "code",
   "execution_count": 78,
   "id": "946fce46",
   "metadata": {
    "execution": {
     "iopub.execute_input": "2024-03-01T12:07:19.045329Z",
     "iopub.status.busy": "2024-03-01T12:07:19.044936Z",
     "iopub.status.idle": "2024-03-01T12:07:19.056255Z",
     "shell.execute_reply": "2024-03-01T12:07:19.055263Z"
    },
    "papermill": {
     "duration": 0.052016,
     "end_time": "2024-03-01T12:07:19.058220",
     "exception": false,
     "start_time": "2024-03-01T12:07:19.006204",
     "status": "completed"
    },
    "tags": []
   },
   "outputs": [
    {
     "data": {
      "text/plain": [
       "MannwhitneyuResult(statistic=22449.5, pvalue=5.085800934608319e-11)"
      ]
     },
     "execution_count": 78,
     "metadata": {},
     "output_type": "execute_result"
    }
   ],
   "source": [
    "scipy.stats.mannwhitneyu(health_sleep[health_sleep.bmi_category == 'Normal'].sleep_duration,health_sleep[health_sleep.bmi_category == 'Overweight'].sleep_duration )"
   ]
  },
  {
   "cell_type": "code",
   "execution_count": 79,
   "id": "1ab02057",
   "metadata": {
    "execution": {
     "iopub.execute_input": "2024-03-01T12:07:19.134677Z",
     "iopub.status.busy": "2024-03-01T12:07:19.133730Z",
     "iopub.status.idle": "2024-03-01T12:07:19.143193Z",
     "shell.execute_reply": "2024-03-01T12:07:19.142432Z"
    },
    "papermill": {
     "duration": 0.049825,
     "end_time": "2024-03-01T12:07:19.145118",
     "exception": false,
     "start_time": "2024-03-01T12:07:19.095293",
     "status": "completed"
    },
    "tags": []
   },
   "outputs": [
    {
     "data": {
      "text/plain": [
       "MannwhitneyuResult(statistic=707.5, pvalue=0.8184198340604408)"
      ]
     },
     "execution_count": 79,
     "metadata": {},
     "output_type": "execute_result"
    }
   ],
   "source": [
    "scipy.stats.mannwhitneyu(health_sleep[health_sleep.bmi_category=='Overweight'].sleep_duration,health_sleep[health_sleep.bmi_category=='Obese'].sleep_duration)"
   ]
  },
  {
   "cell_type": "code",
   "execution_count": 80,
   "id": "2c3055e1",
   "metadata": {
    "execution": {
     "iopub.execute_input": "2024-03-01T12:07:19.223832Z",
     "iopub.status.busy": "2024-03-01T12:07:19.223254Z",
     "iopub.status.idle": "2024-03-01T12:07:19.232552Z",
     "shell.execute_reply": "2024-03-01T12:07:19.231592Z"
    },
    "papermill": {
     "duration": 0.05138,
     "end_time": "2024-03-01T12:07:19.235018",
     "exception": false,
     "start_time": "2024-03-01T12:07:19.183638",
     "status": "completed"
    },
    "tags": []
   },
   "outputs": [
    {
     "data": {
      "text/plain": [
       "MannwhitneyuResult(statistic=1356.0, pvalue=0.1709822364847371)"
      ]
     },
     "execution_count": 80,
     "metadata": {},
     "output_type": "execute_result"
    }
   ],
   "source": [
    "scipy.stats.mannwhitneyu(health_sleep[health_sleep.bmi_category=='Normal'].sleep_duration,health_sleep[health_sleep.bmi_category=='Obese'].sleep_duration)"
   ]
  },
  {
   "cell_type": "code",
   "execution_count": 81,
   "id": "750c2d0d",
   "metadata": {
    "execution": {
     "iopub.execute_input": "2024-03-01T12:07:19.312682Z",
     "iopub.status.busy": "2024-03-01T12:07:19.312320Z",
     "iopub.status.idle": "2024-03-01T12:07:19.322904Z",
     "shell.execute_reply": "2024-03-01T12:07:19.321699Z"
    },
    "papermill": {
     "duration": 0.052316,
     "end_time": "2024-03-01T12:07:19.325328",
     "exception": false,
     "start_time": "2024-03-01T12:07:19.273012",
     "status": "completed"
    },
    "tags": []
   },
   "outputs": [
    {
     "data": {
      "text/plain": [
       "MannwhitneyuResult(statistic=21687.0, pvalue=2.220619581682694e-09)"
      ]
     },
     "execution_count": 81,
     "metadata": {},
     "output_type": "execute_result"
    }
   ],
   "source": [
    "scipy.stats.mannwhitneyu(health_sleep[health_sleep.bmi_category=='Normal'].quality_of_sleep,health_sleep[health_sleep.bmi_category=='Overweight'].quality_of_sleep)"
   ]
  },
  {
   "cell_type": "code",
   "execution_count": 82,
   "id": "d3a99b86",
   "metadata": {
    "execution": {
     "iopub.execute_input": "2024-03-01T12:07:19.404715Z",
     "iopub.status.busy": "2024-03-01T12:07:19.404085Z",
     "iopub.status.idle": "2024-03-01T12:07:19.413990Z",
     "shell.execute_reply": "2024-03-01T12:07:19.413176Z"
    },
    "papermill": {
     "duration": 0.052023,
     "end_time": "2024-03-01T12:07:19.416045",
     "exception": false,
     "start_time": "2024-03-01T12:07:19.364022",
     "status": "completed"
    },
    "tags": []
   },
   "outputs": [
    {
     "data": {
      "text/plain": [
       "MannwhitneyuResult(statistic=796.0, pvalue=0.6723590634198593)"
      ]
     },
     "execution_count": 82,
     "metadata": {},
     "output_type": "execute_result"
    }
   ],
   "source": [
    "scipy.stats.mannwhitneyu(health_sleep[health_sleep.bmi_category=='Overweight'].quality_of_sleep,health_sleep[health_sleep.bmi_category=='Obese'].quality_of_sleep)"
   ]
  },
  {
   "cell_type": "code",
   "execution_count": 83,
   "id": "29f64a35",
   "metadata": {
    "execution": {
     "iopub.execute_input": "2024-03-01T12:07:19.493878Z",
     "iopub.status.busy": "2024-03-01T12:07:19.493525Z",
     "iopub.status.idle": "2024-03-01T12:07:19.504208Z",
     "shell.execute_reply": "2024-03-01T12:07:19.503213Z"
    },
    "papermill": {
     "duration": 0.052135,
     "end_time": "2024-03-01T12:07:19.506377",
     "exception": false,
     "start_time": "2024-03-01T12:07:19.454242",
     "status": "completed"
    },
    "tags": []
   },
   "outputs": [
    {
     "data": {
      "text/plain": [
       "MannwhitneyuResult(statistic=1523.0, pvalue=0.019455164346350157)"
      ]
     },
     "execution_count": 83,
     "metadata": {},
     "output_type": "execute_result"
    }
   ],
   "source": [
    "scipy.stats.mannwhitneyu(health_sleep[health_sleep.bmi_category=='Normal'].quality_of_sleep,health_sleep[health_sleep.bmi_category=='Obese'].quality_of_sleep)"
   ]
  },
  {
   "cell_type": "code",
   "execution_count": 84,
   "id": "cd950b35",
   "metadata": {
    "execution": {
     "iopub.execute_input": "2024-03-01T12:07:19.585229Z",
     "iopub.status.busy": "2024-03-01T12:07:19.584848Z",
     "iopub.status.idle": "2024-03-01T12:07:19.783636Z",
     "shell.execute_reply": "2024-03-01T12:07:19.782598Z"
    },
    "papermill": {
     "duration": 0.241255,
     "end_time": "2024-03-01T12:07:19.786276",
     "exception": false,
     "start_time": "2024-03-01T12:07:19.545021",
     "status": "completed"
    },
    "tags": []
   },
   "outputs": [
    {
     "data": {
      "image/png": "[encoded data removed]",
      "text/plain": [
       "<Figure size 640x480 with 1 Axes>"
      ]
     },
     "metadata": {},
     "output_type": "display_data"
    }
   ],
   "source": [
    "sns.boxplot(data=health_sleep, x='quality_of_sleep', y='bmi_category', showmeans=True);"
   ]
  },
  {
   "cell_type": "code",
   "execution_count": 85,
   "id": "362d79f7",
   "metadata": {
    "execution": {
     "iopub.execute_input": "2024-03-01T12:07:19.865752Z",
     "iopub.status.busy": "2024-03-01T12:07:19.865385Z",
     "iopub.status.idle": "2024-03-01T12:07:20.056435Z",
     "shell.execute_reply": "2024-03-01T12:07:20.055274Z"
    },
    "papermill": {
     "duration": 0.234561,
     "end_time": "2024-03-01T12:07:20.059506",
     "exception": false,
     "start_time": "2024-03-01T12:07:19.824945",
     "status": "completed"
    },
    "tags": []
   },
   "outputs": [
    {
     "data": {
      "image/png": "[encoded data removed]",
      "text/plain": [
       "<Figure size 640x480 with 1 Axes>"
      ]
     },
     "metadata": {},
     "output_type": "display_data"
    }
   ],
   "source": [
    "sns.boxplot(data=health_sleep, x='sleep_duration', y='bmi_category', showmeans=True);"
   ]
  },
  {
   "cell_type": "code",
   "execution_count": 86,
   "id": "c7db192c",
   "metadata": {
    "execution": {
     "iopub.execute_input": "2024-03-01T12:07:20.140526Z",
     "iopub.status.busy": "2024-03-01T12:07:20.139556Z",
     "iopub.status.idle": "2024-03-01T12:07:20.373373Z",
     "shell.execute_reply": "2024-03-01T12:07:20.372245Z"
    },
    "papermill": {
     "duration": 0.276817,
     "end_time": "2024-03-01T12:07:20.375585",
     "exception": false,
     "start_time": "2024-03-01T12:07:20.098768",
     "status": "completed"
    },
    "tags": []
   },
   "outputs": [
    {
     "data": {
      "image/png": "[encoded data removed]",
      "text/plain": [
       "<Figure size 640x480 with 1 Axes>"
      ]
     },
     "metadata": {},
     "output_type": "display_data"
    }
   ],
   "source": [
    "health_sleep.groupby('bmi_category')['sleep_disorder'].value_counts(normalize=True).unstack().plot.bar();"
   ]
  },
  {
   "cell_type": "code",
   "execution_count": 87,
   "id": "4a2f8f5d",
   "metadata": {
    "execution": {
     "iopub.execute_input": "2024-03-01T12:07:20.456940Z",
     "iopub.status.busy": "2024-03-01T12:07:20.456198Z",
     "iopub.status.idle": "2024-03-01T12:07:20.472641Z",
     "shell.execute_reply": "2024-03-01T12:07:20.471613Z"
    },
    "papermill": {
     "duration": 0.059755,
     "end_time": "2024-03-01T12:07:20.475019",
     "exception": false,
     "start_time": "2024-03-01T12:07:20.415264",
     "status": "completed"
    },
    "tags": []
   },
   "outputs": [
    {
     "data": {
      "text/html": [
       "<div>\n",
       "<style scoped>\n",
       "    .dataframe tbody tr th:only-of-type {\n",
       "        vertical-align: middle;\n",
       "    }\n",
       "\n",
       "    .dataframe tbody tr th {\n",
       "        vertical-align: top;\n",
       "    }\n",
       "\n",
       "    .dataframe thead th {\n",
       "        text-align: right;\n",
       "    }\n",
       "</style>\n",
       "<table border=\"1\" class=\"dataframe\">\n",
       "  <thead>\n",
       "    <tr style=\"text-align: right;\">\n",
       "      <th>sleep_disorder</th>\n",
       "      <th>Insomnia</th>\n",
       "      <th>None</th>\n",
       "      <th>Sleep Apnea</th>\n",
       "    </tr>\n",
       "    <tr>\n",
       "      <th>bmi_category</th>\n",
       "      <th></th>\n",
       "      <th></th>\n",
       "      <th></th>\n",
       "    </tr>\n",
       "  </thead>\n",
       "  <tbody>\n",
       "    <tr>\n",
       "      <th>Normal</th>\n",
       "      <td>0.041667</td>\n",
       "      <td>0.925926</td>\n",
       "      <td>0.032407</td>\n",
       "    </tr>\n",
       "    <tr>\n",
       "      <th>Obese</th>\n",
       "      <td>0.400000</td>\n",
       "      <td>NaN</td>\n",
       "      <td>0.600000</td>\n",
       "    </tr>\n",
       "    <tr>\n",
       "      <th>Overweight</th>\n",
       "      <td>0.432432</td>\n",
       "      <td>0.128378</td>\n",
       "      <td>0.439189</td>\n",
       "    </tr>\n",
       "  </tbody>\n",
       "</table>\n",
       "</div>"
      ],
      "text/plain": [
       "sleep_disorder  Insomnia      None  Sleep Apnea\n",
       "bmi_category                                   \n",
       "Normal          0.041667  0.925926     0.032407\n",
       "Obese           0.400000       NaN     0.600000\n",
       "Overweight      0.432432  0.128378     0.439189"
      ]
     },
     "execution_count": 87,
     "metadata": {},
     "output_type": "execute_result"
    }
   ],
   "source": [
    "health_sleep.groupby('bmi_category')['sleep_disorder'].value_counts(normalize=True).unstack()"
   ]
  },
  {
   "cell_type": "markdown",
   "id": "32aab51f",
   "metadata": {
    "execution": {
     "iopub.execute_input": "2024-03-01T12:06:08.738283Z",
     "iopub.status.busy": "2024-03-01T12:06:08.737792Z",
     "iopub.status.idle": "2024-03-01T12:06:08.748069Z",
     "shell.execute_reply": "2024-03-01T12:06:08.746575Z",
     "shell.execute_reply.started": "2024-03-01T12:06:08.738247Z"
    },
    "papermill": {
     "duration": 0.039681,
     "end_time": "2024-03-01T12:07:20.554823",
     "exception": false,
     "start_time": "2024-03-01T12:07:20.515142",
     "status": "completed"
    },
    "tags": []
   },
   "source": [
    "Obez kişilerde uyku apnesi görülme sıklığı normal veya fazla kilolu kişilere göre daha fazladır.\n",
    "Obez kişilerde insomnia görülme sıklığı normal veya fazla kilolu kişilere göre daha fazladır. \n",
    "Fazla kilolu kişilerde uyku apnesi ve insomnia görülme sıklığı normal kilolu kişilere göre daha fazladır, ancak obez kişilere göre daha düşüktür.\n",
    "\n",
    "The incidence of sleep apnoea in obese people is higher than in normal or overweight people.\n",
    "The incidence of insomnia is higher in obese people than in normal or overweight people.\n",
    "The incidence of sleep apnoea and insomnia in overweight people is higher than in normal weight people, but lower than in obese people."
   ]
  }
 ],
 "metadata": {
  "kaggle": {
   "accelerator": "none",
   "dataSources": [
    {
     "datasetId": 3321433,
     "sourceId": 6491929,
     "sourceType": "datasetVersion"
    }
   ],
   "dockerImageVersionId": 30664,
   "isGpuEnabled": false,
   "isInternetEnabled": true,
   "language": "python",
   "sourceType": "notebook"
  },
  "kernelspec": {
   "display_name": "Python 3",
   "language": "python",
   "name": "python3"
  },
  "language_info": {
   "codemirror_mode": {
    "name": "ipython",
    "version": 3
   },
   "file_extension": ".py",
   "mimetype": "text/x-python",
   "name": "python",
   "nbconvert_exporter": "python",
   "pygments_lexer": "ipython3",
   "version": "3.10.13"
  },
  "papermill": {
   "default_parameters": {},
   "duration": 46.684621,
   "end_time": "2024-03-01T12:07:21.717107",
   "environment_variables": {},
   "exception": null,
   "input_path": "__notebook__.ipynb",
   "output_path": "__notebook__.ipynb",
   "parameters": {},
   "start_time": "2024-03-01T12:06:35.032486",
   "version": "2.5.0"
  }
 },
 "nbformat": 4,
 "nbformat_minor": 5
}
